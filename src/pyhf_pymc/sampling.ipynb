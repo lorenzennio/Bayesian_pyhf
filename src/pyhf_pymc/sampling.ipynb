{
 "cells": [
  {
   "cell_type": "code",
   "execution_count": 1,
   "metadata": {},
   "outputs": [],
   "source": [
    "%load_ext autoreload\n",
    "%autoreload 2\n",
    "\n",
    "import json\n",
    "\n",
    "\n",
    "import pymc as pm\n",
    "import arviz as az\n",
    "\n",
    "import numpy as np\n",
    "\n",
    "import pytensor\n",
    "from pytensor import tensor as pt\n",
    "from pytensor.graph.basic import Apply\n",
    "from pytensor.graph import Apply, Op\n",
    "from pytensor.tensor.type import TensorType\n",
    "\n",
    "# import aesara\n",
    "# import aesara.tensor as at\n",
    "# from aesara.graph.op import Op\n",
    "# from aesara.link.jax.dispatch import jax_funcify\n",
    "\n",
    "import jax\n",
    "from jax import grad, jit, vmap, value_and_grad, random\n",
    "import jax.numpy as jnp\n",
    "\n",
    "\n",
    "# import sys\n",
    "# sys.path.insert(1, '/Users/malinhorstmann/Documents/pyhf_pymc/src')\n",
    "import MH_inference\n",
    "import HMC_inference\n",
    "import prepare_inference\n",
    "\n",
    "import matplotlib.pyplot as plt\n",
    "\n",
    "import pyhf\n",
    "pyhf.set_backend('jax')\n",
    "\n",
    "import corner"
   ]
  },
  {
   "attachments": {},
   "cell_type": "markdown",
   "metadata": {},
   "source": [
    "## Model"
   ]
  },
  {
   "cell_type": "code",
   "execution_count": 21,
   "metadata": {},
   "outputs": [],
   "source": [
    "### Simple pyhf model\n",
    "model = pyhf.Model(\n",
    "    {'channels': [{'name': 'singlechannel',\n",
    "    'samples': [\n",
    "    {'name': 'signal',\n",
    "     'data': [6, 6, 10],\n",
    "     'modifiers': [\n",
    "         {'name': 'mu', 'type': 'normfactor', 'data': None}]},\n",
    "\n",
    "    {'name': 'background',\n",
    "     'data': [550, 550, 550]\n",
    "     ,\n",
    "     'modifiers': [\n",
    "        ## Staterror / Normal\n",
    "        # {\"name\": \"my_staterror\",\"type\": \"staterror\",\"data\": [2.0, 2.0, 2.0],},\n",
    "        # {\"name\": \"my_staterror1\",\"type\": \"staterror\",\"data\": [2.0, 2.0, 2.0],},\n",
    "        # {\"name\": \"my_staterror2\",\"type\": \"staterror\",\"data\": [2.0, 2.0, 2.0],},\n",
    "        ## Lumi / Normal\n",
    "        # {'name': 'lumi', 'type': 'lumi', 'data': None},\n",
    "        ## Correlated / Normal\n",
    "        # {'name': 'corr_bkg', 'type': 'histosys','data': {'hi_data': [65, 56, 67], 'lo_data': [40, 40, 43]}},\n",
    "        # {'name': 'corr_bkg1', 'type': 'histosys','data': {'hi_data': [65, 56, 67], 'lo_data': [40, 40, 43]}},\n",
    "        {'name': 'corr_bkg2', 'type': 'histosys','data': {'hi_data': [650, 560, 670], 'lo_data': [400, 400, 430]}},\n",
    "        # ## Uncorrelated / Poisson\n",
    "        # {'name': 'uncorr_bkg', 'type': 'shapesys','data': [7, 8, 7.17]},\n",
    "        # {'name': 'uncorr_bkg1', 'type': 'shapesys','data': [7, 8, 7.17]},\n",
    "        # {'name': 'uncorr_bkg2', 'type': 'shapesys','data': [7, 8, 7.17]},\n",
    "        # {'name': 'uncorr_bkg3', 'type': 'shapesys','data': [7, 8, 7.17]},\n",
    "        # {'name': 'uncorr_bkg4', 'type': 'shapesys','data': [7, 8, 7.17]},\n",
    "        # {'name': 'uncorr_bkg5', 'type': 'shapesys','data': [7, 8, 7.17]},\n",
    "        \n",
    "         ]\n",
    "         },    \n",
    "                                 \n",
    "    ]},\n",
    "    ]\n",
    "    ,\n",
    "    \"parameters\": [\n",
    "            {\n",
    "                \"name\": \"lumi\",\n",
    "                \"auxdata\": [1.0],\n",
    "                \"sigmas\": [0.017],\n",
    "                \"bounds\": [[0.915, 1.085]],\n",
    "                \"inits\": [1.0],\n",
    "            }],\n",
    "        }\n",
    ")\n",
    "\n",
    "obs = model.expected_actualdata(model.config.suggested_init())\n",
    "\n",
    "nBins = len(model.expected_actualdata(model.config.suggested_init()))\n",
    "nPars = len(model.config.suggested_init())\n",
    "\n",
    "# Prepare the priors for sampling\n",
    "    # Unconstrained parameters\n",
    "unconstr_dict = {\n",
    "    'uncon1': {'type': 'unconstrained', 'type2': 'normal', 'input': [[25], [1]]}\n",
    "    }\n",
    "\n",
    "    # Create dictionary with all priors (unconstrained, constrained by normal and poisson)\n",
    "prior_dict = prepare_inference.prepare_priors(model, unconstr_dict)\n",
    "\n",
    "    # dictionary with keys 'model', 'obs', 'priors', 'precision'\n",
    "prepared_model = prepare_inference.prepare_model(model=model, observations=obs, precision=1, priors=prior_dict)"
   ]
  },
  {
   "cell_type": "code",
   "execution_count": 13,
   "metadata": {},
   "outputs": [],
   "source": [
    "with open('SRee_SRmm_Srem.json') as serialized:\n",
    "# with open('ttbar_ljets_xsec_inclusive_pruned.json') as serialized:\n",
    "    spec = json.load(serialized)\n",
    "\n",
    "workspace = pyhf.Workspace(spec)\n",
    "model = workspace.model()\n",
    "\n",
    "obs = workspace.data(model, include_auxdata=False)\n",
    "\n",
    "nBins = len(model.expected_actualdata(model.config.suggested_init()))\n",
    "nPars = len(model.config.suggested_init())\n",
    "\n",
    "# Prepare the priors for sampling\n",
    "    # Unconstrained parameters\n",
    "unconstr_dict = {\n",
    "    'uncon1': {'type': 'unconstrained', 'type2': 'normal', 'input': [[25], [1]]}\n",
    "    }\n",
    "\n",
    "    # Create dictionary with all priors (unconstrained, constrained by normal and poisson)\n",
    "prior_dict = prepare_inference.prepare_priors(model, unconstr_dict)\n",
    "\n",
    "    # dictionary with keys 'model', 'obs', 'priors', 'precision'\n",
    "prepared_model = prepare_inference.prepare_model(model=model, observations=obs, precision=1, priors=prior_dict)"
   ]
  },
  {
   "attachments": {},
   "cell_type": "markdown",
   "metadata": {},
   "source": [
    "## General functions"
   ]
  },
  {
   "cell_type": "code",
   "execution_count": 3,
   "metadata": {},
   "outputs": [],
   "source": [
    "# Jax expected data\n",
    "@jax.jit\n",
    "def processed_expData(parameters):\n",
    "    a = jnp.stack([model.expected_actualdata(parameters)[i] for i in range(nBins)])\n",
    "    return model.expected_actualdata(parameters)\n",
    "\n",
    "one_vector = np.full(nBins, 1., dtype='float64')\n",
    "\n",
    "# Gradient list (dn_bins/dx_1, ..., dn_bins/dx_nPars)\n",
    "@jax.jit\n",
    "def vjp_expData(pars, tang_vec):\n",
    "    _, back = jax.vjp(processed_expData, pars)\n",
    "    return back(tang_vec)[0]\n"
   ]
  },
  {
   "attachments": {},
   "cell_type": "markdown",
   "metadata": {},
   "source": [
    "## Hamiltonian MC\n",
    "\n",
    "### Gradient Op"
   ]
  },
  {
   "cell_type": "code",
   "execution_count": 4,
   "metadata": {},
   "outputs": [],
   "source": [
    "class VJPOp(pt.Op):\n",
    "\n",
    "    def make_node(self, parameters, tangent_vector):\n",
    "        inputs = [pt.as_tensor_variable(parameters), pt.as_tensor_variable(tangent_vector)]\n",
    "        outputs = [inputs[0].type()]\n",
    "        \n",
    "        return Apply(self, inputs, outputs)\n",
    "\n",
    "    def perform(self, node, inputs, outputs):\n",
    "        (parameters, tangent_vector) = inputs\n",
    "        results = vjp_expData(parameters, tangent_vector)\n",
    "\n",
    "        if not isinstance(results, (list, tuple)):\n",
    "                results = (results,)\n",
    "                \n",
    "        for i, r in enumerate(results):\n",
    "            outputs[i][0] = np.asarray(r)\n",
    "\n",
    "vjp_op = VJPOp()"
   ]
  },
  {
   "attachments": {},
   "cell_type": "markdown",
   "metadata": {},
   "source": [
    "## Non Gradient Op"
   ]
  },
  {
   "cell_type": "code",
   "execution_count": 22,
   "metadata": {},
   "outputs": [],
   "source": [
    "class ExpDataOp(pt.Op):\n",
    "    \n",
    "    def make_node(self, parameters):\n",
    "        inputs = [pt.as_tensor_variable(parameters)]\n",
    "        outputs = [pt.vector()]\n",
    "\n",
    "        return Apply(self, inputs, outputs)\n",
    "\n",
    "    def perform(self, node, inputs, outputs):\n",
    "        (parameters, ) = inputs\n",
    "        results = processed_expData(parameters)\n",
    "\n",
    "        if len(outputs) == 1:\n",
    "                outputs[0][0] = np.asarray(results)\n",
    "                return\n",
    "        for i, r in enumerate(results):\n",
    "                outputs[i][0] = np.asarray(r)\n",
    "\n",
    "    # def grad(self, inputs, output_gradients):\n",
    "    #     (parameters,) = inputs\n",
    "    #     (tangent_vector,) = output_gradients\n",
    "    #     return [vjp_op(parameters, tangent_vector)]\n",
    "\n",
    "        \n",
    "expData_op = ExpDataOp()"
   ]
  },
  {
   "attachments": {},
   "cell_type": "markdown",
   "metadata": {},
   "source": [
    "### Sampling"
   ]
  },
  {
   "cell_type": "code",
   "execution_count": 23,
   "metadata": {},
   "outputs": [
    {
     "name": "stderr",
     "output_type": "stream",
     "text": [
      "Multiprocess sampling (3 chains in 4 jobs)\n",
      "CompoundStep\n",
      ">Metropolis: [Unconstrained]\n",
      ">Metropolis: [Normals]\n",
      "CompoundStep\n",
      ">Metropolis: [Unconstrained]\n",
      ">Metropolis: [Normals]\n"
     ]
    },
    {
     "name": "stderr",
     "output_type": "stream",
     "text": [
      "Sampling 3 chains for 1_000 tune and 1_500 draw iterations (3_000 + 4_500 draws total) took 0 seconds.\n"
     ]
    },
    {
     "name": "stderr",
     "output_type": "stream",
     "text": [
      "Sampling: [ExpData, Normals, Unconstrained]\n"
     ]
    }
   ],
   "source": [
    "mu = []\n",
    "with pm.Model():\n",
    "    pars = prepare_inference.priors2pymc(prepared_model)\n",
    "    \n",
    "    expData_op = ExpDataOp()\n",
    "    # ExpData = pm.Poisson(\"ExpData\", mu=expData_op(pars), observed=obs)\n",
    "    ExpData = pm.Normal(\"ExpData\", mu=expData_op(pars), sigma = float(obs[0])**(0.5), observed=obs)\n",
    "    \n",
    "    # step = pm.HamiltonianMC()\n",
    "    post_data = pm.sample(1500, chains=3)\n",
    "    post_pred = pm.sample_posterior_predictive(post_data)\n",
    "    prior_pred = pm.sample_prior_predictive(1500)"
   ]
  },
  {
   "cell_type": "code",
   "execution_count": 24,
   "metadata": {},
   "outputs": [
    {
     "data": {
      "image/png": "[encoded data removed]",
      "text/plain": [
       "<Figure size 640x480 with 1 Axes>"
      ]
     },
     "metadata": {},
     "output_type": "display_data"
    }
   ],
   "source": [
    "# Prior\n",
    "plt.step(np.linspace(0,nBins-1,nBins),prior_pred.prior_predictive.ExpData[0].T, alpha = 0.01, c = 'green', where = 'mid');\n",
    "plt.vlines(np.arange(nBins),*np.quantile(prior_pred.prior_predictive.ExpData[0],[.15,.85],axis=0), colors = 'green', label='prior');\n",
    "\n",
    "# Posterior\n",
    "plt.step(np.linspace(0,nBins-1,nBins),post_pred.posterior_predictive.ExpData[0].T, alpha = 0.01, c = 'steelblue', where = 'mid');\n",
    "plt.vlines(np.arange(nBins),*np.quantile(post_pred.posterior_predictive.ExpData[0],[.15,.85],axis=0), colors = 'steelblue', label='posterior')\n",
    "\n",
    "# Observations\n",
    "plt.scatter(np.arange(nBins), obs, c = 'k',s=12, zorder = 999, label = \"data\")\n",
    "plt.legend(loc='upper left')\n",
    "\n",
    "plt.title(f'Post / Priors')\n",
    "\n",
    "# plt.savefig('NUTS_updating')\n",
    "plt.show()"
   ]
  },
  {
   "cell_type": "code",
   "execution_count": null,
   "metadata": {},
   "outputs": [],
   "source": [
    "az.plot_trace(prior_pred.prior, var_names='Unconstrained')\n",
    "az.plot_trace(post_data.posterior, var_names='Unconstrained')"
   ]
  },
  {
   "cell_type": "code",
   "execution_count": null,
   "metadata": {},
   "outputs": [],
   "source": [
    "fig = corner.corner(prior_pred.prior.Normals[0], hist_kwargs={'density': True}, color='green');\n",
    "fig = corner.corner(post_data.posterior.Normals[0], fig = fig, color = 'steelblue', hist_kwargs={'density': True});"
   ]
  },
  {
   "cell_type": "code",
   "execution_count": null,
   "metadata": {},
   "outputs": [],
   "source": []
  }
 ],
 "metadata": {
  "kernelspec": {
   "display_name": "pyhf_pymc",
   "language": "python",
   "name": "python3"
  },
  "language_info": {
   "codemirror_mode": {
    "name": "ipython",
    "version": 3
   },
   "file_extension": ".py",
   "mimetype": "text/x-python",
   "name": "python",
   "nbconvert_exporter": "python",
   "pygments_lexer": "ipython3",
   "version": "3.9.16"
  },
  "orig_nbformat": 4
 },
 "nbformat": 4,
 "nbformat_minor": 2
}
