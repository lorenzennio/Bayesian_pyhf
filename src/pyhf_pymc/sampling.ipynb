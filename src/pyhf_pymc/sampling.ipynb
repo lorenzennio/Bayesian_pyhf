{
 "cells": [
  {
   "cell_type": "code",
   "execution_count": 1,
   "metadata": {},
   "outputs": [],
   "source": [
    "%load_ext autoreload\n",
    "%autoreload 2\n",
    "\n",
    "import json\n",
    "import pyhf\n",
    "pyhf.set_backend('jax')\n",
    "\n",
    "import pymc as pm\n",
    "import arviz as az\n",
    "\n",
    "import numpy as np\n",
    "\n",
    "import pytensor\n",
    "from pytensor import tensor as pt\n",
    "from pytensor.graph.basic import Apply\n",
    "from pytensor.graph import Apply, Op\n",
    "\n",
    "# import aesara\n",
    "import aesara.tensor as at\n",
    "# from aesara.graph.op import Op\n",
    "from aesara.link.jax.dispatch import jax_funcify\n",
    "\n",
    "import jax\n",
    "from jax import grad, jit, vmap, value_and_grad, random\n",
    "import jax.numpy as jnp\n",
    "\n",
    "\n",
    "# import sys\n",
    "# sys.path.insert(1, '/Users/malinhorstmann/Documents/pyhf_pymc/src')\n",
    "import MH_inference\n",
    "import HMC_inference\n",
    "import prepare_inference\n",
    "\n",
    "import matplotlib.pyplot as plt"
   ]
  },
  {
   "attachments": {},
   "cell_type": "markdown",
   "metadata": {},
   "source": [
    "### Model"
   ]
  },
  {
   "cell_type": "code",
   "execution_count": 2,
   "metadata": {},
   "outputs": [],
   "source": [
    "### Simple pyhf model\n",
    "model = pyhf.Model(\n",
    "    {'channels': [{'name': 'singlechannel',\n",
    "    'samples': [\n",
    "    {'name': 'signal',\n",
    "     'data': [6, 6, 3],\n",
    "     'modifiers': [\n",
    "         {'name': 'mu', 'type': 'normfactor', 'data': None}]},\n",
    "\n",
    "    {'name': 'background',\n",
    "     'data': [55, 55, 55],\n",
    "     'modifiers': [\n",
    "        ## Staterror / Normal\n",
    "        {\"name\": \"my_staterror\",\"type\": \"staterror\",\"data\": [2.0, 2.0, 2.4],},\n",
    "        ## Lumi / Normal\n",
    "        {'name': 'lumi', 'type': 'lumi', 'data': None},\n",
    "        ## Correlated / Normal\n",
    "        {'name': 'corr_bkg', 'type': 'histosys','data': {'hi_data': [65, 56, 67], 'lo_data': [40, 40, 43]}},\n",
    "        {'name': 'corr_bkg1', 'type': 'histosys','data': {'hi_data': [65, 65, 66], 'lo_data': [40, 40, 40]}},\n",
    "        {'name': 'corr_bkg2', 'type': 'histosys','data': {'hi_data': [66, 65, 60], 'lo_data': [40, 40, 39]}},\n",
    "        ## Uncorrelated / Poisson\n",
    "        {'name': 'uncorr_bkg', 'type': 'shapesys','data': [7, 8, 7.17]},\n",
    "        {'name': 'uncorr_bkg1', 'type': 'shapesys','data': [7, 8, 6.7]},\n",
    "        {'name': 'uncorr_bkg2', 'type': 'shapesys','data': [7.27, 9, 7]},\n",
    "        \n",
    "         ]},    \n",
    "                                 \n",
    "    ]},\n",
    "    ],\n",
    "    \"parameters\": [\n",
    "            {\n",
    "                \"name\": \"lumi\",\n",
    "                \"auxdata\": [1.0],\n",
    "                \"sigmas\": [0.017],\n",
    "                \"bounds\": [[0.915, 1.085]],\n",
    "                \"inits\": [1.0],\n",
    "            }\n",
    "        ],}\n",
    ")\n",
    "\n",
    "nBins = len(model.expected_actualdata(model.config.suggested_init()))\n",
    "\n",
    "# nPars = len(model.config.suggested_init())\n",
    "\n",
    "### Observations\n",
    "obs = model.expected_actualdata(model.config.suggested_init())"
   ]
  },
  {
   "cell_type": "code",
   "execution_count": 3,
   "metadata": {},
   "outputs": [],
   "source": [
    "with open('SRee_SRmm_Srem.json') as serialized:\n",
    "# with open('ttbar_ljets_xsec_inclusive_pruned.json') as serialized:\n",
    "    spec = json.load(serialized)\n",
    "\n",
    "workspace = pyhf.Workspace(spec)\n",
    "model = workspace.model()\n",
    "obs = workspace.data(model, include_auxdata=False)\n",
    "nBins = len(model.expected_actualdata(model.config.suggested_init()))\n",
    "nPars = len(model.config.suggested_init())"
   ]
  },
  {
   "cell_type": "code",
   "execution_count": 3,
   "metadata": {},
   "outputs": [],
   "source": [
    "# Prepare the priors for sampling\n",
    "    # Unconstrained parameters\n",
    "unconstr_dict = {\n",
    "    'uncon1': {'type': 'unconstrained', 'type2': 'normal', 'input': [[1], [0.1]]}\n",
    "    }\n",
    "\n",
    "    # Create dictionary with all priors (unconstrained, constrained by normal and poisson)\n",
    "prior_dict = prepare_inference.prepare_priors(model, unconstr_dict)\n",
    "\n",
    "    # dictionary with keys 'model', 'obs', 'priors', 'precision'\n",
    "prepared_model = prepare_inference.prepare_model(model=model, observations=obs, precision=1, priors=prior_dict)"
   ]
  },
  {
   "attachments": {},
   "cell_type": "markdown",
   "metadata": {},
   "source": [
    "## HMC"
   ]
  },
  {
   "attachments": {},
   "cell_type": "markdown",
   "metadata": {},
   "source": [
    "### General Stuff"
   ]
  },
  {
   "cell_type": "code",
   "execution_count": 4,
   "metadata": {},
   "outputs": [],
   "source": [
    "@jax.jit\n",
    "def processed_expData(parameters):\n",
    "    a = jnp.stack([model.expected_actualdata(parameters)[i] for i in range(nBins)])\n",
    "    return a\n",
    "\n",
    "@jax.jit\n",
    "def vjp_expData(parameters, vector):\n",
    "    _,back = jax.vjp(processed_expData, parameters)\n",
    "    return back(vector)\n",
    "\n",
    "one_vector = np.full(nBins, 1., dtype='float64')"
   ]
  },
  {
   "attachments": {},
   "cell_type": "markdown",
   "metadata": {},
   "source": [
    "### Gradient Op"
   ]
  },
  {
   "cell_type": "code",
   "execution_count": 5,
   "metadata": {},
   "outputs": [],
   "source": [
    "class VJPOp(Op):\n",
    "\n",
    "    def make_node(self, vjp_func, parameters, vector):\n",
    "        a = np.linspace(0.01, 1, nBins).tolist()\n",
    "        pars = at.as_tensor_variable(a)\n",
    "        self.vjp_func = vjp_expData\n",
    "        inputs = [pt.as_tensor_variable(parameters), pt.as_tensor_variable(vector)]\n",
    "        outputs = [inputs[0].type()]\n",
    "        # outputs = [pt.vector()]\n",
    "        \n",
    "        return Apply(self, inputs, outputs)\n",
    "\n",
    "    def perform(self, node, inputs, outputs):\n",
    "        (parameters, vector) = inputs\n",
    "        results = vjp_expData(parameters, vector)\n",
    "\n",
    "        if not isinstance(results, (list, tuple)):\n",
    "                results = (results,)\n",
    "                \n",
    "        for i, r in enumerate(results):\n",
    "            outputs[i][0] = np.asarray(r)\n",
    "\n",
    "vjp_op = VJPOp()"
   ]
  },
  {
   "cell_type": "code",
   "execution_count": 6,
   "metadata": {},
   "outputs": [
    {
     "data": {
      "text/plain": [
       "array([ 1.00045622,  1.13226096,  0.91256731, 27.39944597, 15.        ,\n",
       "        3.44782954,  4.50467934,  5.73530507,  2.18049616,  3.02960793,\n",
       "        4.04207882,  1.59442615,  2.28227109,  3.12074543,  1.25666255,\n",
       "        1.83068248,  2.54145706])"
      ]
     },
     "execution_count": 6,
     "metadata": {},
     "output_type": "execute_result"
    }
   ],
   "source": [
    "a = np.linspace(0.01, 1, 17).tolist()\n",
    "# pars = at.as_tensor_variable(a)\n",
    "vjp_op(vjp_expData, a, one_vector).eval()"
   ]
  },
  {
   "attachments": {},
   "cell_type": "markdown",
   "metadata": {},
   "source": [
    "### Non-Gradient Op (with `grad` method)"
   ]
  },
  {
   "cell_type": "code",
   "execution_count": 7,
   "metadata": {},
   "outputs": [],
   "source": [
    "class MyOp(Op):\n",
    "    \n",
    "    def make_node(self, func, parameters):\n",
    "        self.func = processed_expData\n",
    "        inputs = [pt.as_tensor_variable(parameters)]\n",
    "        # outputs = [inputs[0].type()]\n",
    "        outputs = [pt.vector()]\n",
    "\n",
    "        return Apply(self, inputs, outputs)\n",
    "\n",
    "    def perform(self, node, inputs, outputs):\n",
    "        (parameters, ) = inputs\n",
    "        results = processed_expData(parameters)\n",
    "\n",
    "        if len(outputs) == 1:\n",
    "                outputs[0][0] = np.asarray(results)\n",
    "                return\n",
    "        for i, r in enumerate(results):\n",
    "                outputs[i][0] = np.asarray(r)\n",
    "\n",
    "    def grad(self, vjp_func, parameters, vector):\n",
    "        return [vjp_custom_op(vjp_func, parameters, vector)]\n",
    "        \n",
    "my_op = MyOp()"
   ]
  },
  {
   "cell_type": "code",
   "execution_count": 8,
   "metadata": {},
   "outputs": [
    {
     "data": {
      "text/plain": [
       "array([81.68245171, 76.40679514, 68.46281936])"
      ]
     },
     "execution_count": 8,
     "metadata": {},
     "output_type": "execute_result"
    }
   ],
   "source": [
    "pars = prepare_inference.priors2pymc(prepared_model)\n",
    "my_op(processed_expData, pars).eval()"
   ]
  },
  {
   "attachments": {},
   "cell_type": "markdown",
   "metadata": {},
   "source": [
    "### Sampling"
   ]
  },
  {
   "cell_type": "code",
   "execution_count": 9,
   "metadata": {},
   "outputs": [
    {
     "name": "stderr",
     "output_type": "stream",
     "text": [
      "/Users/malinhorstmann/anaconda3/envs/pyhf_pymc/lib/python3.9/site-packages/multipledispatch/dispatcher.py:27: AmbiguityWarning: \n",
      "Ambiguities exist in dispatched function _unify\n",
      "\n",
      "The following signatures may result in ambiguous behavior:\n",
      "\t[object, ConstrainedVar, Mapping], [ConstrainedVar, object, Mapping]\n",
      "\t[object, ConstrainedVar, Mapping], [ConstrainedVar, object, Mapping]\n",
      "\t[ConstrainedVar, Var, Mapping], [object, ConstrainedVar, Mapping]\n",
      "\t[object, ConstrainedVar, Mapping], [ConstrainedVar, Var, Mapping]\n",
      "\n",
      "\n",
      "Consider making the following additions:\n",
      "\n",
      "@dispatch(ConstrainedVar, ConstrainedVar, Mapping)\n",
      "def _unify(...)\n",
      "\n",
      "@dispatch(ConstrainedVar, ConstrainedVar, Mapping)\n",
      "def _unify(...)\n",
      "\n",
      "@dispatch(ConstrainedVar, ConstrainedVar, Mapping)\n",
      "def _unify(...)\n",
      "\n",
      "@dispatch(ConstrainedVar, ConstrainedVar, Mapping)\n",
      "def _unify(...)\n",
      "  warn(warning_text(dispatcher.name, ambiguities), AmbiguityWarning)\n",
      "Auto-assigning NUTS sampler...\n",
      "Initializing NUTS using jitter+adapt_diag...\n",
      "Initializing NUTS using jitter+adapt_diag...\n",
      "Multiprocess sampling (4 chains in 4 jobs)\n",
      "NUTS: [Unconstrained, Normals, Gammas]\n"
     ]
    },
    {
     "name": "stderr",
     "output_type": "stream",
     "text": [
      "Sampling 4 chains for 1_000 tune and 500 draw iterations (4_000 + 2_000 draws total) took 1 seconds.\n"
     ]
    },
    {
     "name": "stderr",
     "output_type": "stream",
     "text": [
      "Sampling: [Gammas, Normals, Unconstrained, main]\n"
     ]
    },
    {
     "name": "stdout",
     "output_type": "stream",
     "text": [
      "[61. 61. 58.]\n"
     ]
    },
    {
     "name": "stderr",
     "output_type": "stream",
     "text": [
      "/Users/malinhorstmann/anaconda3/envs/pyhf_pymc/lib/python3.9/site-packages/arviz/stats/stats.py:1351: UserWarning: Selecting first found group: posterior_predictive\n",
      "  warnings.warn(f\"Selecting first found group: {data.groups()[0]}\")\n"
     ]
    },
    {
     "data": {
      "text/html": [
       "<div>\n",
       "<style scoped>\n",
       "    .dataframe tbody tr th:only-of-type {\n",
       "        vertical-align: middle;\n",
       "    }\n",
       "\n",
       "    .dataframe tbody tr th {\n",
       "        vertical-align: top;\n",
       "    }\n",
       "\n",
       "    .dataframe thead th {\n",
       "        text-align: right;\n",
       "    }\n",
       "</style>\n",
       "<table border=\"1\" class=\"dataframe\">\n",
       "  <thead>\n",
       "    <tr style=\"text-align: right;\">\n",
       "      <th></th>\n",
       "      <th>mean</th>\n",
       "      <th>sd</th>\n",
       "      <th>hdi_3%</th>\n",
       "      <th>hdi_97%</th>\n",
       "      <th>mcse_mean</th>\n",
       "      <th>mcse_sd</th>\n",
       "      <th>ess_bulk</th>\n",
       "      <th>ess_tail</th>\n",
       "      <th>r_hat</th>\n",
       "    </tr>\n",
       "  </thead>\n",
       "  <tbody>\n",
       "    <tr>\n",
       "      <th>main[0]</th>\n",
       "      <td>53.137</td>\n",
       "      <td>0.998</td>\n",
       "      <td>51.254</td>\n",
       "      <td>54.970</td>\n",
       "      <td>0.022</td>\n",
       "      <td>0.016</td>\n",
       "      <td>1985.0</td>\n",
       "      <td>1913.0</td>\n",
       "      <td>1.0</td>\n",
       "    </tr>\n",
       "    <tr>\n",
       "      <th>main[1]</th>\n",
       "      <td>49.351</td>\n",
       "      <td>0.990</td>\n",
       "      <td>47.513</td>\n",
       "      <td>51.232</td>\n",
       "      <td>0.022</td>\n",
       "      <td>0.016</td>\n",
       "      <td>1955.0</td>\n",
       "      <td>1933.0</td>\n",
       "      <td>1.0</td>\n",
       "    </tr>\n",
       "    <tr>\n",
       "      <th>main[2]</th>\n",
       "      <td>53.117</td>\n",
       "      <td>0.993</td>\n",
       "      <td>51.290</td>\n",
       "      <td>54.985</td>\n",
       "      <td>0.022</td>\n",
       "      <td>0.016</td>\n",
       "      <td>1972.0</td>\n",
       "      <td>1856.0</td>\n",
       "      <td>1.0</td>\n",
       "    </tr>\n",
       "  </tbody>\n",
       "</table>\n",
       "</div>"
      ],
      "text/plain": [
       "           mean     sd  hdi_3%  hdi_97%  mcse_mean  mcse_sd  ess_bulk  \\\n",
       "main[0]  53.137  0.998  51.254   54.970      0.022    0.016    1985.0   \n",
       "main[1]  49.351  0.990  47.513   51.232      0.022    0.016    1955.0   \n",
       "main[2]  53.117  0.993  51.290   54.985      0.022    0.016    1972.0   \n",
       "\n",
       "         ess_tail  r_hat  \n",
       "main[0]    1913.0    1.0  \n",
       "main[1]    1933.0    1.0  \n",
       "main[2]    1856.0    1.0  "
      ]
     },
     "execution_count": 9,
     "metadata": {},
     "output_type": "execute_result"
    }
   ],
   "source": [
    "with pm.Model():\n",
    "    pars = prepare_inference.priors2pymc(prepared_model)\n",
    "    # mu = my_op.grad(processed_expData, pars, one_vector)[0].eval()\n",
    "    mu = my_op(processed_expData, pars).eval()\n",
    "    main = pm.Normal(\"main\", mu=mu, sigma=1, observed=obs)\n",
    "    \n",
    "    post_data = pm.sample(500)\n",
    "    post_pred = pm.sample_posterior_predictive(post_data)\n",
    "    prior_pred = pm.sample_prior_predictive(500)\n",
    "\n",
    "print(model.expected_actualdata(model.config.suggested_init()))\n",
    "az.summary(post_pred, var_names=\"main\")"
   ]
  },
  {
   "attachments": {},
   "cell_type": "markdown",
   "metadata": {},
   "source": [
    "## Metropolis-Hasting"
   ]
  },
  {
   "cell_type": "code",
   "execution_count": 10,
   "metadata": {},
   "outputs": [
    {
     "name": "stderr",
     "output_type": "stream",
     "text": [
      "Multiprocess sampling (4 chains in 4 jobs)\n",
      "CompoundStep\n",
      ">Metropolis: [Unconstrained]\n",
      ">Metropolis: [Normals]\n",
      ">Metropolis: [Gammas]\n",
      "CompoundStep\n",
      ">Metropolis: [Unconstrained]\n",
      ">Metropolis: [Normals]\n",
      ">Metropolis: [Gammas]\n"
     ]
    },
    {
     "name": "stderr",
     "output_type": "stream",
     "text": [
      "Sampling 4 chains for 1_000 tune and 500 draw iterations (4_000 + 2_000 draws total) took 1 seconds.\n"
     ]
    },
    {
     "name": "stderr",
     "output_type": "stream",
     "text": [
      "Sampling: [Gammas, Normals, Unconstrained, main]\n"
     ]
    },
    {
     "name": "stdout",
     "output_type": "stream",
     "text": [
      "[61. 61. 58.]\n"
     ]
    },
    {
     "name": "stderr",
     "output_type": "stream",
     "text": [
      "/Users/malinhorstmann/anaconda3/envs/pyhf_pymc/lib/python3.9/site-packages/arviz/stats/stats.py:1351: UserWarning: Selecting first found group: posterior_predictive\n",
      "  warnings.warn(f\"Selecting first found group: {data.groups()[0]}\")\n"
     ]
    },
    {
     "data": {
      "text/html": [
       "<div>\n",
       "<style scoped>\n",
       "    .dataframe tbody tr th:only-of-type {\n",
       "        vertical-align: middle;\n",
       "    }\n",
       "\n",
       "    .dataframe tbody tr th {\n",
       "        vertical-align: top;\n",
       "    }\n",
       "\n",
       "    .dataframe thead th {\n",
       "        text-align: right;\n",
       "    }\n",
       "</style>\n",
       "<table border=\"1\" class=\"dataframe\">\n",
       "  <thead>\n",
       "    <tr style=\"text-align: right;\">\n",
       "      <th></th>\n",
       "      <th>mean</th>\n",
       "      <th>sd</th>\n",
       "      <th>hdi_3%</th>\n",
       "      <th>hdi_97%</th>\n",
       "      <th>mcse_mean</th>\n",
       "      <th>mcse_sd</th>\n",
       "      <th>ess_bulk</th>\n",
       "      <th>ess_tail</th>\n",
       "      <th>r_hat</th>\n",
       "    </tr>\n",
       "  </thead>\n",
       "  <tbody>\n",
       "    <tr>\n",
       "      <th>main[0]</th>\n",
       "      <td>61.128</td>\n",
       "      <td>1.417</td>\n",
       "      <td>58.428</td>\n",
       "      <td>63.750</td>\n",
       "      <td>0.065</td>\n",
       "      <td>0.046</td>\n",
       "      <td>481.0</td>\n",
       "      <td>1135.0</td>\n",
       "      <td>1.01</td>\n",
       "    </tr>\n",
       "    <tr>\n",
       "      <th>main[1]</th>\n",
       "      <td>61.000</td>\n",
       "      <td>1.448</td>\n",
       "      <td>58.442</td>\n",
       "      <td>63.896</td>\n",
       "      <td>0.063</td>\n",
       "      <td>0.044</td>\n",
       "      <td>538.0</td>\n",
       "      <td>1036.0</td>\n",
       "      <td>1.01</td>\n",
       "    </tr>\n",
       "    <tr>\n",
       "      <th>main[2]</th>\n",
       "      <td>57.831</td>\n",
       "      <td>1.473</td>\n",
       "      <td>54.817</td>\n",
       "      <td>60.434</td>\n",
       "      <td>0.103</td>\n",
       "      <td>0.073</td>\n",
       "      <td>209.0</td>\n",
       "      <td>1143.0</td>\n",
       "      <td>1.03</td>\n",
       "    </tr>\n",
       "  </tbody>\n",
       "</table>\n",
       "</div>"
      ],
      "text/plain": [
       "           mean     sd  hdi_3%  hdi_97%  mcse_mean  mcse_sd  ess_bulk  \\\n",
       "main[0]  61.128  1.417  58.428   63.750      0.065    0.046     481.0   \n",
       "main[1]  61.000  1.448  58.442   63.896      0.063    0.044     538.0   \n",
       "main[2]  57.831  1.473  54.817   60.434      0.103    0.073     209.0   \n",
       "\n",
       "         ess_tail  r_hat  \n",
       "main[0]    1135.0   1.01  \n",
       "main[1]    1036.0   1.01  \n",
       "main[2]    1143.0   1.03  "
      ]
     },
     "execution_count": 10,
     "metadata": {},
     "output_type": "execute_result"
    }
   ],
   "source": [
    "MetrHast_post_data, MetrHast_post_pred, MetrHast_prior_pred = MH_inference.sampling(prepared_model, 500)\n",
    "\n",
    "print(model.expected_actualdata(model.config.suggested_init()))\n",
    "az.summary(MetrHast_post_pred, var_names=\"main\")"
   ]
  },
  {
   "attachments": {},
   "cell_type": "markdown",
   "metadata": {},
   "source": [
    "## Plotting"
   ]
  },
  {
   "cell_type": "code",
   "execution_count": 11,
   "metadata": {},
   "outputs": [
    {
     "data": {
      "image/png": "[encoded data removed]",
      "text/plain": [
       "<Figure size 640x480 with 1 Axes>"
      ]
     },
     "metadata": {},
     "output_type": "display_data"
    }
   ],
   "source": [
    "# plt.step(np.linspace(0,nBins-1,nBins),prior_pred.prior_predictive.main[0].T, alpha = 0.01, c = 'steelblue', where = 'mid');\n",
    "# plt.vlines(np.arange(nBins),*np.quantile(prior_pred.prior_predictive.main[0],[.15,.85],axis=0), colors = 'steelblue', label='HMC prior');\n",
    "\n",
    "    ## Posterior predictive\n",
    "plt.step(np.linspace(0,nBins-1,nBins),post_pred.posterior_predictive.main[0].T, alpha = 0.01, c = 'skyblue', where = 'mid');\n",
    "plt.vlines(np.arange(nBins),*np.quantile(post_pred.posterior_predictive.main[0],[.15,.85],axis=0), colors = 'skyblue', label='HMC posterior')\n",
    "\n",
    "plt.step(np.linspace(0,nBins-1,nBins),MetrHast_post_pred.posterior_predictive.main[0].T, alpha = 0.01, c = 'pink', where = 'mid');\n",
    "plt.vlines(np.arange(nBins),*np.quantile(MetrHast_post_pred.posterior_predictive.main[0],[.15,.85],axis=0), colors = 'pink', label='MH posterior')\n",
    "\n",
    "    ## Observations\n",
    "plt.scatter(np.arange(nBins), obs, c = 'k',s=12, zorder = 999, label = \"Data\")\n",
    "plt.legend(loc='upper right')\n",
    "\n",
    "plt.title(f'HMC vs MH posterior sampling for the dummy model')\n",
    "\n",
    "# plt.savefig(f'HMC_MH_dummy')\n",
    "plt.show()"
   ]
  },
  {
   "attachments": {},
   "cell_type": "markdown",
   "metadata": {},
   "source": [
    "## Testing"
   ]
  },
  {
   "cell_type": "code",
   "execution_count": 3,
   "metadata": {},
   "outputs": [],
   "source": [
    "### Preprocess the model.expected_actualdata\n",
    "def processedData(p):\n",
    "    # a = jnp.stack([jax.jit(model.expected_actualdata(p))[i] for i in range(nBins)])\n",
    "    a = jnp.stack([model.expected_actualdata(p)[i] for i in range(nBins)])\n",
    "    return a\n",
    "\n",
    "### "
   ]
  },
  {
   "cell_type": "code",
   "execution_count": 4,
   "metadata": {},
   "outputs": [],
   "source": [
    "from aesara.graph.op import Op\n",
    "def make_op(func, itypes, otypes):\n",
    "    @jax.jit\n",
    "    def vjp_func(fwd_inputs, vector):\n",
    "        _,back = jax.vjp(func,fwd_inputs)\n",
    "        return back(vector)\n",
    "\n",
    "    class JaxVJPOp(Op):\n",
    "        __props__ = (\"jax_vjp_func\",)\n",
    "\n",
    "        def __init__(self):\n",
    "            self.jax_vjp_func = vjp_func\n",
    "            self.itypes = itypes + otypes\n",
    "            self.otypes = itypes\n",
    "            super().__init__()\n",
    "\n",
    "        def perform(self, node, inputs, outputs):\n",
    "\n",
    "            results = self.jax_vjp_func(*(jnp.asarray(x) for x in inputs))\n",
    "\n",
    "            if not isinstance(results, (list, tuple)):\n",
    "                results = (results,)\n",
    "\n",
    "            for i, r in enumerate(results):\n",
    "                outputs[i][0] = np.asarray(r)\n",
    "\n",
    "\n",
    "    jax_grad_op = JaxVJPOp()\n",
    "                \n",
    "    @jax_funcify.register(JaxVJPOp)\n",
    "    def jax_funcify_JaxGradOp(op):\n",
    "        return op.jax_vjp_func\n",
    "\n",
    "    @jax.jit\n",
    "    def fwd_func(fwd_inputs):\n",
    "        return func(fwd_inputs)\n",
    "    \n",
    "    class JaxOp(Op):\n",
    "        __props__ = (\"fwd_func\",)\n",
    "\n",
    "        def __init__(self):\n",
    "            self.fwd_func = fwd_func\n",
    "            self.itypes = itypes\n",
    "            self.otypes = otypes\n",
    "            super().__init__()\n",
    "\n",
    "        def perform(self, node, inputs, outputs):\n",
    "            results = self.fwd_func(*(jnp.asarray(x) for x in inputs))\n",
    "            if len(outputs) == 1:\n",
    "                outputs[0][0] = np.asarray(results)\n",
    "                return\n",
    "            for i, r in enumerate(results):\n",
    "                outputs[i][0] = np.asarray(r)\n",
    "\n",
    "        def grad(self, inputs, vectors):\n",
    "            return [jax_grad_op(inputs[0], vectors[0])]\n",
    "\n",
    "    @jax_funcify.register(JaxOp)\n",
    "    def jax_funcify_JaxOp(op):\n",
    "        return op.fwd_func\n",
    "\n",
    "    jax_op = JaxOp()\n",
    "    \n",
    "    return jax_op, jax_grad_op"
   ]
  },
  {
   "cell_type": "code",
   "execution_count": 7,
   "metadata": {},
   "outputs": [
    {
     "data": {
      "text/plain": [
       "array([17.37026822, 20.12555632, 21.17238316])"
      ]
     },
     "execution_count": 7,
     "metadata": {},
     "output_type": "execute_result"
    }
   ],
   "source": [
    "\n",
    "### Appling the Op to model.expected_actualdata\n",
    "op, grad_op = make_op(\n",
    "    processedData,\n",
    "    (at.TensorType(dtype=np.float64, shape=(9,)),),\n",
    "    (at.TensorType(dtype=np.float64, shape=(nBins,)),),\n",
    ")\n",
    "\n",
    "### Test for some array of input parameters\n",
    "a = np.linspace(0.01, 1, 9).tolist()\n",
    "pars = at.as_tensor_variable(a)\n",
    "op(pars).eval()"
   ]
  },
  {
   "cell_type": "code",
   "execution_count": null,
   "metadata": {},
   "outputs": [],
   "source": []
  }
 ],
 "metadata": {
  "kernelspec": {
   "display_name": "pyhf_pymc",
   "language": "python",
   "name": "python3"
  },
  "language_info": {
   "codemirror_mode": {
    "name": "ipython",
    "version": 3
   },
   "file_extension": ".py",
   "mimetype": "text/x-python",
   "name": "python",
   "nbconvert_exporter": "python",
   "pygments_lexer": "ipython3",
   "version": "3.9.16"
  },
  "orig_nbformat": 4
 },
 "nbformat": 4,
 "nbformat_minor": 2
}
