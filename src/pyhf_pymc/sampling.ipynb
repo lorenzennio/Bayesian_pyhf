{
 "cells": [
  {
   "cell_type": "code",
   "execution_count": 146,
   "metadata": {},
   "outputs": [
    {
     "name": "stdout",
     "output_type": "stream",
     "text": [
      "The autoreload extension is already loaded. To reload it, use:\n",
      "  %reload_ext autoreload\n"
     ]
    }
   ],
   "source": [
    "%load_ext autoreload\n",
    "%autoreload 2\n",
    "\n",
    "import json\n",
    "\n",
    "\n",
    "import pymc as pm\n",
    "import arviz as az\n",
    "\n",
    "import numpy as np\n",
    "\n",
    "import pytensor\n",
    "from pytensor import tensor as pt\n",
    "from pytensor.graph.basic import Apply\n",
    "from pytensor.graph import Apply, Op\n",
    "\n",
    "# import aesara\n",
    "import aesara.tensor as at\n",
    "# from aesara.graph.op import Op\n",
    "from aesara.link.jax.dispatch import jax_funcify\n",
    "\n",
    "import jax\n",
    "from jax import grad, jit, vmap, value_and_grad, random\n",
    "import jax.numpy as jnp\n",
    "\n",
    "\n",
    "# import sys\n",
    "# sys.path.insert(1, '/Users/malinhorstmann/Documents/pyhf_pymc/src')\n",
    "import MH_inference\n",
    "import HMC_inference\n",
    "import prepare_inference\n",
    "\n",
    "import matplotlib.pyplot as plt\n",
    "\n",
    "import pyhf\n",
    "pyhf.set_backend('jax')"
   ]
  },
  {
   "attachments": {},
   "cell_type": "markdown",
   "metadata": {},
   "source": [
    "### Model"
   ]
  },
  {
   "cell_type": "code",
   "execution_count": 221,
   "metadata": {},
   "outputs": [],
   "source": [
    "### Simple pyhf model\n",
    "model = pyhf.Model(\n",
    "    {'channels': [{'name': 'singlechannel',\n",
    "    'samples': [\n",
    "    {'name': 'signal',\n",
    "     'data': [6, 6, 60],\n",
    "     'modifiers': [\n",
    "         {'name': 'mu', 'type': 'normfactor', 'data': None}]},\n",
    "\n",
    "    {'name': 'background',\n",
    "     'data': [55, 55, 55],\n",
    "     'modifiers': [\n",
    "        ## Staterror / Normal\n",
    "        {\"name\": \"my_staterror\",\"type\": \"staterror\",\"data\": [2.0, 2.0, 2.4],},\n",
    "        ## Lumi / Normal\n",
    "        # {'name': 'lumi', 'type': 'lumi', 'data': None},\n",
    "        ## Correlated / Normal\n",
    "        # {'name': 'corr_bkg', 'type': 'histosys','data': {'hi_data': [65, 56, 67], 'lo_data': [40, 40, 43]}},\n",
    "        # {'name': 'corr_bkg1', 'type': 'histosys','data': {'hi_data': [65, 65, 66], 'lo_data': [40, 40, 40]}},\n",
    "        # {'name': 'corr_bkg2', 'type': 'histosys','data': {'hi_data': [66, 65, 60], 'lo_data': [40, 40, 39]}},\n",
    "        # ## Uncorrelated / Poisson\n",
    "        # {'name': 'uncorr_bkg', 'type': 'shapesys','data': [7, 8, 7.17]},\n",
    "        # {'name': 'uncorr_bkg1', 'type': 'shapesys','data': [7, 8, 6.7]},\n",
    "        # {'name': 'uncorr_bkg2', 'type': 'shapesys','data': [7.27, 9, 7]},\n",
    "        \n",
    "         ]},    \n",
    "                                 \n",
    "    ]},\n",
    "    ]\n",
    "    # ,\n",
    "    # \"parameters\": [\n",
    "    #         {\n",
    "    #             \"name\": \"lumi\",\n",
    "    #             \"auxdata\": [1.0],\n",
    "    #             \"sigmas\": [0.017],\n",
    "    #             \"bounds\": [[0.915, 1.085]],\n",
    "    #             \"inits\": [1.0],\n",
    "    #         }],\n",
    "        }\n",
    ")\n",
    "\n",
    "obs = model.expected_actualdata(model.config.suggested_init())\n",
    "\n",
    "nBins = len(model.expected_actualdata(model.config.suggested_init()))\n",
    "nPars = len(model.config.suggested_init())"
   ]
  },
  {
   "cell_type": "code",
   "execution_count": 179,
   "metadata": {},
   "outputs": [],
   "source": [
    "# with open('SRee_SRmm_Srem.json') as serialized:\n",
    "with open('ttbar_ljets_xsec_inclusive_pruned.json') as serialized:\n",
    "    spec = json.load(serialized)\n",
    "\n",
    "workspace = pyhf.Workspace(spec)\n",
    "model = workspace.model()\n",
    "\n",
    "obs = workspace.data(model, include_auxdata=False)\n",
    "\n",
    "nBins = len(model.expected_actualdata(model.config.suggested_init()))\n",
    "nPars = len(model.config.suggested_init())"
   ]
  },
  {
   "cell_type": "code",
   "execution_count": 203,
   "metadata": {},
   "outputs": [],
   "source": [
    "# Prepare the priors for sampling\n",
    "    # Unconstrained parameters\n",
    "unconstr_dict = {\n",
    "    'uncon1': {'type': 'unconstrained', 'type2': 'normal', 'input': [[1], [0.1]]}\n",
    "    }\n",
    "\n",
    "    # Create dictionary with all priors (unconstrained, constrained by normal and poisson)\n",
    "prior_dict = prepare_inference.prepare_priors(model, unconstr_dict)\n",
    "\n",
    "    # dictionary with keys 'model', 'obs', 'priors', 'precision'\n",
    "prepared_model = prepare_inference.prepare_model(model=model, observations=obs, precision=1, priors=prior_dict)"
   ]
  },
  {
   "attachments": {},
   "cell_type": "markdown",
   "metadata": {},
   "source": [
    "## HMC"
   ]
  },
  {
   "attachments": {},
   "cell_type": "markdown",
   "metadata": {},
   "source": [
    "### General Stuff"
   ]
  },
  {
   "cell_type": "code",
   "execution_count": 224,
   "metadata": {},
   "outputs": [],
   "source": [
    "# Jax-compatible expected data\n",
    "@jax.jit\n",
    "def processed_expData(parameters):\n",
    "    a = jnp.stack([model.expected_actualdata(parameters)[i] for i in range(nBins)])\n",
    "    return a\n",
    "\n",
    "one_vector = np.full(nBins, 1., dtype='float64')\n",
    "\n",
    "# Gradient list (df/dx_1, ..., df/dx_nBins)\n",
    "@jax.jit\n",
    "def vjp_expData(parameters):\n",
    "    _,back = jax.vjp(processed_expData, parameters)\n",
    "    return back(one_vector)"
   ]
  },
  {
   "attachments": {},
   "cell_type": "markdown",
   "metadata": {},
   "source": [
    "Calculating the derivatives by hand: n_bin = stat_error_n * 55 + mu * 6\n",
    "- d/dmu = dn_bin1 / dmu + dn_bin2 / dmu + dn_bin3 / dmu = 6 + 6 + 60 = 72\n",
    "- d/dstat_error_1 = dn_bin1 / dstat_error_1 + dn_bin2 / dstat_error_1 + dn_bin3 / dstat_error_1 = 55 + 0 +0\n",
    "- d/dstat_error_2 = ... = 0 + 55 + 0\n",
    "- d/dstat_error_3 = ... = 0 + 0 + 55\n",
    "\n",
    "-> Looks right: (72, 55, 55, 55)"
   ]
  },
  {
   "cell_type": "code",
   "execution_count": 225,
   "metadata": {},
   "outputs": [
    {
     "name": "stdout",
     "output_type": "stream",
     "text": [
      "processed_expData(ev_point): [ 61.  61. 115.]\n",
      "vjp_expData(ev_point): [72. 55. 55. 55.]\n",
      ".......\n",
      "jax.jacrev(processed_expData)(ev_point) @ ones: [72. 55. 55. 55.]\n"
     ]
    }
   ],
   "source": [
    "# Testing   \n",
    "ev_point = model.config.suggested_init()\n",
    "\n",
    "    # Using my functions\n",
    "print(f'processed_expData(ev_point): {processed_expData(ev_point)}')\n",
    "print(f'vjp_expData(ev_point): {np.asarray(vjp_expData(ev_point)[0])}')\n",
    "\n",
    "print('.......')\n",
    "\n",
    "    # By hand (attention, the jaconian is shape-inverted)\n",
    "print(f'jax.jacrev(processed_expData)(ev_point) @ ones: {jax.jacrev(processed_expData)(ev_point) @ ones}')"
   ]
  },
  {
   "attachments": {},
   "cell_type": "markdown",
   "metadata": {},
   "source": [
    "### Gradient Op"
   ]
  },
  {
   "cell_type": "code",
   "execution_count": 209,
   "metadata": {},
   "outputs": [],
   "source": [
    "class VJPOp(pt.Op):\n",
    "\n",
    "    def make_node(self, parameters):\n",
    "        # self.vjp_func = vjp_expData\n",
    "        inputs = [pt.as_tensor_variable(parameters)]\n",
    "        outputs = [pt.vector()]\n",
    "        \n",
    "        return Apply(self, inputs, outputs)\n",
    "\n",
    "    def perform(self, node, inputs, outputs):\n",
    "        (parameters,) = inputs\n",
    "        results = vjp_expData(parameters)\n",
    "\n",
    "        if not isinstance(results, (list, tuple)):\n",
    "                results = (results,)\n",
    "                \n",
    "        for i, r in enumerate(results):\n",
    "            outputs[i][0] = np.asarray(r)\n",
    "\n",
    "vjp_op = VJPOp()"
   ]
  },
  {
   "cell_type": "code",
   "execution_count": 190,
   "metadata": {},
   "outputs": [
    {
     "data": {
      "text/plain": [
       "array([165.,  15.])"
      ]
     },
     "execution_count": 190,
     "metadata": {},
     "output_type": "execute_result"
    }
   ],
   "source": [
    "# vjp_op(ev_point).eval()"
   ]
  },
  {
   "attachments": {},
   "cell_type": "markdown",
   "metadata": {},
   "source": [
    "### Non-Gradient Op (with `grad` method)"
   ]
  },
  {
   "cell_type": "code",
   "execution_count": 212,
   "metadata": {},
   "outputs": [],
   "source": [
    "class ExpDataOp(pt.Op):\n",
    "    \n",
    "    def make_node(self, parameters):\n",
    "        inputs = [pt.as_tensor_variable(parameters)]\n",
    "        outputs = [pt.vector()]\n",
    "\n",
    "        return Apply(self, inputs, outputs)\n",
    "\n",
    "    def perform(self, node, inputs, outputs):\n",
    "        (parameters, ) = inputs\n",
    "        results = processed_expData(parameters)\n",
    "\n",
    "        if len(outputs) == 1:\n",
    "                outputs[0][0] = np.asarray(results)\n",
    "                return\n",
    "        for i, r in enumerate(results):\n",
    "                outputs[i][0] = np.asarray(r)\n",
    "\n",
    "    def grad(self, parameters):\n",
    "        return [vjp_op(parameters)]\n",
    "        \n",
    "expData_op = ExpDataOp()"
   ]
  },
  {
   "cell_type": "code",
   "execution_count": 192,
   "metadata": {},
   "outputs": [],
   "source": [
    "# pytensor.gradient.verify_grad(expData_op, ((ev_point,),), rng=np.random.default_rng())"
   ]
  },
  {
   "cell_type": "code",
   "execution_count": 211,
   "metadata": {},
   "outputs": [
    {
     "name": "stdout",
     "output_type": "stream",
     "text": [
      "[61. 61. 61.]\n",
      "[18. 55. 55. 55.]\n"
     ]
    }
   ],
   "source": [
    "# print(expData_op(ev_point).eval())\n",
    "# print(expData_op.grad(ev_point)[0].eval())"
   ]
  },
  {
   "attachments": {},
   "cell_type": "markdown",
   "metadata": {},
   "source": [
    "### Sampling"
   ]
  },
  {
   "cell_type": "code",
   "execution_count": 220,
   "metadata": {},
   "outputs": [
    {
     "name": "stderr",
     "output_type": "stream",
     "text": [
      "Auto-assigning NUTS sampler...\n",
      "Initializing NUTS using jitter+adapt_diag...\n",
      "Initializing NUTS using jitter+adapt_diag...\n",
      "Multiprocess sampling (4 chains in 4 jobs)\n",
      "NUTS: [Unconstrained, Normals]\n"
     ]
    },
    {
     "name": "stderr",
     "output_type": "stream",
     "text": [
      "Sampling 4 chains for 1_000 tune and 1_500 draw iterations (4_000 + 6_000 draws total) took 1 seconds.\n"
     ]
    },
    {
     "name": "stderr",
     "output_type": "stream",
     "text": [
      "Sampling: [ExpData, Normals, Unconstrained]\n",
      "/Users/malinhorstmann/anaconda3/envs/pyhf_pymc/lib/python3.9/site-packages/arviz/stats/stats.py:1351: UserWarning: Selecting first found group: posterior_predictive\n",
      "  warnings.warn(f\"Selecting first found group: {data.groups()[0]}\")\n"
     ]
    },
    {
     "name": "stdout",
     "output_type": "stream",
     "text": [
      "[61. 61. 61.]\n"
     ]
    },
    {
     "data": {
      "text/html": [
       "<div>\n",
       "<style scoped>\n",
       "    .dataframe tbody tr th:only-of-type {\n",
       "        vertical-align: middle;\n",
       "    }\n",
       "\n",
       "    .dataframe tbody tr th {\n",
       "        vertical-align: top;\n",
       "    }\n",
       "\n",
       "    .dataframe thead th {\n",
       "        text-align: right;\n",
       "    }\n",
       "</style>\n",
       "<table border=\"1\" class=\"dataframe\">\n",
       "  <thead>\n",
       "    <tr style=\"text-align: right;\">\n",
       "      <th></th>\n",
       "      <th>mean</th>\n",
       "      <th>sd</th>\n",
       "      <th>hdi_3%</th>\n",
       "      <th>hdi_97%</th>\n",
       "      <th>mcse_mean</th>\n",
       "      <th>mcse_sd</th>\n",
       "      <th>ess_bulk</th>\n",
       "      <th>ess_tail</th>\n",
       "      <th>r_hat</th>\n",
       "    </tr>\n",
       "  </thead>\n",
       "  <tbody>\n",
       "    <tr>\n",
       "      <th>ExpData[0]</th>\n",
       "      <td>63.763</td>\n",
       "      <td>7.974</td>\n",
       "      <td>47.0</td>\n",
       "      <td>77.0</td>\n",
       "      <td>0.102</td>\n",
       "      <td>0.072</td>\n",
       "      <td>6116.0</td>\n",
       "      <td>5924.0</td>\n",
       "      <td>1.0</td>\n",
       "    </tr>\n",
       "    <tr>\n",
       "      <th>ExpData[1]</th>\n",
       "      <td>61.117</td>\n",
       "      <td>7.862</td>\n",
       "      <td>46.0</td>\n",
       "      <td>75.0</td>\n",
       "      <td>0.102</td>\n",
       "      <td>0.072</td>\n",
       "      <td>5958.0</td>\n",
       "      <td>5839.0</td>\n",
       "      <td>1.0</td>\n",
       "    </tr>\n",
       "    <tr>\n",
       "      <th>ExpData[2]</th>\n",
       "      <td>62.298</td>\n",
       "      <td>7.985</td>\n",
       "      <td>47.0</td>\n",
       "      <td>76.0</td>\n",
       "      <td>0.104</td>\n",
       "      <td>0.073</td>\n",
       "      <td>5930.0</td>\n",
       "      <td>5438.0</td>\n",
       "      <td>1.0</td>\n",
       "    </tr>\n",
       "  </tbody>\n",
       "</table>\n",
       "</div>"
      ],
      "text/plain": [
       "              mean     sd  hdi_3%  hdi_97%  mcse_mean  mcse_sd  ess_bulk  \\\n",
       "ExpData[0]  63.763  7.974    47.0     77.0      0.102    0.072    6116.0   \n",
       "ExpData[1]  61.117  7.862    46.0     75.0      0.102    0.072    5958.0   \n",
       "ExpData[2]  62.298  7.985    47.0     76.0      0.104    0.073    5930.0   \n",
       "\n",
       "            ess_tail  r_hat  \n",
       "ExpData[0]    5924.0    1.0  \n",
       "ExpData[1]    5839.0    1.0  \n",
       "ExpData[2]    5438.0    1.0  "
      ]
     },
     "execution_count": 220,
     "metadata": {},
     "output_type": "execute_result"
    }
   ],
   "source": [
    "mu = []\n",
    "with pm.Model():\n",
    "    pars = prepare_inference.priors2pymc(prepared_model)\n",
    "    expData_op = ExpDataOp()\n",
    "    ExpData = pm.Poisson(\"ExpData\", mu=expData_op(pars).eval(), observed=obs)\n",
    "    \n",
    "    # step = pm.HamiltonianMC()\n",
    "    post_data = pm.sample(1500)\n",
    "    post_pred = pm.sample_posterior_predictive(post_data)\n",
    "    prior_pred = pm.sample_prior_predictive(1500)\n",
    "\n",
    "print(model.expected_actualdata(model.config.suggested_init()))\n",
    "az.summary(post_pred, var_names=\"ExpData\")"
   ]
  },
  {
   "attachments": {},
   "cell_type": "markdown",
   "metadata": {},
   "source": [
    "## Metropolis-Hasting"
   ]
  },
  {
   "cell_type": "code",
   "execution_count": 218,
   "metadata": {},
   "outputs": [
    {
     "name": "stderr",
     "output_type": "stream",
     "text": [
      "Multiprocess sampling (4 chains in 4 jobs)\n",
      "CompoundStep\n",
      ">Metropolis: [Unconstrained]\n",
      ">Metropolis: [Normals]\n",
      "CompoundStep\n",
      ">Metropolis: [Unconstrained]\n",
      ">Metropolis: [Normals]\n"
     ]
    },
    {
     "name": "stderr",
     "output_type": "stream",
     "text": [
      "Sampling 4 chains for 1_000 tune and 500 draw iterations (4_000 + 2_000 draws total) took 0 seconds.\n"
     ]
    },
    {
     "name": "stderr",
     "output_type": "stream",
     "text": [
      "Sampling: [ExpData, Normals, Unconstrained]\n"
     ]
    },
    {
     "name": "stdout",
     "output_type": "stream",
     "text": [
      "[61. 61. 61.]\n"
     ]
    },
    {
     "name": "stderr",
     "output_type": "stream",
     "text": [
      "/Users/malinhorstmann/anaconda3/envs/pyhf_pymc/lib/python3.9/site-packages/arviz/stats/stats.py:1351: UserWarning: Selecting first found group: posterior_predictive\n",
      "  warnings.warn(f\"Selecting first found group: {data.groups()[0]}\")\n"
     ]
    },
    {
     "data": {
      "text/html": [
       "<div>\n",
       "<style scoped>\n",
       "    .dataframe tbody tr th:only-of-type {\n",
       "        vertical-align: middle;\n",
       "    }\n",
       "\n",
       "    .dataframe tbody tr th {\n",
       "        vertical-align: top;\n",
       "    }\n",
       "\n",
       "    .dataframe thead th {\n",
       "        text-align: right;\n",
       "    }\n",
       "</style>\n",
       "<table border=\"1\" class=\"dataframe\">\n",
       "  <thead>\n",
       "    <tr style=\"text-align: right;\">\n",
       "      <th></th>\n",
       "      <th>mean</th>\n",
       "      <th>sd</th>\n",
       "      <th>hdi_3%</th>\n",
       "      <th>hdi_97%</th>\n",
       "      <th>mcse_mean</th>\n",
       "      <th>mcse_sd</th>\n",
       "      <th>ess_bulk</th>\n",
       "      <th>ess_tail</th>\n",
       "      <th>r_hat</th>\n",
       "    </tr>\n",
       "  </thead>\n",
       "  <tbody>\n",
       "    <tr>\n",
       "      <th>ExpData[0]</th>\n",
       "      <td>61.040</td>\n",
       "      <td>1.326</td>\n",
       "      <td>58.616</td>\n",
       "      <td>63.542</td>\n",
       "      <td>0.061</td>\n",
       "      <td>0.043</td>\n",
       "      <td>469.0</td>\n",
       "      <td>1024.0</td>\n",
       "      <td>1.01</td>\n",
       "    </tr>\n",
       "    <tr>\n",
       "      <th>ExpData[1]</th>\n",
       "      <td>60.911</td>\n",
       "      <td>1.425</td>\n",
       "      <td>58.121</td>\n",
       "      <td>63.533</td>\n",
       "      <td>0.061</td>\n",
       "      <td>0.044</td>\n",
       "      <td>537.0</td>\n",
       "      <td>832.0</td>\n",
       "      <td>1.00</td>\n",
       "    </tr>\n",
       "    <tr>\n",
       "      <th>ExpData[2]</th>\n",
       "      <td>60.901</td>\n",
       "      <td>1.414</td>\n",
       "      <td>58.357</td>\n",
       "      <td>63.514</td>\n",
       "      <td>0.079</td>\n",
       "      <td>0.056</td>\n",
       "      <td>328.0</td>\n",
       "      <td>971.0</td>\n",
       "      <td>1.02</td>\n",
       "    </tr>\n",
       "  </tbody>\n",
       "</table>\n",
       "</div>"
      ],
      "text/plain": [
       "              mean     sd  hdi_3%  hdi_97%  mcse_mean  mcse_sd  ess_bulk  \\\n",
       "ExpData[0]  61.040  1.326  58.616   63.542      0.061    0.043     469.0   \n",
       "ExpData[1]  60.911  1.425  58.121   63.533      0.061    0.044     537.0   \n",
       "ExpData[2]  60.901  1.414  58.357   63.514      0.079    0.056     328.0   \n",
       "\n",
       "            ess_tail  r_hat  \n",
       "ExpData[0]    1024.0   1.01  \n",
       "ExpData[1]     832.0   1.00  \n",
       "ExpData[2]     971.0   1.02  "
      ]
     },
     "execution_count": 218,
     "metadata": {},
     "output_type": "execute_result"
    }
   ],
   "source": [
    "MetrHast_post_data, MetrHast_post_pred, MetrHast_prior_pred = MH_inference.sampling(prepared_model, 500)\n",
    "\n",
    "print(model.expected_actualdata(model.config.suggested_init()))\n",
    "az.summary(MetrHast_post_pred, var_names=\"ExpData\")"
   ]
  },
  {
   "attachments": {},
   "cell_type": "markdown",
   "metadata": {},
   "source": [
    "## Plotting"
   ]
  },
  {
   "cell_type": "code",
   "execution_count": 156,
   "metadata": {},
   "outputs": [
    {
     "data": {
      "image/png": "[encoded data removed]",
      "text/plain": [
       "<Figure size 640x480 with 1 Axes>"
      ]
     },
     "metadata": {},
     "output_type": "display_data"
    }
   ],
   "source": [
    "# plt.step(np.linspace(0,nBins-1,nBins),prior_pred.prior_predictive.main[0].T, alpha = 0.01, c = 'steelblue', where = 'mid');\n",
    "# plt.vlines(np.arange(nBins),*np.quantile(prior_pred.prior_predictive.main[0],[.15,.85],axis=0), colors = 'steelblue', label='HMC prior');\n",
    "\n",
    "    ## Posterior predictive\n",
    "plt.step(np.linspace(0,nBins-1,nBins),post_pred.posterior_predictive.ExpData[0].T, alpha = 0.01, c = 'skyblue', where = 'mid');\n",
    "plt.vlines(np.arange(nBins),*np.quantile(post_pred.posterior_predictive.ExpData[0],[.15,.85],axis=0), colors = 'skyblue', label='HMC posterior')\n",
    "\n",
    "plt.step(np.linspace(0,nBins-1,nBins),MetrHast_post_pred.posterior_predictive.ExpData[0].T, alpha = 0.01, c = 'pink', where = 'mid');\n",
    "plt.vlines(np.arange(nBins),*np.quantile(MetrHast_post_pred.posterior_predictive.ExpData[0],[.15,.85],axis=0), colors = 'pink', label='MH posterior')\n",
    "\n",
    "    ## Observations\n",
    "plt.scatter(np.arange(nBins), obs, c = 'k',s=12, zorder = 999, label = \"Data\")\n",
    "plt.legend(loc='upper right')\n",
    "\n",
    "plt.title(f'HMC vs MH posterior sampling for the dummy model')\n",
    "# plt.title(f'HMC vs MH posterior sampling for ttbar')\n",
    "\n",
    "plt.savefig(f'HMC_MH_dummy')\n",
    "# plt.savefig(f'HMC_MH_ttbar')\n",
    "plt.show()"
   ]
  },
  {
   "attachments": {},
   "cell_type": "markdown",
   "metadata": {},
   "source": [
    "## Inference Quality"
   ]
  },
  {
   "cell_type": "code",
   "execution_count": null,
   "metadata": {},
   "outputs": [],
   "source": [
    "# az.plot_trace(post_data)\n",
    "# plt.savefig(\"HMC_traces_DisplacedLeptons\")\n",
    "# az.plot_trace(MetrHast_post_data)\n",
    "# plt.savefig(\"MH_traces_DisplacedLeptons\")\n",
    "\n",
    "# az.plot_autocorr(post_data)\n",
    "# plt.savefig(\"HMC_autocorr_DisplacedLeptons\")\n",
    "# az.plot_autocorr(MetrHast_post_data)\n",
    "# plt.savefig(\"MH_autocorr_DisplacedLeptons\")\n",
    "\n",
    "# az.plot_trace(post_data)\n",
    "# plt.savefig(\"HMC_traces_dummy\")\n",
    "# az.plot_trace(MetrHast_post_data)\n",
    "# plt.savefig(\"MH_traces_dummyr\")\n",
    "\n",
    "# az.plot_autocorr(post_data)\n",
    "# plt.savefig(\"HMC_autocorr_dummy\")\n",
    "# az.plot_autocorr(MetrHast_post_data)\n",
    "# plt.savefig(\"MH_autocorr_dummy\")"
   ]
  },
  {
   "cell_type": "code",
   "execution_count": null,
   "metadata": {},
   "outputs": [],
   "source": []
  }
 ],
 "metadata": {
  "kernelspec": {
   "display_name": "pyhf_pymc",
   "language": "python",
   "name": "python3"
  },
  "language_info": {
   "codemirror_mode": {
    "name": "ipython",
    "version": 3
   },
   "file_extension": ".py",
   "mimetype": "text/x-python",
   "name": "python",
   "nbconvert_exporter": "python",
   "pygments_lexer": "ipython3",
   "version": "3.9.16"
  },
  "orig_nbformat": 4
 },
 "nbformat": 4,
 "nbformat_minor": 2
}
