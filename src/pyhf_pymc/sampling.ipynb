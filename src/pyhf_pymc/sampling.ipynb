{
 "cells": [
  {
   "cell_type": "code",
   "execution_count": 117,
   "metadata": {},
   "outputs": [
    {
     "name": "stdout",
     "output_type": "stream",
     "text": [
      "The autoreload extension is already loaded. To reload it, use:\n",
      "  %reload_ext autoreload\n"
     ]
    }
   ],
   "source": [
    "%load_ext autoreload\n",
    "%autoreload 2\n",
    "\n",
    "import json\n",
    "\n",
    "\n",
    "import pymc as pm\n",
    "import arviz as az\n",
    "\n",
    "import numpy as np\n",
    "\n",
    "import pytensor\n",
    "from pytensor import tensor as pt\n",
    "from pytensor.graph.basic import Apply\n",
    "from pytensor.graph import Apply, Op\n",
    "\n",
    "# import aesara\n",
    "import aesara.tensor as at\n",
    "# from aesara.graph.op import Op\n",
    "from aesara.link.jax.dispatch import jax_funcify\n",
    "\n",
    "import jax\n",
    "from jax import grad, jit, vmap, value_and_grad, random\n",
    "import jax.numpy as jnp\n",
    "\n",
    "\n",
    "# import sys\n",
    "# sys.path.insert(1, '/Users/malinhorstmann/Documents/pyhf_pymc/src')\n",
    "import MH_inference\n",
    "import HMC_inference\n",
    "import prepare_inference\n",
    "\n",
    "import matplotlib.pyplot as plt\n",
    "\n",
    "import pyhf\n",
    "pyhf.set_backend('jax')"
   ]
  },
  {
   "attachments": {},
   "cell_type": "markdown",
   "metadata": {},
   "source": [
    "### Model"
   ]
  },
  {
   "cell_type": "code",
   "execution_count": 82,
   "metadata": {},
   "outputs": [],
   "source": [
    "### Simple pyhf model\n",
    "model = pyhf.Model(\n",
    "    {'channels': [{'name': 'singlechannel',\n",
    "    'samples': [\n",
    "    {'name': 'signal',\n",
    "     'data': [6, 6, 60],\n",
    "     'modifiers': [\n",
    "         {'name': 'mu', 'type': 'normfactor', 'data': None}]},\n",
    "\n",
    "    {'name': 'background',\n",
    "     'data': [55, 55, 55],\n",
    "     'modifiers': [\n",
    "        ## Staterror / Normal\n",
    "        {\"name\": \"my_staterror\",\"type\": \"staterror\",\"data\": [2.0, 2.0, 2.0],},\n",
    "        ## Lumi / Normal\n",
    "        {'name': 'lumi', 'type': 'lumi', 'data': None},\n",
    "        ## Correlated / Normal\n",
    "        {'name': 'corr_bkg', 'type': 'histosys','data': {'hi_data': [65, 56, 67], 'lo_data': [40, 40, 43]}},\n",
    "        {'name': 'corr_bkg1', 'type': 'histosys','data': {'hi_data': [65, 56, 67], 'lo_data': [40, 40, 43]}},\n",
    "        {'name': 'corr_bkg2', 'type': 'histosys','data': {'hi_data': [65, 56, 67], 'lo_data': [40, 40, 43]}},\n",
    "        ## Uncorrelated / Poisson\n",
    "        {'name': 'uncorr_bkg', 'type': 'shapesys','data': [7, 8, 7.17]},\n",
    "        {'name': 'uncorr_bkg1', 'type': 'shapesys','data': [7, 8, 7.17]},\n",
    "        {'name': 'uncorr_bkg2', 'type': 'shapesys','data': [7, 8, 7.17]},\n",
    "        \n",
    "         ]},    \n",
    "                                 \n",
    "    ]},\n",
    "    ]\n",
    "    ,\n",
    "    \"parameters\": [\n",
    "            {\n",
    "                \"name\": \"lumi\",\n",
    "                \"auxdata\": [1.0],\n",
    "                \"sigmas\": [0.017],\n",
    "                \"bounds\": [[0.915, 1.085]],\n",
    "                \"inits\": [1.0],\n",
    "            }],\n",
    "        }\n",
    ")\n",
    "\n",
    "obs = model.expected_actualdata(model.config.suggested_init())\n",
    "\n",
    "nBins = len(model.expected_actualdata(model.config.suggested_init()))\n",
    "nPars = len(model.config.suggested_init())"
   ]
  },
  {
   "cell_type": "code",
   "execution_count": 13,
   "metadata": {},
   "outputs": [],
   "source": [
    "# with open('SRee_SRmm_Srem.json') as serialized:\n",
    "with open('ttbar_ljets_xsec_inclusive_pruned.json') as serialized:\n",
    "    spec = json.load(serialized)\n",
    "\n",
    "workspace = pyhf.Workspace(spec)\n",
    "model = workspace.model()\n",
    "\n",
    "obs = workspace.data(model, include_auxdata=False)\n",
    "\n",
    "nBins = len(model.expected_actualdata(model.config.suggested_init()))\n",
    "nPars = len(model.config.suggested_init())"
   ]
  },
  {
   "cell_type": "code",
   "execution_count": 83,
   "metadata": {},
   "outputs": [],
   "source": [
    "# Prepare the priors for sampling\n",
    "    # Unconstrained parameters\n",
    "unconstr_dict = {\n",
    "    'uncon1': {'type': 'unconstrained', 'type2': 'normal', 'input': [[1], [0.1]]}\n",
    "    }\n",
    "\n",
    "    # Create dictionary with all priors (unconstrained, constrained by normal and poisson)\n",
    "prior_dict = prepare_inference.prepare_priors(model, unconstr_dict)\n",
    "\n",
    "    # dictionary with keys 'model', 'obs', 'priors', 'precision'\n",
    "prepared_model = prepare_inference.prepare_model(model=model, observations=obs, precision=1, priors=prior_dict)"
   ]
  },
  {
   "attachments": {},
   "cell_type": "markdown",
   "metadata": {},
   "source": [
    "## HMC"
   ]
  },
  {
   "attachments": {},
   "cell_type": "markdown",
   "metadata": {},
   "source": [
    "### General Stuff"
   ]
  },
  {
   "cell_type": "code",
   "execution_count": 84,
   "metadata": {},
   "outputs": [],
   "source": [
    "# Jax expected data\n",
    "@jax.jit\n",
    "def processed_expData(parameters):\n",
    "    a = jnp.stack([model.expected_actualdata(parameters)[i] for i in range(nBins)])\n",
    "    return a\n",
    "\n",
    "one_vector = np.full(nBins, 1., dtype='float64')\n",
    "\n",
    "# Gradient list (dn_bins/dx_1, ..., dn_bins/dx_nPars)\n",
    "@jax.jit\n",
    "def vjp_expData(parameters):\n",
    "    _,back = jax.vjp(processed_expData, parameters)\n",
    "    return back(one_vector)"
   ]
  },
  {
   "attachments": {},
   "cell_type": "markdown",
   "metadata": {},
   "source": [
    "### Testing the gradient calculation\n",
    "Calculating the derivatives by hand for MU and STAT_ERROR ONLY: n_binn = stat_error_n * 55 + mu * 6\n",
    "- d/dmu = dn_bin1 / dmu + dn_bin2 / dmu + dn_bin3 / dmu = 6 + 6 + 60 = 72\n",
    "- d/dstat_error_1 = dn_bin1 / dstat_error_1 + dn_bin2 / dstat_error_1 + dn_bin3 / dstat_error_1 = 55 + 0 +0\n",
    "- d/dstat_error_2 = ... = 0 + 55 + 0\n",
    "- d/dstat_error_3 = ... = 0 + 0 + 55\n",
    "\n",
    "-> Looks right: (72, 55, 55, 55)"
   ]
  },
  {
   "cell_type": "code",
   "execution_count": 226,
   "metadata": {},
   "outputs": [
    {
     "name": "stdout",
     "output_type": "stream",
     "text": [
      "processed_expData(ev_point): [ 61.  61. 115.]\n",
      "vjp_expData(ev_point): [72. 55. 55. 55.]\n",
      ".......\n",
      "jax.jacrev(processed_expData)(ev_point) @ one_vector: [72. 55. 55. 55.]\n"
     ]
    }
   ],
   "source": [
    "# Testing   \n",
    "# ev_point = model.config.suggested_init()\n",
    "\n",
    "    # Using my functions\n",
    "# print(f'processed_expData(ev_point): {processed_expData(ev_point)}')\n",
    "# print(f'vjp_expData(ev_point): {np.asarray(vjp_expData(ev_point)[0])}')\n",
    "\n",
    "# print('.......')\n",
    "\n",
    "    # By hand (attention, the jaconian is shape-inverted)\n",
    "# print(f'jax.jacrev(processed_expData)(ev_point) @ one_vector: {jax.jacrev(processed_expData)(ev_point) @ one_vector}')"
   ]
  },
  {
   "attachments": {},
   "cell_type": "markdown",
   "metadata": {},
   "source": [
    "### Testing the order of the gradients and the order of the parameters\n",
    "\n",
    "-> Also look good"
   ]
  },
  {
   "cell_type": "code",
   "execution_count": 239,
   "metadata": {},
   "outputs": [
    {
     "name": "stdout",
     "output_type": "stream",
     "text": [
      "[0.0, 0.0, 0.0, 1.0, 1.0, 1.0, 1.0, 1.0, 1.0, 1.0, 1.0, 1.0, 1.0, 1.0, 1.0, 1.0, 1.0]\n",
      "dict_items([('corr_bkg', {'slice': slice(0, 1, None), 'paramset': <pyhf.parameters.paramsets.constrained_by_normal object at 0x15011df40>}), ('corr_bkg1', {'slice': slice(1, 2, None), 'paramset': <pyhf.parameters.paramsets.constrained_by_normal object at 0x1772ec340>}), ('corr_bkg2', {'slice': slice(2, 3, None), 'paramset': <pyhf.parameters.paramsets.constrained_by_normal object at 0x178ff05e0>}), ('lumi', {'slice': slice(3, 4, None), 'paramset': <pyhf.parameters.paramsets.constrained_by_normal object at 0x17ad9c130>}), ('mu', {'slice': slice(4, 5, None), 'paramset': <pyhf.parameters.paramsets.unconstrained object at 0x15b07ed90>}), ('uncorr_bkg', {'slice': slice(5, 8, None), 'paramset': <pyhf.parameters.paramsets.constrained_by_poisson object at 0x1693d18b0>}), ('uncorr_bkg1', {'slice': slice(8, 11, None), 'paramset': <pyhf.parameters.paramsets.constrained_by_poisson object at 0x1693d1640>}), ('uncorr_bkg2', {'slice': slice(11, 14, None), 'paramset': <pyhf.parameters.paramsets.constrained_by_poisson object at 0x177336580>}), ('my_staterror', {'slice': slice(14, 17, None), 'paramset': <pyhf.parameters.paramsets.constrained_by_normal object at 0x1773365b0>})])\n",
      "{'uncon1': {'type': 'unconstrained', 'type2': 'normal', 'input': [[1], [0.1]]}, 'corr_bkg': {'type': 'normal', 'input': [[0.0], [Array(1., dtype=float64)]]}, 'corr_bkg1': {'type': 'normal', 'input': [[0.0], [Array(1., dtype=float64)]]}, 'corr_bkg2': {'type': 'normal', 'input': [[0.0], [Array(1., dtype=float64)]]}, 'lumi': {'type': 'normal', 'input': [[1.0], [Array(0.017, dtype=float64)]]}, 'my_staterror': {'type': 'normal', 'input': [[1.0, 1.0, 1.0], [Array(0.03636364, dtype=float64), Array(0.03636364, dtype=float64), Array(0.03636364, dtype=float64)]]}, 'uncorr_bkg': {'type': 'poisson', 'input': [[235281.56316670778, 105593.26410293579, 203732.91681304327], [235281.56316670778, 105593.26410293579, 203732.91681304327]]}, 'uncorr_bkg1': {'type': 'poisson', 'input': [[235281.56316670778, 105593.26410293579, 203732.91681304327], [235281.56316670778, 105593.26410293579, 203732.91681304327]]}, 'uncorr_bkg2': {'type': 'poisson', 'input': [[235281.56316670778, 105593.26410293579, 203732.91681304327], [235281.56316670778, 105593.26410293579, 203732.91681304327]]}}\n",
      "[ 4  0  1  2  3 14 15 16  5  6  7  8  9 10 11 12 13]\n"
     ]
    }
   ],
   "source": [
    "# order of gradients is order of model.config.suggested_init()\n",
    "# print(model.config.suggested_init())\n",
    "# print(model.config.par_map.items())\n",
    "# print(prior_dict)\n",
    "# print(prepare_inference.get_target(model))"
   ]
  },
  {
   "attachments": {},
   "cell_type": "markdown",
   "metadata": {},
   "source": [
    "### Gradient Op"
   ]
  },
  {
   "cell_type": "code",
   "execution_count": 169,
   "metadata": {},
   "outputs": [],
   "source": [
    "class VJPOp(pt.Op):\n",
    "\n",
    "    def make_node(self, parameters):\n",
    "        # self.vjp_func = vjp_expData\n",
    "        inputs = [pt.as_tensor_variable(parameters)]\n",
    "        outputs = [pt.vector()]\n",
    "        \n",
    "        return Apply(self, inputs, outputs)\n",
    "\n",
    "    def perform(self, node, inputs, outputs):\n",
    "        (parameters,) = inputs\n",
    "        results = vjp_expData(parameters)\n",
    "\n",
    "        if not isinstance(results, (list, tuple)):\n",
    "                results = (results,)\n",
    "                \n",
    "        for i, r in enumerate(results):\n",
    "            outputs[i][0] = np.asarray(r)\n",
    "\n",
    "vjp_op = VJPOp()"
   ]
  },
  {
   "attachments": {},
   "cell_type": "markdown",
   "metadata": {},
   "source": [
    "### Non-Gradient Op (with `grad` method)"
   ]
  },
  {
   "cell_type": "code",
   "execution_count": 170,
   "metadata": {},
   "outputs": [],
   "source": [
    "class ExpDataOp(pt.Op):\n",
    "    \n",
    "    def make_node(self, parameters):\n",
    "        inputs = [pt.as_tensor_variable(parameters)]\n",
    "        # inputs = [pt.vector()]\n",
    "        outputs = [pt.vector()]\n",
    "\n",
    "        return Apply(self, inputs, outputs)\n",
    "\n",
    "    def perform(self, node, inputs, outputs):\n",
    "        (parameters, ) = inputs\n",
    "        results = processed_expData(parameters)\n",
    "\n",
    "        if len(outputs) == 1:\n",
    "                outputs[0][0] = np.asarray(results)\n",
    "                return\n",
    "        for i, r in enumerate(results):\n",
    "                outputs[i][0] = np.asarray(r)\n",
    "\n",
    "    def grad(self, parameters):\n",
    "        return [vjp_op(parameters)]\n",
    "        \n",
    "\n",
    "expData_op = ExpDataOp()\n",
    "\n",
    "# pars = prepare_inference.priors2pymc(prepared_model)\n",
    "    \n",
    "# expData_op(pars).eval()"
   ]
  },
  {
   "cell_type": "code",
   "execution_count": 127,
   "metadata": {},
   "outputs": [],
   "source": [
    "# class ExpDataOp_1(pt.Op):\n",
    "    \n",
    "#     def make_node(self, parameters):\n",
    "#         # inputs = [pt.as_tensor_variable(parameters)]\n",
    "#         inputs = [pt.vector()]\n",
    "#         outputs = [pt.vector()]\n",
    "\n",
    "#         return Apply(self, inputs, outputs)\n",
    "\n",
    "#     def perform(self, node, inputs, outputs):\n",
    "#         (parameters, ) = inputs\n",
    "#         results = processed_expData(parameters)\n",
    "\n",
    "#         if len(outputs) == 1:\n",
    "#                 outputs[0][0] = np.asarray(results)\n",
    "#                 return\n",
    "#         for i, r in enumerate(results):\n",
    "#                 outputs[i][0] = np.asarray(r)\n",
    "    \n",
    "#     def grad(self, parameters):\n",
    "#         return [vjp_op(parameters)]\n",
    "\n",
    "# expData_op_1 = ExpDataOp_1()\n",
    "\n",
    "# # expData_op_1(model.config.suggested_init()).eval()"
   ]
  },
  {
   "attachments": {},
   "cell_type": "markdown",
   "metadata": {},
   "source": [
    "## Sampling Hamiltonian MC"
   ]
  },
  {
   "cell_type": "code",
   "execution_count": 171,
   "metadata": {},
   "outputs": [
    {
     "name": "stdout",
     "output_type": "stream",
     "text": [
      "... Parameter Sampling\n",
      "... HMC Sampling:\n"
     ]
    },
    {
     "ename": "TypeError",
     "evalue": "grad() takes 2 positional arguments but 3 were given",
     "output_type": "error",
     "traceback": [
      "\u001b[0;31m---------------------------------------------------------------------------\u001b[0m",
      "\u001b[0;31mTypeError\u001b[0m                                 Traceback (most recent call last)",
      "Cell \u001b[0;32mIn[171], line 13\u001b[0m\n\u001b[1;32m     10\u001b[0m expData_op \u001b[39m=\u001b[39m ExpDataOp()\n\u001b[1;32m     11\u001b[0m ExpData \u001b[39m=\u001b[39m pm\u001b[39m.\u001b[39mNormal(\u001b[39m\"\u001b[39m\u001b[39mExpData\u001b[39m\u001b[39m\"\u001b[39m, mu\u001b[39m=\u001b[39mexpData_op(pars), sigma\u001b[39m=\u001b[39m\u001b[39m1\u001b[39m, observed\u001b[39m=\u001b[39mobs)\n\u001b[0;32m---> 13\u001b[0m post_data \u001b[39m=\u001b[39m pm\u001b[39m.\u001b[39;49msample(\u001b[39m1500\u001b[39;49m)\n\u001b[1;32m     14\u001b[0m post_pred \u001b[39m=\u001b[39m pm\u001b[39m.\u001b[39msample_posterior_predictive(post_data)\n\u001b[1;32m     15\u001b[0m prior_pred \u001b[39m=\u001b[39m pm\u001b[39m.\u001b[39msample_prior_predictive(\u001b[39m1500\u001b[39m)\n",
      "File \u001b[0;32m~/anaconda3/envs/pyhf_pymc/lib/python3.9/site-packages/pymc/sampling/mcmc.py:452\u001b[0m, in \u001b[0;36msample\u001b[0;34m(draws, step, init, n_init, initvals, trace, chains, cores, tune, progressbar, model, random_seed, discard_tuned_samples, compute_convergence_checks, callback, jitter_max_retries, return_inferencedata, keep_warning_stat, idata_kwargs, mp_ctx, **kwargs)\u001b[0m\n\u001b[1;32m    449\u001b[0m         auto_nuts_init \u001b[39m=\u001b[39m \u001b[39mFalse\u001b[39;00m\n\u001b[1;32m    451\u001b[0m initial_points \u001b[39m=\u001b[39m \u001b[39mNone\u001b[39;00m\n\u001b[0;32m--> 452\u001b[0m step \u001b[39m=\u001b[39m assign_step_methods(model, step, methods\u001b[39m=\u001b[39;49mpm\u001b[39m.\u001b[39;49mSTEP_METHODS, step_kwargs\u001b[39m=\u001b[39;49mkwargs)\n\u001b[1;32m    454\u001b[0m \u001b[39mif\u001b[39;00m \u001b[39misinstance\u001b[39m(step, \u001b[39mlist\u001b[39m):\n\u001b[1;32m    455\u001b[0m     step \u001b[39m=\u001b[39m CompoundStep(step)\n",
      "File \u001b[0;32m~/anaconda3/envs/pyhf_pymc/lib/python3.9/site-packages/pymc/sampling/mcmc.py:180\u001b[0m, in \u001b[0;36massign_step_methods\u001b[0;34m(model, step, methods, step_kwargs)\u001b[0m\n\u001b[1;32m    178\u001b[0m \u001b[39mif\u001b[39;00m has_gradient:\n\u001b[1;32m    179\u001b[0m     \u001b[39mtry\u001b[39;00m:\n\u001b[0;32m--> 180\u001b[0m         tg\u001b[39m.\u001b[39;49mgrad(model_logp, var)\n\u001b[1;32m    181\u001b[0m     \u001b[39mexcept\u001b[39;00m (\u001b[39mNotImplementedError\u001b[39;00m, tg\u001b[39m.\u001b[39mNullTypeGradError):\n\u001b[1;32m    182\u001b[0m         has_gradient \u001b[39m=\u001b[39m \u001b[39mFalse\u001b[39;00m\n",
      "File \u001b[0;32m~/anaconda3/envs/pyhf_pymc/lib/python3.9/site-packages/pytensor/gradient.py:619\u001b[0m, in \u001b[0;36mgrad\u001b[0;34m(cost, wrt, consider_constant, disconnected_inputs, add_names, known_grads, return_disconnected, null_gradients)\u001b[0m\n\u001b[1;32m    616\u001b[0m     \u001b[39mif\u001b[39;00m \u001b[39mhasattr\u001b[39m(g\u001b[39m.\u001b[39mtype, \u001b[39m\"\u001b[39m\u001b[39mdtype\u001b[39m\u001b[39m\"\u001b[39m):\n\u001b[1;32m    617\u001b[0m         \u001b[39massert\u001b[39;00m g\u001b[39m.\u001b[39mtype\u001b[39m.\u001b[39mdtype \u001b[39min\u001b[39;00m pytensor\u001b[39m.\u001b[39mtensor\u001b[39m.\u001b[39mtype\u001b[39m.\u001b[39mfloat_dtypes\n\u001b[0;32m--> 619\u001b[0m _rval: Sequence[Variable] \u001b[39m=\u001b[39m _populate_grad_dict(\n\u001b[1;32m    620\u001b[0m     var_to_app_to_idx, grad_dict, _wrt, cost_name\n\u001b[1;32m    621\u001b[0m )\n\u001b[1;32m    623\u001b[0m rval: MutableSequence[Optional[Variable]] \u001b[39m=\u001b[39m \u001b[39mlist\u001b[39m(_rval)\n\u001b[1;32m    625\u001b[0m \u001b[39mfor\u001b[39;00m i \u001b[39min\u001b[39;00m \u001b[39mrange\u001b[39m(\u001b[39mlen\u001b[39m(_rval)):\n",
      "File \u001b[0;32m~/anaconda3/envs/pyhf_pymc/lib/python3.9/site-packages/pytensor/gradient.py:1426\u001b[0m, in \u001b[0;36m_populate_grad_dict\u001b[0;34m(var_to_app_to_idx, grad_dict, wrt, cost_name)\u001b[0m\n\u001b[1;32m   1423\u001b[0m     \u001b[39m# end if cache miss\u001b[39;00m\n\u001b[1;32m   1424\u001b[0m     \u001b[39mreturn\u001b[39;00m grad_dict[var]\n\u001b[0;32m-> 1426\u001b[0m rval \u001b[39m=\u001b[39m [access_grad_cache(elem) \u001b[39mfor\u001b[39;00m elem \u001b[39min\u001b[39;00m wrt]\n\u001b[1;32m   1428\u001b[0m \u001b[39mreturn\u001b[39;00m rval\n",
      "File \u001b[0;32m~/anaconda3/envs/pyhf_pymc/lib/python3.9/site-packages/pytensor/gradient.py:1426\u001b[0m, in \u001b[0;36m<listcomp>\u001b[0;34m(.0)\u001b[0m\n\u001b[1;32m   1423\u001b[0m     \u001b[39m# end if cache miss\u001b[39;00m\n\u001b[1;32m   1424\u001b[0m     \u001b[39mreturn\u001b[39;00m grad_dict[var]\n\u001b[0;32m-> 1426\u001b[0m rval \u001b[39m=\u001b[39m [access_grad_cache(elem) \u001b[39mfor\u001b[39;00m elem \u001b[39min\u001b[39;00m wrt]\n\u001b[1;32m   1428\u001b[0m \u001b[39mreturn\u001b[39;00m rval\n",
      "File \u001b[0;32m~/anaconda3/envs/pyhf_pymc/lib/python3.9/site-packages/pytensor/gradient.py:1381\u001b[0m, in \u001b[0;36m_populate_grad_dict.<locals>.access_grad_cache\u001b[0;34m(var)\u001b[0m\n\u001b[1;32m   1378\u001b[0m \u001b[39mfor\u001b[39;00m node \u001b[39min\u001b[39;00m node_to_idx:\n\u001b[1;32m   1379\u001b[0m     \u001b[39mfor\u001b[39;00m idx \u001b[39min\u001b[39;00m node_to_idx[node]:\n\u001b[0;32m-> 1381\u001b[0m         term \u001b[39m=\u001b[39m access_term_cache(node)[idx]\n\u001b[1;32m   1383\u001b[0m         \u001b[39mif\u001b[39;00m \u001b[39mnot\u001b[39;00m \u001b[39misinstance\u001b[39m(term, Variable):\n\u001b[1;32m   1384\u001b[0m             \u001b[39mraise\u001b[39;00m \u001b[39mTypeError\u001b[39;00m(\n\u001b[1;32m   1385\u001b[0m                 \u001b[39mf\u001b[39m\u001b[39m\"\u001b[39m\u001b[39m{\u001b[39;00mnode\u001b[39m.\u001b[39mop\u001b[39m}\u001b[39;00m\u001b[39m.grad returned \u001b[39m\u001b[39m{\u001b[39;00m\u001b[39mtype\u001b[39m(term)\u001b[39m}\u001b[39;00m\u001b[39m, expected\u001b[39m\u001b[39m\"\u001b[39m\n\u001b[1;32m   1386\u001b[0m                 \u001b[39m\"\u001b[39m\u001b[39m Variable instance.\u001b[39m\u001b[39m\"\u001b[39m\n\u001b[1;32m   1387\u001b[0m             )\n",
      "File \u001b[0;32m~/anaconda3/envs/pyhf_pymc/lib/python3.9/site-packages/pytensor/gradient.py:1054\u001b[0m, in \u001b[0;36m_populate_grad_dict.<locals>.access_term_cache\u001b[0;34m(node)\u001b[0m\n\u001b[1;32m   1050\u001b[0m \u001b[39mif\u001b[39;00m node \u001b[39mnot\u001b[39;00m \u001b[39min\u001b[39;00m term_dict:\n\u001b[1;32m   1052\u001b[0m     inputs \u001b[39m=\u001b[39m node\u001b[39m.\u001b[39minputs\n\u001b[0;32m-> 1054\u001b[0m     output_grads \u001b[39m=\u001b[39m [access_grad_cache(var) \u001b[39mfor\u001b[39;00m var \u001b[39min\u001b[39;00m node\u001b[39m.\u001b[39moutputs]\n\u001b[1;32m   1056\u001b[0m     \u001b[39m# list of bools indicating if each output is connected to the cost\u001b[39;00m\n\u001b[1;32m   1057\u001b[0m     outputs_connected \u001b[39m=\u001b[39m [\n\u001b[1;32m   1058\u001b[0m         \u001b[39mnot\u001b[39;00m \u001b[39misinstance\u001b[39m(g\u001b[39m.\u001b[39mtype, DisconnectedType) \u001b[39mfor\u001b[39;00m g \u001b[39min\u001b[39;00m output_grads\n\u001b[1;32m   1059\u001b[0m     ]\n",
      "File \u001b[0;32m~/anaconda3/envs/pyhf_pymc/lib/python3.9/site-packages/pytensor/gradient.py:1054\u001b[0m, in \u001b[0;36m<listcomp>\u001b[0;34m(.0)\u001b[0m\n\u001b[1;32m   1050\u001b[0m \u001b[39mif\u001b[39;00m node \u001b[39mnot\u001b[39;00m \u001b[39min\u001b[39;00m term_dict:\n\u001b[1;32m   1052\u001b[0m     inputs \u001b[39m=\u001b[39m node\u001b[39m.\u001b[39minputs\n\u001b[0;32m-> 1054\u001b[0m     output_grads \u001b[39m=\u001b[39m [access_grad_cache(var) \u001b[39mfor\u001b[39;00m var \u001b[39min\u001b[39;00m node\u001b[39m.\u001b[39moutputs]\n\u001b[1;32m   1056\u001b[0m     \u001b[39m# list of bools indicating if each output is connected to the cost\u001b[39;00m\n\u001b[1;32m   1057\u001b[0m     outputs_connected \u001b[39m=\u001b[39m [\n\u001b[1;32m   1058\u001b[0m         \u001b[39mnot\u001b[39;00m \u001b[39misinstance\u001b[39m(g\u001b[39m.\u001b[39mtype, DisconnectedType) \u001b[39mfor\u001b[39;00m g \u001b[39min\u001b[39;00m output_grads\n\u001b[1;32m   1059\u001b[0m     ]\n",
      "File \u001b[0;32m~/anaconda3/envs/pyhf_pymc/lib/python3.9/site-packages/pytensor/gradient.py:1381\u001b[0m, in \u001b[0;36m_populate_grad_dict.<locals>.access_grad_cache\u001b[0;34m(var)\u001b[0m\n\u001b[1;32m   1378\u001b[0m \u001b[39mfor\u001b[39;00m node \u001b[39min\u001b[39;00m node_to_idx:\n\u001b[1;32m   1379\u001b[0m     \u001b[39mfor\u001b[39;00m idx \u001b[39min\u001b[39;00m node_to_idx[node]:\n\u001b[0;32m-> 1381\u001b[0m         term \u001b[39m=\u001b[39m access_term_cache(node)[idx]\n\u001b[1;32m   1383\u001b[0m         \u001b[39mif\u001b[39;00m \u001b[39mnot\u001b[39;00m \u001b[39misinstance\u001b[39m(term, Variable):\n\u001b[1;32m   1384\u001b[0m             \u001b[39mraise\u001b[39;00m \u001b[39mTypeError\u001b[39;00m(\n\u001b[1;32m   1385\u001b[0m                 \u001b[39mf\u001b[39m\u001b[39m\"\u001b[39m\u001b[39m{\u001b[39;00mnode\u001b[39m.\u001b[39mop\u001b[39m}\u001b[39;00m\u001b[39m.grad returned \u001b[39m\u001b[39m{\u001b[39;00m\u001b[39mtype\u001b[39m(term)\u001b[39m}\u001b[39;00m\u001b[39m, expected\u001b[39m\u001b[39m\"\u001b[39m\n\u001b[1;32m   1386\u001b[0m                 \u001b[39m\"\u001b[39m\u001b[39m Variable instance.\u001b[39m\u001b[39m\"\u001b[39m\n\u001b[1;32m   1387\u001b[0m             )\n",
      "File \u001b[0;32m~/anaconda3/envs/pyhf_pymc/lib/python3.9/site-packages/pytensor/gradient.py:1054\u001b[0m, in \u001b[0;36m_populate_grad_dict.<locals>.access_term_cache\u001b[0;34m(node)\u001b[0m\n\u001b[1;32m   1050\u001b[0m \u001b[39mif\u001b[39;00m node \u001b[39mnot\u001b[39;00m \u001b[39min\u001b[39;00m term_dict:\n\u001b[1;32m   1052\u001b[0m     inputs \u001b[39m=\u001b[39m node\u001b[39m.\u001b[39minputs\n\u001b[0;32m-> 1054\u001b[0m     output_grads \u001b[39m=\u001b[39m [access_grad_cache(var) \u001b[39mfor\u001b[39;00m var \u001b[39min\u001b[39;00m node\u001b[39m.\u001b[39moutputs]\n\u001b[1;32m   1056\u001b[0m     \u001b[39m# list of bools indicating if each output is connected to the cost\u001b[39;00m\n\u001b[1;32m   1057\u001b[0m     outputs_connected \u001b[39m=\u001b[39m [\n\u001b[1;32m   1058\u001b[0m         \u001b[39mnot\u001b[39;00m \u001b[39misinstance\u001b[39m(g\u001b[39m.\u001b[39mtype, DisconnectedType) \u001b[39mfor\u001b[39;00m g \u001b[39min\u001b[39;00m output_grads\n\u001b[1;32m   1059\u001b[0m     ]\n",
      "File \u001b[0;32m~/anaconda3/envs/pyhf_pymc/lib/python3.9/site-packages/pytensor/gradient.py:1054\u001b[0m, in \u001b[0;36m<listcomp>\u001b[0;34m(.0)\u001b[0m\n\u001b[1;32m   1050\u001b[0m \u001b[39mif\u001b[39;00m node \u001b[39mnot\u001b[39;00m \u001b[39min\u001b[39;00m term_dict:\n\u001b[1;32m   1052\u001b[0m     inputs \u001b[39m=\u001b[39m node\u001b[39m.\u001b[39minputs\n\u001b[0;32m-> 1054\u001b[0m     output_grads \u001b[39m=\u001b[39m [access_grad_cache(var) \u001b[39mfor\u001b[39;00m var \u001b[39min\u001b[39;00m node\u001b[39m.\u001b[39moutputs]\n\u001b[1;32m   1056\u001b[0m     \u001b[39m# list of bools indicating if each output is connected to the cost\u001b[39;00m\n\u001b[1;32m   1057\u001b[0m     outputs_connected \u001b[39m=\u001b[39m [\n\u001b[1;32m   1058\u001b[0m         \u001b[39mnot\u001b[39;00m \u001b[39misinstance\u001b[39m(g\u001b[39m.\u001b[39mtype, DisconnectedType) \u001b[39mfor\u001b[39;00m g \u001b[39min\u001b[39;00m output_grads\n\u001b[1;32m   1059\u001b[0m     ]\n",
      "File \u001b[0;32m~/anaconda3/envs/pyhf_pymc/lib/python3.9/site-packages/pytensor/gradient.py:1381\u001b[0m, in \u001b[0;36m_populate_grad_dict.<locals>.access_grad_cache\u001b[0;34m(var)\u001b[0m\n\u001b[1;32m   1378\u001b[0m \u001b[39mfor\u001b[39;00m node \u001b[39min\u001b[39;00m node_to_idx:\n\u001b[1;32m   1379\u001b[0m     \u001b[39mfor\u001b[39;00m idx \u001b[39min\u001b[39;00m node_to_idx[node]:\n\u001b[0;32m-> 1381\u001b[0m         term \u001b[39m=\u001b[39m access_term_cache(node)[idx]\n\u001b[1;32m   1383\u001b[0m         \u001b[39mif\u001b[39;00m \u001b[39mnot\u001b[39;00m \u001b[39misinstance\u001b[39m(term, Variable):\n\u001b[1;32m   1384\u001b[0m             \u001b[39mraise\u001b[39;00m \u001b[39mTypeError\u001b[39;00m(\n\u001b[1;32m   1385\u001b[0m                 \u001b[39mf\u001b[39m\u001b[39m\"\u001b[39m\u001b[39m{\u001b[39;00mnode\u001b[39m.\u001b[39mop\u001b[39m}\u001b[39;00m\u001b[39m.grad returned \u001b[39m\u001b[39m{\u001b[39;00m\u001b[39mtype\u001b[39m(term)\u001b[39m}\u001b[39;00m\u001b[39m, expected\u001b[39m\u001b[39m\"\u001b[39m\n\u001b[1;32m   1386\u001b[0m                 \u001b[39m\"\u001b[39m\u001b[39m Variable instance.\u001b[39m\u001b[39m\"\u001b[39m\n\u001b[1;32m   1387\u001b[0m             )\n",
      "File \u001b[0;32m~/anaconda3/envs/pyhf_pymc/lib/python3.9/site-packages/pytensor/gradient.py:1209\u001b[0m, in \u001b[0;36m_populate_grad_dict.<locals>.access_term_cache\u001b[0;34m(node)\u001b[0m\n\u001b[1;32m   1201\u001b[0m         \u001b[39mif\u001b[39;00m o_shape \u001b[39m!=\u001b[39m g_shape:\n\u001b[1;32m   1202\u001b[0m             \u001b[39mraise\u001b[39;00m \u001b[39mValueError\u001b[39;00m(\n\u001b[1;32m   1203\u001b[0m                 \u001b[39m\"\u001b[39m\u001b[39mGot a gradient of shape \u001b[39m\u001b[39m\"\u001b[39m\n\u001b[1;32m   1204\u001b[0m                 \u001b[39m+\u001b[39m \u001b[39mstr\u001b[39m(o_shape)\n\u001b[1;32m   1205\u001b[0m                 \u001b[39m+\u001b[39m \u001b[39m\"\u001b[39m\u001b[39m on an output of shape \u001b[39m\u001b[39m\"\u001b[39m\n\u001b[1;32m   1206\u001b[0m                 \u001b[39m+\u001b[39m \u001b[39mstr\u001b[39m(g_shape)\n\u001b[1;32m   1207\u001b[0m             )\n\u001b[0;32m-> 1209\u001b[0m input_grads \u001b[39m=\u001b[39m node\u001b[39m.\u001b[39;49mop\u001b[39m.\u001b[39;49mL_op(inputs, node\u001b[39m.\u001b[39;49moutputs, new_output_grads)\n\u001b[1;32m   1211\u001b[0m \u001b[39mif\u001b[39;00m input_grads \u001b[39mis\u001b[39;00m \u001b[39mNone\u001b[39;00m:\n\u001b[1;32m   1212\u001b[0m     \u001b[39mraise\u001b[39;00m \u001b[39mTypeError\u001b[39;00m(\n\u001b[1;32m   1213\u001b[0m         \u001b[39mf\u001b[39m\u001b[39m\"\u001b[39m\u001b[39m{\u001b[39;00mnode\u001b[39m.\u001b[39mop\u001b[39m}\u001b[39;00m\u001b[39m.grad returned NoneType, expected iterable.\u001b[39m\u001b[39m\"\u001b[39m\n\u001b[1;32m   1214\u001b[0m     )\n",
      "File \u001b[0;32m~/anaconda3/envs/pyhf_pymc/lib/python3.9/site-packages/pytensor/graph/op.py:393\u001b[0m, in \u001b[0;36mOp.L_op\u001b[0;34m(self, inputs, outputs, output_grads)\u001b[0m\n\u001b[1;32m    366\u001b[0m \u001b[39mdef\u001b[39;00m \u001b[39mL_op\u001b[39m(\n\u001b[1;32m    367\u001b[0m     \u001b[39mself\u001b[39m,\n\u001b[1;32m    368\u001b[0m     inputs: Sequence[Variable],\n\u001b[1;32m    369\u001b[0m     outputs: Sequence[Variable],\n\u001b[1;32m    370\u001b[0m     output_grads: Sequence[Variable],\n\u001b[1;32m    371\u001b[0m ) \u001b[39m-\u001b[39m\u001b[39m>\u001b[39m List[Variable]:\n\u001b[1;32m    372\u001b[0m     \u001b[39mr\u001b[39m\u001b[39m\"\"\"Construct a graph for the L-operator.\u001b[39;00m\n\u001b[1;32m    373\u001b[0m \n\u001b[1;32m    374\u001b[0m \u001b[39m    The L-operator computes a row vector times the Jacobian.\u001b[39;00m\n\u001b[0;32m   (...)\u001b[0m\n\u001b[1;32m    391\u001b[0m \n\u001b[1;32m    392\u001b[0m \u001b[39m    \"\"\"\u001b[39;00m\n\u001b[0;32m--> 393\u001b[0m     \u001b[39mreturn\u001b[39;00m \u001b[39mself\u001b[39;49m\u001b[39m.\u001b[39;49mgrad(inputs, output_grads)\n",
      "\u001b[0;31mTypeError\u001b[0m: grad() takes 2 positional arguments but 3 were given"
     ]
    }
   ],
   "source": [
    "print('... Parameter Sampling')\n",
    "with pm.Model() as m:\n",
    "    pars = prepare_inference.priors2pymc(prepared_model)\n",
    "    # pars = model.config.suggested_init()\n",
    "    # pm.sample()\n",
    "\n",
    "print('... HMC Sampling:')\n",
    "\n",
    "with m:\n",
    "    expData_op = ExpDataOp()\n",
    "    ExpData = pm.Normal(\"ExpData\", mu=expData_op(pars), sigma=1, observed=obs)\n",
    "    \n",
    "    post_data = pm.sample(1500)\n",
    "    post_pred = pm.sample_posterior_predictive(post_data)\n",
    "    prior_pred = pm.sample_prior_predictive(1500)\n",
    "\n",
    "az.summary(post_pred, var_names=\"ExpData\")\n",
    "\n"
   ]
  },
  {
   "attachments": {},
   "cell_type": "markdown",
   "metadata": {},
   "source": [
    "## Sampling Metropolis-Hasting"
   ]
  },
  {
   "cell_type": "code",
   "execution_count": 103,
   "metadata": {},
   "outputs": [
    {
     "name": "stderr",
     "output_type": "stream",
     "text": [
      "Multiprocess sampling (4 chains in 4 jobs)\n",
      "CompoundStep\n",
      ">Metropolis: [Unconstrained]\n",
      ">Metropolis: [Normals]\n",
      ">Metropolis: [Gammas]\n",
      "CompoundStep\n",
      ">Metropolis: [Unconstrained]\n",
      ">Metropolis: [Normals]\n",
      ">Metropolis: [Gammas]\n"
     ]
    },
    {
     "name": "stderr",
     "output_type": "stream",
     "text": [
      "Sampling 4 chains for 1_000 tune and 500 draw iterations (4_000 + 2_000 draws total) took 1 seconds.\n"
     ]
    },
    {
     "name": "stderr",
     "output_type": "stream",
     "text": [
      "Sampling: [ExpData, Gammas, Normals, Unconstrained]\n"
     ]
    },
    {
     "name": "stdout",
     "output_type": "stream",
     "text": [
      "[ 61.  61. 115.]\n"
     ]
    },
    {
     "name": "stderr",
     "output_type": "stream",
     "text": [
      "/Users/malinhorstmann/anaconda3/envs/pyhf_pymc/lib/python3.9/site-packages/arviz/stats/stats.py:1351: UserWarning: Selecting first found group: posterior_predictive\n",
      "  warnings.warn(f\"Selecting first found group: {data.groups()[0]}\")\n"
     ]
    },
    {
     "data": {
      "text/html": [
       "<div>\n",
       "<style scoped>\n",
       "    .dataframe tbody tr th:only-of-type {\n",
       "        vertical-align: middle;\n",
       "    }\n",
       "\n",
       "    .dataframe tbody tr th {\n",
       "        vertical-align: top;\n",
       "    }\n",
       "\n",
       "    .dataframe thead th {\n",
       "        text-align: right;\n",
       "    }\n",
       "</style>\n",
       "<table border=\"1\" class=\"dataframe\">\n",
       "  <thead>\n",
       "    <tr style=\"text-align: right;\">\n",
       "      <th></th>\n",
       "      <th>mean</th>\n",
       "      <th>sd</th>\n",
       "      <th>hdi_3%</th>\n",
       "      <th>hdi_97%</th>\n",
       "      <th>mcse_mean</th>\n",
       "      <th>mcse_sd</th>\n",
       "      <th>ess_bulk</th>\n",
       "      <th>ess_tail</th>\n",
       "      <th>r_hat</th>\n",
       "    </tr>\n",
       "  </thead>\n",
       "  <tbody>\n",
       "    <tr>\n",
       "      <th>ExpData[0]</th>\n",
       "      <td>61.128</td>\n",
       "      <td>1.430</td>\n",
       "      <td>58.634</td>\n",
       "      <td>63.875</td>\n",
       "      <td>0.064</td>\n",
       "      <td>0.045</td>\n",
       "      <td>503.0</td>\n",
       "      <td>1028.0</td>\n",
       "      <td>1.00</td>\n",
       "    </tr>\n",
       "    <tr>\n",
       "      <th>ExpData[1]</th>\n",
       "      <td>60.597</td>\n",
       "      <td>1.400</td>\n",
       "      <td>57.992</td>\n",
       "      <td>63.162</td>\n",
       "      <td>0.054</td>\n",
       "      <td>0.038</td>\n",
       "      <td>676.0</td>\n",
       "      <td>1001.0</td>\n",
       "      <td>1.00</td>\n",
       "    </tr>\n",
       "    <tr>\n",
       "      <th>ExpData[2]</th>\n",
       "      <td>115.109</td>\n",
       "      <td>1.442</td>\n",
       "      <td>112.332</td>\n",
       "      <td>117.702</td>\n",
       "      <td>0.052</td>\n",
       "      <td>0.037</td>\n",
       "      <td>767.0</td>\n",
       "      <td>981.0</td>\n",
       "      <td>1.01</td>\n",
       "    </tr>\n",
       "  </tbody>\n",
       "</table>\n",
       "</div>"
      ],
      "text/plain": [
       "               mean     sd   hdi_3%  hdi_97%  mcse_mean  mcse_sd  ess_bulk  \\\n",
       "ExpData[0]   61.128  1.430   58.634   63.875      0.064    0.045     503.0   \n",
       "ExpData[1]   60.597  1.400   57.992   63.162      0.054    0.038     676.0   \n",
       "ExpData[2]  115.109  1.442  112.332  117.702      0.052    0.037     767.0   \n",
       "\n",
       "            ess_tail  r_hat  \n",
       "ExpData[0]    1028.0   1.00  \n",
       "ExpData[1]    1001.0   1.00  \n",
       "ExpData[2]     981.0   1.01  "
      ]
     },
     "execution_count": 103,
     "metadata": {},
     "output_type": "execute_result"
    }
   ],
   "source": [
    "with pm.Model():\n",
    "\n",
    "        final = prepare_inference.priors2pymc(prepared_model)\n",
    "        # final = model.config.suggested_init()\n",
    "\n",
    "        mu = MH_inference.ExpDataOp('mainOp', processed_expData)\n",
    "        ExpData = pm.Normal('ExpData', mu=mu(final), sigma=1, observed=obs)\n",
    "\n",
    "        MetrHast_post_data = pm.sample(500)\n",
    "        MetrHast_post_pred = pm.sample_posterior_predictive(MetrHast_post_data)\n",
    "        MetrHast_prior_pred = pm.sample_prior_predictive(500)\n",
    "\n",
    "print(model.expected_actualdata(model.config.suggested_init()))\n",
    "az.summary(MetrHast_post_pred)"
   ]
  },
  {
   "cell_type": "code",
   "execution_count": 114,
   "metadata": {},
   "outputs": [
    {
     "name": "stderr",
     "output_type": "stream",
     "text": [
      "Auto-assigning NUTS sampler...\n",
      "Initializing NUTS using jitter+adapt_diag...\n"
     ]
    },
    {
     "name": "stdout",
     "output_type": "stream",
     "text": [
      "... Parameter Sampling\n"
     ]
    },
    {
     "name": "stderr",
     "output_type": "stream",
     "text": [
      "Multiprocess sampling (4 chains in 4 jobs)\n",
      "NUTS: [Unconstrained, Normals, Gammas]\n",
      "NUTS: [Unconstrained, Normals, Gammas]\n"
     ]
    },
    {
     "name": "stderr",
     "output_type": "stream",
     "text": [
      "Sampling 4 chains for 1_000 tune and 1_000 draw iterations (4_000 + 4_000 draws total) took 2 seconds.\n"
     ]
    },
    {
     "name": "stdout",
     "output_type": "stream",
     "text": [
      "... HMC Sampling:\n"
     ]
    },
    {
     "name": "stderr",
     "output_type": "stream",
     "text": [
      "Auto-assigning NUTS sampler...\n",
      "Initializing NUTS using jitter+adapt_diag...\n",
      "Initializing NUTS using jitter+adapt_diag...\n",
      "Multiprocess sampling (4 chains in 4 jobs)\n",
      "NUTS: [Unconstrained, Normals, Gammas]\n"
     ]
    },
    {
     "name": "stderr",
     "output_type": "stream",
     "text": [
      "Sampling 4 chains for 1_000 tune and 1_500 draw iterations (4_000 + 6_000 draws total) took 2 seconds.\n"
     ]
    },
    {
     "name": "stderr",
     "output_type": "stream",
     "text": [
      "Sampling: [ExpData_1, Gammas, Normals, Unconstrained]\n"
     ]
    },
    {
     "data": {
      "text/html": [
       "<div>\n",
       "<style scoped>\n",
       "    .dataframe tbody tr th:only-of-type {\n",
       "        vertical-align: middle;\n",
       "    }\n",
       "\n",
       "    .dataframe tbody tr th {\n",
       "        vertical-align: top;\n",
       "    }\n",
       "\n",
       "    .dataframe thead th {\n",
       "        text-align: right;\n",
       "    }\n",
       "</style>\n",
       "<table border=\"1\" class=\"dataframe\">\n",
       "  <thead>\n",
       "    <tr style=\"text-align: right;\">\n",
       "      <th></th>\n",
       "      <th>mean</th>\n",
       "      <th>sd</th>\n",
       "      <th>hdi_3%</th>\n",
       "      <th>hdi_97%</th>\n",
       "      <th>mcse_mean</th>\n",
       "      <th>mcse_sd</th>\n",
       "      <th>ess_bulk</th>\n",
       "      <th>ess_tail</th>\n",
       "      <th>r_hat</th>\n",
       "    </tr>\n",
       "  </thead>\n",
       "  <tbody>\n",
       "    <tr>\n",
       "      <th>Unconstrained[0]</th>\n",
       "      <td>0.999</td>\n",
       "      <td>0.101</td>\n",
       "      <td>0.812</td>\n",
       "      <td>1.192</td>\n",
       "      <td>0.001</td>\n",
       "      <td>0.001</td>\n",
       "      <td>9873.0</td>\n",
       "      <td>4498.0</td>\n",
       "      <td>1.0</td>\n",
       "    </tr>\n",
       "    <tr>\n",
       "      <th>Normals[0]</th>\n",
       "      <td>0.009</td>\n",
       "      <td>0.994</td>\n",
       "      <td>-1.870</td>\n",
       "      <td>1.872</td>\n",
       "      <td>0.009</td>\n",
       "      <td>0.014</td>\n",
       "      <td>11784.0</td>\n",
       "      <td>4336.0</td>\n",
       "      <td>1.0</td>\n",
       "    </tr>\n",
       "    <tr>\n",
       "      <th>Normals[1]</th>\n",
       "      <td>0.003</td>\n",
       "      <td>0.990</td>\n",
       "      <td>-1.912</td>\n",
       "      <td>1.852</td>\n",
       "      <td>0.010</td>\n",
       "      <td>0.014</td>\n",
       "      <td>10824.0</td>\n",
       "      <td>4392.0</td>\n",
       "      <td>1.0</td>\n",
       "    </tr>\n",
       "    <tr>\n",
       "      <th>Normals[2]</th>\n",
       "      <td>0.000</td>\n",
       "      <td>1.006</td>\n",
       "      <td>-1.865</td>\n",
       "      <td>1.891</td>\n",
       "      <td>0.010</td>\n",
       "      <td>0.015</td>\n",
       "      <td>11016.0</td>\n",
       "      <td>4267.0</td>\n",
       "      <td>1.0</td>\n",
       "    </tr>\n",
       "    <tr>\n",
       "      <th>Normals[3]</th>\n",
       "      <td>1.000</td>\n",
       "      <td>0.017</td>\n",
       "      <td>0.969</td>\n",
       "      <td>1.033</td>\n",
       "      <td>0.000</td>\n",
       "      <td>0.000</td>\n",
       "      <td>11060.0</td>\n",
       "      <td>4475.0</td>\n",
       "      <td>1.0</td>\n",
       "    </tr>\n",
       "    <tr>\n",
       "      <th>Normals[4]</th>\n",
       "      <td>1.000</td>\n",
       "      <td>0.036</td>\n",
       "      <td>0.934</td>\n",
       "      <td>1.070</td>\n",
       "      <td>0.000</td>\n",
       "      <td>0.000</td>\n",
       "      <td>11021.0</td>\n",
       "      <td>4656.0</td>\n",
       "      <td>1.0</td>\n",
       "    </tr>\n",
       "    <tr>\n",
       "      <th>Normals[5]</th>\n",
       "      <td>1.000</td>\n",
       "      <td>0.036</td>\n",
       "      <td>0.930</td>\n",
       "      <td>1.065</td>\n",
       "      <td>0.000</td>\n",
       "      <td>0.000</td>\n",
       "      <td>11203.0</td>\n",
       "      <td>4196.0</td>\n",
       "      <td>1.0</td>\n",
       "    </tr>\n",
       "    <tr>\n",
       "      <th>Normals[6]</th>\n",
       "      <td>1.000</td>\n",
       "      <td>0.036</td>\n",
       "      <td>0.935</td>\n",
       "      <td>1.070</td>\n",
       "      <td>0.000</td>\n",
       "      <td>0.000</td>\n",
       "      <td>11334.0</td>\n",
       "      <td>4678.0</td>\n",
       "      <td>1.0</td>\n",
       "    </tr>\n",
       "    <tr>\n",
       "      <th>Gammas[0]</th>\n",
       "      <td>1.000</td>\n",
       "      <td>0.002</td>\n",
       "      <td>0.996</td>\n",
       "      <td>1.004</td>\n",
       "      <td>0.000</td>\n",
       "      <td>0.000</td>\n",
       "      <td>11005.0</td>\n",
       "      <td>4305.0</td>\n",
       "      <td>1.0</td>\n",
       "    </tr>\n",
       "    <tr>\n",
       "      <th>Gammas[1]</th>\n",
       "      <td>1.000</td>\n",
       "      <td>0.003</td>\n",
       "      <td>0.994</td>\n",
       "      <td>1.006</td>\n",
       "      <td>0.000</td>\n",
       "      <td>0.000</td>\n",
       "      <td>10615.0</td>\n",
       "      <td>4170.0</td>\n",
       "      <td>1.0</td>\n",
       "    </tr>\n",
       "    <tr>\n",
       "      <th>Gammas[2]</th>\n",
       "      <td>1.000</td>\n",
       "      <td>0.002</td>\n",
       "      <td>0.996</td>\n",
       "      <td>1.004</td>\n",
       "      <td>0.000</td>\n",
       "      <td>0.000</td>\n",
       "      <td>9800.0</td>\n",
       "      <td>4670.0</td>\n",
       "      <td>1.0</td>\n",
       "    </tr>\n",
       "    <tr>\n",
       "      <th>Gammas[3]</th>\n",
       "      <td>1.000</td>\n",
       "      <td>0.002</td>\n",
       "      <td>0.996</td>\n",
       "      <td>1.004</td>\n",
       "      <td>0.000</td>\n",
       "      <td>0.000</td>\n",
       "      <td>10824.0</td>\n",
       "      <td>4396.0</td>\n",
       "      <td>1.0</td>\n",
       "    </tr>\n",
       "    <tr>\n",
       "      <th>Gammas[4]</th>\n",
       "      <td>1.000</td>\n",
       "      <td>0.003</td>\n",
       "      <td>0.994</td>\n",
       "      <td>1.006</td>\n",
       "      <td>0.000</td>\n",
       "      <td>0.000</td>\n",
       "      <td>10085.0</td>\n",
       "      <td>4061.0</td>\n",
       "      <td>1.0</td>\n",
       "    </tr>\n",
       "    <tr>\n",
       "      <th>Gammas[5]</th>\n",
       "      <td>1.000</td>\n",
       "      <td>0.002</td>\n",
       "      <td>0.996</td>\n",
       "      <td>1.004</td>\n",
       "      <td>0.000</td>\n",
       "      <td>0.000</td>\n",
       "      <td>9663.0</td>\n",
       "      <td>4608.0</td>\n",
       "      <td>1.0</td>\n",
       "    </tr>\n",
       "    <tr>\n",
       "      <th>Gammas[6]</th>\n",
       "      <td>1.000</td>\n",
       "      <td>0.002</td>\n",
       "      <td>0.996</td>\n",
       "      <td>1.004</td>\n",
       "      <td>0.000</td>\n",
       "      <td>0.000</td>\n",
       "      <td>11365.0</td>\n",
       "      <td>4193.0</td>\n",
       "      <td>1.0</td>\n",
       "    </tr>\n",
       "    <tr>\n",
       "      <th>Gammas[7]</th>\n",
       "      <td>1.000</td>\n",
       "      <td>0.003</td>\n",
       "      <td>0.994</td>\n",
       "      <td>1.006</td>\n",
       "      <td>0.000</td>\n",
       "      <td>0.000</td>\n",
       "      <td>10783.0</td>\n",
       "      <td>4700.0</td>\n",
       "      <td>1.0</td>\n",
       "    </tr>\n",
       "    <tr>\n",
       "      <th>Gammas[8]</th>\n",
       "      <td>1.000</td>\n",
       "      <td>0.002</td>\n",
       "      <td>0.996</td>\n",
       "      <td>1.004</td>\n",
       "      <td>0.000</td>\n",
       "      <td>0.000</td>\n",
       "      <td>10444.0</td>\n",
       "      <td>4237.0</td>\n",
       "      <td>1.0</td>\n",
       "    </tr>\n",
       "  </tbody>\n",
       "</table>\n",
       "</div>"
      ],
      "text/plain": [
       "                   mean     sd  hdi_3%  hdi_97%  mcse_mean  mcse_sd  ess_bulk  \\\n",
       "Unconstrained[0]  0.999  0.101   0.812    1.192      0.001    0.001    9873.0   \n",
       "Normals[0]        0.009  0.994  -1.870    1.872      0.009    0.014   11784.0   \n",
       "Normals[1]        0.003  0.990  -1.912    1.852      0.010    0.014   10824.0   \n",
       "Normals[2]        0.000  1.006  -1.865    1.891      0.010    0.015   11016.0   \n",
       "Normals[3]        1.000  0.017   0.969    1.033      0.000    0.000   11060.0   \n",
       "Normals[4]        1.000  0.036   0.934    1.070      0.000    0.000   11021.0   \n",
       "Normals[5]        1.000  0.036   0.930    1.065      0.000    0.000   11203.0   \n",
       "Normals[6]        1.000  0.036   0.935    1.070      0.000    0.000   11334.0   \n",
       "Gammas[0]         1.000  0.002   0.996    1.004      0.000    0.000   11005.0   \n",
       "Gammas[1]         1.000  0.003   0.994    1.006      0.000    0.000   10615.0   \n",
       "Gammas[2]         1.000  0.002   0.996    1.004      0.000    0.000    9800.0   \n",
       "Gammas[3]         1.000  0.002   0.996    1.004      0.000    0.000   10824.0   \n",
       "Gammas[4]         1.000  0.003   0.994    1.006      0.000    0.000   10085.0   \n",
       "Gammas[5]         1.000  0.002   0.996    1.004      0.000    0.000    9663.0   \n",
       "Gammas[6]         1.000  0.002   0.996    1.004      0.000    0.000   11365.0   \n",
       "Gammas[7]         1.000  0.003   0.994    1.006      0.000    0.000   10783.0   \n",
       "Gammas[8]         1.000  0.002   0.996    1.004      0.000    0.000   10444.0   \n",
       "\n",
       "                  ess_tail  r_hat  \n",
       "Unconstrained[0]    4498.0    1.0  \n",
       "Normals[0]          4336.0    1.0  \n",
       "Normals[1]          4392.0    1.0  \n",
       "Normals[2]          4267.0    1.0  \n",
       "Normals[3]          4475.0    1.0  \n",
       "Normals[4]          4656.0    1.0  \n",
       "Normals[5]          4196.0    1.0  \n",
       "Normals[6]          4678.0    1.0  \n",
       "Gammas[0]           4305.0    1.0  \n",
       "Gammas[1]           4170.0    1.0  \n",
       "Gammas[2]           4670.0    1.0  \n",
       "Gammas[3]           4396.0    1.0  \n",
       "Gammas[4]           4061.0    1.0  \n",
       "Gammas[5]           4608.0    1.0  \n",
       "Gammas[6]           4193.0    1.0  \n",
       "Gammas[7]           4700.0    1.0  \n",
       "Gammas[8]           4237.0    1.0  "
      ]
     },
     "execution_count": 114,
     "metadata": {},
     "output_type": "execute_result"
    }
   ],
   "source": [
    "print('... Parameter Sampling')\n",
    "with pm.Model() as m:\n",
    "    pars = prepare_inference.priors2pymc(prepared_model)\n",
    "    # pars = model.config.suggested_init()\n",
    "    pm.sample()\n",
    "\n",
    "print('... HMC Sampling:')\n",
    "\n",
    "with m:\n",
    "    expData_op_1 = ExpDataOp_1()\n",
    "    ExpData_1 = pm.Normal(\"ExpData_1\", mu=expData_op_1(pars).eval(), sigma=1, observed=obs)\n",
    "    \n",
    "    post_data = pm.sample(1500)\n",
    "    post_pred = pm.sample_posterior_predictive(post_data)\n",
    "    prior_pred = pm.sample_prior_predictive(1500)\n",
    "\n",
    "az.summary(post_data)"
   ]
  },
  {
   "cell_type": "code",
   "execution_count": 118,
   "metadata": {},
   "outputs": [
    {
     "ename": "NameError",
     "evalue": "name 'nBins' is not defined\nApply node that caused the error: ExpDataOp(MakeVector{dtype='float64'}.0)\nToposort index: 23\nInputs types: [TensorType(float64, (17,))]\nInputs shapes: [(17,)]\nInputs strides: [(8,)]\nInputs values: ['not shown']\nOutputs clients: [[Elemwise{Composite{((i0 * sqr((i1 - i2))) - i3)}}(TensorConstant{(1,) of -0.5}, ExpData{[ 61.  61. 115.]}, ExpDataOp.0, TensorConstant{(1,) of 0...5332046727})]]\n\nBacktrace when the node is created (use PyTensor flag traceback__limit=N to make it longer):\n  File \"/Users/malinhorstmann/anaconda3/envs/pyhf_pymc/lib/python3.9/site-packages/IPython/core/async_helpers.py\", line 129, in _pseudo_sync_runner\n    coro.send(None)\n  File \"/Users/malinhorstmann/anaconda3/envs/pyhf_pymc/lib/python3.9/site-packages/IPython/core/interactiveshell.py\", line 3203, in run_cell_async\n    has_raised = await self.run_ast_nodes(code_ast.body, cell_name,\n  File \"/Users/malinhorstmann/anaconda3/envs/pyhf_pymc/lib/python3.9/site-packages/IPython/core/interactiveshell.py\", line 3382, in run_ast_nodes\n    if await self.run_code(code, result, async_=asy):\n  File \"/Users/malinhorstmann/anaconda3/envs/pyhf_pymc/lib/python3.9/site-packages/IPython/core/interactiveshell.py\", line 3442, in run_code\n    exec(code_obj, self.user_global_ns, self.user_ns)\n  File \"/var/folders/p9/sw_pjm3j027cxfs57s_91bfw0000gn/T/ipykernel_1110/3204394602.py\", line 1, in <module>\n    MetrHast_post_data, MetrHast_post_pred, MetrHast_prior_pred = MH_inference.sampling(prepared_model, 500)\n  File \"/Users/malinhorstmann/Documents/pyhf_pymc/src/pyhf_pymc/MH_inference.py\", line 88, in sampling\n    plt.legend(loc='upper left')\n  File \"/Users/malinhorstmann/anaconda3/envs/pyhf_pymc/lib/python3.9/site-packages/pytensor/graph/op.py\", line 296, in __call__\n    node = self.make_node(*inputs, **kwargs)\n  File \"/Users/malinhorstmann/Documents/pyhf_pymc/src/pyhf_pymc/MH_inference.py\", line 55, in make_node\n    Output:\n\nHINT: Use the PyTensor flag `exception_verbosity=high` for a debug print-out and storage map footprint of this Apply node.",
     "output_type": "error",
     "traceback": [
      "\u001b[0;31m---------------------------------------------------------------------------\u001b[0m",
      "\u001b[0;31mNameError\u001b[0m                                 Traceback (most recent call last)",
      "File \u001b[0;32m~/anaconda3/envs/pyhf_pymc/lib/python3.9/site-packages/pytensor/compile/function/types.py:972\u001b[0m, in \u001b[0;36mFunction.__call__\u001b[0;34m(self, *args, **kwargs)\u001b[0m\n\u001b[1;32m    970\u001b[0m \u001b[39mtry\u001b[39;00m:\n\u001b[1;32m    971\u001b[0m     outputs \u001b[39m=\u001b[39m (\n\u001b[0;32m--> 972\u001b[0m         \u001b[39mself\u001b[39;49m\u001b[39m.\u001b[39;49mvm()\n\u001b[1;32m    973\u001b[0m         \u001b[39mif\u001b[39;00m output_subset \u001b[39mis\u001b[39;00m \u001b[39mNone\u001b[39;00m\n\u001b[1;32m    974\u001b[0m         \u001b[39melse\u001b[39;00m \u001b[39mself\u001b[39m\u001b[39m.\u001b[39mvm(output_subset\u001b[39m=\u001b[39moutput_subset)\n\u001b[1;32m    975\u001b[0m     )\n\u001b[1;32m    976\u001b[0m \u001b[39mexcept\u001b[39;00m \u001b[39mException\u001b[39;00m:\n",
      "File \u001b[0;32m~/anaconda3/envs/pyhf_pymc/lib/python3.9/site-packages/pytensor/graph/op.py:544\u001b[0m, in \u001b[0;36mOp.make_py_thunk.<locals>.rval\u001b[0;34m(p, i, o, n, params)\u001b[0m\n\u001b[1;32m    540\u001b[0m \u001b[39m@is_thunk_type\u001b[39m\n\u001b[1;32m    541\u001b[0m \u001b[39mdef\u001b[39;00m \u001b[39mrval\u001b[39m(\n\u001b[1;32m    542\u001b[0m     p\u001b[39m=\u001b[39mp, i\u001b[39m=\u001b[39mnode_input_storage, o\u001b[39m=\u001b[39mnode_output_storage, n\u001b[39m=\u001b[39mnode, params\u001b[39m=\u001b[39m\u001b[39mNone\u001b[39;00m\n\u001b[1;32m    543\u001b[0m ):\n\u001b[0;32m--> 544\u001b[0m     r \u001b[39m=\u001b[39m p(n, [x[\u001b[39m0\u001b[39;49m] \u001b[39mfor\u001b[39;49;00m x \u001b[39min\u001b[39;49;00m i], o)\n\u001b[1;32m    545\u001b[0m     \u001b[39mfor\u001b[39;00m o \u001b[39min\u001b[39;00m node\u001b[39m.\u001b[39moutputs:\n",
      "File \u001b[0;32m~/Documents/pyhf_pymc/src/pyhf_pymc/MH_inference.py:61\u001b[0m, in \u001b[0;36mExpDataOp.perform\u001b[0;34m(self, node, inputs, outputs)\u001b[0m\n\u001b[1;32m     60\u001b[0m (parameters, ) \u001b[39m=\u001b[39m inputs\n\u001b[0;32m---> 61\u001b[0m results \u001b[39m=\u001b[39m processed_expData(parameters)\n\u001b[1;32m     63\u001b[0m \u001b[39mif\u001b[39;00m \u001b[39mlen\u001b[39m(outputs) \u001b[39m==\u001b[39m \u001b[39m1\u001b[39m:\n",
      "    \u001b[0;31m[... skipping hidden 12 frame]\u001b[0m\n",
      "File \u001b[0;32m~/Documents/pyhf_pymc/src/pyhf_pymc/MH_inference.py:48\u001b[0m, in \u001b[0;36mprocessed_expData\u001b[0;34m(parameters)\u001b[0m\n\u001b[1;32m     46\u001b[0m \u001b[39m@jax\u001b[39m\u001b[39m.\u001b[39mjit\n\u001b[1;32m     47\u001b[0m \u001b[39mdef\u001b[39;00m \u001b[39mprocessed_expData\u001b[39m(parameters):\n\u001b[0;32m---> 48\u001b[0m     a \u001b[39m=\u001b[39m jnp\u001b[39m.\u001b[39mstack([model\u001b[39m.\u001b[39mexpected_actualdata(parameters)[i] \u001b[39mfor\u001b[39;00m i \u001b[39min\u001b[39;00m \u001b[39mrange\u001b[39m(nBins)])\n\u001b[1;32m     49\u001b[0m     \u001b[39mreturn\u001b[39;00m a\n",
      "\u001b[0;31mNameError\u001b[0m: name 'nBins' is not defined",
      "\nDuring handling of the above exception, another exception occurred:\n",
      "\u001b[0;31mNameError\u001b[0m                                 Traceback (most recent call last)",
      "Cell \u001b[0;32mIn[118], line 1\u001b[0m\n\u001b[0;32m----> 1\u001b[0m MetrHast_post_data, MetrHast_post_pred, MetrHast_prior_pred \u001b[39m=\u001b[39m MH_inference\u001b[39m.\u001b[39;49msampling(prepared_model, \u001b[39m500\u001b[39;49m)\n\u001b[1;32m      3\u001b[0m \u001b[39mprint\u001b[39m(model\u001b[39m.\u001b[39mexpected_actualdata(model\u001b[39m.\u001b[39mconfig\u001b[39m.\u001b[39msuggested_init()))\n\u001b[1;32m      4\u001b[0m az\u001b[39m.\u001b[39msummary(MetrHast_post_data)\n",
      "File \u001b[0;32m~/Documents/pyhf_pymc/src/pyhf_pymc/MH_inference.py:90\u001b[0m, in \u001b[0;36msampling\u001b[0;34m(prepared_model, n_samples)\u001b[0m\n\u001b[1;32m     87\u001b[0m exp_data_op \u001b[39m=\u001b[39m ExpDataOp()\n\u001b[1;32m     88\u001b[0m ExpData \u001b[39m=\u001b[39m pm\u001b[39m.\u001b[39mNormal(\u001b[39m'\u001b[39m\u001b[39mExpData\u001b[39m\u001b[39m'\u001b[39m, mu\u001b[39m=\u001b[39mexp_data_op(pars), sigma\u001b[39m=\u001b[39mprecision, observed\u001b[39m=\u001b[39mobs)\n\u001b[0;32m---> 90\u001b[0m post_data \u001b[39m=\u001b[39m pm\u001b[39m.\u001b[39;49msample(n_samples)\n\u001b[1;32m     91\u001b[0m post_pred \u001b[39m=\u001b[39m pm\u001b[39m.\u001b[39msample_posterior_predictive(post_data)\n\u001b[1;32m     92\u001b[0m prior_pred \u001b[39m=\u001b[39m pm\u001b[39m.\u001b[39msample_prior_predictive(n_samples)\n",
      "File \u001b[0;32m~/anaconda3/envs/pyhf_pymc/lib/python3.9/site-packages/pymc/sampling/mcmc.py:486\u001b[0m, in \u001b[0;36msample\u001b[0;34m(draws, step, init, n_init, initvals, trace, chains, cores, tune, progressbar, model, random_seed, discard_tuned_samples, compute_convergence_checks, callback, jitter_max_retries, return_inferencedata, keep_warning_stat, idata_kwargs, mp_ctx, **kwargs)\u001b[0m\n\u001b[1;32m    484\u001b[0m \u001b[39m# One final check that shapes and logps at the starting points are okay.\u001b[39;00m\n\u001b[1;32m    485\u001b[0m \u001b[39mfor\u001b[39;00m ip \u001b[39min\u001b[39;00m initial_points:\n\u001b[0;32m--> 486\u001b[0m     model\u001b[39m.\u001b[39;49mcheck_start_vals(ip)\n\u001b[1;32m    487\u001b[0m     _check_start_shape(model, ip)\n\u001b[1;32m    489\u001b[0m \u001b[39m# Create trace backends for each chain\u001b[39;00m\n",
      "File \u001b[0;32m~/anaconda3/envs/pyhf_pymc/lib/python3.9/site-packages/pymc/model.py:1765\u001b[0m, in \u001b[0;36mModel.check_start_vals\u001b[0;34m(self, start)\u001b[0m\n\u001b[1;32m   1759\u001b[0m     valid_keys \u001b[39m=\u001b[39m \u001b[39m\"\u001b[39m\u001b[39m, \u001b[39m\u001b[39m\"\u001b[39m\u001b[39m.\u001b[39mjoin(value_names_set)\n\u001b[1;32m   1760\u001b[0m     \u001b[39mraise\u001b[39;00m \u001b[39mKeyError\u001b[39;00m(\n\u001b[1;32m   1761\u001b[0m         \u001b[39m\"\u001b[39m\u001b[39mSome start parameters do not appear in the model!\u001b[39m\u001b[39m\\n\u001b[39;00m\u001b[39m\"\u001b[39m\n\u001b[1;32m   1762\u001b[0m         \u001b[39mf\u001b[39m\u001b[39m\"\u001b[39m\u001b[39mValid keys are: \u001b[39m\u001b[39m{\u001b[39;00mvalid_keys\u001b[39m}\u001b[39;00m\u001b[39m, but \u001b[39m\u001b[39m{\u001b[39;00mextra_keys\u001b[39m}\u001b[39;00m\u001b[39m was supplied\u001b[39m\u001b[39m\"\u001b[39m\n\u001b[1;32m   1763\u001b[0m     )\n\u001b[0;32m-> 1765\u001b[0m initial_eval \u001b[39m=\u001b[39m \u001b[39mself\u001b[39;49m\u001b[39m.\u001b[39;49mpoint_logps(point\u001b[39m=\u001b[39;49melem)\n\u001b[1;32m   1767\u001b[0m \u001b[39mif\u001b[39;00m \u001b[39mnot\u001b[39;00m \u001b[39mall\u001b[39m(np\u001b[39m.\u001b[39misfinite(v) \u001b[39mfor\u001b[39;00m v \u001b[39min\u001b[39;00m initial_eval\u001b[39m.\u001b[39mvalues()):\n\u001b[1;32m   1768\u001b[0m     \u001b[39mraise\u001b[39;00m SamplingError(\n\u001b[1;32m   1769\u001b[0m         \u001b[39m\"\u001b[39m\u001b[39mInitial evaluation of model at starting point failed!\u001b[39m\u001b[39m\\n\u001b[39;00m\u001b[39m\"\u001b[39m\n\u001b[1;32m   1770\u001b[0m         \u001b[39mf\u001b[39m\u001b[39m\"\u001b[39m\u001b[39mStarting values:\u001b[39m\u001b[39m\\n\u001b[39;00m\u001b[39m{\u001b[39;00melem\u001b[39m}\u001b[39;00m\u001b[39m\\n\u001b[39;00m\u001b[39m\\n\u001b[39;00m\u001b[39m\"\u001b[39m\n\u001b[1;32m   1771\u001b[0m         \u001b[39mf\u001b[39m\u001b[39m\"\u001b[39m\u001b[39mInitial evaluation results:\u001b[39m\u001b[39m\\n\u001b[39;00m\u001b[39m{\u001b[39;00minitial_eval\u001b[39m}\u001b[39;00m\u001b[39m\"\u001b[39m\n\u001b[1;32m   1772\u001b[0m     )\n",
      "File \u001b[0;32m~/anaconda3/envs/pyhf_pymc/lib/python3.9/site-packages/pymc/model.py:1799\u001b[0m, in \u001b[0;36mModel.point_logps\u001b[0;34m(self, point, round_vals)\u001b[0m\n\u001b[1;32m   1793\u001b[0m factors \u001b[39m=\u001b[39m \u001b[39mself\u001b[39m\u001b[39m.\u001b[39mbasic_RVs \u001b[39m+\u001b[39m \u001b[39mself\u001b[39m\u001b[39m.\u001b[39mpotentials\n\u001b[1;32m   1794\u001b[0m factor_logps_fn \u001b[39m=\u001b[39m [at\u001b[39m.\u001b[39msum(factor) \u001b[39mfor\u001b[39;00m factor \u001b[39min\u001b[39;00m \u001b[39mself\u001b[39m\u001b[39m.\u001b[39mlogp(factors, \u001b[39msum\u001b[39m\u001b[39m=\u001b[39m\u001b[39mFalse\u001b[39;00m)]\n\u001b[1;32m   1795\u001b[0m \u001b[39mreturn\u001b[39;00m {\n\u001b[1;32m   1796\u001b[0m     factor\u001b[39m.\u001b[39mname: np\u001b[39m.\u001b[39mround(np\u001b[39m.\u001b[39masarray(factor_logp), round_vals)\n\u001b[1;32m   1797\u001b[0m     \u001b[39mfor\u001b[39;00m factor, factor_logp \u001b[39min\u001b[39;00m \u001b[39mzip\u001b[39m(\n\u001b[1;32m   1798\u001b[0m         factors,\n\u001b[0;32m-> 1799\u001b[0m         \u001b[39mself\u001b[39;49m\u001b[39m.\u001b[39;49mcompile_fn(factor_logps_fn)(point),\n\u001b[1;32m   1800\u001b[0m     )\n\u001b[1;32m   1801\u001b[0m }\n",
      "File \u001b[0;32m~/anaconda3/envs/pyhf_pymc/lib/python3.9/site-packages/pymc/pytensorf.py:764\u001b[0m, in \u001b[0;36mPointFunc.__call__\u001b[0;34m(self, state)\u001b[0m\n\u001b[1;32m    763\u001b[0m \u001b[39mdef\u001b[39;00m \u001b[39m__call__\u001b[39m(\u001b[39mself\u001b[39m, state):\n\u001b[0;32m--> 764\u001b[0m     \u001b[39mreturn\u001b[39;00m \u001b[39mself\u001b[39;49m\u001b[39m.\u001b[39;49mf(\u001b[39m*\u001b[39;49m\u001b[39m*\u001b[39;49mstate)\n",
      "File \u001b[0;32m~/anaconda3/envs/pyhf_pymc/lib/python3.9/site-packages/pytensor/compile/function/types.py:985\u001b[0m, in \u001b[0;36mFunction.__call__\u001b[0;34m(self, *args, **kwargs)\u001b[0m\n\u001b[1;32m    983\u001b[0m     \u001b[39mif\u001b[39;00m \u001b[39mhasattr\u001b[39m(\u001b[39mself\u001b[39m\u001b[39m.\u001b[39mvm, \u001b[39m\"\u001b[39m\u001b[39mthunks\u001b[39m\u001b[39m\"\u001b[39m):\n\u001b[1;32m    984\u001b[0m         thunk \u001b[39m=\u001b[39m \u001b[39mself\u001b[39m\u001b[39m.\u001b[39mvm\u001b[39m.\u001b[39mthunks[\u001b[39mself\u001b[39m\u001b[39m.\u001b[39mvm\u001b[39m.\u001b[39mposition_of_error]\n\u001b[0;32m--> 985\u001b[0m     raise_with_op(\n\u001b[1;32m    986\u001b[0m         \u001b[39mself\u001b[39;49m\u001b[39m.\u001b[39;49mmaker\u001b[39m.\u001b[39;49mfgraph,\n\u001b[1;32m    987\u001b[0m         node\u001b[39m=\u001b[39;49m\u001b[39mself\u001b[39;49m\u001b[39m.\u001b[39;49mvm\u001b[39m.\u001b[39;49mnodes[\u001b[39mself\u001b[39;49m\u001b[39m.\u001b[39;49mvm\u001b[39m.\u001b[39;49mposition_of_error],\n\u001b[1;32m    988\u001b[0m         thunk\u001b[39m=\u001b[39;49mthunk,\n\u001b[1;32m    989\u001b[0m         storage_map\u001b[39m=\u001b[39;49m\u001b[39mgetattr\u001b[39;49m(\u001b[39mself\u001b[39;49m\u001b[39m.\u001b[39;49mvm, \u001b[39m\"\u001b[39;49m\u001b[39mstorage_map\u001b[39;49m\u001b[39m\"\u001b[39;49m, \u001b[39mNone\u001b[39;49;00m),\n\u001b[1;32m    990\u001b[0m     )\n\u001b[1;32m    991\u001b[0m \u001b[39melse\u001b[39;00m:\n\u001b[1;32m    992\u001b[0m     \u001b[39m# old-style linkers raise their own exceptions\u001b[39;00m\n\u001b[1;32m    993\u001b[0m     \u001b[39mraise\u001b[39;00m\n",
      "File \u001b[0;32m~/anaconda3/envs/pyhf_pymc/lib/python3.9/site-packages/pytensor/link/utils.py:536\u001b[0m, in \u001b[0;36mraise_with_op\u001b[0;34m(fgraph, node, thunk, exc_info, storage_map)\u001b[0m\n\u001b[1;32m    531\u001b[0m     warnings\u001b[39m.\u001b[39mwarn(\n\u001b[1;32m    532\u001b[0m         \u001b[39mf\u001b[39m\u001b[39m\"\u001b[39m\u001b[39m{\u001b[39;00mexc_type\u001b[39m}\u001b[39;00m\u001b[39m error does not allow us to add an extra error message\u001b[39m\u001b[39m\"\u001b[39m\n\u001b[1;32m    533\u001b[0m     )\n\u001b[1;32m    534\u001b[0m     \u001b[39m# Some exception need extra parameter in inputs. So forget the\u001b[39;00m\n\u001b[1;32m    535\u001b[0m     \u001b[39m# extra long error message in that case.\u001b[39;00m\n\u001b[0;32m--> 536\u001b[0m \u001b[39mraise\u001b[39;00m exc_value\u001b[39m.\u001b[39mwith_traceback(exc_trace)\n",
      "File \u001b[0;32m~/anaconda3/envs/pyhf_pymc/lib/python3.9/site-packages/pytensor/compile/function/types.py:972\u001b[0m, in \u001b[0;36mFunction.__call__\u001b[0;34m(self, *args, **kwargs)\u001b[0m\n\u001b[1;32m    969\u001b[0m t0_fn \u001b[39m=\u001b[39m time\u001b[39m.\u001b[39mperf_counter()\n\u001b[1;32m    970\u001b[0m \u001b[39mtry\u001b[39;00m:\n\u001b[1;32m    971\u001b[0m     outputs \u001b[39m=\u001b[39m (\n\u001b[0;32m--> 972\u001b[0m         \u001b[39mself\u001b[39;49m\u001b[39m.\u001b[39;49mvm()\n\u001b[1;32m    973\u001b[0m         \u001b[39mif\u001b[39;00m output_subset \u001b[39mis\u001b[39;00m \u001b[39mNone\u001b[39;00m\n\u001b[1;32m    974\u001b[0m         \u001b[39melse\u001b[39;00m \u001b[39mself\u001b[39m\u001b[39m.\u001b[39mvm(output_subset\u001b[39m=\u001b[39moutput_subset)\n\u001b[1;32m    975\u001b[0m     )\n\u001b[1;32m    976\u001b[0m \u001b[39mexcept\u001b[39;00m \u001b[39mException\u001b[39;00m:\n\u001b[1;32m    977\u001b[0m     restore_defaults()\n",
      "File \u001b[0;32m~/anaconda3/envs/pyhf_pymc/lib/python3.9/site-packages/pytensor/graph/op.py:544\u001b[0m, in \u001b[0;36mOp.make_py_thunk.<locals>.rval\u001b[0;34m(p, i, o, n, params)\u001b[0m\n\u001b[1;32m    540\u001b[0m \u001b[39m@is_thunk_type\u001b[39m\n\u001b[1;32m    541\u001b[0m \u001b[39mdef\u001b[39;00m \u001b[39mrval\u001b[39m(\n\u001b[1;32m    542\u001b[0m     p\u001b[39m=\u001b[39mp, i\u001b[39m=\u001b[39mnode_input_storage, o\u001b[39m=\u001b[39mnode_output_storage, n\u001b[39m=\u001b[39mnode, params\u001b[39m=\u001b[39m\u001b[39mNone\u001b[39;00m\n\u001b[1;32m    543\u001b[0m ):\n\u001b[0;32m--> 544\u001b[0m     r \u001b[39m=\u001b[39m p(n, [x[\u001b[39m0\u001b[39;49m] \u001b[39mfor\u001b[39;49;00m x \u001b[39min\u001b[39;49;00m i], o)\n\u001b[1;32m    545\u001b[0m     \u001b[39mfor\u001b[39;00m o \u001b[39min\u001b[39;00m node\u001b[39m.\u001b[39moutputs:\n\u001b[1;32m    546\u001b[0m         compute_map[o][\u001b[39m0\u001b[39m] \u001b[39m=\u001b[39m \u001b[39mTrue\u001b[39;00m\n",
      "File \u001b[0;32m~/Documents/pyhf_pymc/src/pyhf_pymc/MH_inference.py:61\u001b[0m, in \u001b[0;36mExpDataOp.perform\u001b[0;34m(self, node, inputs, outputs)\u001b[0m\n\u001b[1;32m     59\u001b[0m \u001b[39mdef\u001b[39;00m \u001b[39mperform\u001b[39m(\u001b[39mself\u001b[39m, node, inputs, outputs):\n\u001b[1;32m     60\u001b[0m     (parameters, ) \u001b[39m=\u001b[39m inputs\n\u001b[0;32m---> 61\u001b[0m     results \u001b[39m=\u001b[39m processed_expData(parameters)\n\u001b[1;32m     63\u001b[0m     \u001b[39mif\u001b[39;00m \u001b[39mlen\u001b[39m(outputs) \u001b[39m==\u001b[39m \u001b[39m1\u001b[39m:\n\u001b[1;32m     64\u001b[0m             outputs[\u001b[39m0\u001b[39m][\u001b[39m0\u001b[39m] \u001b[39m=\u001b[39m np\u001b[39m.\u001b[39masarray(results)\n",
      "    \u001b[0;31m[... skipping hidden 12 frame]\u001b[0m\n",
      "File \u001b[0;32m~/Documents/pyhf_pymc/src/pyhf_pymc/MH_inference.py:48\u001b[0m, in \u001b[0;36mprocessed_expData\u001b[0;34m(parameters)\u001b[0m\n\u001b[1;32m     46\u001b[0m \u001b[39m@jax\u001b[39m\u001b[39m.\u001b[39mjit\n\u001b[1;32m     47\u001b[0m \u001b[39mdef\u001b[39;00m \u001b[39mprocessed_expData\u001b[39m(parameters):\n\u001b[0;32m---> 48\u001b[0m     a \u001b[39m=\u001b[39m jnp\u001b[39m.\u001b[39mstack([model\u001b[39m.\u001b[39mexpected_actualdata(parameters)[i] \u001b[39mfor\u001b[39;00m i \u001b[39min\u001b[39;00m \u001b[39mrange\u001b[39m(nBins)])\n\u001b[1;32m     49\u001b[0m     \u001b[39mreturn\u001b[39;00m a\n",
      "\u001b[0;31mNameError\u001b[0m: name 'nBins' is not defined\nApply node that caused the error: ExpDataOp(MakeVector{dtype='float64'}.0)\nToposort index: 23\nInputs types: [TensorType(float64, (17,))]\nInputs shapes: [(17,)]\nInputs strides: [(8,)]\nInputs values: ['not shown']\nOutputs clients: [[Elemwise{Composite{((i0 * sqr((i1 - i2))) - i3)}}(TensorConstant{(1,) of -0.5}, ExpData{[ 61.  61. 115.]}, ExpDataOp.0, TensorConstant{(1,) of 0...5332046727})]]\n\nBacktrace when the node is created (use PyTensor flag traceback__limit=N to make it longer):\n  File \"/Users/malinhorstmann/anaconda3/envs/pyhf_pymc/lib/python3.9/site-packages/IPython/core/async_helpers.py\", line 129, in _pseudo_sync_runner\n    coro.send(None)\n  File \"/Users/malinhorstmann/anaconda3/envs/pyhf_pymc/lib/python3.9/site-packages/IPython/core/interactiveshell.py\", line 3203, in run_cell_async\n    has_raised = await self.run_ast_nodes(code_ast.body, cell_name,\n  File \"/Users/malinhorstmann/anaconda3/envs/pyhf_pymc/lib/python3.9/site-packages/IPython/core/interactiveshell.py\", line 3382, in run_ast_nodes\n    if await self.run_code(code, result, async_=asy):\n  File \"/Users/malinhorstmann/anaconda3/envs/pyhf_pymc/lib/python3.9/site-packages/IPython/core/interactiveshell.py\", line 3442, in run_code\n    exec(code_obj, self.user_global_ns, self.user_ns)\n  File \"/var/folders/p9/sw_pjm3j027cxfs57s_91bfw0000gn/T/ipykernel_1110/3204394602.py\", line 1, in <module>\n    MetrHast_post_data, MetrHast_post_pred, MetrHast_prior_pred = MH_inference.sampling(prepared_model, 500)\n  File \"/Users/malinhorstmann/Documents/pyhf_pymc/src/pyhf_pymc/MH_inference.py\", line 88, in sampling\n    plt.legend(loc='upper left')\n  File \"/Users/malinhorstmann/anaconda3/envs/pyhf_pymc/lib/python3.9/site-packages/pytensor/graph/op.py\", line 296, in __call__\n    node = self.make_node(*inputs, **kwargs)\n  File \"/Users/malinhorstmann/Documents/pyhf_pymc/src/pyhf_pymc/MH_inference.py\", line 55, in make_node\n    Output:\n\nHINT: Use the PyTensor flag `exception_verbosity=high` for a debug print-out and storage map footprint of this Apply node."
     ]
    }
   ],
   "source": [
    "MetrHast_post_data, MetrHast_post_pred, MetrHast_prior_pred = MH_inference.sampling(prepared_model, 500)\n",
    "\n",
    "print(model.expected_actualdata(model.config.suggested_init()))\n",
    "az.summary(MetrHast_post_data)"
   ]
  },
  {
   "cell_type": "code",
   "execution_count": 150,
   "metadata": {},
   "outputs": [
    {
     "data": {
      "text/plain": [
       "<bound method Variable.eval of ExpDataOp.0>"
      ]
     },
     "execution_count": 150,
     "metadata": {},
     "output_type": "execute_result"
    }
   ],
   "source": [
    "import MH_inference\n",
    "test = MH_inference.ExpDataOp('test', processed_expData)\n",
    "test(pars).eval"
   ]
  },
  {
   "cell_type": "code",
   "execution_count": 166,
   "metadata": {},
   "outputs": [],
   "source": [
    "class ExpDataOp(pt.Op):\n",
    "    \"\"\"\n",
    "\n",
    "    \"\"\"\n",
    "    # itypes = [pt.dvector]  \n",
    "    # otypes = [pt.dvector]  \n",
    "\n",
    "    def make_node(self, parameters):\n",
    "        inputs = [pt.as_tensor_variable(parameters)]  \n",
    "        outputs = [pt.dvector]  \n",
    "\n",
    "        return Apply(self, inputs, outputs)\n",
    "\n",
    "    def perform(self, node, inputs, outputs):\n",
    "        ## Method that is used when calling the Op\n",
    "        (pars,) = inputs  # Contains my variables\n",
    "\n",
    "        ## Calling input function (in our case the model.expected_actualdata)\n",
    "        result = processed_expData(pars)\n",
    "\n",
    "        ## Output values of model.expected_actualdata\n",
    "        outputs[0][0] = np.asarray(result, dtype=node.outputs[0].dtype)"
   ]
  },
  {
   "cell_type": "code",
   "execution_count": 168,
   "metadata": {},
   "outputs": [
    {
     "ename": "TypeError",
     "evalue": "The 'outputs' argument to Apply must contain Variable instances with no owner, not TensorType(float64, (?,))",
     "output_type": "error",
     "traceback": [
      "\u001b[0;31m---------------------------------------------------------------------------\u001b[0m",
      "\u001b[0;31mTypeError\u001b[0m                                 Traceback (most recent call last)",
      "Cell \u001b[0;32mIn[168], line 2\u001b[0m\n\u001b[1;32m      1\u001b[0m expData_op \u001b[39m=\u001b[39m ExpDataOp()\n\u001b[0;32m----> 2\u001b[0m expData_op(model\u001b[39m.\u001b[39;49mconfig\u001b[39m.\u001b[39;49msuggested_init())\n",
      "File \u001b[0;32m~/anaconda3/envs/pyhf_pymc/lib/python3.9/site-packages/pytensor/graph/op.py:296\u001b[0m, in \u001b[0;36mOp.__call__\u001b[0;34m(self, *inputs, **kwargs)\u001b[0m\n\u001b[1;32m    254\u001b[0m \u001b[39mr\u001b[39m\u001b[39m\"\"\"Construct an `Apply` node using :meth:`Op.make_node` and return its outputs.\u001b[39;00m\n\u001b[1;32m    255\u001b[0m \n\u001b[1;32m    256\u001b[0m \u001b[39mThis method is just a wrapper around :meth:`Op.make_node`.\u001b[39;00m\n\u001b[0;32m   (...)\u001b[0m\n\u001b[1;32m    293\u001b[0m \n\u001b[1;32m    294\u001b[0m \u001b[39m\"\"\"\u001b[39;00m\n\u001b[1;32m    295\u001b[0m return_list \u001b[39m=\u001b[39m kwargs\u001b[39m.\u001b[39mpop(\u001b[39m\"\u001b[39m\u001b[39mreturn_list\u001b[39m\u001b[39m\"\u001b[39m, \u001b[39mFalse\u001b[39;00m)\n\u001b[0;32m--> 296\u001b[0m node \u001b[39m=\u001b[39m \u001b[39mself\u001b[39;49m\u001b[39m.\u001b[39;49mmake_node(\u001b[39m*\u001b[39;49minputs, \u001b[39m*\u001b[39;49m\u001b[39m*\u001b[39;49mkwargs)\n\u001b[1;32m    298\u001b[0m \u001b[39mif\u001b[39;00m config\u001b[39m.\u001b[39mcompute_test_value \u001b[39m!=\u001b[39m \u001b[39m\"\u001b[39m\u001b[39moff\u001b[39m\u001b[39m\"\u001b[39m:\n\u001b[1;32m    299\u001b[0m     compute_test_value(node)\n",
      "Cell \u001b[0;32mIn[166], line 12\u001b[0m, in \u001b[0;36mExpDataOp.make_node\u001b[0;34m(self, parameters)\u001b[0m\n\u001b[1;32m      9\u001b[0m inputs \u001b[39m=\u001b[39m [pt\u001b[39m.\u001b[39mas_tensor_variable(parameters)]  \n\u001b[1;32m     10\u001b[0m outputs \u001b[39m=\u001b[39m [pt\u001b[39m.\u001b[39mdvector]  \n\u001b[0;32m---> 12\u001b[0m \u001b[39mreturn\u001b[39;00m Apply(\u001b[39mself\u001b[39;49m, inputs, outputs)\n",
      "File \u001b[0;32m~/anaconda3/envs/pyhf_pymc/lib/python3.9/site-packages/pytensor/graph/basic.py:152\u001b[0m, in \u001b[0;36mApply.__init__\u001b[0;34m(self, op, inputs, outputs)\u001b[0m\n\u001b[1;32m    150\u001b[0m     \u001b[39mself\u001b[39m\u001b[39m.\u001b[39moutputs\u001b[39m.\u001b[39mappend(output)\n\u001b[1;32m    151\u001b[0m \u001b[39melse\u001b[39;00m:\n\u001b[0;32m--> 152\u001b[0m     \u001b[39mraise\u001b[39;00m \u001b[39mTypeError\u001b[39;00m(\n\u001b[1;32m    153\u001b[0m         \u001b[39mf\u001b[39m\u001b[39m\"\u001b[39m\u001b[39mThe \u001b[39m\u001b[39m'\u001b[39m\u001b[39moutputs\u001b[39m\u001b[39m'\u001b[39m\u001b[39m argument to Apply must contain Variable instances with no owner, not \u001b[39m\u001b[39m{\u001b[39;00moutput\u001b[39m}\u001b[39;00m\u001b[39m\"\u001b[39m\n\u001b[1;32m    154\u001b[0m     )\n",
      "\u001b[0;31mTypeError\u001b[0m: The 'outputs' argument to Apply must contain Variable instances with no owner, not TensorType(float64, (?,))"
     ]
    }
   ],
   "source": [
    "expData_op = ExpDataOp()\n",
    "expData_op(model.config.suggested_init())"
   ]
  },
  {
   "attachments": {},
   "cell_type": "markdown",
   "metadata": {},
   "source": [
    "## Plotting"
   ]
  },
  {
   "cell_type": "code",
   "execution_count": 43,
   "metadata": {},
   "outputs": [
    {
     "data": {
      "image/png": "[encoded data removed]",
      "text/plain": [
       "<Figure size 640x480 with 1 Axes>"
      ]
     },
     "metadata": {},
     "output_type": "display_data"
    }
   ],
   "source": [
    "# plt.step(np.linspace(0,nBins-1,nBins),prior_pred.prior_predictive.main[0].T, alpha = 0.01, c = 'steelblue', where = 'mid');\n",
    "# plt.vlines(np.arange(nBins),*np.quantile(prior_pred.prior_predictive.main[0],[.15,.85],axis=0), colors = 'steelblue', label='HMC prior');\n",
    "\n",
    "    ## Posterior predictive\n",
    "plt.step(np.linspace(0,nBins-1,nBins),post_pred.posterior_predictive.ExpData[0].T, alpha = 0.01, c = 'skyblue', where = 'mid');\n",
    "plt.vlines(np.arange(nBins),*np.quantile(post_pred.posterior_predictive.ExpData[0],[.15,.85],axis=0), colors = 'skyblue', label='HMC posterior')\n",
    "\n",
    "plt.step(np.linspace(0,nBins-1,nBins),MetrHast_post_pred.posterior_predictive.ExpData[0].T, alpha = 0.01, c = 'pink', where = 'mid');\n",
    "plt.vlines(np.arange(nBins),*np.quantile(MetrHast_post_pred.posterior_predictive.ExpData[0],[.15,.85],axis=0), colors = 'pink', label='MH posterior')\n",
    "\n",
    "    ## Observations\n",
    "plt.scatter(np.arange(nBins), obs, c = 'k',s=12, zorder = 999, label = \"Data\")\n",
    "plt.legend(loc='upper left')\n",
    "\n",
    "plt.title(f'HMC vs MH posterior sampling for the dummy model')\n",
    "# plt.title(f'HMC vs MH posterior sampling for ttbar')\n",
    "\n",
    "plt.savefig(f'HMC_MH_dummy')\n",
    "# plt.savefig(f'HMC_MH_ttbar')\n",
    "plt.show()"
   ]
  },
  {
   "attachments": {},
   "cell_type": "markdown",
   "metadata": {},
   "source": [
    "## Inference Quality"
   ]
  },
  {
   "cell_type": "code",
   "execution_count": null,
   "metadata": {},
   "outputs": [],
   "source": [
    "# az.plot_trace(post_data)\n",
    "# plt.savefig(\"HMC_traces_DisplacedLeptons\")\n",
    "# az.plot_trace(MetrHast_post_data)\n",
    "# plt.savefig(\"MH_traces_DisplacedLeptons\")\n",
    "\n",
    "# az.plot_autocorr(post_data)\n",
    "# plt.savefig(\"HMC_autocorr_DisplacedLeptons\")\n",
    "# az.plot_autocorr(MetrHast_post_data)\n",
    "# plt.savefig(\"MH_autocorr_DisplacedLeptons\")\n",
    "\n",
    "# az.plot_trace(post_data)\n",
    "# plt.savefig(\"HMC_traces_dummy\")\n",
    "# az.plot_trace(MetrHast_post_data)\n",
    "# plt.savefig(\"MH_traces_dummyr\")\n",
    "\n",
    "# az.plot_autocorr(post_data)\n",
    "# plt.savefig(\"HMC_autocorr_dummy\")\n",
    "# az.plot_autocorr(MetrHast_post_data)\n",
    "# plt.savefig(\"MH_autocorr_dummy\")"
   ]
  },
  {
   "cell_type": "code",
   "execution_count": 119,
   "metadata": {},
   "outputs": [],
   "source": [
    "@jax.jit\n",
    "def processed_expData(parameters):\n",
    "    a = jnp.stack([model.expected_actualdata(parameters)[i] for i in range(nBins)])\n",
    "    return a\n",
    "\n",
    "class ExpDataOp(pt.Op):\n",
    "    \n",
    "    def make_node(self, parameters):\n",
    "        inputs = [pt.as_tensor_variable(parameters)]\n",
    "        outputs = [pt.vector()]\n",
    "\n",
    "        return Apply(self, inputs, outputs)\n",
    "\n",
    "    def perform(self, node, inputs, outputs):\n",
    "        (parameters, ) = inputs\n",
    "        results = processed_expData(parameters)\n",
    "\n",
    "        if len(outputs) == 1:\n",
    "                outputs[0][0] = np.asarray(results)\n",
    "                return\n",
    "        for i, r in enumerate(results):\n",
    "                outputs[i][0] = np.asarray(r)"
   ]
  },
  {
   "cell_type": "code",
   "execution_count": 122,
   "metadata": {},
   "outputs": [
    {
     "data": {
      "text/plain": [
       "array([ 61.,  61., 115.])"
      ]
     },
     "execution_count": 122,
     "metadata": {},
     "output_type": "execute_result"
    }
   ],
   "source": [
    "exp_data_op = ExpDataOp()\n",
    "exp_data_op(model.config.suggested_init()).eval()"
   ]
  },
  {
   "cell_type": "code",
   "execution_count": null,
   "metadata": {},
   "outputs": [],
   "source": []
  }
 ],
 "metadata": {
  "kernelspec": {
   "display_name": "pyhf_pymc",
   "language": "python",
   "name": "python3"
  },
  "language_info": {
   "codemirror_mode": {
    "name": "ipython",
    "version": 3
   },
   "file_extension": ".py",
   "mimetype": "text/x-python",
   "name": "python",
   "nbconvert_exporter": "python",
   "pygments_lexer": "ipython3",
   "version": "3.9.16"
  },
  "orig_nbformat": 4
 },
 "nbformat": 4,
 "nbformat_minor": 2
}
