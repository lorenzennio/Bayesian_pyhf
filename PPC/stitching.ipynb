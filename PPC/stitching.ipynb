{
 "cells": [
  {
   "cell_type": "code",
   "execution_count": 1,
   "metadata": {},
   "outputs": [],
   "source": [
    "import numpy as np\n",
    "import scipy.stats as sps\n",
    "import matplotlib.pyplot as plt\n",
    "import json\n",
    "import time\n",
    "import pytensor \n",
    "import pymc as pm\n",
    "import arviz as az\n",
    "import jax\n",
    "import jax.numpy as jnp\n",
    "import pyhf\n",
    "pyhf.set_backend('jax')\n",
    "\n",
    "from jax import grad, jit, vmap, value_and_grad, random\n",
    "from pytensor import tensor as pt\n",
    "from pytensor.graph.basic import Apply\n",
    "from pytensor.graph import Apply, Op"
   ]
  },
  {
   "attachments": {},
   "cell_type": "markdown",
   "metadata": {},
   "source": [
    "# Study on the Parameter Priors"
   ]
  },
  {
   "attachments": {},
   "cell_type": "markdown",
   "metadata": {},
   "source": [
    "## Op"
   ]
  },
  {
   "cell_type": "code",
   "execution_count": 60,
   "metadata": {},
   "outputs": [],
   "source": [
    "### Class that creates the model Op\n",
    "class Op(pt.Op):\n",
    "    itypes = [pt.dvector]  # Expects a vector of parameter values\n",
    "    otypes = [pt.dvector]  # Outputs a vector of values (the model.expected_actualdata)\n",
    "\n",
    "    def __init__(self, name, func):\n",
    "        ## Add inputs as class attributes\n",
    "        self.func = func\n",
    "        self.name = name\n",
    "\n",
    "    def perform(self, node, inputs, outputs):\n",
    "        ## Method that is used when calling the Op\n",
    "        (theta,) = inputs  # Contains my variables\n",
    "\n",
    "        ## Calling input function (in our case the model.expected_actualdata)\n",
    "        result = self.func(theta)\n",
    "\n",
    "        ## Output values of model.expected_actualdata\n",
    "        outputs[0][0] = np.asarray(result, dtype=node.outputs[0].dtype)"
   ]
  },
  {
   "attachments": {},
   "cell_type": "markdown",
   "metadata": {},
   "source": [
    "## Dummy Example\n",
    "\n",
    "... Testing the stitching of parateters for a simple dummy model with one unconstrained parameter `mu`, one Gaussian constraint `uncorr_bkguncrt` and two Poisson constraints `corr_bkguncrt`. "
   ]
  },
  {
   "cell_type": "code",
   "execution_count": 63,
   "metadata": {},
   "outputs": [
    {
     "name": "stdout",
     "output_type": "stream",
     "text": [
      "{'corr_bkguncrt': {'slice': slice(0, 1, None), 'paramset': <pyhf.parameters.paramsets.constrained_by_normal object at 0x28b77d790>}, 'mu': {'slice': slice(1, 2, None), 'paramset': <pyhf.parameters.paramsets.unconstrained object at 0x28bcd4700>}, 'uncorr_bkguncrt': {'slice': slice(2, 4, None), 'paramset': <pyhf.parameters.paramsets.constrained_by_poisson object at 0x28bcd4520>}}\n",
      "['corr_bkguncrt', 'mu', 'uncorr_bkguncrt']\n"
     ]
    }
   ],
   "source": [
    "### Simple pyhf model with one gaussian and one poisson constraint\n",
    "model = pyhf.Model({'channels': [{'name': 'singlechannel',\n",
    "   'samples': [\n",
    "\n",
    "    {'name': 'background',\n",
    "     'data': [50,50],\n",
    "     'modifiers': [\n",
    "         {'name': 'uncorr_bkguncrt', 'type': 'shapesys','data': [5,5]},\n",
    "         {'name': 'corr_bkguncrt', 'type': 'histosys','data': {'hi_data': [55,65], 'lo_data': [45,40]}}]},\n",
    "                                \n",
    "    {'name': 'signal',\n",
    "     'data': [5,5],\n",
    "     'modifiers': [\n",
    "         {'name': 'mu', 'type': 'normfactor', 'data': None}]},\n",
    "                                 \n",
    "    ]}]}\n",
    ")\n",
    "\n",
    "obs = model.expected_actualdata(model.config.suggested_init())\n",
    "\n",
    "print(model.config.par_map)\n",
    "print(model.config.par_order)"
   ]
  },
  {
   "cell_type": "code",
   "execution_count": 59,
   "metadata": {},
   "outputs": [
    {
     "name": "stdout",
     "output_type": "stream",
     "text": [
      "[1.1 8.  9.  3. ]\n",
      "[8.  9.  1.1 3. ]\n"
     ]
    }
   ],
   "source": [
    "### Test array\n",
    "mu = np.array([1.1])\n",
    "corr = np.array([8, 9])\n",
    "uncorr = np.array([3])\n",
    "\n",
    "pars = np.concatenate([mu, uncorr, corr])\n",
    "print(test)\n",
    "\n",
    "### Stitching\n",
    "target = np.array([2, 3, 0, 1])\n",
    "stitched = pars[target.argsort()]\n",
    "print(stichted)"
   ]
  },
  {
   "attachments": {},
   "cell_type": "markdown",
   "metadata": {},
   "source": [
    "### PyMC Implementation"
   ]
  },
  {
   "cell_type": "code",
   "execution_count": 64,
   "metadata": {},
   "outputs": [
    {
     "name": "stderr",
     "output_type": "stream",
     "text": [
      "Multiprocess sampling (4 chains in 4 jobs)\n",
      "CompoundStep\n",
      ">Slice: [mu]\n",
      ">Slice: [dummy0]\n",
      ">Slice: [dummy1]\n",
      ">Slice: [dummy2]\n"
     ]
    },
    {
     "data": {
      "text/html": [
       "\n",
       "<style>\n",
       "    /* Turns off some styling */\n",
       "    progress {\n",
       "        /* gets rid of default border in Firefox and Opera. */\n",
       "        border: none;\n",
       "        /* Needs to be in here for Safari polyfill so background images work as expected. */\n",
       "        background-size: auto;\n",
       "    }\n",
       "    progress:not([value]), progress:not([value])::-webkit-progress-bar {\n",
       "        background: repeating-linear-gradient(45deg, #7e7e7e, #7e7e7e 10px, #5c5c5c 10px, #5c5c5c 20px);\n",
       "    }\n",
       "    .progress-bar-interrupted, .progress-bar-interrupted::-webkit-progress-bar {\n",
       "        background: #F44336;\n",
       "    }\n",
       "</style>\n"
      ],
      "text/plain": [
       "<IPython.core.display.HTML object>"
      ]
     },
     "metadata": {},
     "output_type": "display_data"
    },
    {
     "data": {
      "text/html": [
       "\n",
       "    <div>\n",
       "      <progress value='6000' class='' max='6000' style='width:300px; height:20px; vertical-align: middle;'></progress>\n",
       "      100.00% [6000/6000 00:01&lt;00:00 Sampling 4 chains, 0 divergences]\n",
       "    </div>\n",
       "    "
      ],
      "text/plain": [
       "<IPython.core.display.HTML object>"
      ]
     },
     "metadata": {},
     "output_type": "display_data"
    },
    {
     "name": "stderr",
     "output_type": "stream",
     "text": [
      "Sampling 4 chains for 1_000 tune and 500 draw iterations (4_000 + 2_000 draws total) took 1 seconds.\n",
      "Sampling: [dummy0, dummy1, dummy2, main, mu]\n",
      "Sampling: [main]\n"
     ]
    },
    {
     "data": {
      "text/html": [
       "\n",
       "<style>\n",
       "    /* Turns off some styling */\n",
       "    progress {\n",
       "        /* gets rid of default border in Firefox and Opera. */\n",
       "        border: none;\n",
       "        /* Needs to be in here for Safari polyfill so background images work as expected. */\n",
       "        background-size: auto;\n",
       "    }\n",
       "    progress:not([value]), progress:not([value])::-webkit-progress-bar {\n",
       "        background: repeating-linear-gradient(45deg, #7e7e7e, #7e7e7e 10px, #5c5c5c 10px, #5c5c5c 20px);\n",
       "    }\n",
       "    .progress-bar-interrupted, .progress-bar-interrupted::-webkit-progress-bar {\n",
       "        background: #F44336;\n",
       "    }\n",
       "</style>\n"
      ],
      "text/plain": [
       "<IPython.core.display.HTML object>"
      ]
     },
     "metadata": {},
     "output_type": "display_data"
    },
    {
     "data": {
      "text/html": [
       "\n",
       "    <div>\n",
       "      <progress value='2000' class='' max='2000' style='width:300px; height:20px; vertical-align: middle;'></progress>\n",
       "      100.00% [2000/2000 00:00&lt;00:00]\n",
       "    </div>\n",
       "    "
      ],
      "text/plain": [
       "<IPython.core.display.HTML object>"
      ]
     },
     "metadata": {},
     "output_type": "display_data"
    },
    {
     "name": "stdout",
     "output_type": "stream",
     "text": [
      "...............................................\n",
      "That took 4.04 seconds ...\n"
     ]
    }
   ],
   "source": [
    "### Applying the Op with arguments (function, name)\n",
    "mainOp = Op(\"mainOp\", jax.jit(model.expected_actualdata))\n",
    "\n",
    "### Specs\n",
    "nPars = 3\n",
    "N_prior = 500\n",
    "N_posterior = 500\n",
    "\n",
    "prior = \"gamma\"\n",
    "\n",
    "mu = 1\n",
    "sigma = 0.1\n",
    "alBet = 40\n",
    "\n",
    "### Opening the pyMC model space\n",
    "start_time = time.time()\n",
    "with pm.Model() as basic_model:\n",
    "    ## TensorVar input parameters\n",
    "    pars = [pm.Normal(\"mu\", mu=1, sigma=0.1)]\n",
    "    pars.extend(pm.Gamma(f\"dummy{idx}\", alpha=20, beta=20) for idx in range(nPars))\n",
    "    pars = pt.as_tensor_variable(pars)\n",
    "\n",
    "    ## Model for the model.expected_actualdata()\n",
    "    main = pm.Poisson(\"main\", mu=mainOp(pars), observed=obs)\n",
    "\n",
    "    ## Sampling ...\n",
    "    post_data = pm.sample(N_posterior)\n",
    "    prior_data = pm.sample_prior_predictive(N_prior)\n",
    "    post_pred = pm.sample_posterior_predictive(post_data)\n",
    "\n",
    "print(\"...............................................\")\n",
    "# print(f\"That took {(time.time() - start_time)/60} minutes ...\")\n",
    "dummyTime = round(time.time() - start_time, 3)\n",
    "print(f\"That took {dummyTime} seconds ...\")"
   ]
  },
  {
   "attachments": {},
   "cell_type": "markdown",
   "metadata": {},
   "source": [
    "## ttbar and DisplacedLeptons:"
   ]
  },
  {
   "cell_type": "code",
   "execution_count": 35,
   "metadata": {},
   "outputs": [],
   "source": [
    "### Choose the right .json file\n",
    "n = \"DisplacedLeptons\"\n",
    "\n",
    "if n == \"ttbar\":\n",
    "    with open(\"/Users/malinhorstmann/Documents/pyhf_pymc/PPC/ttbar_ljets_xsec_inclusive_pruned.json\") as serialized:\n",
    "        spec = json.load(serialized)\n",
    "    nBins = 37\n",
    "\n",
    "if n == \"DisplacedLeptons\":\n",
    "    with open(\"/Users/malinhorstmann/Documents/pyhf_pymc/PPC/SRee_SRmm_Srem.json\") as serialized:\n",
    "        spec = json.load(serialized)\n",
    "    nBins = 3\n",
    "\n",
    "\n",
    "### Create pyhf model\n",
    "workspace = pyhf.Workspace(spec)\n",
    "\n",
    "model = workspace.model()\n",
    "\n",
    "### Observations\n",
    "obs = model.expected_data(model.config.suggested_init())"
   ]
  },
  {
   "cell_type": "code",
   "execution_count": null,
   "metadata": {},
   "outputs": [],
   "source": []
  }
 ],
 "metadata": {
  "kernelspec": {
   "display_name": "pyhf_pymc",
   "language": "python",
   "name": "python3"
  },
  "language_info": {
   "codemirror_mode": {
    "name": "ipython",
    "version": 3
   },
   "file_extension": ".py",
   "mimetype": "text/x-python",
   "name": "python",
   "nbconvert_exporter": "python",
   "pygments_lexer": "ipython3",
   "version": "3.9.16"
  },
  "orig_nbformat": 4,
  "vscode": {
   "interpreter": {
    "hash": "44009b16d2e2eba83b85bbf6c42594a891bd8e72107454e9c42af2692a5b5216"
   }
  }
 },
 "nbformat": 4,
 "nbformat_minor": 2
}
