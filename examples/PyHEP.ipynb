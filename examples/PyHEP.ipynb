{
 "cells": [
  {
   "cell_type": "code",
   "execution_count": 1,
   "metadata": {},
   "outputs": [],
   "source": [
    "import numpy as np\n",
    "import scipy.stats as sps\n",
    "import matplotlib.pyplot as plt\n",
    "import corner\n",
    "import json\n",
    "# import cabinetry\n",
    "\n",
    "import pytensor\n",
    "from pytensor import tensor as pt\n",
    "from pytensor.graph.basic import Apply\n",
    "from pytensor.graph import Apply, Op\n",
    "\n",
    "import jax\n",
    "from jax import grad, jit, vmap, value_and_grad, random\n",
    "import jax.numpy as jnp\n",
    "\n",
    "import pyhf\n",
    "import pyhf\n",
    "from pyhf.contrib.viz import brazil\n",
    "# pyhf.set_backend('jax')\n",
    "\n",
    "import pymc as pm\n",
    "import arviz as az\n",
    "\n",
    "from Bayesian_pyhf import infer\n",
    "from Bayesian_pyhf import plotting\n",
    "\n",
    "%load_ext autoreload\n",
    "%autoreload "
   ]
  },
  {
   "cell_type": "code",
   "execution_count": 2,
   "metadata": {},
   "outputs": [],
   "source": [
    "blue = '#7CA1CC' # '#A8B6CC'\n",
    "rosa =  '#E57A77'"
   ]
  },
  {
   "cell_type": "code",
   "execution_count": 3,
   "metadata": {},
   "outputs": [],
   "source": [
    "with open(f'ttbar_ljets_xsec_inclusive_pruned.json') as serialized:\n",
    "    spec = json.load(serialized)\n",
    "\n",
    "workspace = pyhf.Workspace(spec)\n",
    "workspace\n",
    "\n",
    "model = workspace.model()\n",
    "\n",
    "data = workspace.data(model, include_auxdata=False)\n",
    "\n",
    "unconstr_priors = {\n",
    "    'ttbarXsec': {'type': 'HalfNormal_Unconstrained', 'sigma': [0.4]}\n",
    "}\n",
    "\n",
    "act_aux_data = workspace.data(model)\n",
    "n_draws = 20_000"
   ]
  },
  {
   "cell_type": "code",
   "execution_count": 4,
   "metadata": {},
   "outputs": [
    {
     "name": "stderr",
     "output_type": "stream",
     "text": [
      "Sampling: [Expected_Data, JET_BJES_Response, JET_EffectiveNP_Detector1, JET_EffectiveNP_Mixed1, JET_EffectiveNP_Mixed2, JET_EffectiveNP_Modelling1, JET_EffectiveNP_Modelling2, JET_EffectiveNP_Modelling3, JET_EffectiveNP_Statistical1, JET_EffectiveNP_Statistical2, JET_EtaIntercalibration_Modelling, JET_EtaIntercalibration_TotalStat, JET_Flavor_Composition, JET_Flavor_Response, JET_JER_DataVsMC, JET_JER_NP1, JET_JER_NP2, JET_JER_NP3, JET_JER_NP4, JET_JER_NP5, JET_JER_NP6, JET_JER_NP7, JET_Pileup_OffsetMu, JET_Pileup_OffsetNPV, JET_Pileup_RhoTopology, Lumi, MET_SoftTrk_ResoPara, MET_SoftTrk_ResoPerp, MET_SoftTrk_Scale, MultijetNorm_SR1_ejets, MultijetNorm_SR1_mujets, MultijetNorm_SR2_ejets, MultijetNorm_SR2_mujets, MultijetNorm_SR3_ejets, MultijetNorm_SR3_mujets, MultijetShape_SR1_mujets, MultijetShape_SR2_ejets, MultijetShape_SR2_mujets, MultijetShape_SR3_ejets, MultijetShape_SR3_mujets, OtherNorm, STop_DR_DS_Model, STop_FSR_Model, STop_ISR_Model_Var3c, STop_ISR_Model_muF, STop_ISR_Model_muR, STop_Shower_Model, SingleTopXsec, WjetsNorm_1b, WjetsNorm_2b, Wjets_scale, eg_resolution_all, eg_scale_all, lumi, staterror_SR1, staterror_SR2, staterror_SR3, ttX_Xsec, ttbarXsec, ttbar_FSR_Model_SR1, ttbar_FSR_Model_SR2, ttbar_FSR_Model_SR3, ttbar_ISR_Model_Var3c_SR1, ttbar_ISR_Model_Var3c_SR2, ttbar_ISR_Model_Var3c_SR3, ttbar_ISR_Model_hdamp, ttbar_ISR_Model_muF_SR1, ttbar_ISR_Model_muF_SR2, ttbar_ISR_Model_muF_SR3, ttbar_ISR_Model_muR_SR1, ttbar_ISR_Model_muR_SR2, ttbar_ISR_Model_muR_SR3, ttbar_Reweighting, ttbar_Shower_Model_Acc, ttbar_Shower_Model_Migration, ttbar_Shower_Model_Shape_SR1, ttbar_Shower_Model_Shape_SR2, ttbar_Shower_Model_Shape_SR3, weight_bTagSF_MV2c10_Continuous_eigenvars_B_0, weight_bTagSF_MV2c10_Continuous_eigenvars_B_1, weight_bTagSF_MV2c10_Continuous_eigenvars_B_2, weight_bTagSF_MV2c10_Continuous_eigenvars_B_3, weight_bTagSF_MV2c10_Continuous_eigenvars_B_4, weight_bTagSF_MV2c10_Continuous_eigenvars_C_0, weight_bTagSF_MV2c10_Continuous_eigenvars_C_1, weight_bTagSF_MV2c10_Continuous_eigenvars_C_2, weight_bTagSF_MV2c10_Continuous_eigenvars_Light_0, weight_bTagSF_MV2c10_Continuous_eigenvars_Light_1, weight_bTagSF_MV2c10_Continuous_eigenvars_Light_2, weight_jvt, weight_leptonSF_EL_SF_ID, weight_leptonSF_EL_SF_Isol, weight_leptonSF_EL_SF_Reco, weight_leptonSF_EL_SF_Trigger, weight_leptonSF_MU_SF_ID_SYST, weight_leptonSF_MU_SF_Isol_SYST, weight_leptonSF_MU_SF_Trigger_STAT, weight_leptonSF_MU_SF_Trigger_SYST, weight_pileup]\n"
     ]
    }
   ],
   "source": [
    "n_draws = 100\n",
    "\n",
    "with infer.model(model, unconstr_priors, data):\n",
    "    # step = pm.Metropolis()\n",
    "    # post_data = pm.sample(draws=n_draws, chains=1) #, step=step)\n",
    "    # post_pred = pm.sample_posterior_predictive(post_data)\n",
    "    prior_pred = pm.sample_prior_predictive(n_draws)"
   ]
  },
  {
   "cell_type": "code",
   "execution_count": 5,
   "metadata": {},
   "outputs": [
    {
     "name": "stderr",
     "output_type": "stream",
     "text": [
      "Only 100 samples in chain.\n"
     ]
    }
   ],
   "source": [
    "n_draws = 100\n",
    "\n",
    "with infer.model(model, unconstr_priors, data):\n",
    "    post_data = pm.sample(draws=100, tune=10)"
   ]
  },
  {
   "cell_type": "code",
   "execution_count": null,
   "metadata": {},
   "outputs": [],
   "source": []
  }
 ],
 "metadata": {
  "kernelspec": {
   "display_name": "Bayesian_substitute",
   "language": "python",
   "name": "python3"
  },
  "language_info": {
   "codemirror_mode": {
    "name": "ipython",
    "version": 3
   },
   "file_extension": ".py",
   "mimetype": "text/x-python",
   "name": "python",
   "nbconvert_exporter": "python",
   "pygments_lexer": "ipython3",
   "version": "3.11.4"
  },
  "orig_nbformat": 4
 },
 "nbformat": 4,
 "nbformat_minor": 2
}
