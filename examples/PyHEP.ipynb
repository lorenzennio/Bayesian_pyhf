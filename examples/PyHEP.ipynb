{
 "cells": [
  {
   "cell_type": "code",
   "execution_count": 1,
   "metadata": {},
   "outputs": [],
   "source": [
    "import numpy as np\n",
    "import scipy.stats as sps\n",
    "import matplotlib.pyplot as plt\n",
    "import corner\n",
    "import json\n",
    "# import cabinetry\n",
    "\n",
    "import pytensor\n",
    "from pytensor import tensor as pt\n",
    "from pytensor.graph.basic import Apply\n",
    "from pytensor.graph import Apply, Op\n",
    "\n",
    "import jax\n",
    "from jax import grad, jit, vmap, value_and_grad, random\n",
    "import jax.numpy as jnp\n",
    "\n",
    "import pyhf\n",
    "import pyhf\n",
    "from pyhf.contrib.viz import brazil\n",
    "# pyhf.set_backend('jax')\n",
    "\n",
    "import pymc as pm\n",
    "import arviz as az\n",
    "\n",
    "from Bayesian_pyhf import infer\n",
    "from Bayesian_pyhf import plotting\n",
    "\n",
    "%load_ext autoreload\n",
    "%autoreload "
   ]
  },
  {
   "cell_type": "code",
   "execution_count": 2,
   "metadata": {},
   "outputs": [],
   "source": [
    "blue = '#7CA1CC' # '#A8B6CC'\n",
    "rosa =  '#E57A77'"
   ]
  },
  {
   "cell_type": "code",
   "execution_count": 3,
   "metadata": {},
   "outputs": [],
   "source": [
    "with open(f'ttbar_ljets_xsec_inclusive_pruned.json') as serialized:\n",
    "    spec = json.load(serialized)\n",
    "\n",
    "workspace = pyhf.Workspace(spec)\n",
    "workspace\n",
    "\n",
    "model = workspace.model()\n",
    "\n",
    "data = workspace.data(model, include_auxdata=False)\n",
    "\n",
    "unconstr_priors = {\n",
    "    'ttbarXsec': {'type': 'HalfNormal_Unconstrained', 'sigma': [0.4]}\n",
    "}\n",
    "\n",
    "act_aux_data = workspace.data(model)\n",
    "n_draws = 20_000"
   ]
  },
  {
   "cell_type": "code",
   "execution_count": 4,
   "metadata": {},
   "outputs": [
    {
     "name": "stderr",
     "output_type": "stream",
     "text": [
      "Sampling: [Expected_Data, JET_BJES_Response, JET_EffectiveNP_Detector1, JET_EffectiveNP_Mixed1, JET_EffectiveNP_Mixed2, JET_EffectiveNP_Modelling1, JET_EffectiveNP_Modelling2, JET_EffectiveNP_Modelling3, JET_EffectiveNP_Statistical1, JET_EffectiveNP_Statistical2, JET_EtaIntercalibration_Modelling, JET_EtaIntercalibration_TotalStat, JET_Flavor_Composition, JET_Flavor_Response, JET_JER_DataVsMC, JET_JER_NP1, JET_JER_NP2, JET_JER_NP3, JET_JER_NP4, JET_JER_NP5, JET_JER_NP6, JET_JER_NP7, JET_Pileup_OffsetMu, JET_Pileup_OffsetNPV, JET_Pileup_RhoTopology, Lumi, MET_SoftTrk_ResoPara, MET_SoftTrk_ResoPerp, MET_SoftTrk_Scale, MultijetNorm_SR1_ejets, MultijetNorm_SR1_mujets, MultijetNorm_SR2_ejets, MultijetNorm_SR2_mujets, MultijetNorm_SR3_ejets, MultijetNorm_SR3_mujets, MultijetShape_SR1_mujets, MultijetShape_SR2_ejets, MultijetShape_SR2_mujets, MultijetShape_SR3_ejets, MultijetShape_SR3_mujets, OtherNorm, STop_DR_DS_Model, STop_FSR_Model, STop_ISR_Model_Var3c, STop_ISR_Model_muF, STop_ISR_Model_muR, STop_Shower_Model, SingleTopXsec, WjetsNorm_1b, WjetsNorm_2b, Wjets_scale, eg_resolution_all, eg_scale_all, lumi, staterror_SR1, staterror_SR2, staterror_SR3, ttX_Xsec, ttbarXsec, ttbar_FSR_Model_SR1, ttbar_FSR_Model_SR2, ttbar_FSR_Model_SR3, ttbar_ISR_Model_Var3c_SR1, ttbar_ISR_Model_Var3c_SR2, ttbar_ISR_Model_Var3c_SR3, ttbar_ISR_Model_hdamp, ttbar_ISR_Model_muF_SR1, ttbar_ISR_Model_muF_SR2, ttbar_ISR_Model_muF_SR3, ttbar_ISR_Model_muR_SR1, ttbar_ISR_Model_muR_SR2, ttbar_ISR_Model_muR_SR3, ttbar_Reweighting, ttbar_Shower_Model_Acc, ttbar_Shower_Model_Migration, ttbar_Shower_Model_Shape_SR1, ttbar_Shower_Model_Shape_SR2, ttbar_Shower_Model_Shape_SR3, weight_bTagSF_MV2c10_Continuous_eigenvars_B_0, weight_bTagSF_MV2c10_Continuous_eigenvars_B_1, weight_bTagSF_MV2c10_Continuous_eigenvars_B_2, weight_bTagSF_MV2c10_Continuous_eigenvars_B_3, weight_bTagSF_MV2c10_Continuous_eigenvars_B_4, weight_bTagSF_MV2c10_Continuous_eigenvars_C_0, weight_bTagSF_MV2c10_Continuous_eigenvars_C_1, weight_bTagSF_MV2c10_Continuous_eigenvars_C_2, weight_bTagSF_MV2c10_Continuous_eigenvars_Light_0, weight_bTagSF_MV2c10_Continuous_eigenvars_Light_1, weight_bTagSF_MV2c10_Continuous_eigenvars_Light_2, weight_jvt, weight_leptonSF_EL_SF_ID, weight_leptonSF_EL_SF_Isol, weight_leptonSF_EL_SF_Reco, weight_leptonSF_EL_SF_Trigger, weight_leptonSF_MU_SF_ID_SYST, weight_leptonSF_MU_SF_Isol_SYST, weight_leptonSF_MU_SF_Trigger_STAT, weight_leptonSF_MU_SF_Trigger_SYST, weight_pileup]\n"
     ]
    }
   ],
   "source": [
    "n_draws = 100\n",
    "\n",
    "with infer.model(model, unconstr_priors, data):\n",
    "    # step = pm.Metropolis()\n",
    "    # post_data = pm.sample(draws=n_draws, chains=1) #, step=step)\n",
    "    # post_pred = pm.sample_posterior_predictive(post_data)\n",
    "    prior_pred = pm.sample_prior_predictive(n_draws)"
   ]
  },
  {
   "cell_type": "code",
   "execution_count": 5,
   "metadata": {},
   "outputs": [
    {
     "name": "stderr",
     "output_type": "stream",
     "text": [
      "Only 100 samples in chain.\n",
      "Multiprocess sampling (4 chains in 4 jobs)\n",
      "CompoundStep\n",
      ">Metropolis: [JET_JER_DataVsMC]\n",
      ">Metropolis: [JET_JER_NP1]\n",
      ">Metropolis: [JET_JER_NP2]\n",
      ">Metropolis: [JET_JER_NP3]\n",
      ">Metropolis: [JET_JER_NP4]\n",
      ">Metropolis: [JET_JER_NP7]\n",
      ">Metropolis: [weight_bTagSF_MV2c10_Continuous_eigenvars_C_0]\n",
      ">Metropolis: [weight_bTagSF_MV2c10_Continuous_eigenvars_C_1]\n",
      ">Metropolis: [weight_bTagSF_MV2c10_Continuous_eigenvars_Light_0]\n",
      ">Metropolis: [weight_bTagSF_MV2c10_Continuous_eigenvars_Light_1]\n",
      ">Metropolis: [weight_jvt]\n",
      ">Metropolis: [weight_pileup]\n",
      ">Metropolis: [MultijetNorm_SR1_ejets]\n",
      ">Metropolis: [MultijetNorm_SR1_mujets]\n",
      ">Metropolis: [MultijetShape_SR1_mujets]\n",
      ">Metropolis: [JET_EtaIntercalibration_Modelling]\n",
      ">Metropolis: [JET_Flavor_Response]\n",
      ">Metropolis: [JET_Pileup_RhoTopology]\n",
      ">Metropolis: [ttbar_FSR_Model_SR1]\n",
      ">Metropolis: [ttbar_ISR_Model_Var3c_SR1]\n",
      ">Metropolis: [ttbar_ISR_Model_hdamp]\n",
      ">Metropolis: [ttbar_ISR_Model_muF_SR1]\n",
      ">Metropolis: [ttbar_ISR_Model_muR_SR1]\n",
      ">Metropolis: [ttbar_Reweighting]\n",
      ">Metropolis: [ttbar_Shower_Model_Shape_SR1]\n",
      ">Metropolis: [STop_DR_DS_Model]\n",
      ">Metropolis: [STop_FSR_Model]\n",
      ">Metropolis: [STop_ISR_Model_Var3c]\n",
      ">Metropolis: [STop_ISR_Model_muF]\n",
      ">Metropolis: [STop_ISR_Model_muR]\n",
      ">Metropolis: [STop_Shower_Model]\n",
      ">Metropolis: [JET_JER_NP5]\n",
      ">Metropolis: [JET_JER_NP6]\n",
      ">Metropolis: [weight_bTagSF_MV2c10_Continuous_eigenvars_Light_2]\n",
      ">Metropolis: [JET_EffectiveNP_Modelling1]\n",
      ">Metropolis: [weight_bTagSF_MV2c10_Continuous_eigenvars_B_0]\n",
      ">Metropolis: [weight_bTagSF_MV2c10_Continuous_eigenvars_B_4]\n",
      ">Metropolis: [weight_leptonSF_EL_SF_ID]\n",
      ">Metropolis: [weight_leptonSF_MU_SF_ID_SYST]\n",
      ">Metropolis: [weight_leptonSF_MU_SF_Trigger_SYST]\n",
      ">Metropolis: [MultijetNorm_SR2_ejets]\n",
      ">Metropolis: [MultijetNorm_SR2_mujets]\n",
      ">Metropolis: [MultijetShape_SR2_ejets]\n",
      ">Metropolis: [MultijetShape_SR2_mujets]\n",
      ">Metropolis: [JET_BJES_Response]\n",
      ">Metropolis: [JET_EffectiveNP_Mixed1]\n",
      ">Metropolis: [JET_EffectiveNP_Mixed2]\n",
      ">Metropolis: [JET_Pileup_OffsetMu]\n",
      ">Metropolis: [JET_Pileup_OffsetNPV]\n",
      ">Metropolis: [MET_SoftTrk_ResoPara]\n",
      ">Metropolis: [MET_SoftTrk_ResoPerp]\n",
      ">Metropolis: [eg_scale_all]\n",
      ">Metropolis: [ttbar_FSR_Model_SR2]\n",
      ">Metropolis: [ttbar_ISR_Model_Var3c_SR2]\n",
      ">Metropolis: [ttbar_ISR_Model_muF_SR2]\n",
      ">Metropolis: [ttbar_ISR_Model_muR_SR2]\n",
      ">Metropolis: [ttbar_Shower_Model_Shape_SR2]\n",
      ">Metropolis: [weight_bTagSF_MV2c10_Continuous_eigenvars_B_2]\n",
      ">Metropolis: [weight_bTagSF_MV2c10_Continuous_eigenvars_B_3]\n",
      ">Metropolis: [weight_bTagSF_MV2c10_Continuous_eigenvars_C_2]\n",
      ">Metropolis: [MultijetNorm_SR3_ejets]\n",
      ">Metropolis: [MultijetNorm_SR3_mujets]\n",
      ">Metropolis: [MultijetShape_SR3_ejets]\n",
      ">Metropolis: [MultijetShape_SR3_mujets]\n",
      ">Metropolis: [ttbar_FSR_Model_SR3]\n",
      ">Metropolis: [ttbar_ISR_Model_Var3c_SR3]\n",
      ">Metropolis: [ttbar_ISR_Model_muF_SR3]\n",
      ">Metropolis: [ttbar_ISR_Model_muR_SR3]\n",
      ">Metropolis: [ttbar_Shower_Model_Shape_SR3]\n",
      ">Metropolis: [Wjets_scale]\n",
      ">Metropolis: [weight_bTagSF_MV2c10_Continuous_eigenvars_B_1]\n",
      ">Metropolis: [lumi]\n",
      ">Metropolis: [ttbarXsec]\n",
      ">Metropolis: [JET_EffectiveNP_Detector1]\n",
      ">Metropolis: [JET_EffectiveNP_Modelling2]\n",
      ">Metropolis: [JET_EffectiveNP_Modelling3]\n",
      ">Metropolis: [JET_EffectiveNP_Statistical1]\n",
      ">Metropolis: [JET_EffectiveNP_Statistical2]\n",
      ">Metropolis: [JET_EtaIntercalibration_TotalStat]\n",
      ">Metropolis: [JET_Flavor_Composition]\n",
      ">Metropolis: [Lumi]\n",
      ">Metropolis: [MET_SoftTrk_Scale]\n",
      ">Metropolis: [OtherNorm]\n",
      ">Metropolis: [weight_leptonSF_EL_SF_Isol]\n",
      ">Metropolis: [weight_leptonSF_EL_SF_Reco]\n",
      ">Metropolis: [weight_leptonSF_EL_SF_Trigger]\n",
      ">Metropolis: [weight_leptonSF_MU_SF_Isol_SYST]\n",
      ">Metropolis: [weight_leptonSF_MU_SF_Trigger_STAT]\n",
      ">Metropolis: [ttbar_Shower_Model_Acc]\n",
      ">Metropolis: [ttbar_Shower_Model_Migration]\n",
      ">Metropolis: [SingleTopXsec]\n",
      ">Metropolis: [WjetsNorm_1b]\n",
      ">Metropolis: [ttX_Xsec]\n",
      ">Metropolis: [eg_resolution_all]\n",
      ">Metropolis: [WjetsNorm_2b]\n",
      ">Metropolis: [staterror_SR1]\n",
      ">Metropolis: [staterror_SR2]\n",
      ">Metropolis: [staterror_SR3]\n"
     ]
    },
    {
     "data": {
      "text/html": [
       "\n",
       "<style>\n",
       "    /* Turns off some styling */\n",
       "    progress {\n",
       "        /* gets rid of default border in Firefox and Opera. */\n",
       "        border: none;\n",
       "        /* Needs to be in here for Safari polyfill so background images work as expected. */\n",
       "        background-size: auto;\n",
       "    }\n",
       "    progress:not([value]), progress:not([value])::-webkit-progress-bar {\n",
       "        background: repeating-linear-gradient(45deg, #7e7e7e, #7e7e7e 10px, #5c5c5c 10px, #5c5c5c 20px);\n",
       "    }\n",
       "    .progress-bar-interrupted, .progress-bar-interrupted::-webkit-progress-bar {\n",
       "        background: #F44336;\n",
       "    }\n",
       "</style>\n"
      ],
      "text/plain": [
       "<IPython.core.display.HTML object>"
      ]
     },
     "metadata": {},
     "output_type": "display_data"
    },
    {
     "data": {
      "text/html": [
       "\n",
       "    <div>\n",
       "      <progress value='440' class='' max='440' style='width:300px; height:20px; vertical-align: middle;'></progress>\n",
       "      100.00% [440/440 00:47&lt;00:00 Sampling 4 chains, 0 divergences]\n",
       "    </div>\n",
       "    "
      ],
      "text/plain": [
       "<IPython.core.display.HTML object>"
      ]
     },
     "metadata": {},
     "output_type": "display_data"
    },
    {
     "name": "stderr",
     "output_type": "stream",
     "text": [
      "/home/iwsatlas1/mhorstm/.local/lib/python3.11/site-packages/pymc/step_methods/metropolis.py:285: RuntimeWarning: overflow encountered in exp\n",
      "  \"accept\": np.mean(np.exp(self.accept_rate_iter)),\n",
      "/home/iwsatlas1/mhorstm/.local/lib/python3.11/site-packages/pymc/step_methods/metropolis.py:285: RuntimeWarning: overflow encountered in exp\n",
      "  \"accept\": np.mean(np.exp(self.accept_rate_iter)),\n",
      "/home/iwsatlas1/mhorstm/.local/lib/python3.11/site-packages/pymc/step_methods/metropolis.py:285: RuntimeWarning: overflow encountered in exp\n",
      "  \"accept\": np.mean(np.exp(self.accept_rate_iter)),\n",
      "/home/iwsatlas1/mhorstm/.local/lib/python3.11/site-packages/pymc/step_methods/metropolis.py:285: RuntimeWarning: overflow encountered in exp\n",
      "  \"accept\": np.mean(np.exp(self.accept_rate_iter)),\n",
      "Sampling 4 chains for 10 tune and 100 draw iterations (40 + 400 draws total) took 47 seconds.\n",
      "The rhat statistic is larger than 1.01 for some parameters. This indicates problems during sampling. See https://arxiv.org/abs/1903.08008 for details\n",
      "The effective sample size per chain is smaller than 100 for some parameters.  A higher number is needed for reliable rhat and ess computation. See https://arxiv.org/abs/1903.08008 for details\n"
     ]
    }
   ],
   "source": [
    "n_draws = 100\n",
    "\n",
    "with infer.model(model, unconstr_priors, data):\n",
    "    post_data = pm.sample(draws=100, tune=10)"
   ]
  },
  {
   "cell_type": "code",
   "execution_count": null,
   "metadata": {},
   "outputs": [],
   "source": []
  }
 ],
 "metadata": {
  "kernelspec": {
   "display_name": "Bayesian_substitute",
   "language": "python",
   "name": "python3"
  },
  "language_info": {
   "codemirror_mode": {
    "name": "ipython",
    "version": 3
   },
   "file_extension": ".py",
   "mimetype": "text/x-python",
   "name": "python",
   "nbconvert_exporter": "python",
   "pygments_lexer": "ipython3",
   "version": "3.11.4"
  },
  "orig_nbformat": 4
 },
 "nbformat": 4,
 "nbformat_minor": 2
}
