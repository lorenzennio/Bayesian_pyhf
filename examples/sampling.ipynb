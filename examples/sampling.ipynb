{
 "cells": [
  {
   "cell_type": "code",
   "execution_count": 1,
   "metadata": {},
   "outputs": [
    {
     "name": "stderr",
     "output_type": "stream",
     "text": [
      "WARNING (pytensor.tensor.blas): Using NumPy C-API based implementation for BLAS functions.\n"
     ]
    }
   ],
   "source": [
    "import numpy as np\n",
    "import matplotlib.pyplot as plt\n",
    "import corner\n",
    "import json\n",
    "\n",
    "import pytensor\n",
    "from pytensor import tensor as pt\n",
    "from pytensor.graph.basic import Apply\n",
    "from pytensor.graph import Apply, Op\n",
    "from pytensor.tensor.type import TensorType\n",
    "\n",
    "import jax\n",
    "from jax import grad, jit, vmap, value_and_grad, random\n",
    "import jax.numpy as jnp\n",
    "\n",
    "import pyhf\n",
    "pyhf.set_backend('jax')\n",
    "\n",
    "import pymc as pm\n",
    "import arviz as az\n",
    "\n",
<<<<<<< HEAD
    "import pyhf_pymc\n",
    "\n",
    "from pyhf_pymc import prepare_inference\n",
    "# from pyhf_pymc import MH_inference\n",
    "# from pyhf_pymc import HMC_inference\n"
=======
    "# import MH_inference\n",
    "# import HMC_inference\n",
    "from pyhf_pymc import prepare_inference\n"
>>>>>>> 9172949 (added options for multiple unconstrained pars)
   ]
  },
  {
   "attachments": {},
   "cell_type": "markdown",
   "metadata": {},
   "source": [
    "## Model"
   ]
  },
  {
   "cell_type": "code",
   "execution_count": 2,
   "metadata": {},
   "outputs": [],
   "source": [
    "### Simple pyhf model\n",
    "model = pyhf.Model(\n",
    "    {'channels': [{'name': 'singlechannel',\n",
    "    'samples': [\n",
    "    {'name': 'signal',\n",
    "     'data': [6, 6, 10],\n",
    "     'modifiers': [\n",
    "         {'name': 'mu', 'type': 'normfactor', 'data': None},\n",
    "         {'name': 'mu1', 'type': 'normfactor', 'data': None}\n",
    "        ]},\n",
    "\n",
    "    {'name': 'background',\n",
    "     'data': [550, 550, 550]\n",
    "     ,\n",
    "     'modifiers': [\n",
    "        ## Staterror / Normal\n",
    "        {\"name\": \"my_staterror\",\"type\": \"staterror\",\"data\": [2.0, 2.0, 2.0],},\n",
    "        {\"name\": \"my_staterror1\",\"type\": \"staterror\",\"data\": [2.0, 2.0, 2.0],},\n",
    "        {\"name\": \"my_staterror2\",\"type\": \"staterror\",\"data\": [2.0, 2.0, 2.0],},\n",
    "        ## Lumi / Normal\n",
    "        {'name': 'lumi', 'type': 'lumi', 'data': None},\n",
    "        ## Correlated / Normal\n",
<<<<<<< HEAD
    "        {'name': 'corr_bkg', 'type': 'histosys','data': {'hi_data': [650, 560, 670], 'lo_data': [400, 400, 430]}},\n",
=======
    "        {'name': 'corr_bkg', 'type': 'histosys','data': {'hi_data': [650, 560, 670], 'lo_data': [40, 40, 43]}},\n",
>>>>>>> 9172949 (added options for multiple unconstrained pars)
    "        {'name': 'corr_bkg1', 'type': 'histosys','data': {'hi_data': [650, 506, 670], 'lo_data': [400, 400, 430]}},\n",
    "        {'name': 'corr_bkg2', 'type': 'histosys','data': {'hi_data': [650, 560, 670], 'lo_data': [400, 400, 430]}},\n",
    "        # ## Uncorrelated / Poisson\n",
    "        {'name': 'uncorr_bkg', 'type': 'shapesys','data': [7, 8, 7.17]},\n",
    "        {'name': 'uncorr_bkg1', 'type': 'shapesys','data': [7, 8, 7.17]},\n",
    "        {'name': 'uncorr_bkg2', 'type': 'shapesys','data': [7, 8, 7.17]},\n",
    "        {'name': 'uncorr_bkg3', 'type': 'shapesys','data': [7, 8, 7.17]},\n",
    "        {'name': 'uncorr_bkg4', 'type': 'shapesys','data': [7, 8, 7.17]},\n",
    "        {'name': 'uncorr_bkg5', 'type': 'shapesys','data': [7, 8, 7.17]},\n",
    "        \n",
    "         ]\n",
    "         },    \n",
    "                                 \n",
    "    ]},\n",
    "    ]\n",
    "    ,\n",
    "    \"parameters\": [\n",
    "            {\n",
    "                \"name\": \"lumi\",\n",
    "                \"auxdata\": [1.0],\n",
    "                \"sigmas\": [0.017],\n",
    "                \"bounds\": [[0.915, 1.085]],\n",
    "                \"inits\": [1.0],\n",
    "            }],\n",
    "        }\n",
    ")\n",
    "\n",
    "obs = model.expected_actualdata(model.config.suggested_init())\n",
    "\n",
    "nBins = len(model.expected_actualdata(model.config.suggested_init()))\n",
    "nPars = len(model.config.suggested_init())\n",
    "\n",
    "# Prepare the priors for sampling\n",
    "    # Unconstrained parameters\n",
    "unconstr_dict = {\n",
<<<<<<< HEAD
    "    'uncon1': {'type': 'unconstrained', 'type2': 'normal', 'input': [[2], [1]]}\n",
=======
    "    'uncon1': {'type': 'unconstrained', 'type2': 'normal', 'input': [[15], [1]]},\n",
    "    'uncon2': {'type': 'unconstrained', 'type2': 'normal', 'input': [[15], [1]] }\n",
>>>>>>> 9172949 (added options for multiple unconstrained pars)
    "    }\n",
    "\n",
    "    # Create dictionary with all priors (unconstrained, constrained by normal and poisson)\n",
    "prior_dict = prepare_inference.prepare_priors(model, unconstr_dict)\n",
    "\n",
    "    # dictionary with keys 'model', 'obs', 'priors', 'precision'\n",
    "prepared_model = prepare_inference.prepare_model(model=model, observations=obs, precision=1, priors=prior_dict)"
   ]
  },
  {
   "cell_type": "code",
<<<<<<< HEAD
   "execution_count": 25,
=======
   "execution_count": 2,
>>>>>>> 9172949 (added options for multiple unconstrained pars)
   "metadata": {},
   "outputs": [],
   "source": [
    "# with open('SRee_SRmm_Srem.json') as serialized:\n",
    "with open('ttbar_ljets_xsec_inclusive_pruned.json') as serialized:\n",
    "    spec = json.load(serialized)\n",
    "\n",
    "workspace = pyhf.Workspace(spec)\n",
    "model = workspace.model()\n",
    "\n",
    "obs = workspace.data(model, include_auxdata=False)\n",
    "\n",
    "nBins = len(model.expected_actualdata(model.config.suggested_init()))\n",
    "nPars = len(model.config.suggested_init())\n",
    "\n",
    "# Prepare the priors for sampling\n",
    "    # Unconstrained parameters\n",
    "unconstr_dict = {\n",
<<<<<<< HEAD
    "    'uncon1': {'type': 'unconstrained', 'type2': 'normal', 'input': [[2], [1]]}\n",
=======
    "    'uncon1': {'type': 'unconstrained', 'type2': 'normal', 'input': [[15], [1]]}\n",
>>>>>>> 9172949 (added options for multiple unconstrained pars)
    "    }\n",
    "\n",
    "    # Create dictionary with all priors (unconstrained, constrained by normal and poisson)\n",
    "prior_dict = prepare_inference.prepare_priors(model, unconstr_dict)\n",
    "\n",
    "    # dictionary with keys 'model', 'obs', 'priors', 'precision'\n",
    "prepared_model = prepare_inference.prepare_model(model=model, observations=obs, precision=1, priors=prior_dict)"
   ]
  },
  {
   "attachments": {},
   "cell_type": "markdown",
   "metadata": {},
   "source": [
    "## General functions"
   ]
  },
  {
   "cell_type": "code",
   "execution_count": 3,
   "metadata": {},
   "outputs": [],
   "source": [
    "# Jax expected data\n",
    "@jax.jit\n",
    "def processed_expData(parameters):\n",
    "    return model.expected_actualdata(parameters)\n",
    "\n",
    "jitted_processed_expData = jax.jit(processed_expData)\n",
    "\n",
    "# Gradient list (dn_bins/dx_1, ..., dn_bins/dx_nPars)\n",
    "@jax.jit\n",
    "def vjp_expData(pars, tang_vec):\n",
    "    _, back = jax.vjp(processed_expData, pars)\n",
    "    return back(tang_vec)[0]\n",
    "\n",
    "jitted_vjp_expData = jax.jit(vjp_expData)\n",
    "\n",
    "# jitted_processed_expData = jax.jit(processed_expData)\n",
    "# jitted_vjp_expData = jax.jit(vjp_expData)\n"
   ]
  },
  {
   "attachments": {},
   "cell_type": "markdown",
   "metadata": {},
   "source": [
    "## Op Class\n",
    "\n",
    "### Gradient Op"
   ]
  },
  {
   "cell_type": "code",
   "execution_count": 4,
   "metadata": {},
   "outputs": [],
   "source": [
    "class VJPOp(Op):\n",
    "\n",
    "    itypes = [pt.dvector,pt.dvector]  \n",
    "    otypes = [pt.dvector]\n",
    "\n",
    "    def perform(self, node, inputs, outputs):\n",
    "        (parameters, tangent_vector) = inputs\n",
    "        results = jitted_vjp_expData(parameters, tangent_vector)\n",
    "\n",
    "        # if not isinstance(results, (list, tuple)):\n",
    "        #         results = (results,)\n",
    "                \n",
    "        # for i, r in enumerate(results):\n",
    "        #     outputs[i][0] = np.asarray(r)\n",
    "        outputs[0][0] = np.asarray(results)\n",
    "\n",
    "vjp_op = VJPOp()"
   ]
  },
  {
   "attachments": {},
   "cell_type": "markdown",
   "metadata": {},
   "source": [
    "## Non Gradient Op"
   ]
  },
  {
   "cell_type": "code",
   "execution_count": 5,
   "metadata": {},
   "outputs": [],
   "source": [
    "class ExpDataOp(Op):\n",
    "\n",
    "    itypes = [pt.dvector]  \n",
    "    otypes = [pt.dvector]\n",
    "\n",
    "    def perform(self, node, inputs, outputs):\n",
    "        (parameters, ) = inputs\n",
    "        results = jitted_processed_expData(parameters)\n",
    "\n",
    "        # if len(outputs) == 1:\n",
    "        #         outputs[0][0] = np.asarray(results)\n",
    "        #         return\n",
    "        # for i, r in enumerate(results):\n",
    "        #         outputs[i][0] = np.asarray(r)\n",
    "        outputs[0][0] = np.asarray(results)\n",
    "\n",
    "    def grad(self, inputs, output_gradients):\n",
    "        (parameters,) = inputs\n",
    "        (tangent_vector,) = output_gradients\n",
    "        return [vjp_op(parameters, tangent_vector)]\n",
    "\n",
    "        \n",
    "expData_op = ExpDataOp()"
   ]
  },
  {
   "attachments": {},
   "cell_type": "markdown",
   "metadata": {},
   "source": [
    "### Sampling\n",
    "\n",
    "#### Metropolis"
   ]
  },
  {
   "cell_type": "code",
<<<<<<< HEAD
   "execution_count": 8,
=======
   "execution_count": 6,
>>>>>>> 9172949 (added options for multiple unconstrained pars)
   "metadata": {},
   "outputs": [
    {
     "name": "stderr",
     "output_type": "stream",
     "text": [
<<<<<<< HEAD
      "Only 150 samples in chain.\n",
=======
>>>>>>> 9172949 (added options for multiple unconstrained pars)
      "Multiprocess sampling (4 chains in 4 jobs)\n",
      "CompoundStep\n",
      ">Metropolis: [Unconstrained]\n",
      ">Metropolis: [Normals]\n",
<<<<<<< HEAD
      ">Metropolis: [Gammas]\n"
     ]
    },
    {
     "name": "stderr",
     "output_type": "stream",
     "text": [
      "Sampling 4 chains for 1_000 tune and 150 draw iterations (4_000 + 600 draws total) took 2 seconds.\n"
=======
      ">Metropolis: [Gammas]\n",
      "CompoundStep\n",
      ">Metropolis: [Unconstrained]\n",
      ">Metropolis: [Normals]\n",
      ">Metropolis: [Gammas]\n"
>>>>>>> 9172949 (added options for multiple unconstrained pars)
     ]
    },
    {
     "name": "stderr",
     "output_type": "stream",
     "text": [
      "Sampling: [ExpData, Gammas, Normals, Unconstrained]\n"
     ]
    }
   ],
   "source": [
    "# %%timeit \n",
    "with pm.Model() as m:\n",
    "    pars = pm.Deterministic('pars', prepare_inference.priors2pymc(prepared_model))\n",
    "    ExpData_Det = pm.Deterministic('ExpData_Det', expData_op(pars))\n",
    "\n",
    "    # ExpData = pm.Poisson(\"ExpData\", mu=ExpData_Det, observed=obs)\n",
    "    ExpData = pm.Normal(\"ExpData\", mu=ExpData_Det, sigma = float(obs[0])**(0.5), observed=obs)\n",
    "    \n",
    "    step1 = pm.Metropolis()\n",
    "    step2 = pm.NUTS()\n",
    "    step3 = pm.HamiltonianMC()\n",
    "    \n",
<<<<<<< HEAD
    "    post_data = pm.sample(150, chains = 4, cores=4, progressbar=True, step=step1)\n",
    "    # post_data = pm.sample(150, chains=4, init='test', cores=4, )\n",
=======
    "    post_data = pm.sample(1000, chains = 4, cores=4, step=step1)\n",
>>>>>>> 9172949 (added options for multiple unconstrained pars)
    "    post_pred = pm.sample_posterior_predictive(post_data)\n",
    "    prior_pred = pm.sample_prior_predictive(1000)"
   ]
  },
  {
   "attachments": {},
   "cell_type": "markdown",
   "metadata": {},
   "source": [
    "#### NUTS"
   ]
  },
  {
   "attachments": {},
   "cell_type": "markdown",
   "metadata": {},
   "source": [
    "#### Trying different NUTS versions\n",
    "\n",
    "- Sampling with init='test' is slower than Metropolis, but works for n chains"
   ]
  },
  {
   "cell_type": "code",
<<<<<<< HEAD
   "execution_count": 6,
=======
   "execution_count": 8,
   "metadata": {},
   "outputs": [
    {
     "name": "stdout",
     "output_type": "stream",
     "text": [
      "... pm.sample: \n"
     ]
    },
    {
     "name": "stderr",
     "output_type": "stream",
     "text": [
      "Auto-assigning NUTS sampler...\n",
      "Initializing NUTS using advi...\n",
      "Initializing NUTS using advi...\n"
     ]
    },
    {
     "name": "stderr",
     "output_type": "stream",
     "text": [
      "Convergence achieved at 54600\n",
      "Interrupted at 54,599 [27%]: Average Loss = 4.6152e+10\n",
      "Interrupted at 54,599 [27%]: Average Loss = 4.6152e+10\n",
      "Multiprocess sampling (4 chains in 4 jobs)\n",
      "NUTS: [Unconstrained, Normals, Gammas]\n"
     ]
    },
    {
     "name": "stderr",
     "output_type": "stream",
     "text": [
      "Sampling 4 chains for 1_000 tune and 1_000 draw iterations (4_000 + 4_000 draws total) took 42 seconds.\n"
     ]
    },
    {
     "name": "stderr",
     "output_type": "stream",
     "text": [
      "Sampling: [ExpData1, Gammas, Normals, Unconstrained]\n"
     ]
    },
    {
     "name": "stdout",
     "output_type": "stream",
     "text": [
      "... pm.sample_prior_predictive: \n"
     ]
    }
   ],
   "source": [
    "# %%timeit\n",
    "with pm.Model() as m1:\n",
    "    pars1 = pm.Deterministic('pars1', prepare_inference.priors2pymc(prepared_model))\n",
    "    ExpData_Det1 = pm.Deterministic('ExpData_Det1', expData_op(pars1))\n",
    "\n",
    "    # ExpData1 = pm.Poisson(\"ExpData1\", mu=ExpData_Det1, observed=obs)\n",
    "    ExpData1 = pm.Normal(\"ExpData1\", mu=ExpData_Det1, sigma = float(obs[0])**(0.5), observed=obs)\n",
    "    \n",
    "    # pm.init_nuts(init='advi')\n",
    "    \n",
    "    print('... pm.sample: ')\n",
    "    post_data_test = pm.sample(1000, chains=4, cores=4, init='advi')\n",
    "    print('... pm.sample_porsterior_predictive: ')\n",
    "    post_pred_test = pm.sample_posterior_predictive(post_data_test)\n",
    "    print('... pm.sample_prior_predictive: ')\n",
    "    prior_pred_test = pm.sample_prior_predictive(1000)"
   ]
  },
  {
   "cell_type": "code",
   "execution_count": 9,
>>>>>>> 9172949 (added options for multiple unconstrained pars)
   "metadata": {},
   "outputs": [
    {
     "name": "stderr",
     "output_type": "stream",
     "text": [
      "Only 150 samples in chain.\n",
      "Auto-assigning NUTS sampler...\n",
      "Initializing NUTS using jitter+adapt_diag...\n",
      "Multiprocess sampling (4 chains in 4 jobs)\n",
      "NUTS: [Unconstrained, Normals, Gammas]\n"
     ]
    }
   ],
   "source": [
    "with pm.Model() as m:\n",
    "    pars1 = pm.Deterministic('pars1', prepare_inference.priors2pymc(prepared_model))\n",
    "    ExpData_Det1 = pm.Deterministic('ExpData_Det1', expData_op(pars1))\n",
    "\n",
    "    # ExpData = pm.Poisson(\"ExpData\", mu=ExpData_Det, observed=obs)\n",
    "    ExpData1 = pm.Normal(\"ExpData1\", mu=ExpData_Det1, sigma = float(obs[0])**(0.5), observed=obs)\n",
    "    \n",
    "    # pm.init_nuts(init='advi+adapt_diag')\n",
    "    \n",
    "    post_data_test = pm.sample(150, chains=4, cores=4, progressbar=True)\n",
    "    print('......')\n",
    "    post_pred_test = pm.sample_posterior_predictive(post_data_test)\n",
    "    print('......')\n",
    "    prior_pred_test = pm.sample_prior_predictive(150)"
   ]
  },
  {
   "cell_type": "code",
   "execution_count": 7,
   "metadata": {},
   "outputs": [
    {
     "ename": "NameError",
     "evalue": "name 'prior_pred' is not defined",
     "output_type": "error",
     "traceback": [
      "\u001b[0;31m---------------------------------------------------------------------------\u001b[0m",
      "\u001b[0;31mNameError\u001b[0m                                 Traceback (most recent call last)",
      "Cell \u001b[0;32mIn[7], line 5\u001b[0m\n\u001b[1;32m      2\u001b[0m plt\u001b[39m.\u001b[39mstep(np\u001b[39m.\u001b[39mlinspace(\u001b[39m0\u001b[39m,nBins\u001b[39m-\u001b[39m\u001b[39m1\u001b[39m,nBins),prior_pred_test\u001b[39m.\u001b[39mprior_predictive\u001b[39m.\u001b[39mExpData1[\u001b[39m0\u001b[39m]\u001b[39m.\u001b[39mT, alpha \u001b[39m=\u001b[39m \u001b[39m0.01\u001b[39m, c \u001b[39m=\u001b[39m \u001b[39m'\u001b[39m\u001b[39mlightcoral\u001b[39m\u001b[39m'\u001b[39m, where \u001b[39m=\u001b[39m \u001b[39m'\u001b[39m\u001b[39mmid\u001b[39m\u001b[39m'\u001b[39m);\n\u001b[1;32m      3\u001b[0m plt\u001b[39m.\u001b[39mvlines(np\u001b[39m.\u001b[39marange(nBins),\u001b[39m*\u001b[39mnp\u001b[39m.\u001b[39mquantile(prior_pred_test\u001b[39m.\u001b[39mprior_predictive\u001b[39m.\u001b[39mExpData1[\u001b[39m0\u001b[39m],[\u001b[39m.15\u001b[39m,\u001b[39m.85\u001b[39m],axis\u001b[39m=\u001b[39m\u001b[39m0\u001b[39m), colors \u001b[39m=\u001b[39m \u001b[39m'\u001b[39m\u001b[39mlightcoral\u001b[39m\u001b[39m'\u001b[39m, label\u001b[39m=\u001b[39m\u001b[39m'\u001b[39m\u001b[39mprior NUTS with advi\u001b[39m\u001b[39m'\u001b[39m);\n\u001b[0;32m----> 5\u001b[0m plt\u001b[39m.\u001b[39mstep(np\u001b[39m.\u001b[39mlinspace(\u001b[39m0\u001b[39m,nBins\u001b[39m-\u001b[39m\u001b[39m1\u001b[39m,nBins),prior_pred\u001b[39m.\u001b[39mprior_predictive\u001b[39m.\u001b[39mExpData[\u001b[39m0\u001b[39m]\u001b[39m.\u001b[39mT, alpha \u001b[39m=\u001b[39m \u001b[39m0.01\u001b[39m, c \u001b[39m=\u001b[39m \u001b[39m'\u001b[39m\u001b[39mgold\u001b[39m\u001b[39m'\u001b[39m, where \u001b[39m=\u001b[39m \u001b[39m'\u001b[39m\u001b[39mmid\u001b[39m\u001b[39m'\u001b[39m);\n\u001b[1;32m      6\u001b[0m plt\u001b[39m.\u001b[39mvlines(np\u001b[39m.\u001b[39marange(nBins),\u001b[39m*\u001b[39mnp\u001b[39m.\u001b[39mquantile(prior_pred\u001b[39m.\u001b[39mprior_predictive\u001b[39m.\u001b[39mExpData[\u001b[39m0\u001b[39m],[\u001b[39m.15\u001b[39m,\u001b[39m.85\u001b[39m],axis\u001b[39m=\u001b[39m\u001b[39m0\u001b[39m), colors \u001b[39m=\u001b[39m \u001b[39m'\u001b[39m\u001b[39mgold\u001b[39m\u001b[39m'\u001b[39m, label\u001b[39m=\u001b[39m\u001b[39m'\u001b[39m\u001b[39mprior Metropolis\u001b[39m\u001b[39m'\u001b[39m);\n\u001b[1;32m      8\u001b[0m \u001b[39m# Posterior\u001b[39;00m\n",
      "\u001b[0;31mNameError\u001b[0m: name 'prior_pred' is not defined"
     ]
    },
    {
     "data": {
<<<<<<< HEAD
      "image/png": "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",
=======
      "image/png": "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",
>>>>>>> 9172949 (added options for multiple unconstrained pars)
      "text/plain": [
       "<Figure size 640x480 with 1 Axes>"
      ]
     },
     "metadata": {},
     "output_type": "display_data"
    }
   ],
   "source": [
    "# Prior\n",
    "plt.step(np.linspace(0,nBins-1,nBins),prior_pred_test.prior_predictive.ExpData1[0].T, alpha = 0.01, c = 'lightcoral', where = 'mid');\n",
    "plt.vlines(np.arange(nBins),*np.quantile(prior_pred_test.prior_predictive.ExpData1[0],[.15,.85],axis=0), colors = 'lightcoral', label='prior NUTS with advi');\n",
    "\n",
    "plt.step(np.linspace(0,nBins-1,nBins),prior_pred.prior_predictive.ExpData[0].T, alpha = 0.01, c = 'gold', where = 'mid');\n",
    "plt.vlines(np.arange(nBins),*np.quantile(prior_pred.prior_predictive.ExpData[0],[.15,.85],axis=0), colors = 'gold', label='prior Metropolis');\n",
    "\n",
    "# Posterior\n",
    "plt.step(np.linspace(0,nBins-1,nBins),post_pred_test.posterior_predictive.ExpData1[0].T, alpha = 0.01, c = 'cornflowerblue', where = 'mid');\n",
    "plt.vlines(np.arange(nBins),*np.quantile(post_pred_test.posterior_predictive.ExpData1[0],[.15,.85],axis=0), colors = 'cornflowerblue', label='posterior NUTS with advi')\n",
    "\n",
    "plt.step(np.linspace(0,nBins-1,nBins),post_pred.posterior_predictive.ExpData[0].T, alpha = 0.01, c = 'mediumpurple', where = 'mid');\n",
    "plt.vlines(np.arange(nBins),*np.quantile(post_pred.posterior_predictive.ExpData[0],[.15,.85],axis=0), colors = 'mediumpurple', label='posterior Metropolis')\n",
    "\n",
    "# Observations\n",
    "plt.scatter(np.arange(nBins), obs, c = 'k',s=12, zorder = 999, label = \"data\")\n",
    "plt.legend(loc='upper left')\n",
    "\n",
<<<<<<< HEAD
    "plt.title(f'Post / Priors, 4 chains, 150 samples. M: , NUTS: ')\n",
    "\n",
    "# plt.savefig('Metropolis_adviNUTS_ttbar')\n",
=======
    "plt.title(f'Post / Priors, 4 chains, 1000 samples')\n",
    "\n",
    "# plt.savefig('Metropolis_adviNUsS_ttbar')\n",
>>>>>>> 9172949 (added options for multiple unconstrained pars)
    "plt.show()"
   ]
  },
  {
   "cell_type": "code",
   "execution_count": null,
   "metadata": {},
   "outputs": [],
   "source": [
    "az.plot_trace(prior_pred.prior, var_names='Unconstrained')\n",
    "az.plot_trace(post_data.posterior, var_names='Unconstrained')"
   ]
  },
  {
   "cell_type": "code",
   "execution_count": null,
   "metadata": {},
   "outputs": [],
   "source": [
    "fig = corner.corner(prior_pred.prior.Normals[0], hist_kwargs={'density': True}, color='green');\n",
    "fig = corner.corner(post_data.posterior.Normals[0], fig = fig, color = 'steelblue', hist_kwargs={'density': True});"
   ]
  },
  {
   "cell_type": "code",
   "execution_count": null,
   "metadata": {},
   "outputs": [],
   "source": [
    "Only 150 samples in chain.\n",
    "Auto-assigning NUTS sampler...\n",
    "Initializing NUTS using jitter+adapt_diag...\n",
    "Multiprocess sampling (4 chains in 4 jobs)\n",
    "NUTS: [Unconstrained, Normals, Gammas]"
   ]
  }
 ],
 "metadata": {
  "kernelspec": {
   "display_name": "pyhf_pymc",
   "language": "python",
   "name": "python3"
  },
  "language_info": {
   "codemirror_mode": {
    "name": "ipython",
    "version": 3
   },
   "file_extension": ".py",
   "mimetype": "text/x-python",
   "name": "python",
   "nbconvert_exporter": "python",
   "pygments_lexer": "ipython3",
   "version": "3.9.16"
  },
  "orig_nbformat": 4
 },
 "nbformat": 4,
 "nbformat_minor": 2
}
