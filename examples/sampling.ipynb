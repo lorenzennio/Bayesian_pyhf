{
 "cells": [
  {
   "cell_type": "code",
   "execution_count": 1,
   "metadata": {},
   "outputs": [
    {
     "name": "stderr",
     "output_type": "stream",
     "text": [
      "WARNING (pytensor.tensor.blas): Using NumPy C-API based implementation for BLAS functions.\n"
     ]
    }
   ],
   "source": [
    "import numpy as np\n",
    "import matplotlib.pyplot as plt\n",
    "import corner\n",
    "import json\n",
    "\n",
    "import pytensor\n",
    "from pytensor import tensor as pt\n",
    "from pytensor.graph.basic import Apply\n",
    "from pytensor.graph import Apply, Op\n",
    "from pytensor.tensor.type import TensorType\n",
    "\n",
    "import jax\n",
    "from jax import grad, jit, vmap, value_and_grad, random\n",
    "import jax.numpy as jnp\n",
    "\n",
    "import pyhf\n",
    "pyhf.set_backend('jax')\n",
    "\n",
    "import pymc as pm\n",
    "import arviz as az\n",
    "\n",
    "# import MH_inference\n",
    "# import HMC_inference\n",
    "from pyhf_pymc import prepare_inference\n"
   ]
  },
  {
   "attachments": {},
   "cell_type": "markdown",
   "metadata": {},
   "source": [
    "## Model"
   ]
  },
  {
   "cell_type": "code",
   "execution_count": 4,
   "metadata": {},
   "outputs": [],
   "source": [
    "### Simple pyhf model\n",
    "model = pyhf.Model(\n",
    "    {'channels': [{'name': 'singlechannel',\n",
    "    'samples': [\n",
    "    {'name': 'signal',\n",
    "     'data': [6, 6, 10, 5],\n",
    "     'modifiers': [\n",
    "         {'name': 'mu', 'type': 'normfactor', 'data': None},\n",
    "        #  {'name': 'mu1', 'type': 'normfactor', 'data': None}\n",
    "        ]},\n",
    "\n",
    "    {'name': 'background',\n",
    "     'data': [450, 550, 650, 650]\n",
    "     ,\n",
    "     'modifiers': [\n",
    "        ## Staterror / Normal\n",
    "        # {\"name\": \"my_staterror\",\"type\": \"staterror\",\"data\": [2.0, 2.0, 2.0, 2.0],},\n",
    "        # {\"name\": \"my_staterror1\",\"type\": \"staterror\",\"data\": [2.0, 2.0, 2.0, 2.0],},\n",
    "        # {\"name\": \"my_staterror2\",\"type\": \"staterror\",\"data\": [3.0, 3.0, 3.0, 2.0],},\n",
    "        ## Lumi / Normal\n",
    "        {'name': 'lumi', 'type': 'lumi', 'data': None},\n",
    "        ## Correlated / Normal\n",
    "        {'name': 'corr_bkg', 'type': 'histosys','data': {'hi_data': [550, 660, 700, 700], 'lo_data': [400, 540, 643, 640]}},\n",
    "        # {'name': 'corr_bkg1', 'type': 'histosys','data': {'hi_data': [650, 506, 670, 700], 'lo_data': [400, 400, 430, 700]}},\n",
    "        # {'name': 'corr_bkg2', 'type': 'histosys','data': {'hi_data': [650, 560, 670, 700], 'lo_data': [400, 400, 430, 700]}},\n",
    "        # ## Uncorrelated / Poisson\n",
    "        # {'name': 'uncorr_bkg', 'type': 'shapesys','data': [7, 8, 7.17, 7.17]},\n",
    "        # {'name': 'uncorr_bkg1', 'type': 'shapesys','data': [7, 8, 7.17, 7.17]},\n",
    "        # {'name': 'uncorr_bkg2', 'type': 'shapesys','data': [7, 8, 7.17, 7.17]},\n",
    "        # {'name': 'uncorr_bkg3', 'type': 'shapesys','data': [7, 8, 7.17, 7.17]},\n",
    "        # {'name': 'uncorr_bkg4', 'type': 'shapesys','data': [7, 8, 7.17, 7.17]},\n",
    "        # {'name': 'uncorr_bkg5', 'type': 'shapesys','data': [7, 8, 7.17, 7.17]},\n",
    "        \n",
    "         ]\n",
    "         },    \n",
    "                                 \n",
    "    ]},\n",
    "    ]\n",
    "    ,\n",
    "    \"parameters\": [\n",
    "            {\n",
    "                \"name\": \"lumi\",\n",
    "                \"auxdata\": [1.0],\n",
    "                \"sigmas\": [0.017],\n",
    "                \"bounds\": [[0.915, 1.085]],\n",
    "                \"inits\": [1.0],\n",
    "            }],\n",
    "        }\n",
    ")\n",
    "\n",
    "obs = model.expected_actualdata(model.config.suggested_init())\n",
    "\n",
    "nBins = len(model.expected_actualdata(model.config.suggested_init()))\n",
    "nPars = len(model.config.suggested_init())\n",
    "\n",
    "# Prepare the priors for sampling\n",
    "    # Unconstrained parameters\n",
    "unconstr_dict = {}\n",
    "unconstr_dict = {\n",
    "    'uncon0': {'type': 'unconstrained', 'type2': 'normal', 'input': [[2], [1]]},\n",
    "    # 'uncon1': {'type': 'unconstrained', 'type2': 'normal', 'input': [[2], [1]]}\n",
    "    }\n",
    "\n",
    "    # Create dictionary with all priors (unconstrained, constrained by normal and poisson)\n",
    "prior_dict = prepare_inference.prepare_priors(model, unconstr_dict)\n",
    "\n",
    "    # dictionary with keys 'model', 'obs', 'priors', 'precision'\n",
    "prepared_model = prepare_inference.prepare_model(model=model, observations=obs, precision=1, priors=prior_dict)"
   ]
  },
  {
   "cell_type": "code",
   "execution_count": 15,
   "metadata": {},
   "outputs": [],
   "source": [
    "with open('SRee_SRmm_Srem.json') as serialized:\n",
    "# with open('ttbar_ljets_xsec_inclusive_pruned.json') as serialized:\n",
    "    spec = json.load(serialized)\n",
    "\n",
    "workspace = pyhf.Workspace(spec)\n",
    "model = workspace.model()\n",
    "\n",
    "obs = workspace.data(model, include_auxdata=False)\n",
    "\n",
    "nBins = len(model.expected_actualdata(model.config.suggested_init()))\n",
    "nPars = len(model.config.suggested_init())\n",
    "\n",
    "# Prepare the priors for sampling\n",
    "    # Unconstrained parameters\n",
    "unconstr_dict = {\n",
    "    'uncon1': {'type': 'unconstrained', 'type2': 'normal', 'input': [[2], [1]]}\n",
    "    }\n",
    "\n",
    "    # Create dictionary with all priors (unconstrained, constrained by normal and poisson)\n",
    "prior_dict = prepare_inference.prepare_priors(model, unconstr_dict)\n",
    "\n",
    "    # dictionary with keys 'model', 'obs', 'priors', 'precision'\n",
    "prepared_model = prepare_inference.prepare_model(model=model, observations=obs, precision=1, priors=prior_dict)"
   ]
  },
  {
   "attachments": {},
   "cell_type": "markdown",
   "metadata": {},
   "source": [
    "## General functions"
   ]
  },
  {
   "cell_type": "code",
   "execution_count": 6,
   "metadata": {},
   "outputs": [],
   "source": [
    "# Jax expected data\n",
    "@jax.jit\n",
    "def processed_expData(parameters):\n",
    "    return model.expected_actualdata(parameters)\n",
    "\n",
    "jitted_processed_expData = jax.jit(processed_expData)\n",
    "\n",
    "# Gradient list (dn_bins/dx_1, ..., dn_bins/dx_nPars)\n",
    "@jax.jit\n",
    "def vjp_expData(pars, tang_vec):\n",
    "    _, back = jax.vjp(processed_expData, pars)\n",
    "    return back(tang_vec)[0]\n",
    "\n",
    "jitted_vjp_expData = jax.jit(vjp_expData)\n",
    "\n",
    "# jitted_processed_expData = jax.jit(processed_expData)\n",
    "# jitted_vjp_expData = jax.jit(vjp_expData)\n"
   ]
  },
  {
   "attachments": {},
   "cell_type": "markdown",
   "metadata": {},
   "source": [
    "## Op Class\n",
    "\n",
    "### Gradient Op"
   ]
  },
  {
   "cell_type": "code",
   "execution_count": 7,
   "metadata": {},
   "outputs": [],
   "source": [
    "class VJPOp(Op):\n",
    "\n",
    "    itypes = [pt.dvector,pt.dvector]  \n",
    "    otypes = [pt.dvector]\n",
    "\n",
    "    def perform(self, node, inputs, outputs):\n",
    "        (parameters, tangent_vector) = inputs\n",
    "        results = jitted_vjp_expData(parameters, tangent_vector)\n",
    "\n",
    "        # if not isinstance(results, (list, tuple)):\n",
    "        #         results = (results,)\n",
    "                \n",
    "        # for i, r in enumerate(results):\n",
    "        #     outputs[i][0] = np.asarray(r)\n",
    "        outputs[0][0] = np.asarray(results)\n",
    "\n",
    "vjp_op = VJPOp()"
   ]
  },
  {
   "attachments": {},
   "cell_type": "markdown",
   "metadata": {},
   "source": [
    "## Non Gradient Op"
   ]
  },
  {
   "cell_type": "code",
   "execution_count": 8,
   "metadata": {},
   "outputs": [],
   "source": [
    "class ExpDataOp(Op):\n",
    "\n",
    "    itypes = [pt.dvector]  \n",
    "    otypes = [pt.dvector]\n",
    "\n",
    "    def perform(self, node, inputs, outputs):\n",
    "        (parameters, ) = inputs\n",
    "        results = jitted_processed_expData(parameters)\n",
    "\n",
    "        # if len(outputs) == 1:\n",
    "        #         outputs[0][0] = np.asarray(results)\n",
    "        #         return\n",
    "        # for i, r in enumerate(results):\n",
    "        #         outputs[i][0] = np.asarray(r)\n",
    "        outputs[0][0] = np.asarray(results)\n",
    "\n",
    "    def grad(self, inputs, output_gradients):\n",
    "        (parameters,) = inputs\n",
    "        (tangent_vector,) = output_gradients\n",
    "        return [vjp_op(parameters, tangent_vector)]\n",
    "\n",
    "        \n",
    "expData_op = ExpDataOp()"
   ]
  },
  {
   "attachments": {},
   "cell_type": "markdown",
   "metadata": {},
   "source": [
    "### Sampling\n",
    "\n",
    "#### Metropolis"
   ]
  },
  {
   "cell_type": "code",
   "execution_count": 9,
   "metadata": {},
   "outputs": [
    {
     "name": "stderr",
     "output_type": "stream",
     "text": [
      "Only 100 samples in chain.\n",
      "Multiprocess sampling (4 chains in 4 jobs)\n",
      "CompoundStep\n",
      ">Metropolis: [Unconstrained]\n",
      ">Metropolis: [Normals]\n"
     ]
    },
    {
     "name": "stderr",
     "output_type": "stream",
     "text": [
      "Sampling 4 chains for 1_000 tune and 100 draw iterations (4_000 + 400 draws total) took 0 seconds.\n"
     ]
    },
    {
     "name": "stderr",
     "output_type": "stream",
     "text": [
      "Sampling: [ExpData, Normals, Unconstrained]\n"
     ]
    }
   ],
   "source": [
    "# %%timeit \n",
    "with pm.Model() as m:\n",
    "    pars = pm.Deterministic('pars', prepare_inference.priors2pymc(prepared_model))\n",
    "    ExpData_Det = pm.Deterministic('ExpData_Det', expData_op(pars))\n",
    "\n",
    "    # ExpData = pm.Poisson(\"ExpData\", mu=ExpData_Det, observed=obs)\n",
    "    ExpData = pm.Normal(\"ExpData\", mu=ExpData_Det, sigma = float(obs[0])**(0.5), observed=obs)\n",
    "    \n",
    "    step1 = pm.Metropolis()\n",
    "    step2 = pm.NUTS()\n",
    "    step3 = pm.HamiltonianMC()\n",
    "    \n",
    "    post_data = pm.sample(100, chains = 4, cores=4, step=step1)\n",
    "    post_pred = pm.sample_posterior_predictive(post_data)\n",
    "    prior_pred = pm.sample_prior_predictive(100)"
   ]
  },
  {
   "attachments": {},
   "cell_type": "markdown",
   "metadata": {},
   "source": [
    "#### NUTS"
   ]
  },
  {
   "cell_type": "code",
   "execution_count": 10,
   "metadata": {},
   "outputs": [
    {
     "name": "stderr",
     "output_type": "stream",
     "text": [
      "Only 100 samples in chain.\n",
      "Auto-assigning NUTS sampler...\n",
      "Initializing NUTS using advi...\n"
     ]
    },
    {
     "name": "stdout",
     "output_type": "stream",
     "text": [
      "... pm.sample: \n"
     ]
    },
    {
     "name": "stderr",
     "output_type": "stream",
     "text": [
      "Convergence achieved at 10300\n",
      "Interrupted at 10,299 [5%]: Average Loss = 463.05\n",
      "Interrupted at 10,299 [5%]: Average Loss = 463.05\n",
      "Multiprocess sampling (4 chains in 4 jobs)\n",
      "NUTS: [Unconstrained, Normals]\n"
     ]
    },
    {
     "name": "stderr",
     "output_type": "stream",
     "text": [
      "Sampling 4 chains for 1_000 tune and 100 draw iterations (4_000 + 400 draws total) took 1 seconds.\n"
     ]
    },
    {
     "name": "stderr",
     "output_type": "stream",
     "text": [
      "Sampling: [ExpData1, Normals, Unconstrained]\n"
     ]
    },
    {
     "name": "stdout",
     "output_type": "stream",
     "text": [
      "... pm.sample_prior_predictive: \n"
     ]
    }
   ],
   "source": [
    "# %%timeit\n",
    "with pm.Model() as m1:\n",
    "    pars1 = pm.Deterministic('pars1', prepare_inference.priors2pymc(prepared_model))\n",
    "    ExpData_Det1 = pm.Deterministic('ExpData_Det1', expData_op(pars1))\n",
    "\n",
    "    # ExpData1 = pm.Poisson(\"ExpData1\", mu=ExpData_Det1, observed=obs)\n",
    "    ExpData1 = pm.Normal(\"ExpData1\", mu=ExpData_Det1, sigma = float(obs[0])**(0.5), observed=obs)\n",
    "    \n",
    "    # pm.init_nuts(init='advi')\n",
    "    \n",
    "    print('... pm.sample: ')\n",
    "    post_data_test = pm.sample(100, chains=4, cores=4, init='advi')\n",
    "    print('... pm.sample_porsterior_predictive: ')\n",
    "    post_pred_test = pm.sample_posterior_predictive(post_data_test)\n",
    "    print('... pm.sample_prior_predictive: ')\n",
    "    prior_pred_test = pm.sample_prior_predictive(100)"
   ]
  },
  {
   "cell_type": "code",
   "execution_count": 17,
   "metadata": {},
   "outputs": [
    {
     "data": {
      "image/png": "[encoded data removed]",
      "text/plain": [
       "<Figure size 640x480 with 1 Axes>"
      ]
     },
     "metadata": {},
     "output_type": "display_data"
    }
   ],
   "source": [
    "# Prior\n",
    "plt.step(np.linspace(0,nBins-1,nBins),prior_pred_test.prior_predictive.ExpData1[0].T, alpha = 0.01, c = 'lightcoral', where = 'mid');\n",
    "plt.vlines(np.arange(nBins),*np.quantile(prior_pred_test.prior_predictive.ExpData1[0],[.15,.85],axis=0), colors = 'lightcoral', label='prior NUTS with advi');\n",
    "\n",
    "plt.step(np.linspace(0,nBins-1,nBins),prior_pred.prior_predictive.ExpData[0].T, alpha = 0.01, c = 'gold', where = 'mid');\n",
    "plt.vlines(np.arange(nBins),*np.quantile(prior_pred.prior_predictive.ExpData[0],[.15,.85],axis=0), colors = 'gold', label='prior Metropolis');\n",
    "\n",
    "# Posterior\n",
    "plt.step(np.linspace(0,nBins-1,nBins),post_pred_test.posterior_predictive.ExpData1[0].T, alpha = 0.01, c = 'cornflowerblue', where = 'mid');\n",
    "plt.vlines(np.arange(nBins),*np.quantile(post_pred_test.posterior_predictive.ExpData1[0],[.15,.85],axis=0), colors = 'cornflowerblue', label='posterior NUTS with advi')\n",
    "\n",
    "plt.step(np.linspace(0,nBins-1,nBins),post_pred.posterior_predictive.ExpData[0].T, alpha = 0.01, c = 'mediumpurple', where = 'mid');\n",
    "plt.vlines(np.arange(nBins),*np.quantile(post_pred.posterior_predictive.ExpData[0],[.15,.85],axis=0), colors = 'mediumpurple', label='posterior Metropolis')\n",
    "\n",
    "\n",
    "# Observations\n",
    "plt.scatter(np.arange(nBins), obs, c = 'k',s=12, zorder = 999, label = \"data\")\n",
    "plt.legend(loc='upper left')\n",
    "\n",
    "plt.title(f'Post / Priors, 4 chains, 100 samples')\n",
    "\n",
    "# plt.savefig('Metropolis_adviNUsS_ttbar')\n",
    "plt.show()"
   ]
  },
  {
   "cell_type": "code",
   "execution_count": null,
   "metadata": {},
   "outputs": [],
   "source": [
    "az.plot_trace(prior_pred.prior, var_names='Unconstrained')\n",
    "az.plot_trace(post_data.posterior, var_names='Unconstrained')"
   ]
  },
  {
   "cell_type": "code",
   "execution_count": null,
   "metadata": {},
   "outputs": [],
   "source": [
    "fig = corner.corner(prior_pred.prior.Normals[0], hist_kwargs={'density': True}, color='green');\n",
    "fig = corner.corner(post_data.posterior.Normals[0], fig = fig, color = 'steelblue', hist_kwargs={'density': True});"
   ]
  }
 ],
 "metadata": {
  "kernelspec": {
   "display_name": "pyhf_pymc",
   "language": "python",
   "name": "python3"
  },
  "language_info": {
   "codemirror_mode": {
    "name": "ipython",
    "version": 3
   },
   "file_extension": ".py",
   "mimetype": "text/x-python",
   "name": "python",
   "nbconvert_exporter": "python",
   "pygments_lexer": "ipython3",
   "version": "3.9.16"
  },
  "orig_nbformat": 4
 },
 "nbformat": 4,
 "nbformat_minor": 2
}
