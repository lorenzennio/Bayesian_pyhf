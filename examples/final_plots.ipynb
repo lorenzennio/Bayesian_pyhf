{
 "cells": [
  {
   "cell_type": "code",
   "execution_count": 1,
   "metadata": {},
   "outputs": [
    {
     "name": "stderr",
     "output_type": "stream",
     "text": [
      "WARNING (pytensor.tensor.blas): Using NumPy C-API based implementation for BLAS functions.\n"
     ]
    }
   ],
   "source": [
    "import numpy as np\n",
    "from random import randint\n",
    "import matplotlib.pyplot as plt\n",
    "import matplotlib.gridspec as gridspec\n",
    "from matplotlib import cm\n",
    "from matplotlib.colors import ListedColormap, LinearSegmentedColormap\n",
    "\n",
    "import corner\n",
    "import json\n",
    "\n",
    "import pytensor\n",
    "from pytensor import tensor as pt\n",
    "from pytensor.graph.basic import Apply\n",
    "\n",
    "from pytensor.graph import Apply, Op\n",
    "from pytensor.tensor.type import TensorType\n",
    "\n",
    "import jax\n",
    "from jax import grad, jit, vmap, value_and_grad, random\n",
    "import jax.numpy as jnp\n",
    "\n",
    "import pyhf\n",
    "pyhf.set_backend('jax')\n",
    "# pyhf.set_backend('numpy')\n",
    "\n",
    "import pymc as pm\n",
    "import arviz as az\n",
    "\n",
    "from pyhf_pymc import prepare_inference\n",
    "from pyhf_pymc import context_inference\n",
    "from pyhf_pymc import one_line_inference\n",
    "from pyhf_pymc import make_op"
   ]
  },
  {
   "cell_type": "code",
   "execution_count": 2,
   "metadata": {},
   "outputs": [],
   "source": [
    "import logging\n",
    "logger = logging.getLogger('pymc')\n",
    "logger.setLevel(logging.ERROR)"
   ]
  },
  {
   "cell_type": "code",
   "execution_count": 3,
   "metadata": {},
   "outputs": [],
   "source": [
    "# blue = '#6495ed'\n",
    "# orange = '#B47D49'\n",
    "\n",
    "# blue = '#006994'\n",
    "# orange = '#80396A'\n",
    "#1F449C\n",
    "blue = '#1F449C'\n",
    "orange = '#E57A77'\n",
    "\n",
    "green = '#006400'\n",
    "lila = '#C875C4'\n",
    "\n",
    "plt.rc('font', size=18)      \n",
    "plt.rc('axes', titlesize=18)   \n",
    "plt.rc('axes', labelsize=18)   \n",
    "plt.rc('xtick', labelsize=18)   \n",
    "plt.rc('ytick', labelsize=18)    \n",
    "plt.rc('legend', fontsize=15)    \n",
    "plt.rc('figure', titlesize=18)\n",
    "\n",
    "plt.rcParams['font.family'] = 'DejaVu Sans'"
   ]
  },
  {
   "attachments": {},
   "cell_type": "markdown",
   "metadata": {},
   "source": [
    "## Model"
   ]
  },
  {
   "cell_type": "code",
   "execution_count": 4,
   "metadata": {},
   "outputs": [],
   "source": [
    "nBins = 3\n",
    "model = pyhf.simplemodels.correlated_background([10]*nBins,[50]*nBins,[55]*nBins,[45]*nBins)\n",
    "\n",
    "unconstr_dict = {\n",
    "    'mu': {'type': 'unconstrained', 'input': [[5.], [1.]]}\n",
    "}\n",
    "\n",
    "obs = model.expected_actualdata([0., 2.])\n",
    "\n",
    "prior_dict = prepare_inference.prepare_priors(model, unconstr_dict)\n",
    "prepared_model = prepare_inference.prepare_model(model=model, observations=obs, priors=prior_dict)"
   ]
  },
  {
   "cell_type": "code",
   "execution_count": 5,
   "metadata": {},
   "outputs": [
    {
     "data": {
      "text/plain": [
       "Array([70., 70., 70.], dtype=float64)"
      ]
     },
     "execution_count": 5,
     "metadata": {},
     "output_type": "execute_result"
    }
   ],
   "source": [
    "obs"
   ]
  },
  {
   "attachments": {},
   "cell_type": "markdown",
   "metadata": {},
   "source": [
    "## Prior / Posterior Predictives"
   ]
  },
  {
   "cell_type": "code",
   "execution_count": 18,
   "metadata": {},
   "outputs": [],
   "source": [
    "\n",
    "# with open('SRee_SRmm_Srem.json') as serialized:\n",
    "with open('ttbar_ljets_xsec_inclusive_pruned.json') as serialized:\n",
    "    spec = json.load(serialized)\n",
    "\n",
    "workspace = pyhf.Workspace(spec)\n",
    "model = workspace.model()\n",
    "\n",
    "obs = workspace.data(model, include_auxdata=False)\n",
    "\n",
    "nBins = len(model.expected_actualdata(model.config.suggested_init()))\n",
    "nPars = len(model.config.suggested_init())\n",
    "\n",
    "# Prepare the priors for sampling\n",
    "    # Unconstrained parameters\n",
    "unconstr_dict = {\n",
    "    'uncon1': {'type': 'unconstrained', 'type2': 'normal', 'input': [[2], [1]]}\n",
    "    }\n",
    "\n",
    "    # Create dictionary with all priors (unconstrained, constrained by normal and poisson)\n",
    "prior_dict = prepare_inference.prepare_priors(model, unconstr_dict)\n",
    "\n",
    "    # dictionary with keys 'model', 'obs', 'priors', 'precision'\n",
    "prepared_model = prepare_inference.prepare_model(model=model, observations=obs, priors=prior_dict)"
   ]
  },
  {
   "cell_type": "code",
   "execution_count": 19,
   "metadata": {},
   "outputs": [
    {
     "ename": "KeyboardInterrupt",
     "evalue": "",
     "output_type": "error",
     "traceback": [
      "\u001b[0;31m---------------------------------------------------------------------------\u001b[0m",
      "\u001b[0;31mKeyboardInterrupt\u001b[0m                         Traceback (most recent call last)",
      "Cell \u001b[0;32mIn[19], line 2\u001b[0m\n\u001b[1;32m      1\u001b[0m \u001b[39mwith\u001b[39;00m context_inference\u001b[39m.\u001b[39mpyhf_model(prepared_model):\n\u001b[0;32m----> 2\u001b[0m     step \u001b[39m=\u001b[39m pm\u001b[39m.\u001b[39;49mMetropolis()\n\u001b[1;32m      3\u001b[0m     post_data \u001b[39m=\u001b[39m pm\u001b[39m.\u001b[39msample(draws\u001b[39m=\u001b[39m\u001b[39m100\u001b[39m, chains \u001b[39m=\u001b[39m \u001b[39m1\u001b[39m, step\u001b[39m=\u001b[39mstep)\n\u001b[1;32m      4\u001b[0m     post_pred \u001b[39m=\u001b[39m pm\u001b[39m.\u001b[39msample_posterior_predictive(post_data)\n",
      "File \u001b[0;32m~/anaconda3/envs/pyhf_pymc/lib/python3.9/site-packages/pymc/step_methods/compound.py:89\u001b[0m, in \u001b[0;36mBlockedStep.__new__\u001b[0;34m(cls, *args, **kwargs)\u001b[0m\n\u001b[1;32m     86\u001b[0m step \u001b[39m=\u001b[39m \u001b[39msuper\u001b[39m()\u001b[39m.\u001b[39m\u001b[39m__new__\u001b[39m(\u001b[39mcls\u001b[39m)\n\u001b[1;32m     87\u001b[0m \u001b[39m# If we don't return the instance we have to manually\u001b[39;00m\n\u001b[1;32m     88\u001b[0m \u001b[39m# call __init__\u001b[39;00m\n\u001b[0;32m---> 89\u001b[0m step\u001b[39m.\u001b[39;49m\u001b[39m__init__\u001b[39;49m([var], \u001b[39m*\u001b[39;49margs, \u001b[39m*\u001b[39;49m\u001b[39m*\u001b[39;49mkwargs)\n\u001b[1;32m     90\u001b[0m \u001b[39m# Hack for creating the class correctly when unpickling.\u001b[39;00m\n\u001b[1;32m     91\u001b[0m step\u001b[39m.\u001b[39m__newargs \u001b[39m=\u001b[39m ([var],) \u001b[39m+\u001b[39m args, kwargs\n",
      "File \u001b[0;32m~/anaconda3/envs/pyhf_pymc/lib/python3.9/site-packages/pymc/step_methods/metropolis.py:227\u001b[0m, in \u001b[0;36mMetropolis.__init__\u001b[0;34m(self, vars, S, proposal_dist, scaling, tune, tune_interval, model, mode, **kwargs)\u001b[0m\n\u001b[1;32m    224\u001b[0m \u001b[39mself\u001b[39m\u001b[39m.\u001b[39mmode \u001b[39m=\u001b[39m mode\n\u001b[1;32m    226\u001b[0m shared \u001b[39m=\u001b[39m pm\u001b[39m.\u001b[39mmake_shared_replacements(initial_values, \u001b[39mvars\u001b[39m, model)\n\u001b[0;32m--> 227\u001b[0m \u001b[39mself\u001b[39m\u001b[39m.\u001b[39mdelta_logp \u001b[39m=\u001b[39m delta_logp(initial_values, model\u001b[39m.\u001b[39;49mlogp(), \u001b[39mvars\u001b[39;49m, shared)\n\u001b[1;32m    228\u001b[0m \u001b[39msuper\u001b[39m()\u001b[39m.\u001b[39m\u001b[39m__init__\u001b[39m(\u001b[39mvars\u001b[39m, shared)\n",
      "File \u001b[0;32m~/anaconda3/envs/pyhf_pymc/lib/python3.9/site-packages/pymc/step_methods/metropolis.py:1052\u001b[0m, in \u001b[0;36mdelta_logp\u001b[0;34m(point, logp, vars, shared)\u001b[0m\n\u001b[1;32m   1049\u001b[0m \u001b[39m# Replace any potential duplicated RNG nodes\u001b[39;00m\n\u001b[1;32m   1050\u001b[0m (logp1,) \u001b[39m=\u001b[39m replace_rng_nodes((logp1,))\n\u001b[0;32m-> 1052\u001b[0m f \u001b[39m=\u001b[39m compile_pymc([inarray1, inarray0], logp1 \u001b[39m-\u001b[39;49m logp0)\n\u001b[1;32m   1053\u001b[0m f\u001b[39m.\u001b[39mtrust_input \u001b[39m=\u001b[39m \u001b[39mTrue\u001b[39;00m\n\u001b[1;32m   1054\u001b[0m \u001b[39mreturn\u001b[39;00m f\n",
      "File \u001b[0;32m~/anaconda3/envs/pyhf_pymc/lib/python3.9/site-packages/pymc/pytensorf.py:1104\u001b[0m, in \u001b[0;36mcompile_pymc\u001b[0;34m(inputs, outputs, random_seed, mode, **kwargs)\u001b[0m\n\u001b[1;32m   1102\u001b[0m opt_qry \u001b[39m=\u001b[39m mode\u001b[39m.\u001b[39mprovided_optimizer\u001b[39m.\u001b[39mincluding(\u001b[39m\"\u001b[39m\u001b[39mrandom_make_inplace\u001b[39m\u001b[39m\"\u001b[39m, check_parameter_opt)\n\u001b[1;32m   1103\u001b[0m mode \u001b[39m=\u001b[39m Mode(linker\u001b[39m=\u001b[39mmode\u001b[39m.\u001b[39mlinker, optimizer\u001b[39m=\u001b[39mopt_qry)\n\u001b[0;32m-> 1104\u001b[0m pytensor_function \u001b[39m=\u001b[39m pytensor\u001b[39m.\u001b[39;49mfunction(\n\u001b[1;32m   1105\u001b[0m     inputs,\n\u001b[1;32m   1106\u001b[0m     outputs,\n\u001b[1;32m   1107\u001b[0m     updates\u001b[39m=\u001b[39;49m{\u001b[39m*\u001b[39;49m\u001b[39m*\u001b[39;49mrng_updates, \u001b[39m*\u001b[39;49m\u001b[39m*\u001b[39;49mkwargs\u001b[39m.\u001b[39;49mpop(\u001b[39m\"\u001b[39;49m\u001b[39mupdates\u001b[39;49m\u001b[39m\"\u001b[39;49m, {})},\n\u001b[1;32m   1108\u001b[0m     mode\u001b[39m=\u001b[39;49mmode,\n\u001b[1;32m   1109\u001b[0m     \u001b[39m*\u001b[39;49m\u001b[39m*\u001b[39;49mkwargs,\n\u001b[1;32m   1110\u001b[0m )\n\u001b[1;32m   1111\u001b[0m \u001b[39mreturn\u001b[39;00m pytensor_function\n",
      "File \u001b[0;32m~/anaconda3/envs/pyhf_pymc/lib/python3.9/site-packages/pytensor/compile/function/__init__.py:315\u001b[0m, in \u001b[0;36mfunction\u001b[0;34m(inputs, outputs, mode, updates, givens, no_default_updates, accept_inplace, name, rebuild_strict, allow_input_downcast, profile, on_unused_input)\u001b[0m\n\u001b[1;32m    309\u001b[0m     fn \u001b[39m=\u001b[39m orig_function(\n\u001b[1;32m    310\u001b[0m         inputs, outputs, mode\u001b[39m=\u001b[39mmode, accept_inplace\u001b[39m=\u001b[39maccept_inplace, name\u001b[39m=\u001b[39mname\n\u001b[1;32m    311\u001b[0m     )\n\u001b[1;32m    312\u001b[0m \u001b[39melse\u001b[39;00m:\n\u001b[1;32m    313\u001b[0m     \u001b[39m# note: pfunc will also call orig_function -- orig_function is\u001b[39;00m\n\u001b[1;32m    314\u001b[0m     \u001b[39m#      a choke point that all compilation must pass through\u001b[39;00m\n\u001b[0;32m--> 315\u001b[0m     fn \u001b[39m=\u001b[39m pfunc(\n\u001b[1;32m    316\u001b[0m         params\u001b[39m=\u001b[39;49minputs,\n\u001b[1;32m    317\u001b[0m         outputs\u001b[39m=\u001b[39;49moutputs,\n\u001b[1;32m    318\u001b[0m         mode\u001b[39m=\u001b[39;49mmode,\n\u001b[1;32m    319\u001b[0m         updates\u001b[39m=\u001b[39;49mupdates,\n\u001b[1;32m    320\u001b[0m         givens\u001b[39m=\u001b[39;49mgivens,\n\u001b[1;32m    321\u001b[0m         no_default_updates\u001b[39m=\u001b[39;49mno_default_updates,\n\u001b[1;32m    322\u001b[0m         accept_inplace\u001b[39m=\u001b[39;49maccept_inplace,\n\u001b[1;32m    323\u001b[0m         name\u001b[39m=\u001b[39;49mname,\n\u001b[1;32m    324\u001b[0m         rebuild_strict\u001b[39m=\u001b[39;49mrebuild_strict,\n\u001b[1;32m    325\u001b[0m         allow_input_downcast\u001b[39m=\u001b[39;49mallow_input_downcast,\n\u001b[1;32m    326\u001b[0m         on_unused_input\u001b[39m=\u001b[39;49mon_unused_input,\n\u001b[1;32m    327\u001b[0m         profile\u001b[39m=\u001b[39;49mprofile,\n\u001b[1;32m    328\u001b[0m         output_keys\u001b[39m=\u001b[39;49moutput_keys,\n\u001b[1;32m    329\u001b[0m     )\n\u001b[1;32m    330\u001b[0m \u001b[39mreturn\u001b[39;00m fn\n",
      "File \u001b[0;32m~/anaconda3/envs/pyhf_pymc/lib/python3.9/site-packages/pytensor/compile/function/pfunc.py:367\u001b[0m, in \u001b[0;36mpfunc\u001b[0;34m(params, outputs, mode, updates, givens, no_default_updates, accept_inplace, name, rebuild_strict, allow_input_downcast, profile, on_unused_input, output_keys, fgraph)\u001b[0m\n\u001b[1;32m    353\u001b[0m     profile \u001b[39m=\u001b[39m ProfileStats(message\u001b[39m=\u001b[39mprofile)\n\u001b[1;32m    355\u001b[0m inputs, cloned_outputs \u001b[39m=\u001b[39m construct_pfunc_ins_and_outs(\n\u001b[1;32m    356\u001b[0m     params,\n\u001b[1;32m    357\u001b[0m     outputs,\n\u001b[0;32m   (...)\u001b[0m\n\u001b[1;32m    364\u001b[0m     fgraph\u001b[39m=\u001b[39mfgraph,\n\u001b[1;32m    365\u001b[0m )\n\u001b[0;32m--> 367\u001b[0m \u001b[39mreturn\u001b[39;00m orig_function(\n\u001b[1;32m    368\u001b[0m     inputs,\n\u001b[1;32m    369\u001b[0m     cloned_outputs,\n\u001b[1;32m    370\u001b[0m     mode,\n\u001b[1;32m    371\u001b[0m     accept_inplace\u001b[39m=\u001b[39;49maccept_inplace,\n\u001b[1;32m    372\u001b[0m     name\u001b[39m=\u001b[39;49mname,\n\u001b[1;32m    373\u001b[0m     profile\u001b[39m=\u001b[39;49mprofile,\n\u001b[1;32m    374\u001b[0m     on_unused_input\u001b[39m=\u001b[39;49mon_unused_input,\n\u001b[1;32m    375\u001b[0m     output_keys\u001b[39m=\u001b[39;49moutput_keys,\n\u001b[1;32m    376\u001b[0m     fgraph\u001b[39m=\u001b[39;49mfgraph,\n\u001b[1;32m    377\u001b[0m )\n",
      "File \u001b[0;32m~/anaconda3/envs/pyhf_pymc/lib/python3.9/site-packages/pytensor/compile/function/types.py:1751\u001b[0m, in \u001b[0;36morig_function\u001b[0;34m(inputs, outputs, mode, accept_inplace, name, profile, on_unused_input, output_keys, fgraph)\u001b[0m\n\u001b[1;32m   1749\u001b[0m \u001b[39mtry\u001b[39;00m:\n\u001b[1;32m   1750\u001b[0m     Maker \u001b[39m=\u001b[39m \u001b[39mgetattr\u001b[39m(mode, \u001b[39m\"\u001b[39m\u001b[39mfunction_maker\u001b[39m\u001b[39m\"\u001b[39m, FunctionMaker)\n\u001b[0;32m-> 1751\u001b[0m     m \u001b[39m=\u001b[39m Maker(\n\u001b[1;32m   1752\u001b[0m         inputs,\n\u001b[1;32m   1753\u001b[0m         outputs,\n\u001b[1;32m   1754\u001b[0m         mode,\n\u001b[1;32m   1755\u001b[0m         accept_inplace\u001b[39m=\u001b[39;49maccept_inplace,\n\u001b[1;32m   1756\u001b[0m         profile\u001b[39m=\u001b[39;49mprofile,\n\u001b[1;32m   1757\u001b[0m         on_unused_input\u001b[39m=\u001b[39;49mon_unused_input,\n\u001b[1;32m   1758\u001b[0m         output_keys\u001b[39m=\u001b[39;49moutput_keys,\n\u001b[1;32m   1759\u001b[0m         name\u001b[39m=\u001b[39;49mname,\n\u001b[1;32m   1760\u001b[0m         fgraph\u001b[39m=\u001b[39;49mfgraph,\n\u001b[1;32m   1761\u001b[0m     )\n\u001b[1;32m   1762\u001b[0m     \u001b[39mwith\u001b[39;00m config\u001b[39m.\u001b[39mchange_flags(compute_test_value\u001b[39m=\u001b[39m\u001b[39m\"\u001b[39m\u001b[39moff\u001b[39m\u001b[39m\"\u001b[39m):\n\u001b[1;32m   1763\u001b[0m         fn \u001b[39m=\u001b[39m m\u001b[39m.\u001b[39mcreate(defaults)\n",
      "File \u001b[0;32m~/anaconda3/envs/pyhf_pymc/lib/python3.9/site-packages/pytensor/compile/function/types.py:1524\u001b[0m, in \u001b[0;36mFunctionMaker.__init__\u001b[0;34m(self, inputs, outputs, mode, accept_inplace, function_builder, profile, on_unused_input, fgraph, output_keys, name, no_fgraph_prep)\u001b[0m\n\u001b[1;32m   1521\u001b[0m \u001b[39mself\u001b[39m\u001b[39m.\u001b[39mfgraph \u001b[39m=\u001b[39m fgraph\n\u001b[1;32m   1523\u001b[0m \u001b[39mif\u001b[39;00m \u001b[39mnot\u001b[39;00m no_fgraph_prep:\n\u001b[0;32m-> 1524\u001b[0m     \u001b[39mself\u001b[39;49m\u001b[39m.\u001b[39;49mprepare_fgraph(inputs, outputs, found_updates, fgraph, mode, profile)\n\u001b[1;32m   1526\u001b[0m \u001b[39massert\u001b[39;00m \u001b[39mlen\u001b[39m(fgraph\u001b[39m.\u001b[39moutputs) \u001b[39m==\u001b[39m \u001b[39mlen\u001b[39m(outputs \u001b[39m+\u001b[39m found_updates)\n\u001b[1;32m   1528\u001b[0m \u001b[39m# The 'no_borrow' outputs are the ones for which that we can't\u001b[39;00m\n\u001b[1;32m   1529\u001b[0m \u001b[39m# return the internal storage pointer.\u001b[39;00m\n",
      "File \u001b[0;32m~/anaconda3/envs/pyhf_pymc/lib/python3.9/site-packages/pytensor/compile/function/types.py:1416\u001b[0m, in \u001b[0;36mFunctionMaker.prepare_fgraph\u001b[0;34m(inputs, outputs, additional_outputs, fgraph, mode, profile)\u001b[0m\n\u001b[1;32m   1409\u001b[0m rewrite_time \u001b[39m=\u001b[39m \u001b[39mNone\u001b[39;00m\n\u001b[1;32m   1411\u001b[0m \u001b[39mwith\u001b[39;00m config\u001b[39m.\u001b[39mchange_flags(\n\u001b[1;32m   1412\u001b[0m     mode\u001b[39m=\u001b[39mmode,\n\u001b[1;32m   1413\u001b[0m     compute_test_value\u001b[39m=\u001b[39mconfig\u001b[39m.\u001b[39mcompute_test_value_opt,\n\u001b[1;32m   1414\u001b[0m     traceback__limit\u001b[39m=\u001b[39mconfig\u001b[39m.\u001b[39mtraceback__compile_limit,\n\u001b[1;32m   1415\u001b[0m ):\n\u001b[0;32m-> 1416\u001b[0m     rewriter_profile \u001b[39m=\u001b[39m rewriter(fgraph)\n\u001b[1;32m   1418\u001b[0m     end_rewriter \u001b[39m=\u001b[39m time\u001b[39m.\u001b[39mperf_counter()\n\u001b[1;32m   1419\u001b[0m     rewrite_time \u001b[39m=\u001b[39m end_rewriter \u001b[39m-\u001b[39m start_rewriter\n",
      "File \u001b[0;32m~/anaconda3/envs/pyhf_pymc/lib/python3.9/site-packages/pytensor/graph/rewriting/basic.py:127\u001b[0m, in \u001b[0;36mGraphRewriter.__call__\u001b[0;34m(self, fgraph)\u001b[0m\n\u001b[1;32m    125\u001b[0m \u001b[39mdef\u001b[39;00m \u001b[39m__call__\u001b[39m(\u001b[39mself\u001b[39m, fgraph):\n\u001b[1;32m    126\u001b[0m \u001b[39m    \u001b[39m\u001b[39m\"\"\"Rewrite a `FunctionGraph`.\"\"\"\u001b[39;00m\n\u001b[0;32m--> 127\u001b[0m     \u001b[39mreturn\u001b[39;00m \u001b[39mself\u001b[39;49m\u001b[39m.\u001b[39;49mrewrite(fgraph)\n",
      "File \u001b[0;32m~/anaconda3/envs/pyhf_pymc/lib/python3.9/site-packages/pytensor/graph/rewriting/basic.py:123\u001b[0m, in \u001b[0;36mGraphRewriter.rewrite\u001b[0;34m(self, fgraph, *args, **kwargs)\u001b[0m\n\u001b[1;32m    114\u001b[0m \u001b[39m\u001b[39m\u001b[39m\"\"\"\u001b[39;00m\n\u001b[1;32m    115\u001b[0m \n\u001b[1;32m    116\u001b[0m \u001b[39mThis is meant as a shortcut for the following::\u001b[39;00m\n\u001b[0;32m   (...)\u001b[0m\n\u001b[1;32m    120\u001b[0m \n\u001b[1;32m    121\u001b[0m \u001b[39m\"\"\"\u001b[39;00m\n\u001b[1;32m    122\u001b[0m \u001b[39mself\u001b[39m\u001b[39m.\u001b[39madd_requirements(fgraph)\n\u001b[0;32m--> 123\u001b[0m \u001b[39mreturn\u001b[39;00m \u001b[39mself\u001b[39;49m\u001b[39m.\u001b[39;49mapply(fgraph, \u001b[39m*\u001b[39;49margs, \u001b[39m*\u001b[39;49m\u001b[39m*\u001b[39;49mkwargs)\n",
      "File \u001b[0;32m~/anaconda3/envs/pyhf_pymc/lib/python3.9/site-packages/pytensor/graph/rewriting/basic.py:294\u001b[0m, in \u001b[0;36mSequentialGraphRewriter.apply\u001b[0;34m(self, fgraph)\u001b[0m\n\u001b[1;32m    292\u001b[0m nb_nodes_before \u001b[39m=\u001b[39m \u001b[39mlen\u001b[39m(fgraph\u001b[39m.\u001b[39mapply_nodes)\n\u001b[1;32m    293\u001b[0m t0 \u001b[39m=\u001b[39m time\u001b[39m.\u001b[39mperf_counter()\n\u001b[0;32m--> 294\u001b[0m sub_prof \u001b[39m=\u001b[39m rewriter\u001b[39m.\u001b[39;49mapply(fgraph)\n\u001b[1;32m    295\u001b[0m l\u001b[39m.\u001b[39mappend(\u001b[39mfloat\u001b[39m(time\u001b[39m.\u001b[39mperf_counter() \u001b[39m-\u001b[39m t0))\n\u001b[1;32m    296\u001b[0m sub_profs\u001b[39m.\u001b[39mappend(sub_prof)\n",
      "File \u001b[0;32m~/anaconda3/envs/pyhf_pymc/lib/python3.9/site-packages/pytensor/graph/rewriting/basic.py:2431\u001b[0m, in \u001b[0;36mEquilibriumGraphRewriter.apply\u001b[0;34m(self, fgraph, start_from)\u001b[0m\n\u001b[1;32m   2429\u001b[0m nb \u001b[39m=\u001b[39m change_tracker\u001b[39m.\u001b[39mnb_imported\n\u001b[1;32m   2430\u001b[0m t_rewrite \u001b[39m=\u001b[39m time\u001b[39m.\u001b[39mperf_counter()\n\u001b[0;32m-> 2431\u001b[0m node_rewriter_change \u001b[39m=\u001b[39m \u001b[39mself\u001b[39;49m\u001b[39m.\u001b[39;49mprocess_node(\n\u001b[1;32m   2432\u001b[0m     fgraph, node, node_rewriter\n\u001b[1;32m   2433\u001b[0m )\n\u001b[1;32m   2434\u001b[0m time_rewriters[node_rewriter] \u001b[39m+\u001b[39m\u001b[39m=\u001b[39m time\u001b[39m.\u001b[39mperf_counter() \u001b[39m-\u001b[39m t_rewrite\n\u001b[1;32m   2435\u001b[0m \u001b[39mif\u001b[39;00m \u001b[39mnot\u001b[39;00m node_rewriter_change:\n",
      "File \u001b[0;32m~/anaconda3/envs/pyhf_pymc/lib/python3.9/site-packages/pytensor/graph/rewriting/basic.py:1971\u001b[0m, in \u001b[0;36mNodeProcessingGraphRewriter.process_node\u001b[0;34m(self, fgraph, node, node_rewriter)\u001b[0m\n\u001b[1;32m   1969\u001b[0m     \u001b[39mreturn\u001b[39;00m \u001b[39mFalse\u001b[39;00m\n\u001b[1;32m   1970\u001b[0m \u001b[39mtry\u001b[39;00m:\n\u001b[0;32m-> 1971\u001b[0m     fgraph\u001b[39m.\u001b[39;49mreplace_all_validate_remove(  \u001b[39m# type: ignore\u001b[39;49;00m\n\u001b[1;32m   1972\u001b[0m         repl_pairs, reason\u001b[39m=\u001b[39;49mnode_rewriter, remove\u001b[39m=\u001b[39;49mremove\n\u001b[1;32m   1973\u001b[0m     )\n\u001b[1;32m   1974\u001b[0m     \u001b[39mreturn\u001b[39;00m \u001b[39mTrue\u001b[39;00m\n\u001b[1;32m   1975\u001b[0m \u001b[39mexcept\u001b[39;00m \u001b[39mException\u001b[39;00m \u001b[39mas\u001b[39;00m e:\n\u001b[1;32m   1976\u001b[0m     \u001b[39m# This means the replacements were rejected by the fgraph.\u001b[39;00m\n\u001b[1;32m   1977\u001b[0m     \u001b[39m#\u001b[39;00m\n\u001b[1;32m   1978\u001b[0m     \u001b[39m# This is not supposed to happen.  The default failure_callback\u001b[39;00m\n\u001b[1;32m   1979\u001b[0m     \u001b[39m# will print a traceback as a warning.\u001b[39;00m\n",
      "File \u001b[0;32m~/anaconda3/envs/pyhf_pymc/lib/python3.9/site-packages/pytensor/graph/features.py:626\u001b[0m, in \u001b[0;36mReplaceValidate.replace_all_validate_remove\u001b[0;34m(self, fgraph, replacements, remove, reason, warn, **kwargs)\u001b[0m\n\u001b[1;32m    618\u001b[0m \u001b[39mdef\u001b[39;00m \u001b[39mreplace_all_validate_remove\u001b[39m(\n\u001b[1;32m    619\u001b[0m     \u001b[39mself\u001b[39m, fgraph, replacements, remove, reason\u001b[39m=\u001b[39m\u001b[39mNone\u001b[39;00m, warn\u001b[39m=\u001b[39m\u001b[39mTrue\u001b[39;00m, \u001b[39m*\u001b[39m\u001b[39m*\u001b[39mkwargs\n\u001b[1;32m    620\u001b[0m ):\n\u001b[1;32m    621\u001b[0m \u001b[39m    \u001b[39m\u001b[39m\"\"\"\u001b[39;00m\n\u001b[1;32m    622\u001b[0m \u001b[39m    As replace_all_validate, revert the replacement if the ops\u001b[39;00m\n\u001b[1;32m    623\u001b[0m \u001b[39m    in the list remove are still in the graph. Also print a warning.\u001b[39;00m\n\u001b[1;32m    624\u001b[0m \n\u001b[1;32m    625\u001b[0m \u001b[39m    \"\"\"\u001b[39;00m\n\u001b[0;32m--> 626\u001b[0m     chk \u001b[39m=\u001b[39m fgraph\u001b[39m.\u001b[39;49mreplace_all_validate(replacements, reason\u001b[39m=\u001b[39;49mreason, \u001b[39m*\u001b[39;49m\u001b[39m*\u001b[39;49mkwargs)\n\u001b[1;32m    627\u001b[0m     \u001b[39mself\u001b[39m\u001b[39m.\u001b[39m_nodes_removed\u001b[39m.\u001b[39mupdate(remove)\n\u001b[1;32m    628\u001b[0m     \u001b[39mfor\u001b[39;00m rm \u001b[39min\u001b[39;00m remove:\n",
      "File \u001b[0;32m~/anaconda3/envs/pyhf_pymc/lib/python3.9/site-packages/pytensor/graph/features.py:571\u001b[0m, in \u001b[0;36mReplaceValidate.replace_all_validate\u001b[0;34m(self, fgraph, replacements, reason, verbose, **kwargs)\u001b[0m\n\u001b[1;32m    569\u001b[0m \u001b[39mfor\u001b[39;00m r, new_r \u001b[39min\u001b[39;00m replacements:\n\u001b[1;32m    570\u001b[0m     \u001b[39mtry\u001b[39;00m:\n\u001b[0;32m--> 571\u001b[0m         fgraph\u001b[39m.\u001b[39;49mreplace(r, new_r, reason\u001b[39m=\u001b[39;49mreason, verbose\u001b[39m=\u001b[39;49m\u001b[39mFalse\u001b[39;49;00m, \u001b[39m*\u001b[39;49m\u001b[39m*\u001b[39;49mkwargs)\n\u001b[1;32m    572\u001b[0m     \u001b[39mexcept\u001b[39;00m \u001b[39mException\u001b[39;00m \u001b[39mas\u001b[39;00m e:\n\u001b[1;32m    573\u001b[0m         msg \u001b[39m=\u001b[39m \u001b[39mstr\u001b[39m(e)\n",
      "File \u001b[0;32m~/anaconda3/envs/pyhf_pymc/lib/python3.9/site-packages/pytensor/graph/fg.py:521\u001b[0m, in \u001b[0;36mFunctionGraph.replace\u001b[0;34m(self, var, new_var, reason, verbose, import_missing)\u001b[0m\n\u001b[1;32m    514\u001b[0m             \u001b[39mraise\u001b[39;00m \u001b[39mAssertionError\u001b[39;00m(\n\u001b[1;32m    515\u001b[0m                 \u001b[39m\"\u001b[39m\u001b[39mThe replacement variable has a test value with \u001b[39m\u001b[39m\"\u001b[39m\n\u001b[1;32m    516\u001b[0m                 \u001b[39m\"\u001b[39m\u001b[39ma shape different from the original variable\u001b[39m\u001b[39m'\u001b[39m\u001b[39ms \u001b[39m\u001b[39m\"\u001b[39m\n\u001b[1;32m    517\u001b[0m                 \u001b[39mf\u001b[39m\u001b[39m\"\u001b[39m\u001b[39mtest value. Original: \u001b[39m\u001b[39m{\u001b[39;00mtval_shape\u001b[39m}\u001b[39;00m\u001b[39m, new: \u001b[39m\u001b[39m{\u001b[39;00mnew_tval_shape\u001b[39m}\u001b[39;00m\u001b[39m\"\u001b[39m\n\u001b[1;32m    518\u001b[0m             )\n\u001b[1;32m    520\u001b[0m \u001b[39mfor\u001b[39;00m node, i \u001b[39min\u001b[39;00m \u001b[39mlist\u001b[39m(\u001b[39mself\u001b[39m\u001b[39m.\u001b[39mclients[var]):\n\u001b[0;32m--> 521\u001b[0m     \u001b[39mself\u001b[39;49m\u001b[39m.\u001b[39;49mchange_node_input(\n\u001b[1;32m    522\u001b[0m         node, i, new_var, reason\u001b[39m=\u001b[39;49mreason, import_missing\u001b[39m=\u001b[39;49mimport_missing\n\u001b[1;32m    523\u001b[0m     )\n",
      "File \u001b[0;32m~/anaconda3/envs/pyhf_pymc/lib/python3.9/site-packages/pytensor/graph/fg.py:452\u001b[0m, in \u001b[0;36mFunctionGraph.change_node_input\u001b[0;34m(self, node, i, new_var, reason, import_missing, check)\u001b[0m\n\u001b[1;32m    450\u001b[0m \u001b[39mself\u001b[39m\u001b[39m.\u001b[39mimport_var(new_var, reason\u001b[39m=\u001b[39mreason, import_missing\u001b[39m=\u001b[39mimport_missing)\n\u001b[1;32m    451\u001b[0m \u001b[39mself\u001b[39m\u001b[39m.\u001b[39madd_client(new_var, (node, i))\n\u001b[0;32m--> 452\u001b[0m \u001b[39mself\u001b[39;49m\u001b[39m.\u001b[39;49mremove_client(r, (node, i), reason\u001b[39m=\u001b[39;49mreason)\n\u001b[1;32m    453\u001b[0m \u001b[39m# Precondition: the substitution is semantically valid However it may\u001b[39;00m\n\u001b[1;32m    454\u001b[0m \u001b[39m# introduce cycles to the graph, in which case the transaction will be\u001b[39;00m\n\u001b[1;32m    455\u001b[0m \u001b[39m# reverted later.\u001b[39;00m\n\u001b[1;32m    456\u001b[0m \u001b[39mself\u001b[39m\u001b[39m.\u001b[39mexecute_callbacks(\u001b[39m\"\u001b[39m\u001b[39mon_change_input\u001b[39m\u001b[39m\"\u001b[39m, node, i, r, new_var, reason\u001b[39m=\u001b[39mreason)\n",
      "File \u001b[0;32m~/anaconda3/envs/pyhf_pymc/lib/python3.9/site-packages/pytensor/graph/fg.py:282\u001b[0m, in \u001b[0;36mFunctionGraph.remove_client\u001b[0;34m(self, var, client_to_remove, reason, remove_if_empty)\u001b[0m\n\u001b[1;32m    278\u001b[0m \u001b[39mself\u001b[39m\u001b[39m.\u001b[39mapply_nodes\u001b[39m.\u001b[39mremove(apply_node)\n\u001b[1;32m    280\u001b[0m \u001b[39mself\u001b[39m\u001b[39m.\u001b[39mvariables\u001b[39m.\u001b[39mdifference_update(apply_node\u001b[39m.\u001b[39moutputs)\n\u001b[0;32m--> 282\u001b[0m \u001b[39mself\u001b[39;49m\u001b[39m.\u001b[39;49mexecute_callbacks(\u001b[39m\"\u001b[39;49m\u001b[39mon_prune\u001b[39;49m\u001b[39m\"\u001b[39;49m, apply_node, reason)\n\u001b[1;32m    284\u001b[0m \u001b[39mfor\u001b[39;00m i, in_var \u001b[39min\u001b[39;00m \u001b[39menumerate\u001b[39m(apply_node\u001b[39m.\u001b[39minputs):\n\u001b[1;32m    285\u001b[0m     removal_stack\u001b[39m.\u001b[39mappend((in_var, (apply_node, i)))\n",
      "File \u001b[0;32m~/anaconda3/envs/pyhf_pymc/lib/python3.9/site-packages/pytensor/graph/fg.py:732\u001b[0m, in \u001b[0;36mFunctionGraph.execute_callbacks\u001b[0;34m(self, name, *args, **kwargs)\u001b[0m\n\u001b[1;32m    730\u001b[0m     fn(\u001b[39mself\u001b[39m, \u001b[39m*\u001b[39margs, \u001b[39m*\u001b[39m\u001b[39m*\u001b[39mkwargs)\n\u001b[1;32m    731\u001b[0m     \u001b[39mself\u001b[39m\u001b[39m.\u001b[39mexecute_callbacks_times[feature] \u001b[39m+\u001b[39m\u001b[39m=\u001b[39m time\u001b[39m.\u001b[39mperf_counter() \u001b[39m-\u001b[39m tf0\n\u001b[0;32m--> 732\u001b[0m \u001b[39mself\u001b[39m\u001b[39m.\u001b[39mexecute_callbacks_time \u001b[39m+\u001b[39m\u001b[39m=\u001b[39m time\u001b[39m.\u001b[39mperf_counter() \u001b[39m-\u001b[39m t0\n",
      "\u001b[0;31mKeyboardInterrupt\u001b[0m: "
     ]
    }
   ],
   "source": [
    "with context_inference.pyhf_model(prepared_model):\n",
    "    step = pm.Metropolis()\n",
    "    post_data = pm.sample(draws=100, chains = 1, step=step)\n",
    "    post_pred = pm.sample_posterior_predictive(post_data)\n",
    "    prior_pred = pm.sample_prior_predictive(100)\n",
    "\n"
   ]
  },
  {
   "cell_type": "code",
   "execution_count": null,
   "metadata": {},
   "outputs": [],
   "source": [
    "mean0 = prior_pred.prior_predictive.Expected_Data[0].T[0].mean()\n",
    "mean1 = prior_pred.prior_predictive.Expected_Data[0].T[1].mean()\n",
    "mean2 = prior_pred.prior_predictive.Expected_Data[0].T[2].mean()\n",
    "\n",
    "post_mean0 = post_pred.posterior_predictive.Expected_Data[0].T[0].mean()\n",
    "post_mean1 = post_pred.posterior_predictive.Expected_Data[0].T[1].mean()\n",
    "post_mean2 = post_pred.posterior_predictive.Expected_Data[0].T[2].mean()"
   ]
  },
  {
   "cell_type": "code",
   "execution_count": null,
   "metadata": {},
   "outputs": [
    {
     "data": {
      "image/png": "[encoded data removed]",
      "text/plain": [
       "<Figure size 640x480 with 1 Axes>"
      ]
     },
     "metadata": {},
     "output_type": "display_data"
    }
   ],
   "source": [
    "plt.scatter(np.linspace(0,nBins-1,nBins), [mean0, mean1, mean2], color=orange, label='Prior Predictive')\n",
    "\n",
    "plt.scatter(np.full(len(prior_pred.prior_predictive.Expected_Data[0].T[0]), 0), prior_pred.prior_predictive.Expected_Data[0].T[0], alpha=0.1, color=orange, linewidths=0)\n",
    "plt.scatter(np.full(len(prior_pred.prior_predictive.Expected_Data[0].T[0]), 1), prior_pred.prior_predictive.Expected_Data[0].T[1], alpha=0.1, color=orange, linewidths=0)\n",
    "plt.scatter(np.full(len(prior_pred.prior_predictive.Expected_Data[0].T[0]), 2), prior_pred.prior_predictive.Expected_Data[0].T[2], alpha=0.1, color=orange, linewidths=0)\n",
    "\n",
    "\n",
    "plt.scatter(np.linspace(0,nBins-1,nBins), [post_mean0, post_mean1, post_mean2], color=blue, label='Posterior Predictive')\n",
    "\n",
    "plt.scatter(np.full(len(prior_pred.prior_predictive.Expected_Data[0].T[0]), 0), post_pred.posterior_predictive.Expected_Data[0].T[0], alpha=0.1, color=blue, linewidths=0)\n",
    "plt.scatter(np.full(len(prior_pred.prior_predictive.Expected_Data[0].T[0]), 1), post_pred.posterior_predictive.Expected_Data[0].T[1], alpha=0.1, color=blue, linewidths=0)\n",
    "plt.scatter(np.full(len(prior_pred.prior_predictive.Expected_Data[0].T[0]), 2), post_pred.posterior_predictive.Expected_Data[0].T[2], alpha=0.1, color=blue, linewidths=0)\n",
    "\n",
    "# Observations\n",
    "plt.scatter(np.arange(nBins), obs, marker='3', c = 'k',s=200, zorder = 999, label = \"Data\")\n",
    "plt.legend(loc='upper left')\n",
    "\n",
    "plt.xticks([0, 1, 2])\n",
    "plt.xlabel('Bins')\n",
    "plt.ylabel('Events')\n",
    "\n",
    "plt.savefig('final_plots/prior_posterior_events.pdf')\n"
   ]
  },
  {
   "cell_type": "code",
   "execution_count": null,
   "metadata": {},
   "outputs": [],
   "source": [
    "# Prior\n",
    "plt.step(np.linspace(0,nBins-1,nBins),prior_pred.prior_predictive.Expected_Data[0].T, alpha = 0.035, c = orange, where = 'mid');\n",
    "plt.vlines(np.arange(nBins),*np.quantile(prior_pred.prior_predictive.Expected_Data[0],[.15,.85],axis=0), colors = orange , label='Prior Predictive');\n",
    "\n",
    "# Posterior\n",
    "plt.step(np.linspace(0,nBins-1,nBins),post_pred.posterior_predictive.Expected_Data[0].T, alpha = 0.035, c = blue, where = 'mid');\n",
    "plt.vlines(np.arange(nBins),*np.quantile(post_pred.posterior_predictive.Expected_Data[0],[.15,.85],axis=0), colors = blue, label='Posterior Predictive')\n",
    "\n",
    "# Observations\n",
    "plt.scatter(np.arange(nBins), obs, c = 'k',s=24, zorder = 999, label = \"Data\")\n",
    "plt.legend(loc='upper left')\n",
    "# plt.margins(x=0.015)\n",
    "\n",
    "plt.title(f'Prior and Posterior Predictive ')\n",
    "plt.xticks([0, 1, 2])\n",
    "plt.xlabel('Bins')\n",
    "plt.ylabel('Events')\n",
    "\n",
    "\n",
    "plt.show()"
   ]
  },
  {
   "attachments": {},
   "cell_type": "markdown",
   "metadata": {},
   "source": [
    "## Corner Plots Prior / Posterior"
   ]
  },
  {
   "cell_type": "code",
   "execution_count": null,
   "metadata": {},
   "outputs": [
    {
     "name": "stderr",
     "output_type": "stream",
     "text": [
      "Sampling 1 chain for 1_000 tune and 10_000 draw iterations (1_000 + 10_000 draws total) took 1 seconds.\n"
     ]
    },
    {
     "name": "stderr",
     "output_type": "stream",
     "text": [
      "Sampling: [Expected_Data, Normals, Unconstrained]\n"
     ]
    }
   ],
   "source": [
    "with context_inference.pyhf_model(prepared_model):\n",
    "    step = pm.Metropolis()\n",
    "    post_data = pm.sample(10_000, chains = 1, step=step)\n",
    "    post_pred = pm.sample_posterior_predictive(post_data)\n",
    "    prior_pred = pm.sample_prior_predictive(10_000)"
   ]
  },
  {
   "cell_type": "code",
   "execution_count": null,
   "metadata": {},
   "outputs": [],
   "source": [
    "my_range = [(-5, 5), (0, 16)]\n",
    "my_bins = [25, 25]\n",
    "\n",
    "a = corner.corner(prior_pred.prior, quantiles=[0.5], show_titles=True, title_fmt=None, color=orange, labels=['', ''], bins=my_bins, range=my_range)\n",
    "corner.corner(post_data.posterior, quantiles=[0.5], color = blue, truths=[0., 2.], truth_color='grey', bins=[25, 25], fig=a, labels=['Correlated background', 'Signal strength'], range=my_range)\n",
    "a.suptitle('Prior and Posterior Parameter Distributions')\n"
   ]
  },
  {
   "cell_type": "code",
   "execution_count": null,
   "metadata": {},
   "outputs": [
    {
     "data": {
      "image/png": "[encoded data removed]",
      "text/plain": [
       "<Figure size 550x580 with 3 Axes>"
      ]
     },
     "metadata": {},
     "output_type": "display_data"
    }
   ],
   "source": [
    "yrange = (0, 13_000)\n",
    "\n",
    "fig, axs = plt.subplots(2, 2, figsize=(5.5, 5.8))\n",
    "plt.subplots_adjust(wspace=0.05, hspace=0.05)\n",
    "# fig.suptitle('Prior and Posterior Parameter Distributions')\n",
    "axs[0, 1].remove()\n",
    "\n",
    "ax1 = axs[0, 0]\n",
    "ax2 = axs[1, 0]\n",
    "ax3 = axs[1, 1]\n",
    "\n",
    "# Normals Histogram\n",
    "ax1.hist(prior_pred.prior.Normals[0], bins=30, histtype='step', color=orange)\n",
    "_, bins, _ = ax1.hist(prior_pred.prior.Normals[0], bins=30, histtype='step', color=orange, alpha=0.000001)\n",
    "ax1.hist(post_data.posterior.Normals[0], bins=bins, histtype='step', color=blue)\n",
    "ax1.set_ylim(130)\n",
    "ax1.vlines(0, 0, 13_000, color='grey')\n",
    "ax1.set_yticks([])\n",
    "\n",
    "\n",
    "# Scatter Plot\n",
    "ax2.scatter(prior_pred.prior.Normals[0], prior_pred.prior.Unconstrained[0], alpha=0.6, s=0.04, color=orange)\n",
    "ax2.scatter(post_data.posterior.Normals[0], post_data.posterior.Unconstrained[0], alpha=0.6, s=0.04, color=blue)\n",
    "ax2.vlines(0, -2, 30, color='black')\n",
    "ax2.set_ylim(-2, 20)\n",
    "ax2.hlines(2, -6, 6, color='black')\n",
    "ax2.set_xlim(-4, 4)\n",
    "ax2.scatter(0, 2, color='black')\n",
    "ax2.set_xlabel('Background')\n",
    "ax2.set_ylabel('Signal strength')\n",
    "\n",
    "# Unconstrained Histogram\n",
    "ax3.hist(prior_pred.prior.Unconstrained[0], bins=30, histtype='step', color=orange, label='Prior')\n",
    "_, bins, _ = ax3.hist(prior_pred.prior.Unconstrained[0], bins=30, histtype='step', color=orange, alpha=0.000001)\n",
    "ax3.hist(post_data.posterior.Unconstrained[0], bins=bins, histtype='step', color=blue, label='Posterior')\n",
    "ax3.set_yticks([])\n",
    "ax3.set_xticks([0, 10, 20])\n",
    "ax3.set_ylim(30)\n",
    "ax3.set_xlim(0)\n",
    "ax3.vlines(2, 0, 13_000, color='black', label='Truth')\n",
    "ax3.set_xlabel('Signal strength')\n",
    "plt.rc('legend', fontsize=14)  \n",
    "ax3.legend()\n",
    "\n",
    "# Hide x labels and tick labels for top plots and y ticks for right plots.\n",
    "for ax in axs.flat:\n",
    "    ax.label_outer()\n",
    "\n",
    "  "
   ]
  },
  {
   "attachments": {},
   "cell_type": "markdown",
   "metadata": {},
   "source": [
    "## Calibration Posterior Distribution"
   ]
  },
  {
   "cell_type": "code",
   "execution_count": 6,
   "metadata": {},
   "outputs": [],
   "source": [
    "expData_op = make_op.make_op(prepared_model)"
   ]
  },
  {
   "cell_type": "code",
   "execution_count": 9,
   "metadata": {},
   "outputs": [],
   "source": [
    "def prior_pars_data(n_samples):\n",
    "        with pm.Model() as m:\n",
    "                pars = prepare_inference.priors2pymc(prepared_model)\n",
    "\n",
    "                Expected_Data = pm.Poisson(\"Expected_Data\", mu=expData_op(pars))\n",
    "                \n",
    "                prior_pred = pm.sample_prior_predictive(n_samples)\n",
    "\n",
    "        return np.array(prior_pred.prior.Normals[0]), np.array(prior_pred.prior.Unconstrained[0]), np.array(prior_pred.prior_predictive.Expected_Data[0])\n",
    "\n",
    "def posterior_from_prior(prior_data):\n",
    "        n_samples = len(np.array(prior_pred.prior_predictive.Expected_Data[0]))\n",
    "        with pm.Model() as m:\n",
    "                pars = prepare_inference.priors2pymc(prepared_model)\n",
    "\n",
    "                \n",
    "                Expected_Data = pm.Poisson(\"Expected_Data\", mu=expData_op(pars), observed=prior_data)\n",
    "                \n",
    "                step1 = pm.Metropolis()\n",
    "                post_data = pm.sample(n_samples, chains=1, step=step1)\n",
    "                post_pred = pm.sample_posterior_predictive(post_data)\n",
    "\n",
    "        return np.array(post_data.posterior.Normals[0]), np.array(post_data.posterior.Unconstrained[0]), np.array(post_pred.posterior_predictive.Expected_Data[0][0])\n",
    "        "
   ]
  },
  {
   "cell_type": "code",
   "execution_count": 10,
   "metadata": {},
   "outputs": [
    {
     "ename": "AttributeError",
     "evalue": "'dict' object has no attribute 'expected_actualdata'\nApply node that caused the error: ExpDataOp(MakeVector{dtype='float64'}.0)\nToposort index: 5\nInputs types: [TensorType(float64, (2,))]\nInputs shapes: [(2,)]\nInputs strides: [(8,)]\nInputs values: [array([-4.62727122e-03,  6.22846925e+00])]\nOutputs clients: [[poisson_rv{0, (0,), int64, True}(RandomGeneratorSharedVariable(<Generator(PCG64) at 0x2CC749120>), TensorConstant{[]}, TensorConstant{4}, ExpDataOp.0)]]\n\nBacktrace when the node is created (use PyTensor flag traceback__limit=N to make it longer):\n  File \"/Users/malinhorstmann/anaconda3/envs/pyhf_pymc/lib/python3.9/site-packages/IPython/core/interactiveshell.py\", line 2945, in run_cell\n    result = self._run_cell(\n  File \"/Users/malinhorstmann/anaconda3/envs/pyhf_pymc/lib/python3.9/site-packages/IPython/core/interactiveshell.py\", line 3000, in _run_cell\n    return runner(coro)\n  File \"/Users/malinhorstmann/anaconda3/envs/pyhf_pymc/lib/python3.9/site-packages/IPython/core/async_helpers.py\", line 129, in _pseudo_sync_runner\n    coro.send(None)\n  File \"/Users/malinhorstmann/anaconda3/envs/pyhf_pymc/lib/python3.9/site-packages/IPython/core/interactiveshell.py\", line 3203, in run_cell_async\n    has_raised = await self.run_ast_nodes(code_ast.body, cell_name,\n  File \"/Users/malinhorstmann/anaconda3/envs/pyhf_pymc/lib/python3.9/site-packages/IPython/core/interactiveshell.py\", line 3382, in run_ast_nodes\n    if await self.run_code(code, result, async_=asy):\n  File \"/Users/malinhorstmann/anaconda3/envs/pyhf_pymc/lib/python3.9/site-packages/IPython/core/interactiveshell.py\", line 3442, in run_code\n    exec(code_obj, self.user_global_ns, self.user_ns)\n  File \"/var/folders/p9/sw_pjm3j027cxfs57s_91bfw0000gn/T/ipykernel_4423/3139989689.py\", line 1, in <module>\n    prior_Normals, prior_Unconstrained, prior_data = prior_pars_data(3)\n  File \"/var/folders/p9/sw_pjm3j027cxfs57s_91bfw0000gn/T/ipykernel_4423/3911387153.py\", line 5, in prior_pars_data\n    Expected_Data = pm.Poisson(\"Expected_Data\", mu=expData_op(pars))\n\nHINT: Use the PyTensor flag `exception_verbosity=high` for a debug print-out and storage map footprint of this Apply node.",
     "output_type": "error",
     "traceback": [
      "\u001b[0;31m---------------------------------------------------------------------------\u001b[0m",
      "\u001b[0;31mAttributeError\u001b[0m                            Traceback (most recent call last)",
      "File \u001b[0;32m~/anaconda3/envs/pyhf_pymc/lib/python3.9/site-packages/pytensor/compile/function/types.py:972\u001b[0m, in \u001b[0;36mFunction.__call__\u001b[0;34m(self, *args, **kwargs)\u001b[0m\n\u001b[1;32m    970\u001b[0m \u001b[39mtry\u001b[39;00m:\n\u001b[1;32m    971\u001b[0m     outputs \u001b[39m=\u001b[39m (\n\u001b[0;32m--> 972\u001b[0m         \u001b[39mself\u001b[39;49m\u001b[39m.\u001b[39;49mvm()\n\u001b[1;32m    973\u001b[0m         \u001b[39mif\u001b[39;00m output_subset \u001b[39mis\u001b[39;00m \u001b[39mNone\u001b[39;00m\n\u001b[1;32m    974\u001b[0m         \u001b[39melse\u001b[39;00m \u001b[39mself\u001b[39m\u001b[39m.\u001b[39mvm(output_subset\u001b[39m=\u001b[39moutput_subset)\n\u001b[1;32m    975\u001b[0m     )\n\u001b[1;32m    976\u001b[0m \u001b[39mexcept\u001b[39;00m \u001b[39mException\u001b[39;00m:\n",
      "File \u001b[0;32m~/anaconda3/envs/pyhf_pymc/lib/python3.9/site-packages/pytensor/graph/op.py:544\u001b[0m, in \u001b[0;36mOp.make_py_thunk.<locals>.rval\u001b[0;34m(p, i, o, n, params)\u001b[0m\n\u001b[1;32m    540\u001b[0m \u001b[39m@is_thunk_type\u001b[39m\n\u001b[1;32m    541\u001b[0m \u001b[39mdef\u001b[39;00m \u001b[39mrval\u001b[39m(\n\u001b[1;32m    542\u001b[0m     p\u001b[39m=\u001b[39mp, i\u001b[39m=\u001b[39mnode_input_storage, o\u001b[39m=\u001b[39mnode_output_storage, n\u001b[39m=\u001b[39mnode, params\u001b[39m=\u001b[39m\u001b[39mNone\u001b[39;00m\n\u001b[1;32m    543\u001b[0m ):\n\u001b[0;32m--> 544\u001b[0m     r \u001b[39m=\u001b[39m p(n, [x[\u001b[39m0\u001b[39;49m] \u001b[39mfor\u001b[39;49;00m x \u001b[39min\u001b[39;49;00m i], o)\n\u001b[1;32m    545\u001b[0m     \u001b[39mfor\u001b[39;00m o \u001b[39min\u001b[39;00m node\u001b[39m.\u001b[39moutputs:\n",
      "File \u001b[0;32m~/Documents/pyhf_pymc/src/pyhf_pymc/make_op.py:66\u001b[0m, in \u001b[0;36mmake_op.<locals>.ExpDataOp.perform\u001b[0;34m(self, node, inputs, outputs)\u001b[0m\n\u001b[1;32m     65\u001b[0m (parameters, ) \u001b[39m=\u001b[39m inputs\n\u001b[0;32m---> 66\u001b[0m results \u001b[39m=\u001b[39m jitted_processed_expData(parameters)\n\u001b[1;32m     68\u001b[0m outputs[\u001b[39m0\u001b[39m][\u001b[39m0\u001b[39m] \u001b[39m=\u001b[39m np\u001b[39m.\u001b[39masarray(results)\n",
      "    \u001b[0;31m[... skipping hidden 17 frame]\u001b[0m\n",
      "File \u001b[0;32m~/Documents/pyhf_pymc/src/pyhf_pymc/make_op.py:33\u001b[0m, in \u001b[0;36mmake_op.<locals>.processed_expData\u001b[0;34m(parameters)\u001b[0m\n\u001b[1;32m     31\u001b[0m \u001b[39m@jax\u001b[39m\u001b[39m.\u001b[39mjit\n\u001b[1;32m     32\u001b[0m \u001b[39mdef\u001b[39;00m \u001b[39mprocessed_expData\u001b[39m(parameters):\n\u001b[0;32m---> 33\u001b[0m     \u001b[39mreturn\u001b[39;00m model\u001b[39m.\u001b[39;49mexpected_actualdata(parameters)\n",
      "\u001b[0;31mAttributeError\u001b[0m: 'dict' object has no attribute 'expected_actualdata'",
      "\nDuring handling of the above exception, another exception occurred:\n",
      "\u001b[0;31mAttributeError\u001b[0m                            Traceback (most recent call last)",
      "Cell \u001b[0;32mIn[10], line 1\u001b[0m\n\u001b[0;32m----> 1\u001b[0m prior_Normals, prior_Unconstrained, prior_data \u001b[39m=\u001b[39m prior_pars_data(\u001b[39m3\u001b[39;49m)\n",
      "Cell \u001b[0;32mIn[9], line 7\u001b[0m, in \u001b[0;36mprior_pars_data\u001b[0;34m(n_samples)\u001b[0m\n\u001b[1;32m      3\u001b[0m         pars \u001b[39m=\u001b[39m prepare_inference\u001b[39m.\u001b[39mpriors2pymc(prepared_model)\n\u001b[1;32m      5\u001b[0m         Expected_Data \u001b[39m=\u001b[39m pm\u001b[39m.\u001b[39mPoisson(\u001b[39m\"\u001b[39m\u001b[39mExpected_Data\u001b[39m\u001b[39m\"\u001b[39m, mu\u001b[39m=\u001b[39mexpData_op(pars))\n\u001b[0;32m----> 7\u001b[0m         prior_pred \u001b[39m=\u001b[39m pm\u001b[39m.\u001b[39;49msample_prior_predictive(n_samples)\n\u001b[1;32m      9\u001b[0m \u001b[39mreturn\u001b[39;00m np\u001b[39m.\u001b[39marray(prior_pred\u001b[39m.\u001b[39mprior\u001b[39m.\u001b[39mNormals[\u001b[39m0\u001b[39m]), np\u001b[39m.\u001b[39marray(prior_pred\u001b[39m.\u001b[39mprior\u001b[39m.\u001b[39mUnconstrained[\u001b[39m0\u001b[39m]), np\u001b[39m.\u001b[39marray(prior_pred\u001b[39m.\u001b[39mprior_predictive\u001b[39m.\u001b[39mExpected_Data[\u001b[39m0\u001b[39m])\n",
      "File \u001b[0;32m~/anaconda3/envs/pyhf_pymc/lib/python3.9/site-packages/pymc/sampling/forward.py:424\u001b[0m, in \u001b[0;36msample_prior_predictive\u001b[0;34m(samples, model, var_names, random_seed, return_inferencedata, idata_kwargs, compile_kwargs)\u001b[0m\n\u001b[1;32m    422\u001b[0m \u001b[39m# All model variables have a name, but mypy does not know this\u001b[39;00m\n\u001b[1;32m    423\u001b[0m _log\u001b[39m.\u001b[39minfo(\u001b[39mf\u001b[39m\u001b[39m\"\u001b[39m\u001b[39mSampling: \u001b[39m\u001b[39m{\u001b[39;00m\u001b[39mlist\u001b[39m(\u001b[39msorted\u001b[39m(volatile_basic_rvs,\u001b[39m \u001b[39mkey\u001b[39m=\u001b[39m\u001b[39mlambda\u001b[39;00m\u001b[39m \u001b[39mvar:\u001b[39m \u001b[39mvar\u001b[39m.\u001b[39mname))\u001b[39m}\u001b[39;00m\u001b[39m\"\u001b[39m)  \u001b[39m# type: ignore\u001b[39;00m\n\u001b[0;32m--> 424\u001b[0m values \u001b[39m=\u001b[39m \u001b[39mzip\u001b[39;49m(\u001b[39m*\u001b[39;49m(sampler_fn() \u001b[39mfor\u001b[39;49;00m i \u001b[39min\u001b[39;49;00m \u001b[39mrange\u001b[39;49m(samples)))\n\u001b[1;32m    426\u001b[0m data \u001b[39m=\u001b[39m {k: np\u001b[39m.\u001b[39mstack(v) \u001b[39mfor\u001b[39;00m k, v \u001b[39min\u001b[39;00m \u001b[39mzip\u001b[39m(names, values)}\n\u001b[1;32m    427\u001b[0m \u001b[39mif\u001b[39;00m data \u001b[39mis\u001b[39;00m \u001b[39mNone\u001b[39;00m:\n",
      "File \u001b[0;32m~/anaconda3/envs/pyhf_pymc/lib/python3.9/site-packages/pymc/sampling/forward.py:424\u001b[0m, in \u001b[0;36m<genexpr>\u001b[0;34m(.0)\u001b[0m\n\u001b[1;32m    422\u001b[0m \u001b[39m# All model variables have a name, but mypy does not know this\u001b[39;00m\n\u001b[1;32m    423\u001b[0m _log\u001b[39m.\u001b[39minfo(\u001b[39mf\u001b[39m\u001b[39m\"\u001b[39m\u001b[39mSampling: \u001b[39m\u001b[39m{\u001b[39;00m\u001b[39mlist\u001b[39m(\u001b[39msorted\u001b[39m(volatile_basic_rvs,\u001b[39m \u001b[39mkey\u001b[39m=\u001b[39m\u001b[39mlambda\u001b[39;00m\u001b[39m \u001b[39mvar:\u001b[39m \u001b[39mvar\u001b[39m.\u001b[39mname))\u001b[39m}\u001b[39;00m\u001b[39m\"\u001b[39m)  \u001b[39m# type: ignore\u001b[39;00m\n\u001b[0;32m--> 424\u001b[0m values \u001b[39m=\u001b[39m \u001b[39mzip\u001b[39m(\u001b[39m*\u001b[39m(sampler_fn() \u001b[39mfor\u001b[39;00m i \u001b[39min\u001b[39;00m \u001b[39mrange\u001b[39m(samples)))\n\u001b[1;32m    426\u001b[0m data \u001b[39m=\u001b[39m {k: np\u001b[39m.\u001b[39mstack(v) \u001b[39mfor\u001b[39;00m k, v \u001b[39min\u001b[39;00m \u001b[39mzip\u001b[39m(names, values)}\n\u001b[1;32m    427\u001b[0m \u001b[39mif\u001b[39;00m data \u001b[39mis\u001b[39;00m \u001b[39mNone\u001b[39;00m:\n",
      "File \u001b[0;32m~/anaconda3/envs/pyhf_pymc/lib/python3.9/site-packages/pytensor/compile/function/types.py:985\u001b[0m, in \u001b[0;36mFunction.__call__\u001b[0;34m(self, *args, **kwargs)\u001b[0m\n\u001b[1;32m    983\u001b[0m     \u001b[39mif\u001b[39;00m \u001b[39mhasattr\u001b[39m(\u001b[39mself\u001b[39m\u001b[39m.\u001b[39mvm, \u001b[39m\"\u001b[39m\u001b[39mthunks\u001b[39m\u001b[39m\"\u001b[39m):\n\u001b[1;32m    984\u001b[0m         thunk \u001b[39m=\u001b[39m \u001b[39mself\u001b[39m\u001b[39m.\u001b[39mvm\u001b[39m.\u001b[39mthunks[\u001b[39mself\u001b[39m\u001b[39m.\u001b[39mvm\u001b[39m.\u001b[39mposition_of_error]\n\u001b[0;32m--> 985\u001b[0m     raise_with_op(\n\u001b[1;32m    986\u001b[0m         \u001b[39mself\u001b[39;49m\u001b[39m.\u001b[39;49mmaker\u001b[39m.\u001b[39;49mfgraph,\n\u001b[1;32m    987\u001b[0m         node\u001b[39m=\u001b[39;49m\u001b[39mself\u001b[39;49m\u001b[39m.\u001b[39;49mvm\u001b[39m.\u001b[39;49mnodes[\u001b[39mself\u001b[39;49m\u001b[39m.\u001b[39;49mvm\u001b[39m.\u001b[39;49mposition_of_error],\n\u001b[1;32m    988\u001b[0m         thunk\u001b[39m=\u001b[39;49mthunk,\n\u001b[1;32m    989\u001b[0m         storage_map\u001b[39m=\u001b[39;49m\u001b[39mgetattr\u001b[39;49m(\u001b[39mself\u001b[39;49m\u001b[39m.\u001b[39;49mvm, \u001b[39m\"\u001b[39;49m\u001b[39mstorage_map\u001b[39;49m\u001b[39m\"\u001b[39;49m, \u001b[39mNone\u001b[39;49;00m),\n\u001b[1;32m    990\u001b[0m     )\n\u001b[1;32m    991\u001b[0m \u001b[39melse\u001b[39;00m:\n\u001b[1;32m    992\u001b[0m     \u001b[39m# old-style linkers raise their own exceptions\u001b[39;00m\n\u001b[1;32m    993\u001b[0m     \u001b[39mraise\u001b[39;00m\n",
      "File \u001b[0;32m~/anaconda3/envs/pyhf_pymc/lib/python3.9/site-packages/pytensor/link/utils.py:536\u001b[0m, in \u001b[0;36mraise_with_op\u001b[0;34m(fgraph, node, thunk, exc_info, storage_map)\u001b[0m\n\u001b[1;32m    531\u001b[0m     warnings\u001b[39m.\u001b[39mwarn(\n\u001b[1;32m    532\u001b[0m         \u001b[39mf\u001b[39m\u001b[39m\"\u001b[39m\u001b[39m{\u001b[39;00mexc_type\u001b[39m}\u001b[39;00m\u001b[39m error does not allow us to add an extra error message\u001b[39m\u001b[39m\"\u001b[39m\n\u001b[1;32m    533\u001b[0m     )\n\u001b[1;32m    534\u001b[0m     \u001b[39m# Some exception need extra parameter in inputs. So forget the\u001b[39;00m\n\u001b[1;32m    535\u001b[0m     \u001b[39m# extra long error message in that case.\u001b[39;00m\n\u001b[0;32m--> 536\u001b[0m \u001b[39mraise\u001b[39;00m exc_value\u001b[39m.\u001b[39mwith_traceback(exc_trace)\n",
      "File \u001b[0;32m~/anaconda3/envs/pyhf_pymc/lib/python3.9/site-packages/pytensor/compile/function/types.py:972\u001b[0m, in \u001b[0;36mFunction.__call__\u001b[0;34m(self, *args, **kwargs)\u001b[0m\n\u001b[1;32m    969\u001b[0m t0_fn \u001b[39m=\u001b[39m time\u001b[39m.\u001b[39mperf_counter()\n\u001b[1;32m    970\u001b[0m \u001b[39mtry\u001b[39;00m:\n\u001b[1;32m    971\u001b[0m     outputs \u001b[39m=\u001b[39m (\n\u001b[0;32m--> 972\u001b[0m         \u001b[39mself\u001b[39;49m\u001b[39m.\u001b[39;49mvm()\n\u001b[1;32m    973\u001b[0m         \u001b[39mif\u001b[39;00m output_subset \u001b[39mis\u001b[39;00m \u001b[39mNone\u001b[39;00m\n\u001b[1;32m    974\u001b[0m         \u001b[39melse\u001b[39;00m \u001b[39mself\u001b[39m\u001b[39m.\u001b[39mvm(output_subset\u001b[39m=\u001b[39moutput_subset)\n\u001b[1;32m    975\u001b[0m     )\n\u001b[1;32m    976\u001b[0m \u001b[39mexcept\u001b[39;00m \u001b[39mException\u001b[39;00m:\n\u001b[1;32m    977\u001b[0m     restore_defaults()\n",
      "File \u001b[0;32m~/anaconda3/envs/pyhf_pymc/lib/python3.9/site-packages/pytensor/graph/op.py:544\u001b[0m, in \u001b[0;36mOp.make_py_thunk.<locals>.rval\u001b[0;34m(p, i, o, n, params)\u001b[0m\n\u001b[1;32m    540\u001b[0m \u001b[39m@is_thunk_type\u001b[39m\n\u001b[1;32m    541\u001b[0m \u001b[39mdef\u001b[39;00m \u001b[39mrval\u001b[39m(\n\u001b[1;32m    542\u001b[0m     p\u001b[39m=\u001b[39mp, i\u001b[39m=\u001b[39mnode_input_storage, o\u001b[39m=\u001b[39mnode_output_storage, n\u001b[39m=\u001b[39mnode, params\u001b[39m=\u001b[39m\u001b[39mNone\u001b[39;00m\n\u001b[1;32m    543\u001b[0m ):\n\u001b[0;32m--> 544\u001b[0m     r \u001b[39m=\u001b[39m p(n, [x[\u001b[39m0\u001b[39;49m] \u001b[39mfor\u001b[39;49;00m x \u001b[39min\u001b[39;49;00m i], o)\n\u001b[1;32m    545\u001b[0m     \u001b[39mfor\u001b[39;00m o \u001b[39min\u001b[39;00m node\u001b[39m.\u001b[39moutputs:\n\u001b[1;32m    546\u001b[0m         compute_map[o][\u001b[39m0\u001b[39m] \u001b[39m=\u001b[39m \u001b[39mTrue\u001b[39;00m\n",
      "File \u001b[0;32m~/Documents/pyhf_pymc/src/pyhf_pymc/make_op.py:66\u001b[0m, in \u001b[0;36mmake_op.<locals>.ExpDataOp.perform\u001b[0;34m(self, node, inputs, outputs)\u001b[0m\n\u001b[1;32m     64\u001b[0m \u001b[39mdef\u001b[39;00m \u001b[39mperform\u001b[39m(\u001b[39mself\u001b[39m, node, inputs, outputs):\n\u001b[1;32m     65\u001b[0m     (parameters, ) \u001b[39m=\u001b[39m inputs\n\u001b[0;32m---> 66\u001b[0m     results \u001b[39m=\u001b[39m jitted_processed_expData(parameters)\n\u001b[1;32m     68\u001b[0m     outputs[\u001b[39m0\u001b[39m][\u001b[39m0\u001b[39m] \u001b[39m=\u001b[39m np\u001b[39m.\u001b[39masarray(results)\n",
      "    \u001b[0;31m[... skipping hidden 17 frame]\u001b[0m\n",
      "File \u001b[0;32m~/Documents/pyhf_pymc/src/pyhf_pymc/make_op.py:33\u001b[0m, in \u001b[0;36mmake_op.<locals>.processed_expData\u001b[0;34m(parameters)\u001b[0m\n\u001b[1;32m     31\u001b[0m \u001b[39m@jax\u001b[39m\u001b[39m.\u001b[39mjit\n\u001b[1;32m     32\u001b[0m \u001b[39mdef\u001b[39;00m \u001b[39mprocessed_expData\u001b[39m(parameters):\n\u001b[0;32m---> 33\u001b[0m     \u001b[39mreturn\u001b[39;00m model\u001b[39m.\u001b[39;49mexpected_actualdata(parameters)\n",
      "\u001b[0;31mAttributeError\u001b[0m: 'dict' object has no attribute 'expected_actualdata'\nApply node that caused the error: ExpDataOp(MakeVector{dtype='float64'}.0)\nToposort index: 5\nInputs types: [TensorType(float64, (2,))]\nInputs shapes: [(2,)]\nInputs strides: [(8,)]\nInputs values: [array([-4.62727122e-03,  6.22846925e+00])]\nOutputs clients: [[poisson_rv{0, (0,), int64, True}(RandomGeneratorSharedVariable(<Generator(PCG64) at 0x2CC749120>), TensorConstant{[]}, TensorConstant{4}, ExpDataOp.0)]]\n\nBacktrace when the node is created (use PyTensor flag traceback__limit=N to make it longer):\n  File \"/Users/malinhorstmann/anaconda3/envs/pyhf_pymc/lib/python3.9/site-packages/IPython/core/interactiveshell.py\", line 2945, in run_cell\n    result = self._run_cell(\n  File \"/Users/malinhorstmann/anaconda3/envs/pyhf_pymc/lib/python3.9/site-packages/IPython/core/interactiveshell.py\", line 3000, in _run_cell\n    return runner(coro)\n  File \"/Users/malinhorstmann/anaconda3/envs/pyhf_pymc/lib/python3.9/site-packages/IPython/core/async_helpers.py\", line 129, in _pseudo_sync_runner\n    coro.send(None)\n  File \"/Users/malinhorstmann/anaconda3/envs/pyhf_pymc/lib/python3.9/site-packages/IPython/core/interactiveshell.py\", line 3203, in run_cell_async\n    has_raised = await self.run_ast_nodes(code_ast.body, cell_name,\n  File \"/Users/malinhorstmann/anaconda3/envs/pyhf_pymc/lib/python3.9/site-packages/IPython/core/interactiveshell.py\", line 3382, in run_ast_nodes\n    if await self.run_code(code, result, async_=asy):\n  File \"/Users/malinhorstmann/anaconda3/envs/pyhf_pymc/lib/python3.9/site-packages/IPython/core/interactiveshell.py\", line 3442, in run_code\n    exec(code_obj, self.user_global_ns, self.user_ns)\n  File \"/var/folders/p9/sw_pjm3j027cxfs57s_91bfw0000gn/T/ipykernel_4423/3139989689.py\", line 1, in <module>\n    prior_Normals, prior_Unconstrained, prior_data = prior_pars_data(3)\n  File \"/var/folders/p9/sw_pjm3j027cxfs57s_91bfw0000gn/T/ipykernel_4423/3911387153.py\", line 5, in prior_pars_data\n    Expected_Data = pm.Poisson(\"Expected_Data\", mu=expData_op(pars))\n\nHINT: Use the PyTensor flag `exception_verbosity=high` for a debug print-out and storage map footprint of this Apply node."
     ]
    }
   ],
   "source": [
    "prior_Normals, prior_Unconstrained, prior_data = prior_pars_data(3)"
   ]
  },
  {
   "cell_type": "code",
   "execution_count": 12,
   "metadata": {},
   "outputs": [
    {
     "name": "stdout",
     "output_type": "stream",
     "text": [
      "STEP:  428\n"
     ]
    },
    {
     "name": "stdout",
     "output_type": "stream",
     "text": [
      "STEP:  429\n"
     ]
    },
    {
     "name": "stdout",
     "output_type": "stream",
     "text": [
      "STEP:  430\n"
     ]
    },
    {
     "name": "stdout",
     "output_type": "stream",
     "text": [
      "STEP:  431\n"
     ]
    },
    {
     "name": "stdout",
     "output_type": "stream",
     "text": [
      "STEP:  432\n"
     ]
    },
    {
     "name": "stdout",
     "output_type": "stream",
     "text": [
      "STEP:  433\n"
     ]
    },
    {
     "name": "stdout",
     "output_type": "stream",
     "text": [
      "STEP:  434\n"
     ]
    },
    {
     "name": "stdout",
     "output_type": "stream",
     "text": [
      "STEP:  435\n"
     ]
    },
    {
     "name": "stdout",
     "output_type": "stream",
     "text": [
      "STEP:  436\n"
     ]
    },
    {
     "name": "stdout",
     "output_type": "stream",
     "text": [
      "STEP:  437\n"
     ]
    },
    {
     "name": "stdout",
     "output_type": "stream",
     "text": [
      "STEP:  438\n"
     ]
    },
    {
     "name": "stdout",
     "output_type": "stream",
     "text": [
      "STEP:  439\n"
     ]
    },
    {
     "name": "stdout",
     "output_type": "stream",
     "text": [
      "STEP:  440\n"
     ]
    },
    {
     "name": "stdout",
     "output_type": "stream",
     "text": [
      "STEP:  441\n"
     ]
    },
    {
     "name": "stdout",
     "output_type": "stream",
     "text": [
      "STEP:  442\n"
     ]
    },
    {
     "name": "stdout",
     "output_type": "stream",
     "text": [
      "STEP:  443\n"
     ]
    },
    {
     "name": "stdout",
     "output_type": "stream",
     "text": [
      "STEP:  444\n"
     ]
    },
    {
     "name": "stdout",
     "output_type": "stream",
     "text": [
      "STEP:  445\n"
     ]
    },
    {
     "name": "stdout",
     "output_type": "stream",
     "text": [
      "STEP:  446\n"
     ]
    },
    {
     "name": "stdout",
     "output_type": "stream",
     "text": [
      "STEP:  447\n"
     ]
    },
    {
     "name": "stdout",
     "output_type": "stream",
     "text": [
      "STEP:  448\n"
     ]
    },
    {
     "name": "stdout",
     "output_type": "stream",
     "text": [
      "STEP:  449\n"
     ]
    },
    {
     "name": "stdout",
     "output_type": "stream",
     "text": [
      "STEP:  450\n"
     ]
    },
    {
     "name": "stdout",
     "output_type": "stream",
     "text": [
      "STEP:  451\n"
     ]
    },
    {
     "name": "stdout",
     "output_type": "stream",
     "text": [
      "STEP:  452\n"
     ]
    },
    {
     "name": "stdout",
     "output_type": "stream",
     "text": [
      "STEP:  453\n"
     ]
    },
    {
     "name": "stdout",
     "output_type": "stream",
     "text": [
      "STEP:  454\n"
     ]
    },
    {
     "name": "stdout",
     "output_type": "stream",
     "text": [
      "STEP:  455\n"
     ]
    },
    {
     "name": "stdout",
     "output_type": "stream",
     "text": [
      "STEP:  456\n"
     ]
    },
    {
     "name": "stdout",
     "output_type": "stream",
     "text": [
      "STEP:  457\n"
     ]
    },
    {
     "name": "stdout",
     "output_type": "stream",
     "text": [
      "STEP:  458\n"
     ]
    },
    {
     "name": "stdout",
     "output_type": "stream",
     "text": [
      "STEP:  459\n"
     ]
    },
    {
     "name": "stdout",
     "output_type": "stream",
     "text": [
      "STEP:  460\n"
     ]
    },
    {
     "name": "stdout",
     "output_type": "stream",
     "text": [
      "STEP:  461\n"
     ]
    },
    {
     "name": "stdout",
     "output_type": "stream",
     "text": [
      "STEP:  462\n"
     ]
    },
    {
     "name": "stdout",
     "output_type": "stream",
     "text": [
      "STEP:  463\n"
     ]
    },
    {
     "name": "stdout",
     "output_type": "stream",
     "text": [
      "STEP:  464\n"
     ]
    },
    {
     "name": "stdout",
     "output_type": "stream",
     "text": [
      "STEP:  465\n"
     ]
    },
    {
     "name": "stdout",
     "output_type": "stream",
     "text": [
      "STEP:  466\n"
     ]
    },
    {
     "name": "stdout",
     "output_type": "stream",
     "text": [
      "STEP:  467\n"
     ]
    },
    {
     "name": "stdout",
     "output_type": "stream",
     "text": [
      "STEP:  468\n"
     ]
    },
    {
     "name": "stdout",
     "output_type": "stream",
     "text": [
      "STEP:  469\n"
     ]
    },
    {
     "name": "stdout",
     "output_type": "stream",
     "text": [
      "STEP:  470\n"
     ]
    },
    {
     "name": "stdout",
     "output_type": "stream",
     "text": [
      "STEP:  471\n"
     ]
    },
    {
     "name": "stdout",
     "output_type": "stream",
     "text": [
      "STEP:  472\n"
     ]
    },
    {
     "name": "stdout",
     "output_type": "stream",
     "text": [
      "STEP:  473\n"
     ]
    },
    {
     "name": "stdout",
     "output_type": "stream",
     "text": [
      "STEP:  474\n"
     ]
    },
    {
     "name": "stdout",
     "output_type": "stream",
     "text": [
      "STEP:  475\n"
     ]
    },
    {
     "name": "stdout",
     "output_type": "stream",
     "text": [
      "STEP:  476\n"
     ]
    },
    {
     "name": "stdout",
     "output_type": "stream",
     "text": [
      "STEP:  477\n"
     ]
    },
    {
     "name": "stdout",
     "output_type": "stream",
     "text": [
      "STEP:  478\n"
     ]
    },
    {
     "name": "stdout",
     "output_type": "stream",
     "text": [
      "STEP:  479\n"
     ]
    },
    {
     "name": "stdout",
     "output_type": "stream",
     "text": [
      "STEP:  480\n"
     ]
    },
    {
     "name": "stdout",
     "output_type": "stream",
     "text": [
      "STEP:  481\n"
     ]
    },
    {
     "name": "stdout",
     "output_type": "stream",
     "text": [
      "STEP:  482\n"
     ]
    },
    {
     "name": "stdout",
     "output_type": "stream",
     "text": [
      "STEP:  483\n"
     ]
    },
    {
     "name": "stdout",
     "output_type": "stream",
     "text": [
      "STEP:  484\n"
     ]
    },
    {
     "name": "stdout",
     "output_type": "stream",
     "text": [
      "STEP:  485\n"
     ]
    },
    {
     "name": "stdout",
     "output_type": "stream",
     "text": [
      "STEP:  486\n"
     ]
    },
    {
     "name": "stdout",
     "output_type": "stream",
     "text": [
      "STEP:  487\n"
     ]
    },
    {
     "name": "stdout",
     "output_type": "stream",
     "text": [
      "STEP:  488\n"
     ]
    },
    {
     "name": "stdout",
     "output_type": "stream",
     "text": [
      "STEP:  489\n"
     ]
    },
    {
     "name": "stdout",
     "output_type": "stream",
     "text": [
      "STEP:  490\n"
     ]
    },
    {
     "name": "stdout",
     "output_type": "stream",
     "text": [
      "STEP:  491\n"
     ]
    },
    {
     "name": "stdout",
     "output_type": "stream",
     "text": [
      "STEP:  492\n"
     ]
    },
    {
     "name": "stdout",
     "output_type": "stream",
     "text": [
      "STEP:  493\n"
     ]
    },
    {
     "name": "stdout",
     "output_type": "stream",
     "text": [
      "STEP:  494\n"
     ]
    },
    {
     "name": "stdout",
     "output_type": "stream",
     "text": [
      "STEP:  495\n"
     ]
    },
    {
     "name": "stdout",
     "output_type": "stream",
     "text": [
      "STEP:  496\n"
     ]
    },
    {
     "name": "stdout",
     "output_type": "stream",
     "text": [
      "STEP:  497\n"
     ]
    },
    {
     "name": "stdout",
     "output_type": "stream",
     "text": [
      "STEP:  498\n"
     ]
    },
    {
     "name": "stdout",
     "output_type": "stream",
     "text": [
      "STEP:  499\n"
     ]
    },
    {
     "name": "stdout",
     "output_type": "stream",
     "text": [
      "STEP:  500\n"
     ]
    },
    {
     "name": "stdout",
     "output_type": "stream",
     "text": [
      "STEP:  501\n"
     ]
    },
    {
     "name": "stdout",
     "output_type": "stream",
     "text": [
      "STEP:  502\n"
     ]
    },
    {
     "name": "stdout",
     "output_type": "stream",
     "text": [
      "STEP:  503\n"
     ]
    },
    {
     "name": "stdout",
     "output_type": "stream",
     "text": [
      "STEP:  504\n"
     ]
    },
    {
     "name": "stdout",
     "output_type": "stream",
     "text": [
      "STEP:  505\n"
     ]
    },
    {
     "name": "stdout",
     "output_type": "stream",
     "text": [
      "STEP:  506\n"
     ]
    },
    {
     "name": "stdout",
     "output_type": "stream",
     "text": [
      "STEP:  507\n"
     ]
    },
    {
     "name": "stdout",
     "output_type": "stream",
     "text": [
      "STEP:  508\n"
     ]
    },
    {
     "name": "stdout",
     "output_type": "stream",
     "text": [
      "STEP:  509\n"
     ]
    },
    {
     "name": "stdout",
     "output_type": "stream",
     "text": [
      "STEP:  510\n"
     ]
    },
    {
     "name": "stdout",
     "output_type": "stream",
     "text": [
      "STEP:  511\n"
     ]
    },
    {
     "name": "stdout",
     "output_type": "stream",
     "text": [
      "STEP:  512\n"
     ]
    },
    {
     "name": "stdout",
     "output_type": "stream",
     "text": [
      "STEP:  513\n"
     ]
    },
    {
     "name": "stdout",
     "output_type": "stream",
     "text": [
      "STEP:  514\n"
     ]
    },
    {
     "name": "stdout",
     "output_type": "stream",
     "text": [
      "STEP:  515\n"
     ]
    },
    {
     "name": "stdout",
     "output_type": "stream",
     "text": [
      "STEP:  516\n"
     ]
    },
    {
     "name": "stdout",
     "output_type": "stream",
     "text": [
      "STEP:  517\n"
     ]
    },
    {
     "name": "stdout",
     "output_type": "stream",
     "text": [
      "STEP:  518\n"
     ]
    },
    {
     "name": "stdout",
     "output_type": "stream",
     "text": [
      "STEP:  519\n"
     ]
    },
    {
     "name": "stdout",
     "output_type": "stream",
     "text": [
      "STEP:  520\n"
     ]
    },
    {
     "name": "stdout",
     "output_type": "stream",
     "text": [
      "STEP:  521\n"
     ]
    },
    {
     "name": "stdout",
     "output_type": "stream",
     "text": [
      "STEP:  522\n"
     ]
    },
    {
     "name": "stdout",
     "output_type": "stream",
     "text": [
      "STEP:  523\n"
     ]
    },
    {
     "name": "stdout",
     "output_type": "stream",
     "text": [
      "STEP:  524\n"
     ]
    },
    {
     "name": "stdout",
     "output_type": "stream",
     "text": [
      "STEP:  525\n"
     ]
    },
    {
     "name": "stdout",
     "output_type": "stream",
     "text": [
      "STEP:  526\n"
     ]
    },
    {
     "name": "stdout",
     "output_type": "stream",
     "text": [
      "STEP:  527\n"
     ]
    },
    {
     "name": "stdout",
     "output_type": "stream",
     "text": [
      "STEP:  528\n"
     ]
    },
    {
     "name": "stdout",
     "output_type": "stream",
     "text": [
      "STEP:  529\n"
     ]
    },
    {
     "name": "stdout",
     "output_type": "stream",
     "text": [
      "STEP:  530\n"
     ]
    },
    {
     "name": "stdout",
     "output_type": "stream",
     "text": [
      "STEP:  531\n"
     ]
    },
    {
     "name": "stdout",
     "output_type": "stream",
     "text": [
      "STEP:  532\n"
     ]
    },
    {
     "name": "stdout",
     "output_type": "stream",
     "text": [
      "STEP:  533\n"
     ]
    },
    {
     "name": "stdout",
     "output_type": "stream",
     "text": [
      "STEP:  534\n"
     ]
    },
    {
     "name": "stdout",
     "output_type": "stream",
     "text": [
      "STEP:  535\n"
     ]
    },
    {
     "name": "stdout",
     "output_type": "stream",
     "text": [
      "STEP:  536\n"
     ]
    },
    {
     "name": "stdout",
     "output_type": "stream",
     "text": [
      "STEP:  537\n"
     ]
    },
    {
     "name": "stdout",
     "output_type": "stream",
     "text": [
      "STEP:  538\n"
     ]
    },
    {
     "name": "stdout",
     "output_type": "stream",
     "text": [
      "STEP:  539\n"
     ]
    },
    {
     "name": "stdout",
     "output_type": "stream",
     "text": [
      "STEP:  540\n"
     ]
    },
    {
     "name": "stdout",
     "output_type": "stream",
     "text": [
      "STEP:  541\n"
     ]
    },
    {
     "name": "stdout",
     "output_type": "stream",
     "text": [
      "STEP:  542\n"
     ]
    },
    {
     "name": "stdout",
     "output_type": "stream",
     "text": [
      "STEP:  543\n"
     ]
    },
    {
     "name": "stdout",
     "output_type": "stream",
     "text": [
      "STEP:  544\n"
     ]
    },
    {
     "name": "stdout",
     "output_type": "stream",
     "text": [
      "STEP:  545\n"
     ]
    },
    {
     "name": "stdout",
     "output_type": "stream",
     "text": [
      "STEP:  546\n"
     ]
    },
    {
     "name": "stdout",
     "output_type": "stream",
     "text": [
      "STEP:  547\n"
     ]
    },
    {
     "name": "stdout",
     "output_type": "stream",
     "text": [
      "STEP:  548\n"
     ]
    },
    {
     "name": "stdout",
     "output_type": "stream",
     "text": [
      "STEP:  549\n"
     ]
    },
    {
     "name": "stdout",
     "output_type": "stream",
     "text": [
      "STEP:  550\n"
     ]
    },
    {
     "name": "stdout",
     "output_type": "stream",
     "text": [
      "STEP:  551\n"
     ]
    },
    {
     "name": "stdout",
     "output_type": "stream",
     "text": [
      "STEP:  552\n"
     ]
    },
    {
     "name": "stdout",
     "output_type": "stream",
     "text": [
      "STEP:  553\n"
     ]
    },
    {
     "name": "stdout",
     "output_type": "stream",
     "text": [
      "STEP:  554\n"
     ]
    },
    {
     "name": "stdout",
     "output_type": "stream",
     "text": [
      "STEP:  555\n"
     ]
    },
    {
     "name": "stdout",
     "output_type": "stream",
     "text": [
      "STEP:  556\n"
     ]
    },
    {
     "name": "stdout",
     "output_type": "stream",
     "text": [
      "STEP:  557\n"
     ]
    },
    {
     "name": "stdout",
     "output_type": "stream",
     "text": [
      "STEP:  558\n"
     ]
    },
    {
     "name": "stdout",
     "output_type": "stream",
     "text": [
      "STEP:  559\n"
     ]
    },
    {
     "name": "stdout",
     "output_type": "stream",
     "text": [
      "STEP:  560\n"
     ]
    },
    {
     "name": "stdout",
     "output_type": "stream",
     "text": [
      "STEP:  561\n"
     ]
    },
    {
     "name": "stdout",
     "output_type": "stream",
     "text": [
      "STEP:  562\n"
     ]
    },
    {
     "name": "stdout",
     "output_type": "stream",
     "text": [
      "STEP:  563\n"
     ]
    },
    {
     "name": "stdout",
     "output_type": "stream",
     "text": [
      "STEP:  564\n"
     ]
    },
    {
     "name": "stdout",
     "output_type": "stream",
     "text": [
      "STEP:  565\n"
     ]
    },
    {
     "name": "stdout",
     "output_type": "stream",
     "text": [
      "STEP:  566\n"
     ]
    },
    {
     "name": "stdout",
     "output_type": "stream",
     "text": [
      "STEP:  567\n"
     ]
    },
    {
     "name": "stdout",
     "output_type": "stream",
     "text": [
      "STEP:  568\n"
     ]
    },
    {
     "name": "stdout",
     "output_type": "stream",
     "text": [
      "STEP:  569\n"
     ]
    },
    {
     "ename": "KeyboardInterrupt",
     "evalue": "",
     "output_type": "error",
     "traceback": [
      "\u001b[0;31m---------------------------------------------------------------------------\u001b[0m",
      "\u001b[0;31mKeyboardInterrupt\u001b[0m                         Traceback (most recent call last)",
      "Cell \u001b[0;32mIn[12], line 6\u001b[0m\n\u001b[1;32m      4\u001b[0m count \u001b[39m+\u001b[39m\u001b[39m=\u001b[39m \u001b[39m1\u001b[39m\n\u001b[1;32m      5\u001b[0m \u001b[39mprint\u001b[39m(\u001b[39mf\u001b[39m\u001b[39m'\u001b[39m\u001b[39mSTEP:  \u001b[39m\u001b[39m{\u001b[39;00mcount\u001b[39m}\u001b[39;00m\u001b[39m'\u001b[39m)\n\u001b[0;32m----> 6\u001b[0m a, b, c \u001b[39m=\u001b[39m posterior_from_prior(p_d, \u001b[39m1\u001b[39;49m)\n\u001b[1;32m      7\u001b[0m post_n\u001b[39m.\u001b[39mappend(a)\n\u001b[1;32m      8\u001b[0m post_u\u001b[39m.\u001b[39mappend(b)\n",
      "Cell \u001b[0;32mIn[7], line 18\u001b[0m, in \u001b[0;36mposterior_from_prior\u001b[0;34m(prior_data, n_samples)\u001b[0m\n\u001b[1;32m     13\u001b[0m pars \u001b[39m=\u001b[39m prepare_inference\u001b[39m.\u001b[39mpriors2pymc(prepared_model)\n\u001b[1;32m     16\u001b[0m Expected_Data \u001b[39m=\u001b[39m pm\u001b[39m.\u001b[39mPoisson(\u001b[39m\"\u001b[39m\u001b[39mExpected_Data\u001b[39m\u001b[39m\"\u001b[39m, mu\u001b[39m=\u001b[39mexpData_op(pars), observed\u001b[39m=\u001b[39mprior_data)\n\u001b[0;32m---> 18\u001b[0m step1 \u001b[39m=\u001b[39m pm\u001b[39m.\u001b[39;49mMetropolis()\n\u001b[1;32m     19\u001b[0m post_data \u001b[39m=\u001b[39m pm\u001b[39m.\u001b[39msample(n_samples, chains\u001b[39m=\u001b[39m\u001b[39m1\u001b[39m, step\u001b[39m=\u001b[39mstep1)\n\u001b[1;32m     20\u001b[0m post_pred \u001b[39m=\u001b[39m pm\u001b[39m.\u001b[39msample_posterior_predictive(post_data)\n",
      "File \u001b[0;32m~/anaconda3/envs/pyhf_pymc/lib/python3.9/site-packages/pymc/step_methods/compound.py:89\u001b[0m, in \u001b[0;36mBlockedStep.__new__\u001b[0;34m(cls, *args, **kwargs)\u001b[0m\n\u001b[1;32m     86\u001b[0m step \u001b[39m=\u001b[39m \u001b[39msuper\u001b[39m()\u001b[39m.\u001b[39m\u001b[39m__new__\u001b[39m(\u001b[39mcls\u001b[39m)\n\u001b[1;32m     87\u001b[0m \u001b[39m# If we don't return the instance we have to manually\u001b[39;00m\n\u001b[1;32m     88\u001b[0m \u001b[39m# call __init__\u001b[39;00m\n\u001b[0;32m---> 89\u001b[0m step\u001b[39m.\u001b[39;49m\u001b[39m__init__\u001b[39;49m([var], \u001b[39m*\u001b[39;49margs, \u001b[39m*\u001b[39;49m\u001b[39m*\u001b[39;49mkwargs)\n\u001b[1;32m     90\u001b[0m \u001b[39m# Hack for creating the class correctly when unpickling.\u001b[39;00m\n\u001b[1;32m     91\u001b[0m step\u001b[39m.\u001b[39m__newargs \u001b[39m=\u001b[39m ([var],) \u001b[39m+\u001b[39m args, kwargs\n",
      "File \u001b[0;32m~/anaconda3/envs/pyhf_pymc/lib/python3.9/site-packages/pymc/step_methods/metropolis.py:227\u001b[0m, in \u001b[0;36mMetropolis.__init__\u001b[0;34m(self, vars, S, proposal_dist, scaling, tune, tune_interval, model, mode, **kwargs)\u001b[0m\n\u001b[1;32m    224\u001b[0m \u001b[39mself\u001b[39m\u001b[39m.\u001b[39mmode \u001b[39m=\u001b[39m mode\n\u001b[1;32m    226\u001b[0m shared \u001b[39m=\u001b[39m pm\u001b[39m.\u001b[39mmake_shared_replacements(initial_values, \u001b[39mvars\u001b[39m, model)\n\u001b[0;32m--> 227\u001b[0m \u001b[39mself\u001b[39m\u001b[39m.\u001b[39mdelta_logp \u001b[39m=\u001b[39m delta_logp(initial_values, model\u001b[39m.\u001b[39;49mlogp(), \u001b[39mvars\u001b[39;49m, shared)\n\u001b[1;32m    228\u001b[0m \u001b[39msuper\u001b[39m()\u001b[39m.\u001b[39m\u001b[39m__init__\u001b[39m(\u001b[39mvars\u001b[39m, shared)\n",
      "File \u001b[0;32m~/anaconda3/envs/pyhf_pymc/lib/python3.9/site-packages/pymc/step_methods/metropolis.py:1052\u001b[0m, in \u001b[0;36mdelta_logp\u001b[0;34m(point, logp, vars, shared)\u001b[0m\n\u001b[1;32m   1049\u001b[0m \u001b[39m# Replace any potential duplicated RNG nodes\u001b[39;00m\n\u001b[1;32m   1050\u001b[0m (logp1,) \u001b[39m=\u001b[39m replace_rng_nodes((logp1,))\n\u001b[0;32m-> 1052\u001b[0m f \u001b[39m=\u001b[39m compile_pymc([inarray1, inarray0], logp1 \u001b[39m-\u001b[39;49m logp0)\n\u001b[1;32m   1053\u001b[0m f\u001b[39m.\u001b[39mtrust_input \u001b[39m=\u001b[39m \u001b[39mTrue\u001b[39;00m\n\u001b[1;32m   1054\u001b[0m \u001b[39mreturn\u001b[39;00m f\n",
      "File \u001b[0;32m~/anaconda3/envs/pyhf_pymc/lib/python3.9/site-packages/pymc/pytensorf.py:1104\u001b[0m, in \u001b[0;36mcompile_pymc\u001b[0;34m(inputs, outputs, random_seed, mode, **kwargs)\u001b[0m\n\u001b[1;32m   1102\u001b[0m opt_qry \u001b[39m=\u001b[39m mode\u001b[39m.\u001b[39mprovided_optimizer\u001b[39m.\u001b[39mincluding(\u001b[39m\"\u001b[39m\u001b[39mrandom_make_inplace\u001b[39m\u001b[39m\"\u001b[39m, check_parameter_opt)\n\u001b[1;32m   1103\u001b[0m mode \u001b[39m=\u001b[39m Mode(linker\u001b[39m=\u001b[39mmode\u001b[39m.\u001b[39mlinker, optimizer\u001b[39m=\u001b[39mopt_qry)\n\u001b[0;32m-> 1104\u001b[0m pytensor_function \u001b[39m=\u001b[39m pytensor\u001b[39m.\u001b[39;49mfunction(\n\u001b[1;32m   1105\u001b[0m     inputs,\n\u001b[1;32m   1106\u001b[0m     outputs,\n\u001b[1;32m   1107\u001b[0m     updates\u001b[39m=\u001b[39;49m{\u001b[39m*\u001b[39;49m\u001b[39m*\u001b[39;49mrng_updates, \u001b[39m*\u001b[39;49m\u001b[39m*\u001b[39;49mkwargs\u001b[39m.\u001b[39;49mpop(\u001b[39m\"\u001b[39;49m\u001b[39mupdates\u001b[39;49m\u001b[39m\"\u001b[39;49m, {})},\n\u001b[1;32m   1108\u001b[0m     mode\u001b[39m=\u001b[39;49mmode,\n\u001b[1;32m   1109\u001b[0m     \u001b[39m*\u001b[39;49m\u001b[39m*\u001b[39;49mkwargs,\n\u001b[1;32m   1110\u001b[0m )\n\u001b[1;32m   1111\u001b[0m \u001b[39mreturn\u001b[39;00m pytensor_function\n",
      "File \u001b[0;32m~/anaconda3/envs/pyhf_pymc/lib/python3.9/site-packages/pytensor/compile/function/__init__.py:315\u001b[0m, in \u001b[0;36mfunction\u001b[0;34m(inputs, outputs, mode, updates, givens, no_default_updates, accept_inplace, name, rebuild_strict, allow_input_downcast, profile, on_unused_input)\u001b[0m\n\u001b[1;32m    309\u001b[0m     fn \u001b[39m=\u001b[39m orig_function(\n\u001b[1;32m    310\u001b[0m         inputs, outputs, mode\u001b[39m=\u001b[39mmode, accept_inplace\u001b[39m=\u001b[39maccept_inplace, name\u001b[39m=\u001b[39mname\n\u001b[1;32m    311\u001b[0m     )\n\u001b[1;32m    312\u001b[0m \u001b[39melse\u001b[39;00m:\n\u001b[1;32m    313\u001b[0m     \u001b[39m# note: pfunc will also call orig_function -- orig_function is\u001b[39;00m\n\u001b[1;32m    314\u001b[0m     \u001b[39m#      a choke point that all compilation must pass through\u001b[39;00m\n\u001b[0;32m--> 315\u001b[0m     fn \u001b[39m=\u001b[39m pfunc(\n\u001b[1;32m    316\u001b[0m         params\u001b[39m=\u001b[39;49minputs,\n\u001b[1;32m    317\u001b[0m         outputs\u001b[39m=\u001b[39;49moutputs,\n\u001b[1;32m    318\u001b[0m         mode\u001b[39m=\u001b[39;49mmode,\n\u001b[1;32m    319\u001b[0m         updates\u001b[39m=\u001b[39;49mupdates,\n\u001b[1;32m    320\u001b[0m         givens\u001b[39m=\u001b[39;49mgivens,\n\u001b[1;32m    321\u001b[0m         no_default_updates\u001b[39m=\u001b[39;49mno_default_updates,\n\u001b[1;32m    322\u001b[0m         accept_inplace\u001b[39m=\u001b[39;49maccept_inplace,\n\u001b[1;32m    323\u001b[0m         name\u001b[39m=\u001b[39;49mname,\n\u001b[1;32m    324\u001b[0m         rebuild_strict\u001b[39m=\u001b[39;49mrebuild_strict,\n\u001b[1;32m    325\u001b[0m         allow_input_downcast\u001b[39m=\u001b[39;49mallow_input_downcast,\n\u001b[1;32m    326\u001b[0m         on_unused_input\u001b[39m=\u001b[39;49mon_unused_input,\n\u001b[1;32m    327\u001b[0m         profile\u001b[39m=\u001b[39;49mprofile,\n\u001b[1;32m    328\u001b[0m         output_keys\u001b[39m=\u001b[39;49moutput_keys,\n\u001b[1;32m    329\u001b[0m     )\n\u001b[1;32m    330\u001b[0m \u001b[39mreturn\u001b[39;00m fn\n",
      "File \u001b[0;32m~/anaconda3/envs/pyhf_pymc/lib/python3.9/site-packages/pytensor/compile/function/pfunc.py:367\u001b[0m, in \u001b[0;36mpfunc\u001b[0;34m(params, outputs, mode, updates, givens, no_default_updates, accept_inplace, name, rebuild_strict, allow_input_downcast, profile, on_unused_input, output_keys, fgraph)\u001b[0m\n\u001b[1;32m    353\u001b[0m     profile \u001b[39m=\u001b[39m ProfileStats(message\u001b[39m=\u001b[39mprofile)\n\u001b[1;32m    355\u001b[0m inputs, cloned_outputs \u001b[39m=\u001b[39m construct_pfunc_ins_and_outs(\n\u001b[1;32m    356\u001b[0m     params,\n\u001b[1;32m    357\u001b[0m     outputs,\n\u001b[0;32m   (...)\u001b[0m\n\u001b[1;32m    364\u001b[0m     fgraph\u001b[39m=\u001b[39mfgraph,\n\u001b[1;32m    365\u001b[0m )\n\u001b[0;32m--> 367\u001b[0m \u001b[39mreturn\u001b[39;00m orig_function(\n\u001b[1;32m    368\u001b[0m     inputs,\n\u001b[1;32m    369\u001b[0m     cloned_outputs,\n\u001b[1;32m    370\u001b[0m     mode,\n\u001b[1;32m    371\u001b[0m     accept_inplace\u001b[39m=\u001b[39;49maccept_inplace,\n\u001b[1;32m    372\u001b[0m     name\u001b[39m=\u001b[39;49mname,\n\u001b[1;32m    373\u001b[0m     profile\u001b[39m=\u001b[39;49mprofile,\n\u001b[1;32m    374\u001b[0m     on_unused_input\u001b[39m=\u001b[39;49mon_unused_input,\n\u001b[1;32m    375\u001b[0m     output_keys\u001b[39m=\u001b[39;49moutput_keys,\n\u001b[1;32m    376\u001b[0m     fgraph\u001b[39m=\u001b[39;49mfgraph,\n\u001b[1;32m    377\u001b[0m )\n",
      "File \u001b[0;32m~/anaconda3/envs/pyhf_pymc/lib/python3.9/site-packages/pytensor/compile/function/types.py:1763\u001b[0m, in \u001b[0;36morig_function\u001b[0;34m(inputs, outputs, mode, accept_inplace, name, profile, on_unused_input, output_keys, fgraph)\u001b[0m\n\u001b[1;32m   1751\u001b[0m     m \u001b[39m=\u001b[39m Maker(\n\u001b[1;32m   1752\u001b[0m         inputs,\n\u001b[1;32m   1753\u001b[0m         outputs,\n\u001b[0;32m   (...)\u001b[0m\n\u001b[1;32m   1760\u001b[0m         fgraph\u001b[39m=\u001b[39mfgraph,\n\u001b[1;32m   1761\u001b[0m     )\n\u001b[1;32m   1762\u001b[0m     \u001b[39mwith\u001b[39;00m config\u001b[39m.\u001b[39mchange_flags(compute_test_value\u001b[39m=\u001b[39m\u001b[39m\"\u001b[39m\u001b[39moff\u001b[39m\u001b[39m\"\u001b[39m):\n\u001b[0;32m-> 1763\u001b[0m         fn \u001b[39m=\u001b[39m m\u001b[39m.\u001b[39;49mcreate(defaults)\n\u001b[1;32m   1764\u001b[0m \u001b[39mfinally\u001b[39;00m:\n\u001b[1;32m   1765\u001b[0m     t2 \u001b[39m=\u001b[39m time\u001b[39m.\u001b[39mperf_counter()\n",
      "File \u001b[0;32m~/anaconda3/envs/pyhf_pymc/lib/python3.9/site-packages/pytensor/compile/function/types.py:1656\u001b[0m, in \u001b[0;36mFunctionMaker.create\u001b[0;34m(self, input_storage, storage_map)\u001b[0m\n\u001b[1;32m   1653\u001b[0m start_import_time \u001b[39m=\u001b[39m pytensor\u001b[39m.\u001b[39mlink\u001b[39m.\u001b[39mc\u001b[39m.\u001b[39mcmodule\u001b[39m.\u001b[39mimport_time\n\u001b[1;32m   1655\u001b[0m \u001b[39mwith\u001b[39;00m config\u001b[39m.\u001b[39mchange_flags(traceback__limit\u001b[39m=\u001b[39mconfig\u001b[39m.\u001b[39mtraceback__compile_limit):\n\u001b[0;32m-> 1656\u001b[0m     _fn, _i, _o \u001b[39m=\u001b[39m \u001b[39mself\u001b[39;49m\u001b[39m.\u001b[39;49mlinker\u001b[39m.\u001b[39;49mmake_thunk(\n\u001b[1;32m   1657\u001b[0m         input_storage\u001b[39m=\u001b[39;49minput_storage_lists, storage_map\u001b[39m=\u001b[39;49mstorage_map\n\u001b[1;32m   1658\u001b[0m     )\n\u001b[1;32m   1660\u001b[0m end_linker \u001b[39m=\u001b[39m time\u001b[39m.\u001b[39mperf_counter()\n\u001b[1;32m   1662\u001b[0m linker_time \u001b[39m=\u001b[39m end_linker \u001b[39m-\u001b[39m start_linker\n",
      "File \u001b[0;32m~/anaconda3/envs/pyhf_pymc/lib/python3.9/site-packages/pytensor/link/basic.py:254\u001b[0m, in \u001b[0;36mLocalLinker.make_thunk\u001b[0;34m(self, input_storage, output_storage, storage_map, **kwargs)\u001b[0m\n\u001b[1;32m    247\u001b[0m \u001b[39mdef\u001b[39;00m \u001b[39mmake_thunk\u001b[39m(\n\u001b[1;32m    248\u001b[0m     \u001b[39mself\u001b[39m,\n\u001b[1;32m    249\u001b[0m     input_storage: Optional[\u001b[39m\"\u001b[39m\u001b[39mInputStorageType\u001b[39m\u001b[39m\"\u001b[39m] \u001b[39m=\u001b[39m \u001b[39mNone\u001b[39;00m,\n\u001b[0;32m   (...)\u001b[0m\n\u001b[1;32m    252\u001b[0m     \u001b[39m*\u001b[39m\u001b[39m*\u001b[39mkwargs,\n\u001b[1;32m    253\u001b[0m ) \u001b[39m-\u001b[39m\u001b[39m>\u001b[39m Tuple[\u001b[39m\"\u001b[39m\u001b[39mBasicThunkType\u001b[39m\u001b[39m\"\u001b[39m, \u001b[39m\"\u001b[39m\u001b[39mInputStorageType\u001b[39m\u001b[39m\"\u001b[39m, \u001b[39m\"\u001b[39m\u001b[39mOutputStorageType\u001b[39m\u001b[39m\"\u001b[39m]:\n\u001b[0;32m--> 254\u001b[0m     \u001b[39mreturn\u001b[39;00m \u001b[39mself\u001b[39;49m\u001b[39m.\u001b[39;49mmake_all(\n\u001b[1;32m    255\u001b[0m         input_storage\u001b[39m=\u001b[39;49minput_storage,\n\u001b[1;32m    256\u001b[0m         output_storage\u001b[39m=\u001b[39;49moutput_storage,\n\u001b[1;32m    257\u001b[0m         storage_map\u001b[39m=\u001b[39;49mstorage_map,\n\u001b[1;32m    258\u001b[0m     )[:\u001b[39m3\u001b[39m]\n",
      "File \u001b[0;32m~/anaconda3/envs/pyhf_pymc/lib/python3.9/site-packages/pytensor/link/vm.py:1246\u001b[0m, in \u001b[0;36mVMLinker.make_all\u001b[0;34m(self, profiler, input_storage, output_storage, storage_map)\u001b[0m\n\u001b[1;32m   1241\u001b[0m thunk_start \u001b[39m=\u001b[39m time\u001b[39m.\u001b[39mperf_counter()\n\u001b[1;32m   1242\u001b[0m \u001b[39m# no-recycling is done at each VM.__call__ So there is\u001b[39;00m\n\u001b[1;32m   1243\u001b[0m \u001b[39m# no need to cause duplicate c code by passing\u001b[39;00m\n\u001b[1;32m   1244\u001b[0m \u001b[39m# no_recycling here.\u001b[39;00m\n\u001b[1;32m   1245\u001b[0m thunks\u001b[39m.\u001b[39mappend(\n\u001b[0;32m-> 1246\u001b[0m     node\u001b[39m.\u001b[39;49mop\u001b[39m.\u001b[39;49mmake_thunk(node, storage_map, compute_map, [], impl\u001b[39m=\u001b[39;49mimpl)\n\u001b[1;32m   1247\u001b[0m )\n\u001b[1;32m   1248\u001b[0m linker_make_thunk_time[node] \u001b[39m=\u001b[39m time\u001b[39m.\u001b[39mperf_counter() \u001b[39m-\u001b[39m thunk_start\n\u001b[1;32m   1249\u001b[0m \u001b[39mif\u001b[39;00m \u001b[39mnot\u001b[39;00m \u001b[39mhasattr\u001b[39m(thunks[\u001b[39m-\u001b[39m\u001b[39m1\u001b[39m], \u001b[39m\"\u001b[39m\u001b[39mlazy\u001b[39m\u001b[39m\"\u001b[39m):\n\u001b[1;32m   1250\u001b[0m     \u001b[39m# We don't want all ops maker to think about lazy Ops.\u001b[39;00m\n\u001b[1;32m   1251\u001b[0m     \u001b[39m# So if they didn't specify that its lazy or not, it isn't.\u001b[39;00m\n\u001b[1;32m   1252\u001b[0m     \u001b[39m# If this member isn't present, it will crash later.\u001b[39;00m\n",
      "File \u001b[0;32m~/anaconda3/envs/pyhf_pymc/lib/python3.9/site-packages/pytensor/link/c/op.py:131\u001b[0m, in \u001b[0;36mCOp.make_thunk\u001b[0;34m(self, node, storage_map, compute_map, no_recycling, impl)\u001b[0m\n\u001b[1;32m    127\u001b[0m \u001b[39mself\u001b[39m\u001b[39m.\u001b[39mprepare_node(\n\u001b[1;32m    128\u001b[0m     node, storage_map\u001b[39m=\u001b[39mstorage_map, compute_map\u001b[39m=\u001b[39mcompute_map, impl\u001b[39m=\u001b[39m\u001b[39m\"\u001b[39m\u001b[39mc\u001b[39m\u001b[39m\"\u001b[39m\n\u001b[1;32m    129\u001b[0m )\n\u001b[1;32m    130\u001b[0m \u001b[39mtry\u001b[39;00m:\n\u001b[0;32m--> 131\u001b[0m     \u001b[39mreturn\u001b[39;00m \u001b[39mself\u001b[39;49m\u001b[39m.\u001b[39;49mmake_c_thunk(node, storage_map, compute_map, no_recycling)\n\u001b[1;32m    132\u001b[0m \u001b[39mexcept\u001b[39;00m (\u001b[39mNotImplementedError\u001b[39;00m, MethodNotDefined):\n\u001b[1;32m    133\u001b[0m     \u001b[39m# We requested the c code, so don't catch the error.\u001b[39;00m\n\u001b[1;32m    134\u001b[0m     \u001b[39mif\u001b[39;00m impl \u001b[39m==\u001b[39m \u001b[39m\"\u001b[39m\u001b[39mc\u001b[39m\u001b[39m\"\u001b[39m:\n",
      "File \u001b[0;32m~/anaconda3/envs/pyhf_pymc/lib/python3.9/site-packages/pytensor/link/c/op.py:96\u001b[0m, in \u001b[0;36mCOp.make_c_thunk\u001b[0;34m(self, node, storage_map, compute_map, no_recycling)\u001b[0m\n\u001b[1;32m     94\u001b[0m         \u001b[39mprint\u001b[39m(\u001b[39mf\u001b[39m\u001b[39m\"\u001b[39m\u001b[39mDisabling C code for \u001b[39m\u001b[39m{\u001b[39;00m\u001b[39mself\u001b[39m\u001b[39m}\u001b[39;00m\u001b[39m due to unsupported float16\u001b[39m\u001b[39m\"\u001b[39m)\n\u001b[1;32m     95\u001b[0m         \u001b[39mraise\u001b[39;00m \u001b[39mNotImplementedError\u001b[39;00m(\u001b[39m\"\u001b[39m\u001b[39mfloat16\u001b[39m\u001b[39m\"\u001b[39m)\n\u001b[0;32m---> 96\u001b[0m outputs \u001b[39m=\u001b[39m cl\u001b[39m.\u001b[39;49mmake_thunk(\n\u001b[1;32m     97\u001b[0m     input_storage\u001b[39m=\u001b[39;49mnode_input_storage, output_storage\u001b[39m=\u001b[39;49mnode_output_storage\n\u001b[1;32m     98\u001b[0m )\n\u001b[1;32m     99\u001b[0m thunk, node_input_filters, node_output_filters \u001b[39m=\u001b[39m outputs\n\u001b[1;32m    101\u001b[0m \u001b[39m@is_cthunk_wrapper_type\u001b[39m\n\u001b[1;32m    102\u001b[0m \u001b[39mdef\u001b[39;00m \u001b[39mrval\u001b[39m():\n",
      "File \u001b[0;32m~/anaconda3/envs/pyhf_pymc/lib/python3.9/site-packages/pytensor/link/c/basic.py:1202\u001b[0m, in \u001b[0;36mCLinker.make_thunk\u001b[0;34m(self, input_storage, output_storage, storage_map, cache, **kwargs)\u001b[0m\n\u001b[1;32m   1167\u001b[0m \u001b[39m\u001b[39m\u001b[39m\"\"\"Compile this linker's `self.fgraph` and return a function that performs the computations.\u001b[39;00m\n\u001b[1;32m   1168\u001b[0m \n\u001b[1;32m   1169\u001b[0m \u001b[39mThe return values can be used as follows:\u001b[39;00m\n\u001b[0;32m   (...)\u001b[0m\n\u001b[1;32m   1199\u001b[0m \n\u001b[1;32m   1200\u001b[0m \u001b[39m\"\"\"\u001b[39;00m\n\u001b[1;32m   1201\u001b[0m init_tasks, tasks \u001b[39m=\u001b[39m \u001b[39mself\u001b[39m\u001b[39m.\u001b[39mget_init_tasks()\n\u001b[0;32m-> 1202\u001b[0m cthunk, module, in_storage, out_storage, error_storage \u001b[39m=\u001b[39m \u001b[39mself\u001b[39;49m\u001b[39m.\u001b[39;49m__compile__(\n\u001b[1;32m   1203\u001b[0m     input_storage, output_storage, storage_map, cache\n\u001b[1;32m   1204\u001b[0m )\n\u001b[1;32m   1206\u001b[0m res \u001b[39m=\u001b[39m _CThunk(cthunk, init_tasks, tasks, error_storage, module)\n\u001b[1;32m   1207\u001b[0m res\u001b[39m.\u001b[39mnodes \u001b[39m=\u001b[39m \u001b[39mself\u001b[39m\u001b[39m.\u001b[39mnode_order\n",
      "File \u001b[0;32m~/anaconda3/envs/pyhf_pymc/lib/python3.9/site-packages/pytensor/link/c/basic.py:1122\u001b[0m, in \u001b[0;36mCLinker.__compile__\u001b[0;34m(self, input_storage, output_storage, storage_map, cache)\u001b[0m\n\u001b[1;32m   1120\u001b[0m input_storage \u001b[39m=\u001b[39m \u001b[39mtuple\u001b[39m(input_storage)\n\u001b[1;32m   1121\u001b[0m output_storage \u001b[39m=\u001b[39m \u001b[39mtuple\u001b[39m(output_storage)\n\u001b[0;32m-> 1122\u001b[0m thunk, module \u001b[39m=\u001b[39m \u001b[39mself\u001b[39;49m\u001b[39m.\u001b[39;49mcthunk_factory(\n\u001b[1;32m   1123\u001b[0m     error_storage,\n\u001b[1;32m   1124\u001b[0m     input_storage,\n\u001b[1;32m   1125\u001b[0m     output_storage,\n\u001b[1;32m   1126\u001b[0m     storage_map,\n\u001b[1;32m   1127\u001b[0m     cache,\n\u001b[1;32m   1128\u001b[0m )\n\u001b[1;32m   1129\u001b[0m \u001b[39mreturn\u001b[39;00m (\n\u001b[1;32m   1130\u001b[0m     thunk,\n\u001b[1;32m   1131\u001b[0m     module,\n\u001b[0;32m   (...)\u001b[0m\n\u001b[1;32m   1140\u001b[0m     error_storage,\n\u001b[1;32m   1141\u001b[0m )\n",
      "File \u001b[0;32m~/anaconda3/envs/pyhf_pymc/lib/python3.9/site-packages/pytensor/link/c/basic.py:1647\u001b[0m, in \u001b[0;36mCLinker.cthunk_factory\u001b[0;34m(self, error_storage, in_storage, out_storage, storage_map, cache)\u001b[0m\n\u001b[1;32m   1645\u001b[0m     \u001b[39mif\u001b[39;00m cache \u001b[39mis\u001b[39;00m \u001b[39mNone\u001b[39;00m:\n\u001b[1;32m   1646\u001b[0m         cache \u001b[39m=\u001b[39m get_module_cache()\n\u001b[0;32m-> 1647\u001b[0m     module \u001b[39m=\u001b[39m cache\u001b[39m.\u001b[39;49mmodule_from_key(key\u001b[39m=\u001b[39;49mkey, lnk\u001b[39m=\u001b[39;49m\u001b[39mself\u001b[39;49m)\n\u001b[1;32m   1649\u001b[0m \u001b[39mvars\u001b[39m \u001b[39m=\u001b[39m \u001b[39mself\u001b[39m\u001b[39m.\u001b[39minputs \u001b[39m+\u001b[39m \u001b[39mself\u001b[39m\u001b[39m.\u001b[39moutputs \u001b[39m+\u001b[39m \u001b[39mself\u001b[39m\u001b[39m.\u001b[39morphans\n\u001b[1;32m   1650\u001b[0m \u001b[39m# List of indices that should be ignored when passing the arguments\u001b[39;00m\n\u001b[1;32m   1651\u001b[0m \u001b[39m# (basically, everything that the previous call to uniq eliminated)\u001b[39;00m\n",
      "File \u001b[0;32m~/anaconda3/envs/pyhf_pymc/lib/python3.9/site-packages/pytensor/link/c/cmodule.py:1197\u001b[0m, in \u001b[0;36mModuleCache.module_from_key\u001b[0;34m(self, key, lnk)\u001b[0m\n\u001b[1;32m   1195\u001b[0m \u001b[39m# Is the source code already in the cache?\u001b[39;00m\n\u001b[1;32m   1196\u001b[0m module_hash \u001b[39m=\u001b[39m get_module_hash(src_code, key)\n\u001b[0;32m-> 1197\u001b[0m module \u001b[39m=\u001b[39m \u001b[39mself\u001b[39;49m\u001b[39m.\u001b[39;49m_get_from_hash(module_hash, key)\n\u001b[1;32m   1198\u001b[0m \u001b[39mif\u001b[39;00m module \u001b[39mis\u001b[39;00m \u001b[39mnot\u001b[39;00m \u001b[39mNone\u001b[39;00m:\n\u001b[1;32m   1199\u001b[0m     \u001b[39mreturn\u001b[39;00m module\n",
      "File \u001b[0;32m~/anaconda3/envs/pyhf_pymc/lib/python3.9/site-packages/pytensor/link/c/cmodule.py:1111\u001b[0m, in \u001b[0;36mModuleCache._get_from_hash\u001b[0;34m(self, module_hash, key)\u001b[0m\n\u001b[1;32m   1107\u001b[0m     \u001b[39m# We need the lock while we check in case of parallel\u001b[39;00m\n\u001b[1;32m   1108\u001b[0m     \u001b[39m# process that could be changing the file at the same\u001b[39;00m\n\u001b[1;32m   1109\u001b[0m     \u001b[39m# time.\u001b[39;00m\n\u001b[1;32m   1110\u001b[0m     \u001b[39mif\u001b[39;00m key[\u001b[39m0\u001b[39m] \u001b[39mand\u001b[39;00m \u001b[39mnot\u001b[39;00m key_broken \u001b[39mand\u001b[39;00m \u001b[39mself\u001b[39m\u001b[39m.\u001b[39mcheck_for_broken_eq:\n\u001b[0;32m-> 1111\u001b[0m         \u001b[39mself\u001b[39;49m\u001b[39m.\u001b[39;49mcheck_key(key, key_data\u001b[39m.\u001b[39;49mkey_pkl)\n\u001b[1;32m   1112\u001b[0m \u001b[39mself\u001b[39m\u001b[39m.\u001b[39m_update_mappings(\n\u001b[1;32m   1113\u001b[0m     key, key_data, module\u001b[39m.\u001b[39m\u001b[39m__file__\u001b[39m, check_in_keys\u001b[39m=\u001b[39m\u001b[39mnot\u001b[39;00m key_broken\n\u001b[1;32m   1114\u001b[0m )\n\u001b[1;32m   1115\u001b[0m \u001b[39mreturn\u001b[39;00m module\n",
      "File \u001b[0;32m~/anaconda3/envs/pyhf_pymc/lib/python3.9/site-packages/pytensor/link/c/cmodule.py:1281\u001b[0m, in \u001b[0;36mModuleCache.check_key\u001b[0;34m(self, key, key_pkl)\u001b[0m\n\u001b[1;32m   1279\u001b[0m \u001b[39mtry\u001b[39;00m:\n\u001b[1;32m   1280\u001b[0m     \u001b[39mwith\u001b[39;00m \u001b[39mopen\u001b[39m(key_pkl, \u001b[39m\"\u001b[39m\u001b[39mrb\u001b[39m\u001b[39m\"\u001b[39m) \u001b[39mas\u001b[39;00m f:\n\u001b[0;32m-> 1281\u001b[0m         key_data \u001b[39m=\u001b[39m pickle\u001b[39m.\u001b[39;49mload(f)\n\u001b[1;32m   1282\u001b[0m     \u001b[39mbreak\u001b[39;00m\n\u001b[1;32m   1283\u001b[0m \u001b[39mexcept\u001b[39;00m \u001b[39mEOFError\u001b[39;00m:\n\u001b[1;32m   1284\u001b[0m     \u001b[39m# This file is probably getting written/updated at the\u001b[39;00m\n\u001b[1;32m   1285\u001b[0m     \u001b[39m# same time.  This can happen as we read the cache\u001b[39;00m\n\u001b[1;32m   1286\u001b[0m     \u001b[39m# without taking the lock.\u001b[39;00m\n",
      "File \u001b[0;32m~/anaconda3/envs/pyhf_pymc/lib/python3.9/site-packages/pytensor/graph/utils.py:283\u001b[0m, in \u001b[0;36mScratchpad.__getattribute__\u001b[0;34m(self, name)\u001b[0m\n\u001b[1;32m    280\u001b[0m         \u001b[39mprint\u001b[39m(\u001b[39mf\u001b[39m\u001b[39m\"\u001b[39m\u001b[39m  \u001b[39m\u001b[39m{\u001b[39;00mk\u001b[39m}\u001b[39;00m\u001b[39m: \u001b[39m\u001b[39m{\u001b[39;00mv\u001b[39m}\u001b[39;00m\u001b[39m\"\u001b[39m)\n\u001b[1;32m    282\u001b[0m \u001b[39m# These two methods have been added to help Mypy\u001b[39;00m\n\u001b[0;32m--> 283\u001b[0m \u001b[39mdef\u001b[39;00m \u001b[39m__getattribute__\u001b[39m(\u001b[39mself\u001b[39m, name):\n\u001b[1;32m    284\u001b[0m     \u001b[39mreturn\u001b[39;00m \u001b[39msuper\u001b[39m()\u001b[39m.\u001b[39m\u001b[39m__getattribute__\u001b[39m(name)\n\u001b[1;32m    286\u001b[0m \u001b[39mdef\u001b[39;00m \u001b[39m__setattr__\u001b[39m(\u001b[39mself\u001b[39m, name: \u001b[39mstr\u001b[39m, value: Any) \u001b[39m-\u001b[39m\u001b[39m>\u001b[39m \u001b[39mNone\u001b[39;00m:\n",
      "\u001b[0;31mKeyboardInterrupt\u001b[0m: "
     ]
    }
   ],
   "source": [
    "post_n, post_u, post_d = [], [], []\n",
    "count = 0\n",
    "for p_d in prior_data:\n",
    "    count += 1\n",
    "    print(f'STEP:  {count}')\n",
    "    a, b, c = posterior_from_prior(p_d, 1)\n",
    "    post_n.append(a)\n",
    "    post_u.append(b)\n",
    "    post_d.append(c)"
   ]
  },
  {
   "cell_type": "code",
   "execution_count": 13,
   "metadata": {},
   "outputs": [],
   "source": [
    "post_Normals, post_Unconstrained, post_data = [], [], []\n",
    "for a in post_n:\n",
    "    post_Normals.append(a)\n",
    "post_Normals = np.concatenate(post_Normals)\n",
    "\n",
    "for b in post_u:\n",
    "    post_Unconstrained.append(b)\n",
    "post_Unconstrained = np.concatenate(post_Unconstrained)\n",
    "\n",
    "for c in post_d:\n",
    "    post_data.append(c)\n",
    "post_data = np.concatenate(post_data)"
   ]
  },
  {
   "cell_type": "code",
   "execution_count": 42,
   "metadata": {},
   "outputs": [],
   "source": [
    "with open('post_Normals_Metropolis.txt', 'w') as filehandle:\n",
    "    json.dump(post_Normals.tolist(), filehandle)\n",
    "with open('post_Unconstrained_Metropolis.txt', 'w') as filehandle:\n",
    "    json.dump(post_Unconstrained.tolist(), filehandle)\n",
    "\n",
    "with open('prior_Normals_Metropolis.txt', 'w') as filehandle:\n",
    "    json.dump(post_Normals.tolist(), filehandle)\n",
    "with open('prior_Unconstrained_Metropolis.txt', 'w') as filehandle:\n",
    "    json.dump(post_Unconstrained.tolist(), filehandle)"
   ]
  },
  {
   "cell_type": "code",
   "execution_count": 29,
   "metadata": {},
   "outputs": [],
   "source": [
    "from numpy import loadtxt\n",
    "\n",
    "#read text file into NumPy array\n",
    "post_Normals = loadtxt('post_Normals_Metropolis.txt', dtype=object)\n",
    "prior_Normals = loadtxt('prior_Normals_Metropolis.txt', dtype=object)"
   ]
  },
  {
   "cell_type": "code",
   "execution_count": 34,
   "metadata": {},
   "outputs": [],
   "source": [
    "post_Normals = np.concatenate(post_Normals)\n",
    "prior_Normals = np.concatenate(prior_Normals)"
   ]
  },
  {
   "cell_type": "code",
   "execution_count": 14,
   "metadata": {},
   "outputs": [
    {
     "data": {
      "text/plain": [
       "<matplotlib.legend.Legend at 0x2c6cd7ac0>"
      ]
     },
     "execution_count": 14,
     "metadata": {},
     "output_type": "execute_result"
    },
    {
     "data": {
      "image/png": "[encoded data removed]",
      "text/plain": [
       "<Figure size 640x480 with 1 Axes>"
      ]
     },
     "metadata": {},
     "output_type": "display_data"
    }
   ],
   "source": [
    "plt.hist(prior_Normals, 40, alpha = 0.5, color=orange, linewidth=2, label='Prior', edgecolor=orange)\n",
    "_, bins, _ = plt.hist(prior_Normals, bins=40, histtype='step', color=orange, alpha=0.000001)\n",
    "plt.hist(post_Normals, bins=bins, alpha = 0.5, color=blue, linewidth=2, label='Posterior', edgecolor=blue)\n",
    "plt.xlabel('Background')\n",
    "\n",
    "plt.legend()"
   ]
  },
  {
   "cell_type": "code",
   "execution_count": 15,
   "metadata": {},
   "outputs": [
    {
     "data": {
      "text/plain": [
       "<matplotlib.legend.Legend at 0x2c7305a90>"
      ]
     },
     "execution_count": 15,
     "metadata": {},
     "output_type": "execute_result"
    },
    {
     "data": {
      "image/png": "[encoded data removed]",
      "text/plain": [
       "<Figure size 640x480 with 1 Axes>"
      ]
     },
     "metadata": {},
     "output_type": "display_data"
    }
   ],
   "source": [
    "plt.hist(prior_Unconstrained, 40, alpha = 0.5, color=orange, linewidth=2, label='Prior', edgecolor=orange)\n",
    "_, bins, _ = plt.hist(prior_Unconstrained, bins=40, histtype='step', color=orange, alpha=0.000001)\n",
    "plt.hist(post_Unconstrained, bins=bins, alpha = 0.5, color=blue, linewidth=2, label='Posterior', edgecolor=blue)\n",
    "plt.xlabel('Signal Strenth')\n",
    "\n",
    "plt.legend()"
   ]
  },
  {
   "cell_type": "code",
   "execution_count": 16,
   "metadata": {},
   "outputs": [
    {
     "data": {
      "text/plain": [
       "array([[ 80,  92,  98],\n",
       "       [114,  87,  97],\n",
       "       [101, 106, 106],\n",
       "       ...,\n",
       "       [ 78,  95,  67],\n",
       "       [ 74,  75,  90],\n",
       "       [113,  99, 126]])"
      ]
     },
     "execution_count": 16,
     "metadata": {},
     "output_type": "execute_result"
    }
   ],
   "source": [
    "prior_data"
   ]
  },
  {
   "attachments": {},
   "cell_type": "markdown",
   "metadata": {},
   "source": [
    "## Autocorrelation"
   ]
  },
  {
   "cell_type": "code",
   "execution_count": null,
   "metadata": {},
   "outputs": [
    {
     "name": "stderr",
     "output_type": "stream",
     "text": [
      "Only 100 samples in chain.\n"
     ]
    },
    {
     "name": "stderr",
     "output_type": "stream",
     "text": [
      "Sampling 1 chain for 1_000 tune and 100 draw iterations (1_000 + 100 draws total) took 0 seconds.\n",
      "/Users/malinhorstmann/anaconda3/envs/pyhf_pymc/lib/python3.9/site-packages/arviz/data/base.py:221: UserWarning: More chains (100) than draws (2). Passed array should have shape (chains, draws, *shape)\n",
      "  warnings.warn(\n"
     ]
    },
    {
     "name": "stderr",
     "output_type": "stream",
     "text": [
      "Sampling 1 chain for 1_000 tune and 1_200 draw iterations (1_000 + 1_200 draws total) took 0 seconds.\n",
      "/Users/malinhorstmann/anaconda3/envs/pyhf_pymc/lib/python3.9/site-packages/arviz/data/base.py:221: UserWarning: More chains (1200) than draws (2). Passed array should have shape (chains, draws, *shape)\n",
      "  warnings.warn(\n"
     ]
    }
   ],
   "source": [
    "with context_inference.pyhf_model(prepared_model):\n",
    "    step = pm.Metropolis()\n",
    "    post_data_MH = pm.sample(100, chains = 1, step=step)\n",
    "\n",
    "with context_inference.pyhf_model(prepared_model):\n",
    "    step = pm.Metropolis()\n",
    "    post_data_MH_thinned = pm.sample(1200, chains = 1, step=step)"
   ]
  },
  {
   "cell_type": "code",
   "execution_count": null,
   "metadata": {},
   "outputs": [
    {
     "name": "stderr",
     "output_type": "stream",
     "text": [
      "Only 100 samples in chain.\n",
      "Auto-assigning NUTS sampler...\n",
      "Initializing NUTS using jitter+adapt_diag...\n"
     ]
    },
    {
     "name": "stderr",
     "output_type": "stream",
     "text": [
      "Sampling 1 chain for 1_000 tune and 100 draw iterations (1_000 + 100 draws total) took 1 seconds.\n",
      "/Users/malinhorstmann/anaconda3/envs/pyhf_pymc/lib/python3.9/site-packages/arviz/data/base.py:221: UserWarning: More chains (100) than draws (1). Passed array should have shape (chains, draws, *shape)\n",
      "  warnings.warn(\n",
      "Auto-assigning NUTS sampler...\n",
      "Initializing NUTS using jitter+adapt_diag...\n"
     ]
    },
    {
     "name": "stderr",
     "output_type": "stream",
     "text": [
      "Sampling 1 chain for 1_000 tune and 600 draw iterations (1_000 + 600 draws total) took 1 seconds.\n",
      "/Users/malinhorstmann/anaconda3/envs/pyhf_pymc/lib/python3.9/site-packages/arviz/data/base.py:221: UserWarning: More chains (600) than draws (1). Passed array should have shape (chains, draws, *shape)\n",
      "  warnings.warn(\n"
     ]
    }
   ],
   "source": [
    "with context_inference.pyhf_model(prepared_model):\n",
    "    post_data_NUTS = pm.sample(100, chains = 1)\n",
    "\n",
    "with context_inference.pyhf_model(prepared_model):\n",
    "    post_data_NUTS_thinned = pm.sample(600, chains = 1)"
   ]
  },
  {
   "cell_type": "code",
   "execution_count": null,
   "metadata": {},
   "outputs": [],
   "source": [
    "thinned_MH = post_data_MH_thinned.posterior.thin(12)\n",
    "thinned_NUTS = post_data_NUTS_thinned.posterior.thin(6)"
   ]
  },
  {
   "cell_type": "code",
   "execution_count": null,
   "metadata": {},
   "outputs": [],
   "source": [
    "# Metropolis\n",
    "post_Normals_MH = np.concatenate(np.array(post_data_MH.posterior.Normals[0]))\n",
    "post_Unconstrained_MH = np.concatenate(np.array(post_data_MH.posterior.Unconstrained[0]))\n",
    "\n",
    "post_Normals_MH_thinned = np.concatenate(np.array(thinned_MH.Normals[0]))\n",
    "post_Unconstrained_MH_thinned = np.concatenate(np.array(thinned_MH.Unconstrained[0]))\n",
    "\n",
    "# NUTS\n",
    "post_Normals_NUTS = np.concatenate(np.array(post_data_NUTS.posterior.Normals[0]))\n",
    "post_Unconstrained_NUTS = np.concatenate(np.array(post_data_NUTS.posterior.Unconstrained[0]))\n",
    "\n",
    "post_Normals_NUTS_thinned = np.concatenate(np.array(thinned_NUTS.Normals[0]))\n",
    "post_Unconstrained_NUTS_thinned = np.concatenate(np.array(thinned_NUTS.Unconstrained[0]))"
   ]
  },
  {
   "cell_type": "code",
   "execution_count": null,
   "metadata": {},
   "outputs": [
    {
     "data": {
      "image/png": "[encoded data removed]",
      "text/plain": [
       "<Figure size 640x480 with 1 Axes>"
      ]
     },
     "metadata": {},
     "output_type": "display_data"
    },
    {
     "data": {
      "image/png": "[encoded data removed]",
      "text/plain": [
       "<Figure size 640x480 with 1 Axes>"
      ]
     },
     "metadata": {},
     "output_type": "display_data"
    }
   ],
   "source": [
    "fig = plt.bar(np.linspace(0, 100, 100), az.autocorr(post_Normals_MH), width=0.5, alpha=0.8, color=blue, label='Metropolis-Hastings')\n",
    "plt.bar(np.linspace(0, 100, 100), az.autocorr(post_Normals_NUTS), width=0.5, alpha=0.8, color=orange, label='HMC')\n",
    "plt.fill_between(np.linspace(0, 100, 100), -0.2, 0.2, color='grey', alpha=0.2, zorder=0, linewidth=0)\n",
    "plt.xlabel('Draws')\n",
    "plt.ylabel('Autocorrelation')\n",
    "plt.legend()\n",
    "plt.title('Background')\n",
    "plt.show()\n",
    "\n",
    "\n",
    "plt.bar(np.linspace(0, 100, 100), az.autocorr(post_Normals_MH_thinned), width=0.5, alpha=0.8, color=blue, label='Metropolis-Hastings, thin: 12')\n",
    "plt.bar(np.linspace(0, 100, 100), az.autocorr(post_Normals_NUTS_thinned), width=0.5, alpha=0.8, color=orange, label='HMC, thin: 6')\n",
    "plt.fill_between(np.linspace(0, 100, 100), -0.2, 0.2, color='grey', alpha=0.2, zorder=0, linewidth=0)\n",
    "plt.xlabel('Draws')\n",
    "plt.ylabel('Autocorrelation')\n",
    "plt.legend()\n",
    "plt.title('Background, thinned chains');"
   ]
  },
  {
   "cell_type": "code",
   "execution_count": null,
   "metadata": {},
   "outputs": [],
   "source": [
    "plt.bar(np.linspace(0, 100, 100), az.autocorr(post_Unconstrained_MH), width=0.5, alpha=0.8, color=green, label='Metropolis-Hastings')\n",
    "plt.bar(np.linspace(0, 100, 100), az.autocorr(post_Unconstrained_NUTS), width=0.5, alpha=0.8, color=lila, label='HMC (NUTS)')\n",
    "plt.fill_between(np.linspace(0, 100, 100), -0.2, 0.2, color='grey', alpha=0.2, zorder=0, linewidth=0)\n",
    "plt.legend()\n",
    "plt.title('Autocorrelation for the signal strength')\n",
    "plt.show()\n",
    "\n",
    "\n",
    "plt.bar(np.linspace(0, 100, 100), az.autocorr(post_Unconstrained_MH_thinned), width=0.5, alpha=0.8, color=green, label='Metropolis-Hastings, thin: 12')\n",
    "plt.bar(np.linspace(0, 100, 100), az.autocorr(post_Unconstrained_NUTS_thinned), width=0.5, alpha=0.8, color=lila, label='HMC (NUTS), thin: 6')\n",
    "plt.fill_between(np.linspace(0, 100, 100), -0.2, 0.2, color='grey', alpha=0.2, zorder=0, linewidth=0)\n",
    "plt.legend()\n",
    "plt.title('Autocorrelation for the signal strength, thinned chains')"
   ]
  },
  {
   "cell_type": "code",
   "execution_count": null,
   "metadata": {},
   "outputs": [],
   "source": []
  }
 ],
 "metadata": {
  "kernelspec": {
   "display_name": "pyhf_pymc",
   "language": "python",
   "name": "python3"
  },
  "language_info": {
   "codemirror_mode": {
    "name": "ipython",
    "version": 3
   },
   "file_extension": ".py",
   "mimetype": "text/x-python",
   "name": "python",
   "nbconvert_exporter": "python",
   "pygments_lexer": "ipython3",
   "version": "3.9.16"
  },
  "orig_nbformat": 4
 },
 "nbformat": 4,
 "nbformat_minor": 2
}
