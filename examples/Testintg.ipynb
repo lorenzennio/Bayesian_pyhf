{
 "cells": [
  {
   "cell_type": "code",
   "execution_count": 96,
   "metadata": {},
   "outputs": [
    {
     "name": "stdout",
     "output_type": "stream",
     "text": [
      "The autoreload extension is already loaded. To reload it, use:\n",
      "  %reload_ext autoreload\n"
     ]
    }
   ],
   "source": [
    "import numpy as np\n",
    "import scipy.stats as sps\n",
    "import matplotlib.pyplot as plt\n",
    "import corner\n",
    "import json\n",
    "\n",
    "import pytensor\n",
    "from pytensor import tensor as pt\n",
    "from pytensor.graph.basic import Apply\n",
    "from pytensor.graph import Apply, Op\n",
    "\n",
    "import jax\n",
    "from jax import grad, jit, vmap, value_and_grad, random\n",
    "import jax.numpy as jnp\n",
    "\n",
    "import pyhf\n",
    "pyhf.set_backend('jax')\n",
    "\n",
    "import pymc as pm\n",
    "import arviz as az\n",
    "\n",
    "from pyhf_pymc import prepare_inference\n",
    "from pyhf_pymc import prepare_inference_combined\n",
    "from pyhf_pymc import infer\n",
    "from pyhf_pymc import make_op\n",
    "from pyhf_pymc import plotting\n",
    "\n",
    "%load_ext autoreload\n",
    "%autoreload "
   ]
  },
  {
   "cell_type": "code",
   "execution_count": 9,
   "metadata": {},
   "outputs": [],
   "source": [
    "blue = '#1F449C'\n",
    "pink = '#E57A77'"
   ]
  },
  {
   "cell_type": "code",
   "execution_count": 94,
   "metadata": {},
   "outputs": [],
   "source": [
    "## Simple pyhf model\n",
    "model = pyhf.Model(\n",
    "    {'channels': [{'name': 'singlechannel',\n",
    "    'samples': [\n",
    "    {'name': 'signal',\n",
    "     'data': [6, 6, 10],\n",
    "     'modifiers': [\n",
    "         {'name': 'mu', 'type': 'normfactor', 'data': None}\n",
    "        ]},\n",
    "\n",
    "    {'name': 'background',\n",
    "     'data': [550, 550, 550]\n",
    "     ,\n",
    "     'modifiers': [\n",
    "        ## Correlated / Normal\n",
    "        {'name': 'corr_bkg', 'type': 'histosys','data': {'hi_data': [650, 560, 670], 'lo_data': [40, 40, 43]}},\n",
    "        {'name': 'corr_bkg1', 'type': 'histosys','data': {'hi_data': [650, 560, 670], 'lo_data': [300, 350, 400]}},\n",
    "        # ## Uncorrelated / Poisson\n",
    "        {'name': 'uncorr_bkg', 'type': 'shapesys','data': [7, 8, 7.17]},\n",
    "        {'name': 'uncorr_bkg1', 'type': 'shapesys','data': [7, 8, 7.17]},\n",
    "        # {'name': 'uncorr_bkg2', 'type': 'shapesys','data': [8, 9, 10]},\n",
    "         ]\n",
    "         },    \n",
    "                                 \n",
    "    ]},\n",
    "    ]\n",
    "        }\n",
    ")\n",
    "\n",
    "data = model.expected_actualdata(model.config.suggested_init())\n",
    "\n",
    "ur_hyperparameters = {}\n",
    "ur_hyperparameters['Gamma'] = [[1., 0.1], [1., 0.1], [1., 0.1]]\n",
    "ur_hyperparameters['Normal'] = [[0, 2], [0, 2], [0, 2]]"
   ]
  },
  {
   "cell_type": "code",
   "execution_count": 89,
   "metadata": {},
   "outputs": [
    {
     "data": {
      "text/plain": [
       "{'corr_bkg': {'type': 'Normal',\n",
       "  'mu': array([0.]),\n",
       "  'sigma': array([0.89442719])},\n",
       " 'corr_bkg1': {'type': 'Normal',\n",
       "  'mu': array([0.]),\n",
       "  'sigma': array([0.89442719])},\n",
       " 'mu': {'type': 'HalfNormal_Unconstrained', 'sigma': [0.4]},\n",
       " 'uncorr_bkg': {'type': 'Gamma',\n",
       "  'alpha': array([6174.46938776, 4727.5625    , 5885.19514909]),\n",
       "  'beta': array([6790.81632653, 5199.21875   , 6472.614664  ])},\n",
       " 'uncorr_bkg1': {'type': 'Gamma',\n",
       "  'alpha': array([6174.46938776, 4727.5625    , 5885.19514909]),\n",
       "  'beta': array([6790.81632653, 5199.21875   , 6472.614664  ])}}"
      ]
     },
     "execution_count": 89,
     "metadata": {},
     "output_type": "execute_result"
    }
   ],
   "source": [
    "prepare_inference.build_priorDict_conjugate(model, unconstr_priors, ur_hyperparameters)"
   ]
  },
  {
   "cell_type": "code",
   "execution_count": 92,
   "metadata": {},
   "outputs": [
    {
     "data": {
      "text/plain": [
       "{'corr_bkg': {'type': 'Normal',\n",
       "  'mu': array([20.]),\n",
       "  'sigma': array([0.89442719])},\n",
       " 'corr_bkg1': {'type': 'Normal',\n",
       "  'mu': array([20.]),\n",
       "  'sigma': array([0.89442719])},\n",
       " 'mu': {'type': 'HalfNormal_Unconstrained', 'sigma': [0.4]},\n",
       " 'uncorr_bkg': {'type': 'Gamma',\n",
       "  'alpha': array([6174.46938776, 4727.5625    , 5885.19514909]),\n",
       "  'beta': array([6790.81632653, 5199.21875   , 6472.614664  ])},\n",
       " 'uncorr_bkg1': {'type': 'Gamma',\n",
       "  'alpha': array([6174.46938776, 4727.5625    , 5885.19514909]),\n",
       "  'beta': array([6790.81632653, 5199.21875   , 6472.614664  ])}}"
      ]
     },
     "execution_count": 92,
     "metadata": {},
     "output_type": "execute_result"
    }
   ],
   "source": [
    "prepare_inference.build_priorDict_conjugate(model, unconstr_priors)"
   ]
  },
  {
   "cell_type": "code",
   "execution_count": 97,
   "metadata": {},
   "outputs": [
    {
     "name": "stderr",
     "output_type": "stream",
     "text": [
      "Sequential sampling (1 chains in 1 job)\n",
      "CompoundStep\n",
      ">Metropolis: [corr_bkg]\n",
      ">Metropolis: [corr_bkg1]\n",
      ">Metropolis: [mu]\n",
      ">Metropolis: [uncorr_bkg]\n",
      ">Metropolis: [uncorr_bkg1]\n"
     ]
    },
    {
     "data": {
      "text/html": [
       "\n",
       "<style>\n",
       "    /* Turns off some styling */\n",
       "    progress {\n",
       "        /* gets rid of default border in Firefox and Opera. */\n",
       "        border: none;\n",
       "        /* Needs to be in here for Safari polyfill so background images work as expected. */\n",
       "        background-size: auto;\n",
       "    }\n",
       "    progress:not([value]), progress:not([value])::-webkit-progress-bar {\n",
       "        background: repeating-linear-gradient(45deg, #7e7e7e, #7e7e7e 10px, #5c5c5c 10px, #5c5c5c 20px);\n",
       "    }\n",
       "    .progress-bar-interrupted, .progress-bar-interrupted::-webkit-progress-bar {\n",
       "        background: #F44336;\n",
       "    }\n",
       "</style>\n"
      ],
      "text/plain": [
       "<IPython.core.display.HTML object>"
      ]
     },
     "metadata": {},
     "output_type": "display_data"
    },
    {
     "data": {
      "text/html": [
       "\n",
       "    <div>\n",
       "      <progress value='6000' class='' max='6000' style='width:300px; height:20px; vertical-align: middle;'></progress>\n",
       "      100.00% [6000/6000 00:06&lt;00:00 Sampling chain 0, 0 divergences]\n",
       "    </div>\n",
       "    "
      ],
      "text/plain": [
       "<IPython.core.display.HTML object>"
      ]
     },
     "metadata": {},
     "output_type": "display_data"
    },
    {
     "name": "stderr",
     "output_type": "stream",
     "text": [
      "Sampling 1 chain for 1_000 tune and 5_000 draw iterations (1_000 + 5_000 draws total) took 6 seconds.\n",
      "Only one chain was sampled, this makes it impossible to run some convergence checks\n"
     ]
    }
   ],
   "source": [
    "with infer.model_conjugate(model, unconstr_priors, data, ur_hyperparameters):\n",
    "    step = pm.Metropolis()\n",
    "    post_data_combined = pm.sample(draws=n_draws, chains=1, step=step)\n",
    "    # post_pred_combined = pm.sample_posterior_predictive(post_data_combined)\n",
    "    # prior_pred_combined = pm.sample_prior_predictive(10_000)"
   ]
  },
  {
   "cell_type": "code",
   "execution_count": 98,
   "metadata": {},
   "outputs": [
    {
     "name": "stderr",
     "output_type": "stream",
     "text": [
      "Sequential sampling (1 chains in 1 job)\n",
      "CompoundStep\n",
      ">Metropolis: [corr_bkg]\n",
      ">Metropolis: [corr_bkg1]\n",
      ">Metropolis: [mu]\n",
      ">Metropolis: [uncorr_bkg]\n",
      ">Metropolis: [uncorr_bkg1]\n"
     ]
    },
    {
     "data": {
      "text/html": [
       "\n",
       "<style>\n",
       "    /* Turns off some styling */\n",
       "    progress {\n",
       "        /* gets rid of default border in Firefox and Opera. */\n",
       "        border: none;\n",
       "        /* Needs to be in here for Safari polyfill so background images work as expected. */\n",
       "        background-size: auto;\n",
       "    }\n",
       "    progress:not([value]), progress:not([value])::-webkit-progress-bar {\n",
       "        background: repeating-linear-gradient(45deg, #7e7e7e, #7e7e7e 10px, #5c5c5c 10px, #5c5c5c 20px);\n",
       "    }\n",
       "    .progress-bar-interrupted, .progress-bar-interrupted::-webkit-progress-bar {\n",
       "        background: #F44336;\n",
       "    }\n",
       "</style>\n"
      ],
      "text/plain": [
       "<IPython.core.display.HTML object>"
      ]
     },
     "metadata": {},
     "output_type": "display_data"
    },
    {
     "data": {
      "text/html": [
       "\n",
       "    <div>\n",
       "      <progress value='6000' class='' max='6000' style='width:300px; height:20px; vertical-align: middle;'></progress>\n",
       "      100.00% [6000/6000 00:06&lt;00:00 Sampling chain 0, 0 divergences]\n",
       "    </div>\n",
       "    "
      ],
      "text/plain": [
       "<IPython.core.display.HTML object>"
      ]
     },
     "metadata": {},
     "output_type": "display_data"
    },
    {
     "name": "stderr",
     "output_type": "stream",
     "text": [
      "Sampling 1 chain for 1_000 tune and 5_000 draw iterations (1_000 + 5_000 draws total) took 6 seconds.\n",
      "Only one chain was sampled, this makes it impossible to run some convergence checks\n"
     ]
    }
   ],
   "source": [
    "with infer.model_conjugate(model, unconstr_priors, data):\n",
    "    step = pm.Metropolis()\n",
    "    post_data_combined = pm.sample(draws=n_draws, chains=1, step=step)\n",
    "    # post_pred_combined = pm.sample_posterior_predictive(post_data_combined)\n",
    "    # prior_pred_combined = pm.sample_prior_predictive(10_000)"
   ]
  },
  {
   "cell_type": "code",
   "execution_count": 99,
   "metadata": {},
   "outputs": [
    {
     "data": {
      "text/plain": [
       "{'Gamma': [[1.0, 0.1], [1.0, 0.1], [1.0, 0.1]],\n",
       " 'Normal': [[0, 2], [0, 2], [0, 2]]}"
      ]
     },
     "execution_count": 99,
     "metadata": {},
     "output_type": "execute_result"
    }
   ],
   "source": [
    "ur_hyperparameters"
   ]
  },
  {
   "cell_type": "code",
   "execution_count": null,
   "metadata": {},
   "outputs": [],
   "source": []
  }
 ],
 "metadata": {
  "kernelspec": {
   "display_name": "Python 3",
   "language": "python",
   "name": "python3"
  },
  "language_info": {
   "codemirror_mode": {
    "name": "ipython",
    "version": 3
   },
   "file_extension": ".py",
   "mimetype": "text/x-python",
   "name": "python",
   "nbconvert_exporter": "python",
   "pygments_lexer": "ipython3",
   "version": "3.11.4"
  },
  "orig_nbformat": 4
 },
 "nbformat": 4,
 "nbformat_minor": 2
}
