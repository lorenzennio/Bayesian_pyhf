{
 "cells": [
  {
   "cell_type": "code",
<<<<<<< HEAD
   "execution_count": 12,
=======
   "execution_count": 13,
>>>>>>> 9172949 (added options for multiple unconstrained pars)
   "metadata": {},
   "outputs": [],
   "source": [
    "import json\n",
    "import pymc as pm\n",
    "import arviz as az\n",
    "import jax.config as config\n",
    "config.update('jax_enable_x64', True)\n",
    "import numpy as np\n",
    "import matplotlib as plt\n",
    "\n",
    "import pytensor\n",
    "from pytensor import tensor as pt\n",
    "from pytensor.graph.basic import Apply\n",
    "from pytensor.graph import Apply, Op\n",
    "\n",
    "import jax\n",
    "from jax import grad, jit, vmap, value_and_grad, random\n",
    "import jax.numpy as jnp\n",
    "\n",
<<<<<<< HEAD
    "import pyhf\n",
    "pyhf.set_backend('jax')\n",
    "\n",
    "import matplotlib as plt"
=======
    "# import prepare_inference\n",
    "\n",
    "import pyhf\n",
    "from pyhf_pymc import prepare_inference\n",
    "pyhf.set_backend('jax')"
>>>>>>> 9172949 (added options for multiple unconstrained pars)
   ]
  },
  {
   "cell_type": "code",
   "execution_count": 15,
   "metadata": {},
   "outputs": [],
   "source": [
    "import numpy as np\n",
    "import matplotlib.pyplot as plt\n",
    "import corner\n",
    "import json\n",
    "\n",
    "import pytensor\n",
    "from pytensor import tensor as pt\n",
    "from pytensor.graph.basic import Apply\n",
    "from pytensor.graph import Apply, Op\n",
    "from pytensor.tensor.type import TensorType\n",
    "\n",
    "import jax\n",
    "from jax import grad, jit, vmap, value_and_grad, random\n",
    "import jax.numpy as jnp\n",
    "\n",
    "import pyhf\n",
    "pyhf.set_backend('jax')\n",
    "\n",
    "import pymc as pm\n",
    "import arviz as az\n",
    "\n",
    "# import MH_inference\n",
    "# import HMC_inference\n",
    "from pyhf_pymc import prepare_inference\n"
   ]
  },
  {
   "cell_type": "code",
   "execution_count": 16,
   "metadata": {},
   "outputs": [
    {
     "data": {
      "text/plain": [
       "(Array([60., 60., 60., 60., 60.], dtype=float64), [0.0, 1.0])"
      ]
     },
     "execution_count": 16,
     "metadata": {},
     "output_type": "execute_result"
    }
   ],
   "source": [
    "N = 5\n",
    "obs = jnp.array([70.]*N)\n",
    "model = pyhf.simplemodels.correlated_background([10]*N,[50]*N, [45]*N, [55]*N)\n",
    "model.expected_actualdata(model.config.suggested_init()),model.config.suggested_init()"
   ]
  },
  {
   "cell_type": "code",
   "execution_count": 17,
   "metadata": {},
   "outputs": [],
   "source": [
    "class VJPOp(pt.Op):\n",
    "    itypes = [pt.dvector,pt.dvector]  \n",
    "    otypes = [pt.dvector]\n",
    "\n",
    "    def __init__(self, vjp_func):\n",
    "        self.vjp_func = vjp_func\n",
    "\n",
    "    def perform(self, node, inputs, outputs):\n",
    "        (at, vector) = inputs\n",
    "        results = self.vjp_func(at, vector)\n",
    "\n",
    "        if len(outputs) == 1:\n",
    "            outputs[0][0] = np.asarray(results, dtype = np.float64)\n",
    "\n",
    "        for i, r in enumerate(results):\n",
    "            outputs[i][0] = np.asarray(r, dtype = np.float64)\n",
    "\n",
    "\n",
    "class ExpDataOp(pt.Op):\n",
    "    itypes = [pt.dvector]  \n",
    "    otypes = [pt.dvector]\n",
    "\n",
    "    def __init__(self, fwd_func):\n",
    "        self.fwd_func = fwd_func\n",
    "\n",
    "    def perform(self, node, inputs, outputs):\n",
    "        (parameters, ) = inputs\n",
    "        results = self.fwd_func(parameters)\n",
    "\n",
    "        if len(outputs) == 1:\n",
    "                outputs[0][0] = np.asarray(results, dtype = np.float64)\n",
    "                return\n",
    "        for i, r in enumerate(results):\n",
    "                outputs[i][0] = np.asarray(r, dtype = np.float64)\n",
    "\n",
    "    def grad(self, at_vector, vector):\n",
    "        return [vjp_op(at_vector[0],vector[0])]\n",
    "    \n",
    "def _pyhf_forward(x):\n",
    "    return model.expected_actualdata(x)\n",
    "\n",
    "pyhf_fwd_func = jax.jit(_pyhf_forward)\n",
    "pyhf_vjp_func = jax.jit(lambda at, vector: jax.vjp(_pyhf_forward, at)[1](vector))\n",
    "                \n",
    "fwd_op = ExpDataOp(pyhf_fwd_func)\n",
    "vjp_op = VJPOp(pyhf_vjp_func)"
   ]
  },
  {
   "cell_type": "code",
   "execution_count": 18,
   "metadata": {},
   "outputs": [],
   "source": [
<<<<<<< HEAD
    "import pyhf_pymc\n",
    "\n",
    "from pyhf_pymc import prepare_inference\n",
    "\n",
=======
    "# import prepare_inference\n",
    "# from prepare_inference import get_target\n",
>>>>>>> 9172949 (added options for multiple unconstrained pars)
    "def priors2pymc(prepared_model):\n",
    "    unconstr_pars, norm_pars, poiss_pars = [], [], []\n",
    "    norm_mu, norm_sigma = [], []\n",
    "    poiss_alpha, poiss_beta = [], []\n",
    "    model = prepared_model['model']\n",
    "    obs = prepared_model['obs']\n",
    "    prior_dict = prepared_model['priors']\n",
    "    precision = prepared_model['precision']\n",
    "        \n",
    "    for key in prior_dict.keys():\n",
    "        sub_dict = prior_dict[key]\n",
    "\n",
    "    ## Unconstrained\n",
    "        if sub_dict['type'] == 'unconstrained':\n",
    "            unconstr_pars.extend(pm.Gamma('Unconstrained', alpha=sub_dict['input'][0], beta=sub_dict['input'][1]))\n",
    "        pass\n",
    "\n",
    "    ## Normal and Poisson constraints            \n",
    "        if sub_dict['type'] == 'normal':\n",
    "            norm_mu.append(sub_dict['input'][0])\n",
    "            norm_sigma.append(sub_dict['input'][1])\n",
    "\n",
    "        if sub_dict['type'] == 'poisson':\n",
    "            poiss_alpha.append(sub_dict['input'][0])\n",
    "            poiss_beta.append(sub_dict['input'][1])\n",
    "\n",
    "    if np.array(norm_mu, dtype=object).size != 0:\n",
    "        norm_pars.extend(pm.Normal('Normals', mu=list(np.concatenate(norm_mu)), sigma=list(np.concatenate(norm_sigma))))\n",
    "\n",
    "    if np.array(poiss_alpha, dtype=object).size != 0:\n",
    "        poiss_pars.extend(pm.Gamma('Gammas', alpha=list(np.concatenate(poiss_alpha)), beta=list(np.concatenate(poiss_beta))))\n",
    "\n",
    "    pars = []\n",
    "    for i in [unconstr_pars, norm_pars, poiss_pars]:\n",
    "        i = np.array(i)\n",
    "        if i.size != 0:\n",
    "            pars.append(i)\n",
    "    pars = np.concatenate(pars)\n",
    "    target = prepare_inference.get_target(model)\n",
    "    final = pt.as_tensor_variable(pars[target.argsort()].tolist())\n",
    "\n",
    "    return final"
   ]
  },
  {
   "cell_type": "code",
   "execution_count": 29,
   "metadata": {},
   "outputs": [],
   "source": [
<<<<<<< HEAD
=======
    "# import prepare_inference\n",
>>>>>>> 9172949 (added options for multiple unconstrained pars)
    "unconstr_dict = {\n",
    "    'mu': {'type': 'unconstrained', 'input': [[4.], [1.]]}\n",
    "}\n",
    "prior_dict = prepare_inference.prepare_priors(model, unconstr_dict)\n",
    "prepared_model = prepare_inference.prepare_model(model=model, observations=obs, precision=1, priors=prior_dict)"
   ]
  },
  {
   "cell_type": "code",
<<<<<<< HEAD
   "execution_count": 21,
=======
   "execution_count": 30,
>>>>>>> 9172949 (added options for multiple unconstrained pars)
   "metadata": {},
   "outputs": [
    {
     "name": "stderr",
     "output_type": "stream",
     "text": [
<<<<<<< HEAD
=======
      "Auto-assigning NUTS sampler...\n",
      "Initializing NUTS using advi...\n",
>>>>>>> 9172949 (added options for multiple unconstrained pars)
      "Initializing NUTS using advi...\n"
     ]
    },
    {
     "name": "stderr",
     "output_type": "stream",
     "text": [
<<<<<<< HEAD
      "Convergence achieved at 4700\n",
      "Interrupted at 4,699 [0%]: Average Loss = 19.7\n",
      "Interrupted at 4,699 [0%]: Average Loss = 19.7\n",
      "Sampling: [Normals, Unconstrained, data]\n",
      "Only 150 samples in chain.\n",
      "Auto-assigning NUTS sampler...\n",
      "Initializing NUTS using jitter+adapt_diag...\n",
=======
      "Convergence achieved at 6800\n",
      "Interrupted at 6,799 [3%]: Average Loss = 26.695\n",
      "Interrupted at 6,799 [3%]: Average Loss = 26.695\n",
>>>>>>> 9172949 (added options for multiple unconstrained pars)
      "Multiprocess sampling (4 chains in 4 jobs)\n",
      "NUTS: [Unconstrained, Normals]\n"
     ]
    },
    {
     "name": "stderr",
     "output_type": "stream",
     "text": [
<<<<<<< HEAD
      "Sampling 4 chains for 1_000 tune and 150 draw iterations (4_000 + 600 draws total) took 1 seconds.\n"
=======
      "Sampling 4 chains for 100 tune and 1_000 draw iterations (400 + 4_000 draws total) took 1 seconds.\n"
     ]
    },
    {
     "name": "stderr",
     "output_type": "stream",
     "text": [
      "Sampling: [ExpData, Normals, Unconstrained]\n"
>>>>>>> 9172949 (added options for multiple unconstrained pars)
     ]
    }
   ],
   "source": [
    "with pm.Model():\n",
    "    pars = priors2pymc(prepared_model)    \n",
    "    params = pm.Deterministic('params',pars)\n",
    "    expected = pm.Deterministic('expected',fwd_op(params))\n",
    "    data = pm.Poisson('ExpData', expected, observed=obs)\n",
    "\n",
<<<<<<< HEAD
    "    pm.init_nuts(init='advi')\n",
    "    step = pm.Metropolis()\n",
    "\n",
=======
    "    post_data = pm.sample(1000,  chains = 4, tune=100, init='advi')\n",
    "    post_pred = pm.sample_posterior_predictive(post_data)\n",
>>>>>>> 9172949 (added options for multiple unconstrained pars)
    "    prior_pred = pm.sample_prior_predictive(150)\n",
    "    post_data = pm.sample(150,  chains = 4)\n",
    "    post_pred = pm.sample_posterior_predictive(post_data)"
   ]
  },
  {
   "cell_type": "code",
   "execution_count": 25,
   "metadata": {},
   "outputs": [
    {
     "name": "stderr",
     "output_type": "stream",
     "text": [
      "/Users/malinhorstmann/anaconda3/envs/pyhf_pymc/lib/python3.9/site-packages/arviz/stats/stats.py:1351: UserWarning: Selecting first found group: posterior_predictive\n",
      "  warnings.warn(f\"Selecting first found group: {data.groups()[0]}\")\n"
     ]
    },
    {
     "data": {
      "text/html": [
       "<div>\n",
       "<style scoped>\n",
       "    .dataframe tbody tr th:only-of-type {\n",
       "        vertical-align: middle;\n",
       "    }\n",
       "\n",
       "    .dataframe tbody tr th {\n",
       "        vertical-align: top;\n",
       "    }\n",
       "\n",
       "    .dataframe thead th {\n",
       "        text-align: right;\n",
       "    }\n",
       "</style>\n",
       "<table border=\"1\" class=\"dataframe\">\n",
       "  <thead>\n",
       "    <tr style=\"text-align: right;\">\n",
       "      <th></th>\n",
       "      <th>mean</th>\n",
       "      <th>sd</th>\n",
       "      <th>hdi_3%</th>\n",
       "      <th>hdi_97%</th>\n",
       "      <th>mcse_mean</th>\n",
       "      <th>mcse_sd</th>\n",
       "      <th>ess_bulk</th>\n",
       "      <th>ess_tail</th>\n",
       "      <th>r_hat</th>\n",
       "    </tr>\n",
       "  </thead>\n",
       "  <tbody>\n",
       "    <tr>\n",
       "      <th>data[0]</th>\n",
       "      <td>69.483</td>\n",
       "      <td>9.127</td>\n",
       "      <td>50.0</td>\n",
       "      <td>85.0</td>\n",
       "      <td>0.370</td>\n",
       "      <td>0.262</td>\n",
       "      <td>608.0</td>\n",
       "      <td>558.0</td>\n",
       "      <td>1.00</td>\n",
       "    </tr>\n",
       "    <tr>\n",
       "      <th>data[1]</th>\n",
       "      <td>68.877</td>\n",
       "      <td>9.143</td>\n",
       "      <td>50.0</td>\n",
       "      <td>85.0</td>\n",
       "      <td>0.411</td>\n",
       "      <td>0.291</td>\n",
       "      <td>479.0</td>\n",
       "      <td>393.0</td>\n",
       "      <td>1.01</td>\n",
       "    </tr>\n",
       "    <tr>\n",
       "      <th>data[2]</th>\n",
       "      <td>69.275</td>\n",
       "      <td>9.100</td>\n",
       "      <td>54.0</td>\n",
       "      <td>87.0</td>\n",
       "      <td>0.351</td>\n",
       "      <td>0.249</td>\n",
       "      <td>675.0</td>\n",
       "      <td>590.0</td>\n",
       "      <td>1.00</td>\n",
       "    </tr>\n",
       "    <tr>\n",
       "      <th>data[3]</th>\n",
       "      <td>69.038</td>\n",
       "      <td>9.372</td>\n",
       "      <td>50.0</td>\n",
       "      <td>84.0</td>\n",
       "      <td>0.421</td>\n",
       "      <td>0.298</td>\n",
       "      <td>488.0</td>\n",
       "      <td>440.0</td>\n",
       "      <td>1.01</td>\n",
       "    </tr>\n",
       "    <tr>\n",
       "      <th>data[4]</th>\n",
       "      <td>68.998</td>\n",
       "      <td>9.008</td>\n",
       "      <td>53.0</td>\n",
       "      <td>86.0</td>\n",
       "      <td>0.389</td>\n",
       "      <td>0.275</td>\n",
       "      <td>539.0</td>\n",
       "      <td>532.0</td>\n",
       "      <td>1.01</td>\n",
       "    </tr>\n",
       "  </tbody>\n",
       "</table>\n",
       "</div>"
      ],
      "text/plain": [
       "           mean     sd  hdi_3%  hdi_97%  mcse_mean  mcse_sd  ess_bulk  \\\n",
       "data[0]  69.483  9.127    50.0     85.0      0.370    0.262     608.0   \n",
       "data[1]  68.877  9.143    50.0     85.0      0.411    0.291     479.0   \n",
       "data[2]  69.275  9.100    54.0     87.0      0.351    0.249     675.0   \n",
       "data[3]  69.038  9.372    50.0     84.0      0.421    0.298     488.0   \n",
       "data[4]  68.998  9.008    53.0     86.0      0.389    0.275     539.0   \n",
       "\n",
       "         ess_tail  r_hat  \n",
       "data[0]     558.0   1.00  \n",
       "data[1]     393.0   1.01  \n",
       "data[2]     590.0   1.00  \n",
       "data[3]     440.0   1.01  \n",
       "data[4]     532.0   1.01  "
      ]
     },
     "execution_count": 25,
     "metadata": {},
     "output_type": "execute_result"
    }
   ],
   "source": [
    "az.summary(post_pred)\n"
   ]
  },
  {
   "attachments": {},
   "cell_type": "markdown",
   "metadata": {},
   "source": [
    "## my ops"
   ]
  },
  {
   "cell_type": "code",
   "execution_count": 31,
   "metadata": {},
   "outputs": [],
   "source": [
    "# Jax expected data\n",
    "@jax.jit\n",
    "def processed_expData(parameters):\n",
    "    return model.expected_actualdata(parameters)\n",
    "\n",
    "jitted_processed_expData = jax.jit(processed_expData)\n",
    "\n",
    "# Gradient list (dn_bins/dx_1, ..., dn_bins/dx_nPars)\n",
    "@jax.jit\n",
    "def vjp_expData(pars, tang_vec):\n",
    "    _, back = jax.vjp(processed_expData, pars)\n",
    "    return back(tang_vec)[0]\n",
    "\n",
    "jitted_vjp_expData = jax.jit(vjp_expData)\n",
    "\n",
    "# jitted_processed_expData = jax.jit(processed_expData)\n",
    "# jitted_vjp_expData = jax.jit(vjp_expData)\n",
    "\n",
    "class VJPOp(Op):\n",
    "\n",
    "    itypes = [pt.dvector,pt.dvector]  \n",
    "    otypes = [pt.dvector]\n",
    "\n",
    "    def perform(self, node, inputs, outputs):\n",
    "        (parameters, tangent_vector) = inputs\n",
    "        results = jitted_vjp_expData(parameters, tangent_vector)\n",
    "\n",
    "        # if not isinstance(results, (list, tuple)):\n",
    "        #         results = (results,)\n",
    "                \n",
    "        # for i, r in enumerate(results):\n",
    "        #     outputs[i][0] = np.asarray(r)\n",
    "        outputs[0][0] = np.asarray(results)\n",
    "\n",
    "vjp_op = VJPOp()\n",
    "\n",
    "class ExpDataOp(Op):\n",
    "\n",
    "    itypes = [pt.dvector]  \n",
    "    otypes = [pt.dvector]\n",
    "\n",
    "    def perform(self, node, inputs, outputs):\n",
    "        (parameters, ) = inputs\n",
    "        results = jitted_processed_expData(parameters)\n",
    "\n",
    "        # if len(outputs) == 1:\n",
    "        #         outputs[0][0] = np.asarray(results)\n",
    "        #         return\n",
    "        # for i, r in enumerate(results):\n",
    "        #         outputs[i][0] = np.asarray(r)\n",
    "        outputs[0][0] = np.asarray(results)\n",
    "\n",
    "    def grad(self, inputs, output_gradients):\n",
    "        (parameters,) = inputs\n",
    "        (tangent_vector,) = output_gradients\n",
    "        return [vjp_op(parameters, tangent_vector)]\n",
    "\n",
    "        \n",
    "expData_op = ExpDataOp()\n"
   ]
  },
  {
   "cell_type": "code",
   "execution_count": 32,
   "metadata": {},
   "outputs": [
    {
     "name": "stderr",
     "output_type": "stream",
     "text": [
      "Auto-assigning NUTS sampler...\n",
      "Initializing NUTS using advi...\n"
     ]
    },
    {
     "name": "stdout",
     "output_type": "stream",
     "text": [
      "... pm.sample: \n"
     ]
    },
    {
     "data": {
      "text/html": [
       "\n",
       "<style>\n",
       "    /* Turns off some styling */\n",
       "    progress {\n",
       "        /* gets rid of default border in Firefox and Opera. */\n",
       "        border: none;\n",
       "        /* Needs to be in here for Safari polyfill so background images work as expected. */\n",
       "        background-size: auto;\n",
       "    }\n",
       "    progress:not([value]), progress:not([value])::-webkit-progress-bar {\n",
       "        background: repeating-linear-gradient(45deg, #7e7e7e, #7e7e7e 10px, #5c5c5c 10px, #5c5c5c 20px);\n",
       "    }\n",
       "    .progress-bar-interrupted, .progress-bar-interrupted::-webkit-progress-bar {\n",
       "        background: #F44336;\n",
       "    }\n",
       "</style>\n"
      ],
      "text/plain": [
       "<IPython.core.display.HTML object>"
      ]
     },
     "metadata": {},
     "output_type": "display_data"
    },
    {
     "data": {
      "text/html": [
       "\n",
       "    <div>\n",
       "      <progress value='0' class='' max='200000' style='width:300px; height:20px; vertical-align: middle;'></progress>\n",
       "      0.00% [0/200000 00:00&lt;?]\n",
       "    </div>\n",
       "    "
      ],
      "text/plain": [
       "<IPython.core.display.HTML object>"
      ]
     },
     "metadata": {},
     "output_type": "display_data"
    },
    {
     "name": "stderr",
     "output_type": "stream",
     "text": [
      "Convergence achieved at 4900\n",
      "Interrupted at 4,899 [2%]: Average Loss = 22.626\n",
      "Interrupted at 4,899 [2%]: Average Loss = 22.626\n",
      "Multiprocess sampling (4 chains in 4 jobs)\n",
      "NUTS: [Unconstrained, Normals]\n"
     ]
    },
    {
     "name": "stderr",
     "output_type": "stream",
     "text": [
      "Sampling 4 chains for 1_000 tune and 1_000 draw iterations (4_000 + 4_000 draws total) took 1 seconds.\n"
     ]
    },
    {
     "name": "stderr",
     "output_type": "stream",
     "text": [
      "Sampling: [ExpData1, Normals, Unconstrained]\n"
     ]
    },
    {
     "name": "stdout",
     "output_type": "stream",
     "text": [
      "... pm.sample_prior_predictive: \n"
     ]
    }
   ],
   "source": [
    "# %%timeit\n",
    "with pm.Model() as m1:\n",
    "    pars1 = pm.Deterministic('pars1', prepare_inference.priors2pymc(prepared_model))\n",
    "    ExpData_Det1 = pm.Deterministic('ExpData_Det1', expData_op(pars1))\n",
    "\n",
    "    # ExpData1 = pm.Poisson(\"ExpData1\", mu=ExpData_Det1, observed=obs)\n",
    "    ExpData1 = pm.Normal(\"ExpData1\", mu=ExpData_Det1, sigma = float(obs[0])**(0.5), observed=obs)\n",
    "    \n",
    "    # pm.init_nuts(init='advi')\n",
    "    \n",
    "    print('... pm.sample: ')\n",
    "    post_data_test = pm.sample(1000, chains=4, cores=4, init='advi')\n",
    "    print('... pm.sample_porsterior_predictive: ')\n",
    "    post_pred_test = pm.sample_posterior_predictive(post_data_test)\n",
    "    print('... pm.sample_prior_predictive: ')\n",
    "    prior_pred_test = pm.sample_prior_predictive(1000)"
   ]
  },
  {
   "cell_type": "code",
   "execution_count": 24,
   "metadata": {},
   "outputs": [],
   "source": []
  },
  {
   "cell_type": "code",
   "execution_count": 34,
   "metadata": {},
   "outputs": [
    {
     "data": {
      "image/png": "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",
      "text/plain": [
       "<Figure size 640x480 with 1 Axes>"
      ]
     },
     "metadata": {},
     "output_type": "display_data"
    }
   ],
   "source": [
    "nBins = len(obs)\n",
    "\n",
    "# Prior\n",
    "plt.step(np.linspace(0,nBins-1,nBins),prior_pred_test.prior_predictive.ExpData1[0].T, alpha = 0.01, c = 'lightcoral', where = 'mid');\n",
    "plt.vlines(np.arange(nBins),*np.quantile(prior_pred_test.prior_predictive.ExpData1[0],[.15,.85],axis=0), colors = 'lightcoral', label='prior NUTS with advi M');\n",
    "\n",
    "plt.step(np.linspace(0,nBins-1,nBins),prior_pred.prior_predictive.ExpData[0].T, alpha = 0.01, c = 'gold', where = 'mid');\n",
    "plt.vlines(np.arange(nBins),*np.quantile(prior_pred.prior_predictive.ExpData[0],[.15,.85],axis=0), colors = 'gold', label='prior NUTS with advi L');\n",
    "\n",
    "# Posterior\n",
    "plt.step(np.linspace(0,nBins-1,nBins),post_pred_test.posterior_predictive.ExpData1[0].T, alpha = 0.01, c = 'cornflowerblue', where = 'mid');\n",
    "plt.vlines(np.arange(nBins),*np.quantile(post_pred_test.posterior_predictive.ExpData1[0],[.15,.85],axis=0), colors = 'cornflowerblue', label='posterior NUTS with advi M')\n",
    "\n",
    "plt.step(np.linspace(0,nBins-1,nBins),post_pred.posterior_predictive.ExpData[0].T, alpha = 0.01, c = 'mediumpurple', where = 'mid');\n",
    "plt.vlines(np.arange(nBins),*np.quantile(post_pred.posterior_predictive.ExpData[0],[.15,.85],axis=0), colors = 'mediumpurple', label='posterior NUTS with advi L')\n",
    "\n",
    "# Observations\n",
    "plt.scatter(np.arange(nBins), obs, c = 'k',s=12, zorder = 999, label = \"data\")\n",
    "plt.legend(loc='upper left')\n",
    "\n",
    "plt.title(f'Post / Priors, 4 chains, 1000 samples')\n",
    "\n",
    "plt.savefig('M_L_NUTSadvi')\n",
    "plt.show()"
   ]
  },
  {
   "cell_type": "code",
   "execution_count": null,
   "metadata": {},
   "outputs": [],
   "source": []
  }
 ],
 "metadata": {
  "kernelspec": {
   "display_name": "pyhf_pymc",
   "language": "python",
   "name": "python3"
  },
  "language_info": {
   "codemirror_mode": {
    "name": "ipython",
    "version": 3
   },
   "file_extension": ".py",
   "mimetype": "text/x-python",
   "name": "python",
   "nbconvert_exporter": "python",
   "pygments_lexer": "ipython3",
   "version": "3.9.16"
  },
  "orig_nbformat": 4
 },
 "nbformat": 4,
 "nbformat_minor": 2
}
