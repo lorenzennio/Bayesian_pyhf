{
 "cells": [
  {
   "cell_type": "code",
   "execution_count": 5,
   "metadata": {},
   "outputs": [
    {
     "name": "stdout",
     "output_type": "stream",
     "text": [
      "The autoreload extension is already loaded. To reload it, use:\n",
      "  %reload_ext autoreload\n"
     ]
    }
   ],
   "source": [
    "import numpy as np\n",
    "from random import randint\n",
    "import matplotlib.pyplot as plt\n",
    "import matplotlib.gridspec as gridspec\n",
    "from matplotlib import cm\n",
    "from matplotlib.colors import ListedColormap, LinearSegmentedColormap\n",
    "\n",
    "import corner\n",
    "import json\n",
    "import pandas as pd\n",
    "\n",
    "import pytensor\n",
    "from pytensor import tensor as pt\n",
    "from pytensor.graph.basic import Apply\n",
    "\n",
    "from pytensor.graph import Apply, Op\n",
    "from pytensor.tensor.type import TensorType\n",
    "\n",
    "import jax\n",
    "from jax import grad, jit, vmap, value_and_grad, random\n",
    "import jax.numpy as jnp\n",
    "\n",
    "import pyhf\n",
    "pyhf.set_backend('jax')\n",
    "# pyhf.set_backend('numpy')\n",
    "\n",
    "import pymc as pm\n",
    "import arviz as az\n",
    "\n",
    "from pyhf_pymc import prepare_inference\n",
    "from pyhf_pymc import infer\n",
    "# from pyhf_pymc import one_line_inference\n",
    "from pyhf_pymc import make_op\n",
    "from pyhf_pymc import plotting\n",
    "\n",
    "%load_ext autoreload\n",
    "%autoreload "
   ]
  },
  {
   "attachments": {},
   "cell_type": "markdown",
   "metadata": {},
   "source": [
    "Problems:\n",
    " - For the combined pymc pfds: For stitching the Unconstr HN need to be submitted in front of all Unconstr Gammas in the unconstr dictionary"
   ]
  },
  {
   "attachments": {},
   "cell_type": "markdown",
   "metadata": {},
   "source": [
    "## Model\n",
    "\n",
    "Multiple parameters."
   ]
  },
  {
   "cell_type": "code",
   "execution_count": 2,
   "metadata": {},
   "outputs": [],
   "source": [
    "### Simple pyhf model\n",
    "model = pyhf.Model(\n",
    "    {'channels': [{'name': 'singlechannel',\n",
    "    'samples': [\n",
    "    {'name': 'signal',\n",
    "     'data': [0, 0, 0],\n",
    "     'modifiers': [\n",
    "        {'name': 'mu_2', 'type': 'normfactor', 'data': None},\n",
    "        {'name': 'mu', 'type': 'normfactor', 'data': None}\n",
    "        ]},\n",
    "\n",
    "    {'name': 'background',\n",
    "     'data': [120, 110, 100],\n",
    "     'modifiers': [\n",
    "        # Staterror / Normal\n",
    "        {\"name\": \"my_staterror\",\"type\": \"staterror\",\"data\": [10.1, 1.01, 0.101],},\n",
    "        # Lumi / Normal\n",
    "        {'name': 'lumi', 'type': 'lumi', 'data': None},\n",
    "        # Correlated / Normal\n",
    "        {'name': 'corr_bkg', 'type': 'histosys','data': {'hi_data': [125, 110, 100] , 'lo_data': [100, 95, 90]}},\n",
    "        {'name': 'other_corr_bkg', 'type': 'histosys','data': {'hi_data': [125, 110, 100] , 'lo_data': [104, 93, 88]}},\n",
    "        # Uncorrelated / Poisson\n",
    "        {'name': 'uncorr_bkg', 'type': 'shapesys','data': [40, 51, 62]},\n",
    "        {'name': '2nd_uncorr_bkg', 'type': 'shapesys','data': [43, 53, 63]},\n",
    "        {'name': '3rd_uncorr_bkg', 'type': 'shapesys','data': [43, 53, 63]},\n",
    "         ]\n",
    "         },                          \n",
    "    ]},]\n",
    "    ,\n",
    "    \"parameters\": [\n",
    "            {\n",
    "                \"name\": \"lumi\",\n",
    "                \"auxdata\": [1.0],\n",
    "                \"sigmas\": [0.017],\n",
    "                \"bounds\": [[0.915, 1.085]],\n",
    "                \"inits\": [1.0],\n",
    "            }],\n",
    "        }\n",
    ")\n",
    "\n",
    "data = [110, 105, 100]\n",
    "\n",
    "unconstr_priors = {\n",
    "    'mu_2': {'type': 'HalfNormal_Unconstrained', 'sigma': [.1]},\n",
    "    'mu': {'type': 'Gamma_Unconstrained', 'alpha': [5.], 'beta': [1.]}\n",
    "}\n",
    "\n",
    "prior_dict = prepare_inference.build_priorDict(model, unconstr_priors)\n",
    "\n",
    "assert prior_dict.keys() == model.config.par_map.keys()\n"
   ]
  },
  {
   "attachments": {},
   "cell_type": "markdown",
   "metadata": {},
   "source": [
    "#### Inference"
   ]
  },
  {
   "cell_type": "code",
   "execution_count": 6,
   "metadata": {},
   "outputs": [
    {
     "name": "stderr",
     "output_type": "stream",
     "text": [
      "Only 100 samples in chain.\n"
     ]
    },
    {
     "name": "stderr",
     "output_type": "stream",
     "text": [
      "Sampling 1 chain for 1_000 tune and 100 draw iterations (1_000 + 100 draws total) took 1 seconds.\n"
     ]
    },
    {
     "name": "stderr",
     "output_type": "stream",
     "text": [
      "Sampling: [Expected_Data, Gammas, Normals, Unconstrained_Gammas, Unconstrained_HalfNormals]\n"
     ]
    }
   ],
   "source": [
    "with infer.model(model, unconstr_priors, data):\n",
    "    step = pm.Metropolis()\n",
    "    post_data = pm.sample(draws=100, chains=1, step=step)\n",
    "    post_pred = pm.sample_posterior_predictive(post_data)\n",
    "    prior_pred = pm.sample_prior_predictive(100)"
   ]
  },
  {
   "cell_type": "code",
   "execution_count": 7,
   "metadata": {},
   "outputs": [
    {
     "data": {
      "image/png": "[encoded data removed]",
      "text/plain": [
       "<Figure size 640x480 with 1 Axes>"
      ]
     },
     "metadata": {},
     "output_type": "display_data"
    }
   ],
   "source": [
    "plotting.prior_posterior_predictives(model=model, data=data, post_pred=post_pred, prior_pred=prior_pred, bin_steps=1)"
   ]
  },
  {
   "cell_type": "code",
   "execution_count": null,
   "metadata": {},
   "outputs": [],
   "source": []
  }
 ],
 "metadata": {
  "kernelspec": {
   "display_name": "pyhf_pymc",
   "language": "python",
   "name": "python3"
  },
  "language_info": {
   "codemirror_mode": {
    "name": "ipython",
    "version": 3
   },
   "file_extension": ".py",
   "mimetype": "text/x-python",
   "name": "python",
   "nbconvert_exporter": "python",
   "pygments_lexer": "ipython3",
   "version": "3.9.16"
  },
  "orig_nbformat": 4
 },
 "nbformat": 4,
 "nbformat_minor": 2
}
