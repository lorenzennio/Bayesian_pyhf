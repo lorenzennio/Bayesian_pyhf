{
 "cells": [
  {
   "cell_type": "code",
   "execution_count": 11,
   "metadata": {},
   "outputs": [
    {
     "name": "stdout",
     "output_type": "stream",
     "text": [
      "The autoreload extension is already loaded. To reload it, use:\n",
      "  %reload_ext autoreload\n"
     ]
    }
   ],
   "source": [
    "import corner\n",
    "import numpy as np\n",
    "import json\n",
    "\n",
    "import pyhf\n",
    "pyhf.set_backend('jax')\n",
    "\n",
    "import pymc as pm\n",
    "import arviz as az\n",
    "\n",
    "from Bayesian_pyhf import infer\n",
    "from Bayesian_pyhf import plotting\n",
    "\n",
    "%load_ext autoreload\n",
    "%autoreload "
   ]
  },
  {
   "cell_type": "code",
   "execution_count": 12,
   "metadata": {},
   "outputs": [],
   "source": [
    "blue = '#1F449C'\n",
    "pink = '#E57A77'"
   ]
  },
  {
   "cell_type": "code",
   "execution_count": 13,
   "metadata": {},
   "outputs": [],
   "source": [
    "with open(f'SRee_SRmm_Srem.json') as serialized:\n",
    "    spec = json.load(serialized)\n",
    "\n",
    "workspace = pyhf.Workspace(spec)\n",
    "workspace\n",
    "\n",
    "model = workspace.model()\n",
    "\n",
    "data = workspace.data(model, include_auxdata=False)\n",
    "\n",
    "unconstr_priors = {\n",
    "    f'{model.config.poi_name}': {'type': 'HalfNormal_Unconstrained', 'sigma': [1]}\n",
    "}\n",
    "\n",
    "act_aux_data = workspace.data(model)\n",
    "n_draws = 20_000"
   ]
  },
  {
   "cell_type": "code",
   "execution_count": 5,
   "metadata": {},
   "outputs": [
    {
     "data": {
      "text/plain": [
       "{'lumi': {'slice': slice(0, 1, None),\n",
       "  'paramset': <pyhf.parameters.paramsets.constrained_by_normal at 0x7fbe3be8f990>},\n",
       " 'mu_Sig': {'slice': slice(1, 2, None),\n",
       "  'paramset': <pyhf.parameters.paramsets.unconstrained at 0x7fbe3c27a450>},\n",
       " 'ucbSRee': {'slice': slice(2, 3, None),\n",
       "  'paramset': <pyhf.parameters.paramsets.constrained_by_normal at 0x7fbe3c187dd0>},\n",
       " 'SigXSec': {'slice': slice(3, 4, None),\n",
       "  'paramset': <pyhf.parameters.paramsets.constrained_by_normal at 0x7fbe3c00b250>},\n",
       " 'cuts_SRee_LRT': {'slice': slice(4, 5, None),\n",
       "  'paramset': <pyhf.parameters.paramsets.constrained_by_normal at 0x7fbe3c00b510>},\n",
       " 'cuts_SRee_LRTfilter': {'slice': slice(5, 6, None),\n",
       "  'paramset': <pyhf.parameters.paramsets.constrained_by_normal at 0x7fbe3be8fa90>},\n",
       " 'ucsSRee_Slep_1000_10': {'slice': slice(6, 7, None),\n",
       "  'paramset': <pyhf.parameters.paramsets.constrained_by_normal at 0x7fbe3be8fb50>},\n",
       " 'ucsSRee_disp': {'slice': slice(7, 8, None),\n",
       "  'paramset': <pyhf.parameters.paramsets.constrained_by_normal at 0x7fbe3be8fb90>},\n",
       " 'ucsSRee_pileupWeight': {'slice': slice(8, 9, None),\n",
       "  'paramset': <pyhf.parameters.paramsets.constrained_by_normal at 0x7fbe3be8fb10>},\n",
       " 'ucbSRem': {'slice': slice(9, 10, None),\n",
       "  'paramset': <pyhf.parameters.paramsets.constrained_by_normal at 0x7fbe3be8fbd0>},\n",
       " 'ucbSRmm': {'slice': slice(10, 11, None),\n",
       "  'paramset': <pyhf.parameters.paramsets.constrained_by_normal at 0x7fbe3c11b250>},\n",
       " 'cuts_SRmm_LRT': {'slice': slice(11, 12, None),\n",
       "  'paramset': <pyhf.parameters.paramsets.constrained_by_normal at 0x7fbe3be8fc10>},\n",
       " 'cuts_SRmm_LRTfilter': {'slice': slice(12, 13, None),\n",
       "  'paramset': <pyhf.parameters.paramsets.constrained_by_normal at 0x7fbe3be8f9d0>},\n",
       " 'ucsSRmm_Slep_1000_10': {'slice': slice(13, 14, None),\n",
       "  'paramset': <pyhf.parameters.paramsets.constrained_by_normal at 0x7fbe3be8fc90>},\n",
       " 'ucsSRmm_disp': {'slice': slice(14, 15, None),\n",
       "  'paramset': <pyhf.parameters.paramsets.constrained_by_normal at 0x7fbe3be8fc50>},\n",
       " 'ucsSRmm_mu_sel': {'slice': slice(15, 16, None),\n",
       "  'paramset': <pyhf.parameters.paramsets.constrained_by_normal at 0x7fbe3be8fcd0>},\n",
       " 'ucsSRmm_mu_trig': {'slice': slice(16, 17, None),\n",
       "  'paramset': <pyhf.parameters.paramsets.constrained_by_normal at 0x7fbe3be8fd10>},\n",
       " 'ucsSRmm_pileupWeight': {'slice': slice(17, 18, None),\n",
       "  'paramset': <pyhf.parameters.paramsets.constrained_by_normal at 0x7fbe3be8fd50>}}"
      ]
     },
     "execution_count": 5,
     "metadata": {},
     "output_type": "execute_result"
    }
   ],
   "source": [
    "model.config.par_map"
   ]
  },
  {
   "cell_type": "code",
   "execution_count": 6,
   "metadata": {},
   "outputs": [
    {
     "name": "stderr",
     "output_type": "stream",
     "text": [
      "Auto-assigning NUTS sampler...\n",
      "Initializing NUTS using jitter+adapt_diag...\n",
      "Sequential sampling (1 chains in 1 job)\n",
      "NUTS: [lumi, mu_Sig, ucbSRee, SigXSec, cuts_SRee_LRT, cuts_SRee_LRTfilter, ucsSRee_Slep_1000_10, ucsSRee_disp, ucsSRee_pileupWeight, ucbSRem, ucbSRmm, cuts_SRmm_LRT, cuts_SRmm_LRTfilter, ucsSRmm_Slep_1000_10, ucsSRmm_disp, ucsSRmm_mu_sel, ucsSRmm_mu_trig, ucsSRmm_pileupWeight]\n"
     ]
    },
    {
     "data": {
      "text/html": [
       "\n",
       "<style>\n",
       "    /* Turns off some styling */\n",
       "    progress {\n",
       "        /* gets rid of default border in Firefox and Opera. */\n",
       "        border: none;\n",
       "        /* Needs to be in here for Safari polyfill so background images work as expected. */\n",
       "        background-size: auto;\n",
       "    }\n",
       "    progress:not([value]), progress:not([value])::-webkit-progress-bar {\n",
       "        background: repeating-linear-gradient(45deg, #7e7e7e, #7e7e7e 10px, #5c5c5c 10px, #5c5c5c 20px);\n",
       "    }\n",
       "    .progress-bar-interrupted, .progress-bar-interrupted::-webkit-progress-bar {\n",
       "        background: #F44336;\n",
       "    }\n",
       "</style>\n"
      ],
      "text/plain": [
       "<IPython.core.display.HTML object>"
      ]
     },
     "metadata": {},
     "output_type": "display_data"
    },
    {
     "data": {
      "text/html": [
       "\n",
       "    <div>\n",
       "      <progress value='6000' class='' max='6000' style='width:300px; height:20px; vertical-align: middle;'></progress>\n",
       "      100.00% [6000/6000 00:31&lt;00:00 Sampling chain 0, 0 divergences]\n",
       "    </div>\n",
       "    "
      ],
      "text/plain": [
       "<IPython.core.display.HTML object>"
      ]
     },
     "metadata": {},
     "output_type": "display_data"
    },
    {
     "name": "stderr",
     "output_type": "stream",
     "text": [
      "Sampling 1 chain for 1_000 tune and 5_000 draw iterations (1_000 + 5_000 draws total) took 31 seconds.\n",
      "Only one chain was sampled, this makes it impossible to run some convergence checks\n",
      "Sampling: [Expected_Data]\n"
     ]
    },
    {
     "data": {
      "text/html": [
       "\n",
       "<style>\n",
       "    /* Turns off some styling */\n",
       "    progress {\n",
       "        /* gets rid of default border in Firefox and Opera. */\n",
       "        border: none;\n",
       "        /* Needs to be in here for Safari polyfill so background images work as expected. */\n",
       "        background-size: auto;\n",
       "    }\n",
       "    progress:not([value]), progress:not([value])::-webkit-progress-bar {\n",
       "        background: repeating-linear-gradient(45deg, #7e7e7e, #7e7e7e 10px, #5c5c5c 10px, #5c5c5c 20px);\n",
       "    }\n",
       "    .progress-bar-interrupted, .progress-bar-interrupted::-webkit-progress-bar {\n",
       "        background: #F44336;\n",
       "    }\n",
       "</style>\n"
      ],
      "text/plain": [
       "<IPython.core.display.HTML object>"
      ]
     },
     "metadata": {},
     "output_type": "display_data"
    },
    {
     "data": {
      "text/html": [
       "\n",
       "    <div>\n",
       "      <progress value='5000' class='' max='5000' style='width:300px; height:20px; vertical-align: middle;'></progress>\n",
       "      100.00% [5000/5000 00:00&lt;00:00]\n",
       "    </div>\n",
       "    "
      ],
      "text/plain": [
       "<IPython.core.display.HTML object>"
      ]
     },
     "metadata": {},
     "output_type": "display_data"
    },
    {
     "name": "stderr",
     "output_type": "stream",
     "text": [
      "Sampling: [Expected_Data, SigXSec, cuts_SRee_LRT, cuts_SRee_LRTfilter, cuts_SRmm_LRT, cuts_SRmm_LRTfilter, lumi, mu_Sig, ucbSRee, ucbSRem, ucbSRmm, ucsSRee_Slep_1000_10, ucsSRee_disp, ucsSRee_pileupWeight, ucsSRmm_Slep_1000_10, ucsSRmm_disp, ucsSRmm_mu_sel, ucsSRmm_mu_trig, ucsSRmm_pileupWeight]\n"
     ]
    }
   ],
   "source": [
    "n_draws = 5_000\n",
    "\n",
    "with infer.model(model, unconstr_priors, data):\n",
    "    # step = pm.Metropolis()\n",
    "    post_data = pm.sample(draws=n_draws, chains=1) #, step=step)\n",
    "    post_pred = pm.sample_posterior_predictive(post_data)\n",
    "    prior_pred = pm.sample_prior_predictive(n_draws)"
   ]
  },
  {
   "cell_type": "code",
   "execution_count": 14,
   "metadata": {},
   "outputs": [
    {
     "data": {
      "image/png": "[encoded data removed]",
      "text/plain": [
       "<Figure size 640x480 with 1 Axes>"
      ]
     },
     "metadata": {},
     "output_type": "display_data"
    }
   ],
   "source": [
    "plotting.prior_posterior_predictives(model=model, data=data, post_pred=post_pred, prior_pred=prior_pred)"
   ]
  },
  {
   "cell_type": "code",
   "execution_count": 15,
   "metadata": {},
   "outputs": [],
   "source": [
    "n_draws = 5_000\n",
    "\n",
    "with infer.model(model, unconstr_priors, data):\n",
    "    step = pm.Metropolis()\n",
    "    post_data = pm.sample(draws=n_draws, chains=1, step=step)\n",
    "    post_pred = pm.sample_posterior_predictive(post_data)\n",
    "    prior_pred = pm.sample_prior_predictive(n_draws)"
   ]
  },
  {
   "cell_type": "code",
   "execution_count": 10,
   "metadata": {},
   "outputs": [
    {
     "name": "stdout",
     "output_type": "stream",
     "text": [
      "Prior: 0.8138\n",
      "Posterior: 0.6954\n",
      "...\n",
      "Prior: 0.0128\n",
      "Posterior: 0.0148\n",
      "...\n",
      "Prior: 0.4044\n",
      "Posterior: 0.3054\n",
      "...\n"
     ]
    }
   ],
   "source": [
    "for i in (0, 1, 2):\n",
    "    print(f'Prior: {np.array(prior_pred.prior_predictive.Expected_Data.T[i]).mean()}')\n",
    "    print(f'Posterior: {np.array(post_pred.posterior_predictive.Expected_Data.T[i].mean())}')\n",
    "    print('...')\n",
    "\n",
    "    "
   ]
  },
  {
   "cell_type": "code",
   "execution_count": null,
   "metadata": {},
   "outputs": [],
   "source": []
  }
 ],
 "metadata": {
  "kernelspec": {
   "display_name": "Bayesian_pyhf",
   "language": "python",
   "name": "python3"
  },
  "language_info": {
   "codemirror_mode": {
    "name": "ipython",
    "version": 3
   },
   "file_extension": ".py",
   "mimetype": "text/x-python",
   "name": "python",
   "nbconvert_exporter": "python",
   "pygments_lexer": "ipython3",
   "version": "3.11.4"
  },
  "orig_nbformat": 4
 },
 "nbformat": 4,
 "nbformat_minor": 2
}
