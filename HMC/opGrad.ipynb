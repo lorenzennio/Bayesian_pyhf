{
 "cells": [
  {
   "cell_type": "code",
   "execution_count": 2,
   "metadata": {},
   "outputs": [],
   "source": [
    "import numpy as np\n",
    "import matplotlib.pyplot as plt\n",
    "import json\n",
    "import time\n",
    "import pytensor \n",
    "import pymc as pm\n",
    "import arviz as az\n",
    "import jax\n",
    "import jax.numpy as jnp\n",
    "import pyhf\n",
    "pyhf.set_backend('jax')\n",
    "\n",
    "from jax import grad, jit, vmap, value_and_grad, random\n",
    "from pytensor import tensor as pt\n",
    "from pytensor.graph.basic import Apply\n",
    "from pytensor.graph import Apply, Op"
   ]
  },
  {
   "attachments": {},
   "cell_type": "markdown",
   "metadata": {},
   "source": [
    "# Implementation of a gradient Op for HMC sampling"
   ]
  },
  {
   "attachments": {},
   "cell_type": "markdown",
   "metadata": {},
   "source": [
    "## Set up\n",
    "\n",
    "### pyhf model"
   ]
  },
  {
   "cell_type": "code",
   "execution_count": 27,
   "metadata": {},
   "outputs": [
    {
     "ename": "IndentationError",
     "evalue": "expected an indented block (419302519.py, line 6)",
     "output_type": "error",
     "traceback": [
      "\u001b[0;36m  Cell \u001b[0;32mIn[27], line 6\u001b[0;36m\u001b[0m\n\u001b[0;31m    nBins = 37\u001b[0m\n\u001b[0m    ^\u001b[0m\n\u001b[0;31mIndentationError\u001b[0m\u001b[0;31m:\u001b[0m expected an indented block\n"
     ]
    }
   ],
   "source": [
    "### Choose the right .json file\n",
    "m = \"ttbar\"\n",
    "\n",
    "if m == \"ttbar\":\n",
    "    with open(\"/Users/malinhorstmann/Documents/pyhf_pymc/PPC/ttbar_ljets_xsec_inclusive_pruned.json\") as serialized:\n",
    "    nBins = 37\n",
    "    spec = json.load(serialized)\n",
    "\n",
    "if m == \"DisplacedLeptons\":\n",
    "    with open(\"/Users/malinhorstmann/Documents/pyhf_pymc/PPC/SRee_SRmm_Srem.json\") as serialized:\n",
    "    nBins = 3\n",
    "    spec = json.load(serialized)\n",
    "\n",
    "\n",
    "### Create pyhf model from it\n",
    "workspace = pyhf.Workspace(spec)\n",
    "\n",
    "model = workspace.model()\n",
    "\n",
    "### Observations\n",
    "obs = workspace.data(model, include_auxdata=True)"
   ]
  },
  {
   "attachments": {},
   "cell_type": "markdown",
   "metadata": {},
   "source": [
    "### Ops\n",
    "\n",
    "... preparing the `logpdf` for Op implementation."
   ]
  },
  {
   "cell_type": "code",
   "execution_count": 21,
   "metadata": {},
   "outputs": [
    {
     "name": "stdout",
     "output_type": "stream",
     "text": [
      "132\n",
      "-633.6304199871903\n"
     ]
    }
   ],
   "source": [
    "### model.expected_actualdata()\n",
    "def processed_logpdf(p):\n",
    "    # return the logpdf as it is a single number\n",
    "    dummy = model.logpdf(pars=p, data=obs)[0]\n",
    "    # needs ro be scalar\n",
    "    # print(type(dummy))\n",
    "    # print(dummy.shape)\n",
    "\n",
    "    return dummy\n",
    "\n",
    "print(processed_logpdf(model.config.suggested_init()))\n",
    "\n",
    "### Processed function\n",
    "ValueGrad_logpdf = jax.jit(jax.value_and_grad(processed_logpdf, argnums=list(range(1))))"
   ]
  },
  {
   "cell_type": "code",
   "execution_count": 22,
   "metadata": {},
   "outputs": [],
   "source": [
    "class ValueGradOp(Op):\n",
    "    # By default only show the first output, and \"hide\" the other ones\n",
    "    default_output = 0\n",
    "\n",
    "    def make_node(self, *inputs):\n",
    "        inputs = [pt.as_tensor_variable(inp) for inp in inputs]\n",
    "        # We now have one output for the function value, and one output for each gradient\n",
    "        outputs = [pt.dscalar()] + [inp.type() for inp in inputs]\n",
    "        return Apply(self, inputs, outputs)\n",
    "\n",
    "    def perform(self, node, inputs, outputs):\n",
    "        result, grad_results = ValueGrad_logpdf(*inputs)\n",
    "        outputs[0][0] = np.asarray(result, dtype=node.outputs[0].dtype)\n",
    "        for i, grad_result in enumerate(grad_results, start=1):\n",
    "            outputs[i][0] = np.asarray(grad_result, dtype=node.outputs[i].dtype)\n",
    "\n",
    "    def grad(self, inputs, output_gradients):\n",
    "        # The `Op` computes its own gradients, so we call it again.\n",
    "        value = self(*inputs)\n",
    "        # We hid the gradient outputs by setting `default_update=0`, but we\n",
    "        # can retrieve them anytime by accessing the `Apply` node via `value.owner`\n",
    "        gradients = value.owner.outputs[1:]\n",
    "\n",
    "        # Make sure the user is not trying to take the gradient with respect to\n",
    "        # the gradient outputs! That would require computing the second order\n",
    "        # gradients\n",
    "        assert all(\n",
    "            isinstance(g.type, pytensor.gradient.DisconnectedType) for g in output_gradients[1:]\n",
    "        )\n",
    "\n",
    "        return [output_gradients[0] * grad for grad in gradients]"
   ]
  },
  {
   "attachments": {},
   "cell_type": "markdown",
   "metadata": {},
   "source": [
    "... testing the gradient output of `ValueGradOp()`:"
   ]
  },
  {
   "cell_type": "code",
   "execution_count": 24,
   "metadata": {},
   "outputs": [
    {
     "data": {
      "text/plain": [
       "array([-4.94183349e+03, -1.35609497e+03, -2.22965122e+03, -7.54521547e+03,\n",
       "       -3.50519864e+03, -1.92299981e+03,  5.47981664e+02,  1.09043463e+03,\n",
       "        4.80598105e+04, -1.18242743e+04, -3.99291259e+04,  3.41066583e+03,\n",
       "       -3.76694219e+04, -1.93985974e+04,  2.17025967e+01, -4.01115301e+04,\n",
       "        6.72906156e+04, -9.66952522e+04, -4.31463266e+04, -1.62561681e+04,\n",
       "       -5.61584085e+04,  6.55322360e+03,  9.13706307e+03,  4.19743798e+04,\n",
       "        1.51675219e+03,  1.63733896e+04, -4.73875234e+03, -3.42973662e+03,\n",
       "        2.09560419e+03,  1.85429032e+03,  1.83688674e+03, -8.90927852e+01,\n",
       "       -2.73479069e+02, -5.12396697e+02, -9.53406855e+04,  2.31501421e+03,\n",
       "       -9.80135907e+02, -1.43957862e+04, -7.51103682e+03, -1.30072053e+04,\n",
       "       -2.10676569e+03, -1.36395982e+03, -4.19547086e+01,  8.31332128e+01,\n",
       "       -2.64808621e+04, -2.15697653e+02,  3.70296960e+03, -2.28902922e+04,\n",
       "       -4.89179111e+04,  6.68195445e+03,  6.14627008e+03, -3.42196338e+03,\n",
       "       -1.07519132e+04,  1.20577455e+03, -4.82305419e+02, -1.22543199e+03,\n",
       "        3.49402408e+02, -5.37111266e+01,  1.56656205e+03,  2.70969579e+03,\n",
       "       -2.86154429e+03, -1.74835935e+03, -3.23255019e+01, -7.46637729e+01,\n",
       "       -2.81193267e+04, -8.42255203e+03,  4.00700682e+03,  5.02470236e+03,\n",
       "       -1.49940070e+03,  1.22665756e+01,  6.39197314e+03, -3.76113493e+06,\n",
       "       -2.78275437e+06, -2.39921157e+03,  6.55881774e+03, -8.55322966e+02,\n",
       "       -2.87447126e+03,  8.94120756e+03, -1.25285139e+04, -2.75297962e+04,\n",
       "       -6.81789682e+04,  7.20495997e+03, -3.48770435e+04, -5.69371627e+01,\n",
       "       -2.48141418e+03, -2.21839814e+03, -2.87864212e+03, -7.90187880e+03,\n",
       "       -7.23224046e+04, -3.25345069e+04, -9.14334446e+03, -9.72602039e+04,\n",
       "       -1.52770814e+03,  6.92991761e-01, -8.07594169e+03, -6.64901819e+05,\n",
       "       -4.67257924e+05, -3.68206243e+05, -5.92847641e+05, -4.98107421e+05,\n",
       "       -1.01258750e+06,  2.87354699e+05, -4.70246726e+05, -4.00399315e+04,\n",
       "       -4.31398476e+02,  4.78357940e+02, -7.02359511e+04,  2.07126927e+03,\n",
       "        3.24868465e+04, -7.56842690e+04,  1.23367445e+05,  1.38737419e+05,\n",
       "       -8.71671677e+04,  1.75011394e+04,  4.76838579e+04, -4.46444529e+03,\n",
       "        4.97871801e+04, -2.23529594e+04, -9.34935944e+03, -2.35314849e+04,\n",
       "       -4.71859447e+04, -7.52185414e+04, -1.87864097e+05,  5.09103641e+04,\n",
       "        8.82338741e+04,  7.56735782e+04,  5.44263203e+04, -7.69644055e+03,\n",
       "        5.73847514e+04, -1.25109932e+05, -1.98652930e+04, -1.07085633e+05])"
      ]
     },
     "execution_count": 24,
     "metadata": {},
     "output_type": "execute_result"
    }
   ],
   "source": [
    "test = ValueGradOp()\n",
    "\n",
    "### Ste´´\n",
    "with pm.Model() as basic_model:\n",
    "    ## TensorVar input parameters\n",
    "    pars = []\n",
    "    pars.extend(pm.Normal(f\"{model.config.parameters[idx]}\", mu=mu, sigma=sigma) for idx in range(nPars))\n",
    "    pars = pt.as_tensor_variable(pars)\n",
    "\n",
    "# Gives all grads zero\n",
    "pars = pt.as_tensor_variable(pars)\n",
    "\n",
    "x = test(pars)\n",
    "\n",
    "# print(x)\n",
    "\n",
    "pt.grad(x, pars).eval()\n"
   ]
  },
  {
   "attachments": {},
   "cell_type": "markdown",
   "metadata": {},
   "source": [
    "## Sampling"
   ]
  },
  {
   "attachments": {},
   "cell_type": "markdown",
   "metadata": {},
   "source": [
    "### Sampling with the ValueGrad Op"
   ]
  },
  {
   "cell_type": "code",
   "execution_count": 26,
   "metadata": {},
   "outputs": [
    {
     "name": "stderr",
     "output_type": "stream",
     "text": [
      "Only 100 samples in chain.\n",
      "Auto-assigning NUTS sampler...\n",
      "Initializing NUTS using jitter+adapt_diag...\n",
      "Multiprocess sampling (4 chains in 4 jobs)\n",
      "NUTS: [dummy0, dummy1, dummy2, dummy3, dummy4, dummy5, dummy6, dummy7, dummy8, dummy9, dummy10, dummy11, dummy12, dummy13, dummy14, dummy15, dummy16, dummy17, dummy18, dummy19, dummy20, dummy21, dummy22, dummy23, dummy24, dummy25, dummy26, dummy27, dummy28, dummy29, dummy30, dummy31, dummy32, dummy33, dummy34, dummy35, dummy36, dummy37, dummy38, dummy39, dummy40, dummy41, dummy42, dummy43, dummy44, dummy45, dummy46, dummy47, dummy48, dummy49, dummy50, dummy51, dummy52, dummy53, dummy54, dummy55, dummy56, dummy57, dummy58, dummy59, dummy60, dummy61, dummy62, dummy63, dummy64, dummy65, dummy66, dummy67, dummy68, dummy69, dummy70, dummy71, dummy72, dummy73, dummy74, dummy75, dummy76, dummy77, dummy78, dummy79, dummy80, dummy81, dummy82, dummy83, dummy84, dummy85, dummy86, dummy87, dummy88, dummy89, dummy90, dummy91, dummy92, dummy93, dummy94, dummy95, dummy96, dummy97, dummy98, dummy99, dummy100, dummy101, dummy102, dummy103, dummy104, dummy105, dummy106, dummy107, dummy108, dummy109, dummy110, dummy111, dummy112, dummy113, dummy114, dummy115, dummy116, dummy117, dummy118, dummy119, dummy120, dummy121, dummy122, dummy123, dummy124, dummy125, dummy126, dummy127, dummy128, dummy129, dummy130, dummy131, main]\n"
     ]
    },
    {
     "data": {
      "text/html": [
       "\n",
       "<style>\n",
       "    /* Turns off some styling */\n",
       "    progress {\n",
       "        /* gets rid of default border in Firefox and Opera. */\n",
       "        border: none;\n",
       "        /* Needs to be in here for Safari polyfill so background images work as expected. */\n",
       "        background-size: auto;\n",
       "    }\n",
       "    progress:not([value]), progress:not([value])::-webkit-progress-bar {\n",
       "        background: repeating-linear-gradient(45deg, #7e7e7e, #7e7e7e 10px, #5c5c5c 10px, #5c5c5c 20px);\n",
       "    }\n",
       "    .progress-bar-interrupted, .progress-bar-interrupted::-webkit-progress-bar {\n",
       "        background: #F44336;\n",
       "    }\n",
       "</style>\n"
      ],
      "text/plain": [
       "<IPython.core.display.HTML object>"
      ]
     },
     "metadata": {},
     "output_type": "display_data"
    },
    {
     "data": {
      "text/html": [
       "\n",
       "    <div>\n",
       "      <progress value='4400' class='' max='4400' style='width:300px; height:20px; vertical-align: middle;'></progress>\n",
       "      100.00% [4400/4400 25:25&lt;00:00 Sampling 4 chains, 100 divergences]\n",
       "    </div>\n",
       "    "
      ],
      "text/plain": [
       "<IPython.core.display.HTML object>"
      ]
     },
     "metadata": {},
     "output_type": "display_data"
    },
    {
     "name": "stderr",
     "output_type": "stream",
     "text": [
      "Sampling 4 chains for 1_000 tune and 100 draw iterations (4_000 + 400 draws total) took 1525 seconds.\n",
      "Sampling: [dummy0, dummy1, dummy10, dummy100, dummy101, dummy102, dummy103, dummy104, dummy105, dummy106, dummy107, dummy108, dummy109, dummy11, dummy110, dummy111, dummy112, dummy113, dummy114, dummy115, dummy116, dummy117, dummy118, dummy119, dummy12, dummy120, dummy121, dummy122, dummy123, dummy124, dummy125, dummy126, dummy127, dummy128, dummy129, dummy13, dummy130, dummy131, dummy14, dummy15, dummy16, dummy17, dummy18, dummy19, dummy2, dummy20, dummy21, dummy22, dummy23, dummy24, dummy25, dummy26, dummy27, dummy28, dummy29, dummy3, dummy30, dummy31, dummy32, dummy33, dummy34, dummy35, dummy36, dummy37, dummy38, dummy39, dummy4, dummy40, dummy41, dummy42, dummy43, dummy44, dummy45, dummy46, dummy47, dummy48, dummy49, dummy5, dummy50, dummy51, dummy52, dummy53, dummy54, dummy55, dummy56, dummy57, dummy58, dummy59, dummy6, dummy60, dummy61, dummy62, dummy63, dummy64, dummy65, dummy66, dummy67, dummy68, dummy69, dummy7, dummy70, dummy71, dummy72, dummy73, dummy74, dummy75, dummy76, dummy77, dummy78, dummy79, dummy8, dummy80, dummy81, dummy82, dummy83, dummy84, dummy85, dummy86, dummy87, dummy88, dummy89, dummy9, dummy90, dummy91, dummy92, dummy93, dummy94, dummy95, dummy96, dummy97, dummy98, dummy99, main]\n"
     ]
    },
    {
     "name": "stdout",
     "output_type": "stream",
     "text": [
      "...............................................\n",
      "That took 1572.667 seconds ...\n"
     ]
    }
   ],
   "source": [
    "### Applying the Op\n",
    "VG_logpdf = ValueGradOp()\n",
    "\n",
    "### Specs\n",
    "nPars = 10\n",
    "N_prior = 500\n",
    "N_posterior = 500\n",
    "\n",
    "prior = \"gamma\"\n",
    "\n",
    "mu = 1\n",
    "sigma = 0.1\n",
    "alBet = 40\n",
    "\n",
    "### Opening the pyMC model space\n",
    "start_time = time.time()\n",
    "with pm.Model() as basic_model:\n",
    "    ## TensorVar input parameters\n",
    "    pars = []\n",
    "    if prior == \"gamma\":\n",
    "        pars.extend(pm.Gamma(f\"dummy{idx}\", alpha=alBet, beta=alBet) for idx in range(nPars))\n",
    "    if prior == \"normal\":\n",
    "        pars.extend(pm.Normal(f\"{model.config.parameters[idx]}\", mu=mu, sigma=sigma) for idx in range(nPars))\n",
    "    pars = pt.as_tensor_variable(pars)\n",
    "\n",
    "    ## Model for the logpdf()\n",
    "    main = pm.Normal(\"main\", mu=VG_logpdf(pars), sigma=1)\n",
    "\n",
    "    ## Sampling ...\n",
    "    post_data = pm.sample(100)\n",
    "    prior_data = pm.sample_prior_predictive(500)\n",
    "    post_pred = pm.sample_posterior_predictive(post_data)\n",
    "\n",
    "print(\"...............................................\")\n",
    "# print(f\"That took {(time.time() - start_time)/60} minutes ...\")\n",
    "dummyTime = round(time.time() - start_time, 3)\n",
    "print(f\"That took {dummyTime} seconds ...\")"
   ]
  },
  {
   "cell_type": "code",
   "execution_count": 28,
   "metadata": {},
   "outputs": [
    {
     "data": {
      "text/plain": [
       "array([[<AxesSubplot: title={'center': 'main'}>,\n",
       "        <AxesSubplot: title={'center': 'main'}>]], dtype=object)"
      ]
     },
     "execution_count": 28,
     "metadata": {},
     "output_type": "execute_result"
    },
    {
     "data": {
      "image/png": "[encoded data removed]",
      "text/plain": [
       "<Figure size 1200x200 with 2 Axes>"
      ]
     },
     "metadata": {},
     "output_type": "display_data"
    }
   ],
   "source": [
    "az.plot_trace(post_data, var_names=\"main\")"
   ]
  },
  {
   "cell_type": "code",
   "execution_count": null,
   "metadata": {},
   "outputs": [],
   "source": []
  }
 ],
 "metadata": {
  "kernelspec": {
   "display_name": "pyhf_pymc",
   "language": "python",
   "name": "python3"
  },
  "language_info": {
   "codemirror_mode": {
    "name": "ipython",
    "version": 3
   },
   "file_extension": ".py",
   "mimetype": "text/x-python",
   "name": "python",
   "nbconvert_exporter": "python",
   "pygments_lexer": "ipython3",
   "version": "3.9.16"
  },
  "orig_nbformat": 4,
  "vscode": {
   "interpreter": {
    "hash": "44009b16d2e2eba83b85bbf6c42594a891bd8e72107454e9c42af2692a5b5216"
   }
  }
 },
 "nbformat": 4,
 "nbformat_minor": 2
}
